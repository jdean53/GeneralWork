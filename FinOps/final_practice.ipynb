{
 "cells": [
  {
   "cell_type": "code",
   "execution_count": 11,
   "metadata": {},
   "outputs": [],
   "source": [
    "import pandas as pd\n",
    "import numpy as np\n",
    "import FinOpsCodeDeck as finops\n",
    "import riskfolio as rp"
   ]
  },
  {
   "cell_type": "code",
   "execution_count": 2,
   "metadata": {},
   "outputs": [],
   "source": [
    "'''\n",
    "Reference Data\n",
    "---\n",
    "df - DataFrame of asset returns\n",
    "w_d - Weightings for a diverse portfolio\n",
    "w_r - Weightings for a risky portfolio\n",
    "'''\n",
    "df = pd.read_excel('Annual_returns_AAA.xlsx', index_col='Year')\n",
    "w_d = np.array([0.33, 0.33, 0.34])\n",
    "w_r = np.array([0, 0, 1])\n",
    "beta=1/12"
   ]
  },
  {
   "cell_type": "code",
   "execution_count": 3,
   "metadata": {},
   "outputs": [
    {
     "name": "stdout",
     "output_type": "stream",
     "text": [
      "      Returns Data     \n",
      "-----------------------\n",
      "      MSFT    GE    GM\n",
      "Year                  \n",
      "1     0.51  0.58  0.31\n",
      "2     1.11  0.39  2.22\n",
      "3     0.62  0.77  0.78\n",
      "4     0.78  1.19 -0.38\n",
      "5    -0.76  1.07  1.43\n",
      "6     0.59  1.13  1.02\n",
      "7     0.57  0.42 -0.79\n",
      "8     0.22 -1.44  2.39\n",
      "9     0.62  0.71 -0.98\n",
      "10   -0.32  0.34  0.59\n",
      "11    1.06 -0.89  0.27\n",
      "12    0.90  0.99  1.63\n"
     ]
    }
   ],
   "source": [
    "print('      Returns Data     ')\n",
    "print('-----------------------')\n",
    "print(df)"
   ]
  },
  {
   "cell_type": "code",
   "execution_count": 4,
   "metadata": {},
   "outputs": [
    {
     "name": "stdout",
     "output_type": "stream",
     "text": [
      "Mean Returns by Ticker\n",
      "-----------------------\n",
      "MSFT    0.491667\n",
      "GE      0.438333\n",
      "GM      0.707500\n",
      "dtype: float64\n"
     ]
    }
   ],
   "source": [
    "'''\n",
    "Mean Return by Asset\n",
    "'''\n",
    "mu = df.mean()\n",
    "print('Mean Returns by Ticker')\n",
    "print('-----------------------')\n",
    "print(mu)"
   ]
  },
  {
   "cell_type": "code",
   "execution_count": 5,
   "metadata": {},
   "outputs": [
    {
     "name": "stdout",
     "output_type": "stream",
     "text": [
      "         Covariance Matrix        \n",
      "----------------------------------\n",
      "          MSFT        GE        GM\n",
      "MSFT  0.300324 -0.036070 -0.074314\n",
      "GE   -0.036070  0.659597 -0.249086\n",
      "GM   -0.074314 -0.249086  1.202766\n"
     ]
    }
   ],
   "source": [
    "'''\n",
    "Covariance Matrix by Asset\n",
    "'''\n",
    "cov = np.cov(df.transpose().to_numpy())\n",
    "print('         Covariance Matrix        ')\n",
    "print('----------------------------------')\n",
    "print(pd.DataFrame(data=cov,index=df.columns,columns=df.columns))"
   ]
  },
  {
   "cell_type": "code",
   "execution_count": 6,
   "metadata": {},
   "outputs": [
    {
     "data": {
      "text/plain": [
       "0.7728435417549805"
      ]
     },
     "execution_count": 6,
     "metadata": {},
     "output_type": "execute_result"
    }
   ],
   "source": [
    "'''\n",
    "diversification Coefficient Proxy -- thanks stocal\n",
    "'''\n",
    "np.linalg.det(np.linalg.cholesky(cov))**(1 / len(cov))"
   ]
  },
  {
   "cell_type": "code",
   "execution_count": 7,
   "metadata": {},
   "outputs": [
    {
     "name": "stdout",
     "output_type": "stream",
     "text": [
      "The expected return of the diversified portfolio is 54.74%\n",
      "The variance of the diversified portfolio is 0.16\n",
      "The expected return of the risky portfolio is 70.75%\n",
      "The variance of the risky portfolio is 0.88\n"
     ]
    }
   ],
   "source": [
    "'''\n",
    "diverse portfolio\n",
    "'''\n",
    "exp_ret_d = sum(mu*w_d)\n",
    "var_ret_d = sum(sum(w_d * cov * w_d))\n",
    "exp_ret_r = sum(mu*w_r)\n",
    "var_ret_r = sum(sum(w_r * cov * w_r))\n",
    "print('The expected return of the diversified portfolio is {:.2%}'.format(exp_ret_d))\n",
    "print('The variance of the diversified portfolio is {:.2f}'.format(var_ret_d))\n",
    "print('The expected return of the risky portfolio is {:.2%}'.format(exp_ret_r))\n",
    "print('The variance of the risky portfolio is {:.2f}'.format(var_ret_r))"
   ]
  },
  {
   "cell_type": "code",
   "execution_count": 8,
   "metadata": {},
   "outputs": [],
   "source": [
    "rets_d = (w_d * df).transpose().sum().to_numpy()\n",
    "rets_r = (w_r * df).transpose().sum().to_numpy()"
   ]
  },
  {
   "cell_type": "code",
   "execution_count": 9,
   "metadata": {},
   "outputs": [
    {
     "name": "stdout",
     "output_type": "stream",
     "text": [
      "The downside semi variance of the diversified portfolio is 0.06\n",
      "The downside semi variance of the risky portfolio is 0.55\n"
     ]
    }
   ],
   "source": [
    "dsv_d = finops.downside_semi_variance(rets_d)\n",
    "dsv_r = finops.downside_semi_variance(rets_r)\n",
    "print('The downside semi variance of the diversified portfolio is {:.2f}'.format(dsv_d))\n",
    "print('The downside semi variance of the risky portfolio is {:.2f}'.format(dsv_r))"
   ]
  },
  {
   "cell_type": "code",
   "execution_count": 10,
   "metadata": {},
   "outputs": [
    {
     "name": "stdout",
     "output_type": "stream",
     "text": [
      "The Value-at-Risk of the diversified portfolio is 0.11\n",
      "The Value-at-Risk of the risky portfolio is -0.79\n"
     ]
    }
   ],
   "source": [
    "VaR_d = rets_d[np.percentile(rets_d,q=beta*100) < rets_d].min()\n",
    "VaR_r = rets_r[np.percentile(rets_r,q=beta*100) < rets_r].min()\n",
    "print('The Value-at-Risk of the diversified portfolio is {:.2f}'.format(VaR_d))\n",
    "print('The Value-at-Risk of the risky portfolio is {:.2f}'.format(VaR_r))"
   ]
  },
  {
   "cell_type": "code",
   "execution_count": 12,
   "metadata": {},
   "outputs": [
    {
     "name": "stdout",
     "output_type": "stream",
     "text": [
      "The given matrix is Positive Semi Definite\n"
     ]
    }
   ],
   "source": [
    "'''\n",
    "final problem\n",
    "'''\n",
    "import FinOpsCodeDeck as finops\n",
    "M = np.array([[4,-1,0],[-1,2,1],[0,1,3]])\n",
    "finops.positive_semi_definite(M)"
   ]
  },
  {
   "cell_type": "code",
   "execution_count": null,
   "metadata": {},
   "outputs": [],
   "source": []
  }
 ],
 "metadata": {
  "interpreter": {
   "hash": "238d91bad954b51b52d5bbe2864e0900859dcde90a028221f484ba498ff1ba26"
  },
  "kernelspec": {
   "display_name": "Python 3.9.6 64-bit",
   "language": "python",
   "name": "python3"
  },
  "language_info": {
   "codemirror_mode": {
    "name": "ipython",
    "version": 3
   },
   "file_extension": ".py",
   "mimetype": "text/x-python",
   "name": "python",
   "nbconvert_exporter": "python",
   "pygments_lexer": "ipython3",
   "version": "3.9.6"
  },
  "orig_nbformat": 4
 },
 "nbformat": 4,
 "nbformat_minor": 2
}
