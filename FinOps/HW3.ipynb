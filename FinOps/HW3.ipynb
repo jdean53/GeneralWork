{
 "cells": [
  {
   "cell_type": "markdown",
   "metadata": {},
   "source": [
    "# ISE 447 - Financial Optimization - HW 3\n",
    "\n",
    "## Jack Dean\n",
    "\n",
    "## Lehigh University\n",
    "\n",
    "Due Date: Sunday April 17th, 2022  \n",
    "Total: 82 Points"
   ]
  },
  {
   "cell_type": "code",
   "execution_count": 1,
   "metadata": {},
   "outputs": [],
   "source": [
    "'''\n",
    "Packages Used\n",
    "'''\n",
    "import numpy as np\n",
    "import pandas as pd\n",
    "import scipy.stats as stats\n",
    "import pulp\n",
    "from pulp import *\n",
    "import matplotlib.pyplot as plt\n",
    "import seaborn as sns"
   ]
  },
  {
   "cell_type": "markdown",
   "metadata": {},
   "source": [
    "## Problem 1 - From non-linear to linear formulation (20 Points)\n",
    "In this question, when we refer to variance, we mean population variance.  Consdier a discrete random variable $X$ whose values can be $x_i$ for $i\\in\\{1,2,\\dots,T\\}$, each with a probability $\\frac{1}{T}$ for some $T\\in\\mathbb{N}$.  One can define the *mean absolute deviation* (MAD) of $X$ as\n",
    "$$\\mathrm{MAD}(X) = \\frac{1}{T}\\sum_{t=1}^T |x_t-\\bar{X}|$$\n",
    "where $\\bar{X}$ denotes the expected value of $X$.  That is\n",
    "$$\\bar{X} = \\frac{1}{T}\\sum_{t=1}^Tx_t$$\n",
    "Notice that the population variance of $X$ is given by\n",
    "$$\\mathrm{Var}(X) = \\frac{1}{T}\\sum_{t=1}^T (x_t-\\bar{X})^2$$\n",
    "Thus, much like the variance, the MAD penalizes deviations of the random variable from its mean. However, while the variance penalizes these deviations by squaring them, it uses the absolute value. This means that MAD can be used (and has been used) in optimal portfolio allocation problems as a measure of risk that serves as an alternative to using variances as a measure of risk (as in the Markowitz portfolio optimization problem discussed in class). The objective of this problem is to derive a linear programming (LP) formulation for the MAD portfolio allocation problem.\n",
    "\n",
    "### Part (a) (5 Points)\n",
    "For the random variable $X$ described above, what is the general value of\n",
    "$$\\frac{1}{T}\\sum_{t=1}^T(x_t-\\bar{X})$$\n",
    "What does this result tell you about how both the variance and MAD are defined?  \n",
    "*Hint*: You might try to compute the expression above first for a particular discrete random variable; for example, one whose potential values are $−3, −1, 5, 10, 15$, each with probability $\\frac{1}{5}\n",
    "\n",
    "### Part (b) (5 Points)\n",
    "For given values $a$, $b$, consider the univariatre optimization problem:\n",
    "$$\\min |x_1-a| + |x_2-a|$$\n",
    "$$\\mathrm{s.t.}\\;x_1+x_2=b$$\n",
    "$$x_i\\geq0\\;\\forall i$$\n",
    "By using a technique similar to the one used in class to model transaction costs with linear constraints in the Markowitz portfolio allocation problem, reformulate the problem above as a linear program.  \n",
    "*Hint*: introduce two additional auxiliary decision variables to represent $|x_1 − a|$, and $|x_2 − a|$\n",
    "\n",
    "### Part (c) (10 Points)\n",
    "The MAD portfolio allocation model is similar to the Markowitz portfolio allocation model, but isntead of variance of the portfolio returns, the risk measure is defined by the MAD of the portfolio returns.  Specifically, the MAD portfolio allocation model is given by\n",
    "$$\\min \\frac{1}{T}\\sum_{t=1}^T|\\sum_{i=1}^nr_{i,t}x_i - \\sum_{i=1}^n\\mu_ix_i|$$\n",
    "$$\\mathrm{s.t.} \\sum_{i=1}^n\\mu_ix_i\\geq\\mu_0$$\n",
    "$$\\sum_{i=1}^nx_i=1$$\n",
    "$$x_i\\geq0 \\; \\forall i$$\n",
    "where $x_i$ represents the allocation to asset $i$, $\\mu_i$ represents expected return of asset $i$, and $r_{i,t}$ represents the $t$ sample value of the return of asset $i$, for $i\\in\\{1,2,\\dots,T\\}$. Also, $\\mu_0$ is the riskaversion parameter (as in the Markowitz model).\n",
    "\n",
    "Derive a linear programming formulation for the MAD portfolio allocation model.\n",
    "\n",
    "**Note**: It is worth to mention that:  \n",
    "* The fact that the MAD portfolio allocation model can be formulated as an LP is an advantage over the Markowitz model (which requires the solution of a convex QP)  \n",
    "* One disadvantage however, is that the MAD portfolio allocation model does not “depend” on the correlation between the asset returns of different assets  \n",
    "* But is is known that if the asset returns normal, independent normal distributions, then solving the MAD model or the Markowitz model is equivalent (a fact that you could test)  \n"
   ]
  },
  {
   "cell_type": "markdown",
   "metadata": {},
   "source": [
    "### Solution to Part (a)\n",
    "\n",
    "This value will tend to 0, which is shown in the following code block.  This suggests that the variance and MAD are defined such that they can measure spread from the mean as the general spread accounting for positives and negatives will tend to 0."
   ]
  },
  {
   "cell_type": "code",
   "execution_count": 2,
   "metadata": {},
   "outputs": [
    {
     "name": "stdout",
     "output_type": "stream",
     "text": [
      "The value of the given example is 0.0\n",
      "The value of the generic example is 0.0\n"
     ]
    }
   ],
   "source": [
    "'''Given Example'''\n",
    "ex_set = np.array([-3,-1,5,10,15])\n",
    "ex_T = len(ex_set)\n",
    "ex_mean = np.mean(ex_set)\n",
    "ex_val = (1/ex_T) * np.sum(np.array([ex_set[i] - ex_mean for i in range(ex_T)]))\n",
    "\n",
    "'''Generic Example'''\n",
    "gen_T = 50000\n",
    "gen_set = np.random.randint(0,10000,gen_T)\n",
    "gen_mean = np.mean(gen_set)\n",
    "gen_val = (1/gen_T) * np.sum(np.array([gen_set[i]-gen_mean for i in range(gen_T)]))\n",
    "\n",
    "'''Print Results'''\n",
    "print('The value of the given example is {:.1f}'.format(ex_val))\n",
    "print('The value of the generic example is {:.1f}'.format(gen_val))"
   ]
  },
  {
   "cell_type": "markdown",
   "metadata": {},
   "source": [
    "### Solution to Part (b)\n",
    "We wish to rewrite $|x_i-a|=y_i$ for $i\\in\\{1,2\\}$. We redefine the problem as follows.\n",
    "$$\\min y_1 + y_2$$\n",
    "$$\\mathrm{s.t.} x_1+x_2=b$$\n",
    "$$x_1-a\\leq y_1$$\n",
    "$$a-x_1\\leq y_1$$\n",
    "$$x_2-a\\leq y_2$$\n",
    "$$a-x_2\\leq y_2$$\n",
    "$$x_i,y_i\\geq0\\;\\forall i\\in\\{1,2\\}$$"
   ]
  },
  {
   "cell_type": "markdown",
   "metadata": {},
   "source": [
    "### Solution to Part (c)\n",
    "I begin by rewriting the problem as follows\n",
    "$$\\min \\frac{1}{T}\\sum_{t=1}^T\\sum_{i=1}^n|r_{i,t} - \\mu_i|x_i$$\n",
    "$$\\mathrm{s.t.} \\sum_{i=1}^n\\mu_ix_i\\geq\\mu_0$$\n",
    "$$\\sum_{i=1}^nx_i=1$$\n",
    "$$x_i\\geq0 \\; \\forall i$$\n",
    "Now, for all $i\\in\\{1,\\dots,n\\}$ and $t\\in\\{1,\\dots,T\\}$, we wish to let $y_{i,t}=|r_{i,t}-\\mu_i|x_i$.  We rewrite the problem to reflect this as\n",
    "\n",
    "$$\\min \\frac{1}{T}\\sum_{t=1}^T\\sum_{i=1}^n y_{i,t}$$\n",
    "$$\\mathrm{s.t.} \\sum_{i=1}^n\\mu_ix_i\\geq\\mu_0$$\n",
    "$$x_i(r_{i,t}-\\mu_i)\\leq y_{i,t}$$\n",
    "$$x_i(\\mu_i-r_{i,t})\\leq y_{i,t}$$\n",
    "$$\\sum_{i=1}^nx_i=1$$\n",
    "$$x_i\\geq0 \\; \\forall i,\\;\\;\\;y_{i,t}\\geq0\\;\\forall i \\forall t$$"
   ]
  },
  {
   "cell_type": "markdown",
   "metadata": {},
   "source": [
    "## Problem 2 - From non-linear to linear formulation (20 Points)\n",
    "In this question, when we refer to variance, we mean population variance.  Consdier a discrete random variable $X$ whose values can be $x_i$ for $i\\in\\{1,2,\\dots,T\\}$, each with a probability $\\frac{1}{T}$ for some $T\\in\\mathbb{N}$.  One can define the *downside semi-variance* ($\\mathrm{var}^-$) of $X$ as\n",
    "$$\\mathrm{Var}^-(X) = \\frac{1}{T}\\sum_{t=1}^T (\\min\\{0,x_t-\\bar{X}\\})^2$$\n",
    "where $\\bar{X}$ denotes the expected value of $X$.  That is\n",
    "$$\\bar{X} = \\frac{1}{T}\\sum_{t=1}^Tx_t$$\n",
    "Notice that the population variance of $X$ is given by\n",
    "$$\\mathrm{Var}(X) = \\frac{1}{T}\\sum_{t=1}^T (x_t-\\bar{X})^2$$\n",
    "Thus, much like the variance, the downside semi-variance penalizes deviations of the random variable from its mean. However, while the variance penalizes both deviations above and below the mean value of the random variable, the semi-variance only penalizes the deviations below the mean of the random variable. The downside semi-variance can be used (and has been used) in optimal portfolio allocation problems as a measure of risk that serves as an alternative to using variances as a measure of risk (as in the Markowitz portfolio optimization problem discussed in class). The objective of this problem is to derive a quadratic programming (QP) formulation for the downside semivariance portfolio allocation problem.\n",
    "\n",
    "### Part (a) (5 Points)\n",
    "Consider the data given in the Excel file `HWQ2_Data.xls`.  Consider these values to be the sample returns of a portfolio of assets at different times.  \n",
    "* Produce a Histogram of the distribution of the given portfolio asset returns using your favourite software tool.  \n",
    "* For the portfolio return data given compute the mean return, the variance of the returns, the downside semivariance of the returns. Do you think that in this case, the downside semivariance is a better measure of risk that the variance? Briefly explain why your answer is yes or no.  \n",
    "* Using your favourite software tool, generate 200 samples of a Normal distribution with mean $\\mu=1$ and standard deviation $\\sigma=2$. Generate a histogram of the distribution of the samples. Also, compute both the variance and the downside semivariance of the samples. Can you infer something from the values of the variance and downside semivariance in this case? Briefly explain.\n",
    "\n",
    "### Part (b) (5 Points)\n",
    "For given values $a$, $b$, consider the univariate optimization problem:\n",
    "$$\\min \\min\\{0,x_1-a\\}^2 + \\min\\{0,x_2-a\\}^2$$\n",
    "$$\\mathrm{s.t.}\\;x_1+x_2=b$$\n",
    "$$x_i\\geq0\\;\\forall i$$\n",
    "By using a technique similar to the one used in class to model short selling constraints in the Markowitz portfolio allocation problem, reformulate the problem above as a quadratic program  \n",
    "*Hint*: introduce two additional auxiliary decision variables to represent $\\min\\{0,x_1−a\\}$, and $\\min\\{0,x_2−a\\}$.\n",
    "\n",
    "### Part (c) (10 Points)\n",
    "The downside semivariance portfolio allocation model is similar to the Markowitz portfolio allocation model, but isntead of variance of the portfolio returns, the risk measure is defined by the downside semivariance of the portfolio returns.  Specifically, the downside semivariance portfolio allocation model is given by\n",
    "$$\\min \\frac{1}{T}\\sum_{t=1}^T\\min\\{0,\\sum_{i=1}^nr_{i,t}x_i - \\sum_{i=1}^n\\mu_ix_i\\}^2$$\n",
    "$$\\mathrm{s.t.} \\sum_{i=1}^n\\mu_ix_i\\geq\\mu_0$$\n",
    "$$\\sum_{i=1}^nx_i=1$$\n",
    "$$x_i\\geq0 \\; \\forall i$$\n",
    "where $x_i$ represents the allocation to asset $i$, $\\mu_i$ represents expected return of asset $i$, and $r_{i,t}$ represents the $t$ sample value of the return of asset $i$, for $i\\in\\{1,2,\\dots,T\\}$. Also, $\\mu_0$ is the riskaversion parameter (as in the Markowitz model).  Derive a quadratic programming formulation for the downside semivariance portfolio allocation model."
   ]
  },
  {
   "cell_type": "markdown",
   "metadata": {},
   "source": [
    "### Solution to Part (a)\n",
    "\n"
   ]
  },
  {
   "cell_type": "code",
   "execution_count": 3,
   "metadata": {},
   "outputs": [],
   "source": [
    "'''\n",
    "import data for question\n",
    "'''\n",
    "q2 = pd.read_excel('HWQ2_Data.xlsx').to_numpy().squeeze()\n",
    "q2_bps = np.array([float(q2[i]) for i in range(len(q2))])"
   ]
  },
  {
   "cell_type": "code",
   "execution_count": 4,
   "metadata": {},
   "outputs": [
    {
     "name": "stderr",
     "output_type": "stream",
     "text": [
      "C:\\Users\\jdean\\AppData\\Local\\Programs\\Python\\Python39\\lib\\site-packages\\seaborn\\distributions.py:2619: FutureWarning: `distplot` is a deprecated function and will be removed in a future version. Please adapt your code to use either `displot` (a figure-level function with similar flexibility) or `histplot` (an axes-level function for histograms).\n",
      "  warnings.warn(msg, FutureWarning)\n"
     ]
    },
    {
     "data": {
      "text/plain": [
       "<AxesSubplot:ylabel='Density'>"
      ]
     },
     "execution_count": 4,
     "metadata": {},
     "output_type": "execute_result"
    },
    {
     "data": {
      "image/png": "[encoded data removed]",
      "text/plain": [
       "<Figure size 432x288 with 1 Axes>"
      ]
     },
     "metadata": {
      "needs_background": "light"
     },
     "output_type": "display_data"
    }
   ],
   "source": [
    "'''\n",
    "Histogram\n",
    "'''\n",
    "sns.distplot(q2_bps)"
   ]
  },
  {
   "cell_type": "code",
   "execution_count": 5,
   "metadata": {},
   "outputs": [],
   "source": [
    "def downside_semi_variance(data):\n",
    "    '''\n",
    "    Returns the Downside Semi Variance of the Data Set  \n",
    "    ---  \n",
    "    Parameters:  \n",
    "    data - (np array) Data array to calculate the dsv  \n",
    "    ---  \n",
    "    Returns:  \n",
    "    dsv - (float) Downside Semi Variance\n",
    "    '''\n",
    "    vals = np.where(data - np.mean(data) < 0, data - np.mean(data), 0)\n",
    "    dsv = (1/len(data))*np.sum(np.square(vals))\n",
    "    return dsv"
   ]
  },
  {
   "cell_type": "code",
   "execution_count": 6,
   "metadata": {},
   "outputs": [
    {
     "name": "stdout",
     "output_type": "stream",
     "text": [
      "The mean is 8.33\n",
      "The variance is 46.70\n",
      "The Downside Semi Variance is 13.78\n"
     ]
    }
   ],
   "source": [
    "'''\n",
    "Calculate Fields\n",
    "'''\n",
    "bps_mu = np.mean(q2_bps)\n",
    "bps_var = np.var(q2_bps)\n",
    "bps_dsv = downside_semi_variance(q2_bps)\n",
    "\n",
    "'''\n",
    "print values\n",
    "'''\n",
    "print('The mean is {:.2f}'.format(bps_mu))\n",
    "print('The variance is {:.2f}'.format(bps_var))\n",
    "print('The Downside Semi Variance is {:.2f}'.format(bps_dsv))"
   ]
  },
  {
   "cell_type": "code",
   "execution_count": 7,
   "metadata": {},
   "outputs": [
    {
     "name": "stdout",
     "output_type": "stream",
     "text": [
      "The sample mean is 1.08\n",
      "The sample variance is 3.74\n",
      "The dample Downside Semi Variance is 1.73\n"
     ]
    },
    {
     "name": "stderr",
     "output_type": "stream",
     "text": [
      "C:\\Users\\jdean\\AppData\\Local\\Programs\\Python\\Python39\\lib\\site-packages\\seaborn\\distributions.py:2619: FutureWarning: `distplot` is a deprecated function and will be removed in a future version. Please adapt your code to use either `displot` (a figure-level function with similar flexibility) or `histplot` (an axes-level function for histograms).\n",
      "  warnings.warn(msg, FutureWarning)\n"
     ]
    },
    {
     "data": {
      "text/plain": [
       "<AxesSubplot:ylabel='Density'>"
      ]
     },
     "execution_count": 7,
     "metadata": {},
     "output_type": "execute_result"
    },
    {
     "data": {
      "image/png": "[encoded data removed]",
      "text/plain": [
       "<Figure size 432x288 with 1 Axes>"
      ]
     },
     "metadata": {
      "needs_background": "light"
     },
     "output_type": "display_data"
    }
   ],
   "source": [
    "'''\n",
    "Produce data\n",
    "'''\n",
    "mu=1\n",
    "sigma=2\n",
    "normals = mu + sigma*np.random.randn(200)\n",
    "\n",
    "'''\n",
    "Calculate Fields\n",
    "'''\n",
    "norm_mu = np.mean(normals)\n",
    "norm_var = np.var(normals)\n",
    "norm_dsv = downside_semi_variance(normals)\n",
    "\n",
    "'''\n",
    "print values\n",
    "'''\n",
    "print('The sample mean is {:.2f}'.format(norm_mu))\n",
    "print('The sample variance is {:.2f}'.format(norm_var))\n",
    "print('The dample Downside Semi Variance is {:.2f}'.format(norm_dsv))\n",
    "\n",
    "sns.distplot(normals)"
   ]
  },
  {
   "cell_type": "markdown",
   "metadata": {},
   "source": [
    "### Solution to Part (b)\n",
    "we wish to rewrite $\\min\\{0,x_i-a\\}^2=y_i$ for $i\\in\\{1,2\\}$.  We rewrite the problem as follows.\n",
    "$$\\min y_1^2 + y_2^2$$\n",
    "$$\\mathrm{s.t.}\\;x_1+x_2=b$$\n",
    "$$y_1\\leq0$$\n",
    "$$y_1\\leq x_1-a$$\n",
    "$$y_2\\leq0$$\n",
    "$$y_2\\leq x_2-a$$\n",
    "$$x_i\\geq0\\;\\forall i$$"
   ]
  },
  {
   "cell_type": "markdown",
   "metadata": {},
   "source": [
    "### Solution to Part (c)\n",
    "\n",
    "I begin by rewriting the program as follows\n",
    "\n",
    "$$\\min \\frac{1}{T}\\sum_{t=1}^T\\min\\{0,\\sum_{i=1}^n(r_{i,t}-\\mu_i)x_i\\}^2$$\n",
    "$$\\mathrm{s.t.} \\sum_{i=1}^n\\mu_ix_i\\geq\\mu_0$$\n",
    "$$\\sum_{i=1}^nx_i=1$$\n",
    "$$x_i\\geq0 \\; \\forall i$$\n",
    "I wish to represent $\\min\\{0,\\sum_{i=1}^n(r_{i,t}-\\mu_i)x_i\\}=y_t$.  Therefore I reformulate the problem as follows\n",
    "$$\\min \\frac{1}{T}\\sum_{t=1}^Ty_t^2$$\n",
    "$$\\mathrm{s.t.} \\sum_{i=1}^n\\mu_ix_i\\geq\\mu_0$$\n",
    "$$\\sum_{i=1}^nx_i=1$$\n",
    "$$y_t\\leq0 \\;\\; \\forall t$$\n",
    "$$y_t\\leq\\sum_{i=1}^n(r_{i,t}-\\mu_i)x_i\\;\\; \\forall t$$\n",
    "$$x_i\\geq0 \\; \\forall i$$"
   ]
  },
  {
   "cell_type": "markdown",
   "metadata": {},
   "source": [
    "## Problem 3 - Solving the Markowitz Portfolio Allocation Model (Based on exercises 6.6 and 6.7 in the textbook) (25 Points)\n",
    "\n",
    "The Excel spreadsheet `HWQ3_Data.xls` contains estimated expected return values and variance-covariance values of monthly returns of a set of 20 large-cap stocks from the S&P 500 Index.  In answering each of the questions below, make sure to include print-outs of your computer work\n",
    "\n",
    "### Part (a) (5 points) \n",
    "Use your favourite solver to find the minimum variance portfolio (i.e., without setting a minimum expected return constraint) with long-only positions. What is the composition of the minimum variance portfolio? what is its expected return?  \n",
    "*Hint*: its $\\mu^Tx^*$, where $x^*$ is the minimum variance portfolio.  \n",
    "\n",
    "### Part (b) (10 points) \n",
    "Use your favourite solver to find the solution to the classical Markowitz portfolio allocation model (i.e., only long positions, and with a minimum expected return constraint). Solve your model for at least six (6) different levels of the expected return ranging from the expected return level you found in the previus question (for the minimum variance portfolio), to the expected return level for which there are feasible portfolios. What is this maximum expected return value? Use your results to construct an efficient frontier for the portfolios.\n",
    "\n",
    "### Part (c) (5 points) \n",
    "Assume that currently, you hold a portfolio on the 20 assets in which $\\frac{1}{20} = 5\\%$ of the money is invested in each of the assets (i.e., and equally weighted portfolio). Using what we learned about modeling transaction and/or turnover constraints, find a Markowitz portfolio, by setting $\\mu_0 = 20$, and adding the constraint that the new portfolio should not incur in a higher than $70\\%$ turnover with respect with the current portfolio you hold (i.e., the equally weighted portfolio).\n",
    "\n",
    "### Part (d) (5 points) \n",
    "Following the model described in class, find the portfolio with the maximum Sharpe ratio. What is the expected return and variance of this portfolio? Where in the efficient frontier you computed earlier on is this portfolio located?\n"
   ]
  },
  {
   "cell_type": "markdown",
   "metadata": {},
   "source": [
    "### Solution to Part (a)\n",
    "\n"
   ]
  },
  {
   "cell_type": "code",
   "execution_count": 8,
   "metadata": {},
   "outputs": [],
   "source": [
    "'''\n",
    "Data Import\n",
    "'''\n",
    "ret = pd.read_excel('HWQ3_Data.xlsx', sheet_name='returns')\n",
    "cov = pd.read_excel('HWQ3_Data.xlsx', sheet_name='covariance', index_col='Unnamed: 0')"
   ]
  },
  {
   "cell_type": "code",
   "execution_count": null,
   "metadata": {},
   "outputs": [],
   "source": []
  },
  {
   "cell_type": "markdown",
   "metadata": {},
   "source": [
    "### Solution to Part (b)\n",
    "\n"
   ]
  },
  {
   "cell_type": "markdown",
   "metadata": {},
   "source": [
    "### Solution to Part (c)\n",
    "\n"
   ]
  },
  {
   "cell_type": "markdown",
   "metadata": {},
   "source": [
    "### Solution to Part (d)\n",
    "\n"
   ]
  },
  {
   "cell_type": "markdown",
   "metadata": {},
   "source": [
    "## Problem 4 - Positive Semidefinite Matrices (8 Points)"
   ]
  },
  {
   "cell_type": "markdown",
   "metadata": {},
   "source": []
  }
 ],
 "metadata": {
  "interpreter": {
   "hash": "702e518b60c67dbd3b0638a510bff2830380600f50d13e8fcb105f9ecc05fb71"
  },
  "kernelspec": {
   "display_name": "Python 3.9.6 64-bit",
   "language": "python",
   "name": "python3"
  },
  "language_info": {
   "codemirror_mode": {
    "name": "ipython",
    "version": 3
   },
   "file_extension": ".py",
   "mimetype": "text/x-python",
   "name": "python",
   "nbconvert_exporter": "python",
   "pygments_lexer": "ipython3",
   "version": "3.9.6"
  },
  "orig_nbformat": 4
 },
 "nbformat": 4,
 "nbformat_minor": 2
}
