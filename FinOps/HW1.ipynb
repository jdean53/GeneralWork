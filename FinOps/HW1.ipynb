{
 "cells": [
  {
   "cell_type": "markdown",
   "metadata": {},
   "source": [
    "# ISE 447 - Financial Optimization - HW 1\n",
    "\n",
    "Due Date: Monday February 28th, 2022  \n",
    "Total: 90 Points  \n",
    "*Note*: Under otherwise stated, all textbook references are for “Optimization Methods in Finance”"
   ]
  },
  {
   "cell_type": "code",
   "execution_count": 2,
   "metadata": {},
   "outputs": [],
   "source": [
    "#Packages used in this work\n",
    "import numpy as np\n",
    "import pandas as pd\n",
    "import scipy\n",
    "\n",
    "import matplotlib.pyplot as plt"
   ]
  },
  {
   "cell_type": "markdown",
   "metadata": {},
   "source": [
    "## Problem 1 (10 points)  \n",
    "LP Graphical Solution Method: Reconsider the bank/Basel III Accord problem considered in class. Using the LP Graphical Solution Method you learned in your previous optimization course, solve this 2-decision variable problem with the following values for the problem parameters:\n",
    "$$r_1 = \\frac{1}{6}, r_2 = \\frac{1}{10}, r_3 = \\frac{1}{6}, r_4 = \\frac{2}{3}, \\alpha = \\frac{1}{3}, m_D = 0.02, m_L = 0.03$$  \n",
    "Provide a plot of the problems feasible solution (use a grid where each mark represents $\\frac{1}{10}$). Provide the argument(s) that lead you to the problem’s optimal solution (Hint: You can check if your solution is right by using AMPL, EXCEL, Matlab, etc., to solve the problem.)\n"
   ]
  },
  {
   "cell_type": "markdown",
   "metadata": {},
   "source": [
    "### Solution"
   ]
  },
  {
   "cell_type": "code",
   "execution_count": 1,
   "metadata": {},
   "outputs": [],
   "source": [
    "# Code Block"
   ]
  },
  {
   "cell_type": "markdown",
   "metadata": {},
   "source": []
  },
  {
   "cell_type": "markdown",
   "metadata": {},
   "source": [
    "## Problem 2 (30 Points) - Statistical Analysis\n",
    "\n",
    "The purpose of this problem is to make a statistical out-of-sample analysis of the optimal solution of the Stock/Bond/Call portfolio investment problem considered in class. For that purpose, it is ok to use any software tool you see fit (i.e., EXCEL, Matlab, Python, etc.). Let $s_k$ for $k\\in\\{1,2,3\\}$ be the value of the stock in the future in scenario $k$ (i.e., $s_1=40$, $s_2=20$, $s_3=12$). Now, add uncertainty to scenario values as follows $s^j_k=s_k+\\epsilon^j_k$ where $\\epsilon^j_k\\sim\\mathcal{N}(0, \\sigma)$ for $k\\in\\{1,2,3\\}$ and $j\\in\\{1,2,\\dots,M\\}$ where $M$ is the number of sample used in the out-of-sample analysis (use a value of $M$ larger than or equal to $30$ to get statistically significant results), and $X\\sim\\mathcal{N}(0,\\sigma)$ is a normal random variable with mean zero and standard deviation $\\sigma$.  \n",
    "\n",
    "### Part A (10 Points) - Optimal Portfolio  \n",
    "Choose a value of $\\sigma$ that seems reasonable for you. Find the net profit obtained out of the optimal portfolio $S^∗ = 3500$, $B^∗ = 0$, $C_+^∗ = 0$, $C_−^∗ = 5000$ for samples $j\\in\\{1,\\dots,M\\}$ with $M\\geq30$. Using these values, plot a histogram showing the distribution of the out-of-sample net profit of the optimal portfolio, compute its expected out-of-sample net profit and associated standard deviation.\n",
    "\n",
    "### Part B (10 Points) - Alternative Portfolio  \n",
    "We want to now compare the out-of-sample performance of the optimal portfolio with a “rule-of-thumb” portfolio of your choice. Your portfolio should not sell call options; that is, your portfolio should only invest the budget in buying stocks, bonds, and call options. For example your portfolio might be obtained by investing 70% of the budget in stocks and $30\\%$ of the budget in bonds, or you might use $33\\%$ of the money for each stocks, bonds, and calls. Choose a portfolio and briefly (a couple sentences justify your choice). Then, perform the same out-of-sample performance experiment you did for the optimal portfolio $S^∗ = 3500$, $B^∗ = 0$, $C_+^∗ =0$, $C_−^∗ = 5000$ (it is better if you use the same values $\\epsilon^j_k\\sim\\mathcal{N}(0, \\sigma)$, for $k\\in\\{1,2,3\\}$ and $j\\in\\{1,2,\\dots,M\\}$ for both experiments). As before, generate a histogram showing the distribution of the out-of-sample net profit of the rule-of-thumb portfolio, compute its expected out-of-sample net profit and associated standard deviation.\n",
    "\n",
    "### Part C (10 Points) - Comparison  \n",
    "Using the results obtained thus far (histogram, expected net profit, standard deviation), briefly state how the portfolios compare. To finish, we want to know if any difference in the expected net profit of the two portfolios considered is statistically significant. For this purpose, call $\\mu^*$ the expected net profit of the optimal portfolio, and $\\mu^0$ the expected net profit of the rule-of-thumb portfolio. Now (using the software of your choice, or by hand) perform a difference of population means between the expected net profit of both portfolios at a significance level of $\\alpha = 0.05$ to accept or reject the Null Hypothesis \n",
    "$$\\begin{cases}\n",
    "\\mathrm{H}_0: \\mu^* \\geq \\mu^0 \\\\\n",
    "\\mathrm{H}_1: \\mu^* < \\mu^0\n",
    "\\end{cases}$$\n",
    "Use any source you see fit to remember of find out how this test is performed. Make sure you state what assumptions you made in performing your test. What is the answer of your test and what does it mean?\n"
   ]
  },
  {
   "cell_type": "markdown",
   "metadata": {},
   "source": [
    "### Solution to Part A"
   ]
  },
  {
   "cell_type": "code",
   "execution_count": 7,
   "metadata": {},
   "outputs": [
    {
     "data": {
      "text/plain": [
       "(12,\n",
       " 20,\n",
       " array([[37.1376753 , 34.46120087, 34.20211636, 44.4808473 , 39.18227596,\n",
       "         47.45406411, 40.02061326, 47.1177853 , 41.95907136, 27.7654373 ,\n",
       "         48.31588218, 17.65195173, 43.6561732 , 43.227447  , 46.15312979,\n",
       "         62.03070358, 31.77750756, 45.36853182, 41.50364217, 46.02117018,\n",
       "         37.14665836, 51.45724154, 39.85456851, 34.59232163, 39.65677553,\n",
       "         59.525797  , 56.721299  , 32.36614062, 15.06076495, 38.23529486],\n",
       "        [44.97672463, 42.26445111, 49.35962035, 36.70312046, 51.34107205,\n",
       "         35.50341574, 24.08431687, 28.6841289 , 39.337034  , 26.30819516,\n",
       "         35.90656452, 30.92180144, 48.4431479 , 36.39793433, 28.91123953,\n",
       "         40.13506207, 60.52179361, 30.6116391 , 42.69301515, 63.65881773,\n",
       "         44.94487635, 43.53768542, 16.11201104, 46.72824447, 44.80641155,\n",
       "         42.61639768, 35.28385112, 31.66012027, 40.88426287, 25.6576142 ],\n",
       "        [34.59596548, 38.84866141, 37.31494509, 46.80113668, 53.02458189,\n",
       "         42.27679227, 36.15896256, 51.16144861, 40.56715021, 42.00529351,\n",
       "         37.8105807 , 26.8311259 , 34.15832064, 45.64438698, 46.40327323,\n",
       "         39.26672678, 38.6179113 , 56.49566497, 42.36720579, 40.61020337,\n",
       "         35.77916698, 40.68653481, 32.17371664, 44.30613567, 21.37078933,\n",
       "         57.52638501, 45.01151635, 53.36355249, 59.07437877, 35.33359755]]))"
      ]
     },
     "execution_count": 7,
     "metadata": {},
     "output_type": "execute_result"
    }
   ],
   "source": [
    "# Code Block\n",
    "'''Given Stock Ending Values'''\n",
    "s_bear = 12\n",
    "s_base = 20\n",
    "s_bull = 40\n",
    "\n",
    "'''Chosen Stock Standard Deviation'''\n",
    "sigma = 10\n",
    "\n",
    "'''Optimal Portfolio Assumed'''\n",
    "s=3500\n",
    "b=0\n",
    "cl = 0\n",
    "cs = 5000\n",
    "\n",
    "epsilon = np.random.normal(loc=0,scale=sigma,size=(3,30))\n",
    "\n",
    "s_bear, s_base, s_bull + epsilon"
   ]
  },
  {
   "cell_type": "markdown",
   "metadata": {},
   "source": []
  },
  {
   "cell_type": "markdown",
   "metadata": {},
   "source": [
    "### Solution to Part B"
   ]
  },
  {
   "cell_type": "code",
   "execution_count": 2,
   "metadata": {},
   "outputs": [],
   "source": [
    "# Code Block"
   ]
  },
  {
   "cell_type": "markdown",
   "metadata": {},
   "source": []
  },
  {
   "cell_type": "markdown",
   "metadata": {},
   "source": [
    "### Solution to Part C"
   ]
  },
  {
   "cell_type": "code",
   "execution_count": 3,
   "metadata": {},
   "outputs": [],
   "source": [
    "# Code Block"
   ]
  },
  {
   "cell_type": "markdown",
   "metadata": {},
   "source": []
  },
  {
   "cell_type": "markdown",
   "metadata": {},
   "source": [
    "## Problem 3 (10 Points) - Vector and Matrices (Based on Exercise 2.6)\n",
    "\n",
    "As mentioned after Example 2.2 in the textbook, a linear optimization problem is considered to be given in standard form if it is written as follows (using vector and matrix notation):\n",
    "$$\\min c^Tx\\\\\n",
    "\\mathrm{s.t.} Ax = b \\\\\n",
    "x\\geq0$$\n",
    "Write the Fund Allocation problem (Example 2.1) considered in class in standard form. Specifically, show that one can construct a new vector of decision variables $\\tilde{x}$ and matrices and vectors $\\tilde{c}$, $\\tilde{A}$, $\\tilde{b}$ such that the Fund Allocation problem can be rewritten as:\n",
    "$$\\min \\tilde{c}^T\\tilde{x}\\\\\n",
    "\\mathrm{s.t.} \\tilde{A}\\tilde{x} = \\tilde{b} \\\\\n",
    "\\tilde{x}\\geq0$$\n",
    "(Hint: Introduce additional slack variables to rewrite inequality constraints as equality constraints).\n"
   ]
  },
  {
   "cell_type": "markdown",
   "metadata": {},
   "source": [
    "### Solution"
   ]
  },
  {
   "cell_type": "code",
   "execution_count": null,
   "metadata": {},
   "outputs": [],
   "source": [
    "# Code Block"
   ]
  },
  {
   "cell_type": "markdown",
   "metadata": {},
   "source": []
  },
  {
   "cell_type": "markdown",
   "metadata": {},
   "source": [
    "## Problem 4 (20 Points) - Financial Optimization Modelling\n",
    "\n",
    "Consider the Stock/Bond/Call portfolio investment problem considered in class. Looking at the analysis made in class, notice that in the scenario when the stock raises its value to $40, the net value of the optimal portfolio of the original version of the problem is $-\\$5000$.  \n",
    "\n",
    "### Part A (10 Points)  \n",
    "Assume that this type of loss is considered to high for us, and therefore, we want to obtain a Stock/Bond/Call portfolio in which the net profit in each of the three scenarios (i.e., stock value = $\\$40$, $\\$20$, $\\$12$) should be greater than or equal to $-\\$1000$. What constraints need to be added to the original linear programming formulation of the problem to make sure that the optimal portfolio of the model satisfies the minimum net profit requirement.\n",
    "\n",
    "### Part B (10 Points)  \n",
    "Solve the linear programming problem you obtained above using your favorite software tools. Provide print screen of the code/results that you obtain.\n"
   ]
  },
  {
   "cell_type": "markdown",
   "metadata": {},
   "source": [
    "### Solution to Part A"
   ]
  },
  {
   "cell_type": "code",
   "execution_count": null,
   "metadata": {},
   "outputs": [],
   "source": [
    "# Code Block"
   ]
  },
  {
   "cell_type": "markdown",
   "metadata": {},
   "source": []
  },
  {
   "cell_type": "markdown",
   "metadata": {},
   "source": [
    "### Solution to Part B"
   ]
  },
  {
   "cell_type": "code",
   "execution_count": null,
   "metadata": {},
   "outputs": [],
   "source": [
    "# Code Block"
   ]
  },
  {
   "cell_type": "markdown",
   "metadata": {},
   "source": []
  },
  {
   "cell_type": "markdown",
   "metadata": {},
   "source": [
    "## Problem 5 (20 Points) - Financial Optimization Modelling\n",
    "\n",
    "Consider the the Fund Allocation problem stated in Lecture 3, slide 15-16. Let $s$ be the funds that you leave in a savings account, which is assumed to give you $0\\%$ interest rate. Further, assume that due to fears that the large-cap market will undergo a bubble burst soon, you have decided that for every dollar that you invest in the large-cap market, you should put $\\alpha\\% \\times \\$1$ in the savings account.  \n",
    "\n",
    "### Part A (10 Points)\n",
    "Use the information on Lecture 3, slide 15-16 to obtain a modified version of the problem, taking into account the savings requirement.  \n",
    "*Hint*: Notice that (among other things) the right hand side of the cap constraints needs to be updated because not all the budget might be invested into the funds  \n",
    "\n",
    "### Part B (10 Points)\n",
    "Following what was done in Lecture 3, slide 24 (last slide) for the original Fund Allocation problem. Write a general version of the Fund Allocation problem taking into account the savings requirements.\n"
   ]
  },
  {
   "cell_type": "markdown",
   "metadata": {},
   "source": [
    "### Solution to Part A"
   ]
  },
  {
   "cell_type": "code",
   "execution_count": 4,
   "metadata": {},
   "outputs": [],
   "source": [
    "# Code Block"
   ]
  },
  {
   "cell_type": "markdown",
   "metadata": {},
   "source": []
  },
  {
   "cell_type": "markdown",
   "metadata": {},
   "source": [
    "### Solution to Part B"
   ]
  },
  {
   "cell_type": "code",
   "execution_count": 5,
   "metadata": {},
   "outputs": [],
   "source": [
    "# Code Block"
   ]
  },
  {
   "cell_type": "markdown",
   "metadata": {},
   "source": []
  },
  {
   "cell_type": "markdown",
   "metadata": {},
   "source": [
    "## Recommended Further Practice\n",
    "\n",
    "* Reconsider the last HW problem regarding the Fund Allocation with savings requirements. I recommend you to give a particular value to α and solve the modified version of the problem using you favorite\n",
    "software AMPL, Matlab, etc.  \n",
    "* Check how the formulation of Example 2.2 in the textbook is obtained. Then, solve the problem using EXCEL (or similar)  \n",
    "* Solve Exercise 2.10 in the textbook. You don’t necessarily have to use CVX & and MATLAB as suggested in the exercise. You could use any software you want. The Exercise uses the following MATLAB functions that are important for you to understand whether or not you use MATLAB.  \n",
    "    * rand(m, n): produces a matrix of size m × n with all positions being assigned random numbers between 0 and 1\n",
    "    * ones(m, n): produces a matrix of size m × n with all positions equal to 1.\n",
    "* Review and practice linear programming formulation problems from your previous optimization related course(s)"
   ]
  },
  {
   "cell_type": "markdown",
   "metadata": {},
   "source": []
  }
 ],
 "metadata": {
  "interpreter": {
   "hash": "702e518b60c67dbd3b0638a510bff2830380600f50d13e8fcb105f9ecc05fb71"
  },
  "kernelspec": {
   "display_name": "Python 3.9.6 64-bit",
   "language": "python",
   "name": "python3"
  },
  "language_info": {
   "codemirror_mode": {
    "name": "ipython",
    "version": 3
   },
   "file_extension": ".py",
   "mimetype": "text/x-python",
   "name": "python",
   "nbconvert_exporter": "python",
   "pygments_lexer": "ipython3",
   "version": "3.9.6"
  },
  "orig_nbformat": 4
 },
 "nbformat": 4,
 "nbformat_minor": 2
}
