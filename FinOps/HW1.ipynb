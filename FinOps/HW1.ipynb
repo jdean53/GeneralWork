{
 "cells": [
  {
   "cell_type": "markdown",
   "metadata": {},
   "source": [
    "# ISE 447 - Financial Optimization - HW 1\n",
    "\n",
    "Due Date: Monday February 28th, 2022  \n",
    "Total: 90 Points  \n",
    "*Note*: Under otherwise stated, all textbook references are for “Optimization Methods in Finance”"
   ]
  },
  {
   "cell_type": "code",
   "execution_count": 1,
   "metadata": {},
   "outputs": [],
   "source": [
    "#Packages used in this work\n",
    "import numpy as np\n",
    "import pandas as pd\n",
    "import scipy.stats as stats\n",
    "import pulp\n",
    "from pulp import *\n",
    "import matplotlib.pyplot as plt\n",
    "import seaborn as sns"
   ]
  },
  {
   "cell_type": "markdown",
   "metadata": {},
   "source": [
    "## Problem 1 (10 points)  \n",
    "LP Graphical Solution Method: Reconsider the bank/Basel III Accord problem considered in class. Using the LP Graphical Solution Method you learned in your previous optimization course, solve this 2-decision variable problem with the following values for the problem parameters:\n",
    "$$r_1 = \\frac{1}{6}, r_2 = \\frac{1}{10}, r_3 = \\frac{1}{6}, r_4 = \\frac{2}{3}, \\alpha = \\frac{1}{3}, m_D = 0.02, m_L = 0.03$$  \n",
    "Provide a plot of the problems feasible solution (use a grid where each mark represents $\\frac{1}{10}$). Provide the argument(s) that lead you to the problem’s optimal solution (Hint: You can check if your solution is right by using AMPL, EXCEL, Matlab, etc., to solve the problem.)\n"
   ]
  },
  {
   "cell_type": "markdown",
   "metadata": {},
   "source": [
    "### Solution"
   ]
  },
  {
   "cell_type": "code",
   "execution_count": 2,
   "metadata": {},
   "outputs": [
    {
     "data": {
      "text/plain": [
       "Text(0, 0.5, 'Loans')"
      ]
     },
     "execution_count": 2,
     "metadata": {},
     "output_type": "execute_result"
    },
    {
     "data": {
      "image/png": "[encoded data removed]",
      "text/plain": [
       "<Figure size 432x288 with 1 Axes>"
      ]
     },
     "metadata": {
      "needs_background": "light"
     },
     "output_type": "display_data"
    }
   ],
   "source": [
    "x = np.linspace(-0.1, 1.1, num=12)\n",
    "\n",
    "r1 = 1/6\n",
    "r2 = 1/10\n",
    "r3 = 1/6\n",
    "r4 = 2/3\n",
    "alpha = 1/3\n",
    "mD = 0.02\n",
    "mL = 0.03\n",
    "\n",
    "plt.axes(ylim=[-0.1,1.1])\n",
    "plt.plot(x, (1-x)/r1, 'b')              # Capital Ratio\n",
    "plt.axvline(x=1-r2, color = 'b')        # Leverage Ratio\n",
    "plt.plot(x, 1-r3*x, 'b')                # Liquidity Coverage Ratio\n",
    "plt.plot(x, (1-(1-alpha)*x)/r4, 'b')    # Net Stable Funding Ratio\n",
    "plt.axvline(x=0, color = 'b')           # Non Negativity\n",
    "plt.plot(x,np.zeros(12), 'b')           # Non Negativity\n",
    "plt.plot(x, (0.01-mD*x)/mL, 'k')\n",
    "plt.plot(x, (0.02-mD*x)/mL, 'k')\n",
    "plt.plot(x, (0.03-mD*x)/mL, 'k')\n",
    "plt.plot(x, (0.039-mD*x)/mL, 'r')\n",
    "plt.title('Graphical Solution, D=0.6 & L=0.9')\n",
    "plt.xlabel('Deposits')\n",
    "plt.ylabel('Loans')"
   ]
  },
  {
   "cell_type": "markdown",
   "metadata": {},
   "source": [
    "## Problem 2 (30 Points) - Statistical Analysis\n",
    "\n",
    "The purpose of this problem is to make a statistical out-of-sample analysis of the optimal solution of the Stock/Bond/Call portfolio investment problem considered in class. For that purpose, it is ok to use any software tool you see fit (i.e., EXCEL, Matlab, Python, etc.). Let $s_k$ for $k\\in\\{1,2,3\\}$ be the value of the stock in the future in scenario $k$ (i.e., $s_1=40$, $s_2=20$, $s_3=12$). Now, add uncertainty to scenario values as follows $s^j_k=s_k+\\epsilon^j_k$ where $\\epsilon^j_k\\sim\\mathcal{N}(0, \\sigma)$ for $k\\in\\{1,2,3\\}$ and $j\\in\\{1,2,\\dots,M\\}$ where $M$ is the number of sample used in the out-of-sample analysis (use a value of $M$ larger than or equal to $30$ to get statistically significant results), and $X\\sim\\mathcal{N}(0,\\sigma)$ is a normal random variable with mean zero and standard deviation $\\sigma$.  \n",
    "\n",
    "### Part A (10 Points) - Optimal Portfolio  \n",
    "Choose a value of $\\sigma$ that seems reasonable for you. Find the net profit obtained out of the optimal portfolio $S^∗ = 3500$, $B^∗ = 0$, $C_+^∗ = 0$, $C_−^∗ = 5000$ for samples $j\\in\\{1,\\dots,M\\}$ with $M\\geq30$. Using these values, plot a histogram showing the distribution of the out-of-sample net profit of the optimal portfolio, compute its expected out-of-sample net profit and associated standard deviation.\n",
    "\n",
    "### Part B (10 Points) - Alternative Portfolio  \n",
    "We want to now compare the out-of-sample performance of the optimal portfolio with a “rule-of-thumb” portfolio of your choice. Your portfolio should not sell call options; that is, your portfolio should only invest the budget in buying stocks, bonds, and call options. For example your portfolio might be obtained by investing 70% of the budget in stocks and $30\\%$ of the budget in bonds, or you might use $33\\%$ of the money for each stocks, bonds, and calls. Choose a portfolio and briefly (a couple sentences justify your choice). Then, perform the same out-of-sample performance experiment you did for the optimal portfolio $S^∗ = 3500$, $B^∗ = 0$, $C_+^∗ =0$, $C_−^∗ = 5000$ (it is better if you use the same values $\\epsilon^j_k\\sim\\mathcal{N}(0, \\sigma)$, for $k\\in\\{1,2,3\\}$ and $j\\in\\{1,2,\\dots,M\\}$ for both experiments). As before, generate a histogram showing the distribution of the out-of-sample net profit of the rule-of-thumb portfolio, compute its expected out-of-sample net profit and associated standard deviation.\n",
    "\n",
    "### Part C (10 Points) - Comparison  \n",
    "Using the results obtained thus far (histogram, expected net profit, standard deviation), briefly state how the portfolios compare. To finish, we want to know if any difference in the expected net profit of the two portfolios considered is statistically significant. For this purpose, call $\\mu^*$ the expected net profit of the optimal portfolio, and $\\mu^0$ the expected net profit of the rule-of-thumb portfolio. Now (using the software of your choice, or by hand) perform a difference of population means between the expected net profit of both portfolios at a significance level of $\\alpha = 0.05$ to accept or reject the Null Hypothesis \n",
    "$$\\begin{cases}\n",
    "\\mathrm{H}_0: \\mu^* \\geq \\mu^0 \\\\\n",
    "\\mathrm{H}_1: \\mu^* < \\mu^0\n",
    "\\end{cases}$$\n",
    "Use any source you see fit to remember of find out how this test is performed. Make sure you state what assumptions you made in performing your test. What is the answer of your test and what does it mean?\n"
   ]
  },
  {
   "cell_type": "markdown",
   "metadata": {},
   "source": [
    "### RECALL: Stock/Bond/Call Portfolio Investment Problem\n",
    "\n",
    "You have $\\$20,000$ to invest. Stock XYZ sells at $\\$20$ per share today. A European call option to buy a share of stock XYZ at $\\$15$ exactly six months from today sells for $\\$10$. You can also raise additional funds which can be immediately invested, if desired, by selling call options with the above characteristics. In addition, a 6-month riskless zero-coupon bond with $\\$100$ face value sells for $\\$90$. You have decided to limit the number of call options that you buy or sell to at most $5,000$. You consider three scenarios for the price of stock XYZ six months from today: the price will be the same as today, the price will go up to $\\$40$, or drop to $\\$12$. Your best estimate is that each of these scenarios is equally likely. Formulate an optimization problem to determine the portfolio of stocks, bonds, and options that maximize expected profit.\n",
    "\n",
    "**Formulation**\n",
    "\n",
    "$$\\max (\\frac{1}{3}(40 + 20 + 12)-20)S + (100-90)B + (\\frac{1}{3}(25 + 5 + 0)-10)C_+ + (10-\\frac{1}{3}(25 + 5 + 0))C_-$$\n",
    "$$\\mathrm{s.t.}\\;\\;\\; C_+ \\leq 5,000$$\n",
    "$$C_- \\leq 5,000$$\n",
    "$$20S + 90B + 10C_+ - 10C_- \\leq 20,000$$\n",
    "$$S, B, C_+, C_- \\geq 0 $$\n",
    "Simplified, this becomes\n",
    "$$\\max 4S + 10B$$\n",
    "$$\\mathrm{s.t.}\\;\\;\\; C_+ \\leq 5,000$$\n",
    "$$C_- \\leq 5,000$$\n",
    "$$20S + 90B + 10C_+ - 10C_- \\leq 20,000$$\n",
    "$$S, B, C_+, C_- \\geq 0 $$"
   ]
  },
  {
   "cell_type": "markdown",
   "metadata": {},
   "source": [
    "### Solution to Part A"
   ]
  },
  {
   "cell_type": "code",
   "execution_count": 3,
   "metadata": {},
   "outputs": [
    {
     "name": "stdout",
     "output_type": "stream",
     "text": [
      "The Out-Of-Sample expected return is 104.52%\n",
      "The Out-Of-Sample standard deciation is 89.95%\n",
      "The Portfolio Sharpe Ratio is 1.04\n"
     ]
    },
    {
     "data": {
      "image/png": "[encoded data removed]",
      "text/plain": [
       "<Figure size 360x360 with 1 Axes>"
      ]
     },
     "metadata": {
      "needs_background": "light"
     },
     "output_type": "display_data"
    }
   ],
   "source": [
    "'''Security Initial Values'''\n",
    "s0 = 20\n",
    "b0 = 90\n",
    "c0 = 10\n",
    "k  = 15\n",
    "\n",
    "'''Given Stock & Bond Ending Values'''\n",
    "s_bear = 12 # Bear case, stock ends at 12\n",
    "s_base = 20 # Base case, stock ends at 20\n",
    "s_bull = 40 # Bull case, stock ends at 40\n",
    "b_end = 100\n",
    "\n",
    "'''assumed case probability'''\n",
    "p_base = 1/3\n",
    "p_bull = 1/3\n",
    "p_bear = 1/3\n",
    "\n",
    "'''Chosen Stock Standard Deviation'''\n",
    "sigma = 10\n",
    "\n",
    "'''Optimal Portfolio Assumed -- s is stock, b is bond, c is call (long or short)'''\n",
    "s=3500\n",
    "b=0\n",
    "cl = 0\n",
    "cs = 5000\n",
    "\n",
    "'''Samples considered'''\n",
    "M = 10000   # A true Monte-Carlo sim\n",
    "\n",
    "'''Random Prices -- NOTE prices cannot be less than 0, this is adjusted for'''\n",
    "s_bear = s_bear + np.random.normal(loc=0,scale=sigma,size=M)\n",
    "s_bear[s_bear < 0] = 0\n",
    "s_base = s_base + np.random.normal(loc=0,scale=sigma,size=M)\n",
    "s_base[s_base < 0] = 0\n",
    "s_bull = s_bull + np.random.normal(loc=0,scale=sigma,size=M)\n",
    "s_bull[s_bull < 0] = 0\n",
    "\n",
    "'''Option value at expiry'''\n",
    "option_payoff_bear = s_bear - k\n",
    "option_payoff_bear[option_payoff_bear < 0] = 0\n",
    "option_payoff_base = s_base - k\n",
    "option_payoff_base[option_payoff_base < 0] = 0\n",
    "option_payoff_bull = s_bull - k\n",
    "option_payoff_bull[option_payoff_bull < 0] = 0\n",
    "\n",
    "'''Portfolio values at initial entry and at expiry cases'''\n",
    "portfolio_val_init = s * s0 + b * b0 + (cl - cs) * c0\n",
    "portfolio_val_bear = s * s_bear + b * b_end + (cl - cs) * option_payoff_bear\n",
    "portfolio_val_base = s * s_base + b * b_end + (cl - cs) * option_payoff_base\n",
    "portfolio_val_bull = s * s_bull + b * b_end + (cl - cs) * option_payoff_bull\n",
    "\n",
    "'''Dataframe for values with calculated mean'''\n",
    "portfolio_cases = pd.DataFrame(columns=['bear', 'base', 'bull'])\n",
    "portfolio_cases['bear'] = portfolio_val_bear / portfolio_val_init - 1\n",
    "portfolio_cases['base'] = portfolio_val_base / portfolio_val_init - 1\n",
    "portfolio_cases['bull'] = portfolio_val_bull / portfolio_val_init - 1\n",
    "portfolio_cases['mean'] = p_bull * portfolio_cases['bull'] + p_base * portfolio_cases['base'] + p_bear + portfolio_cases['bear']\n",
    "\n",
    "opt_mean = portfolio_cases['mean'].mean()\n",
    "opt_std = portfolio_cases['mean'].std()\n",
    "print('The Out-Of-Sample expected return is {:.2%}'.format(opt_mean))\n",
    "print('The Out-Of-Sample standard deciation is {:.2%}'.format(opt_std))\n",
    "print('The Portfolio Sharpe Ratio is {:.2f}'.format((opt_mean - (b_end/b0 - 1)) / opt_std))\n",
    "\n",
    "'''Plotted Result'''\n",
    "ax = sns.displot(portfolio_cases['mean'], kde=True)\n",
    "ax.set(xlabel='Return', title='Optimized Portfolio Return Distribution')\n",
    "plt.show()"
   ]
  },
  {
   "cell_type": "markdown",
   "metadata": {},
   "source": [
    "### Solution to Part B"
   ]
  },
  {
   "cell_type": "markdown",
   "metadata": {},
   "source": [
    "I selected a portfolio consisting of $40\\%$ stocks, $50\\%$ bonds, and $10\\%$ call options.  I chose this because I wished to decrease portfolio risk (standard deviation) since only half the portfolio is subject to risky assets.  That said, due to the nature of call options, the portfolio is slightly levered and will still be subject to price risk."
   ]
  },
  {
   "cell_type": "code",
   "execution_count": 4,
   "metadata": {},
   "outputs": [
    {
     "name": "stdout",
     "output_type": "stream",
     "text": [
      "The Out-Of-Sample expected return is 37.23%\n",
      "The Out-Of-Sample standard deciation is 25.78%\n",
      "The Portfolio Sharpe Ratio is 1.01\n"
     ]
    },
    {
     "data": {
      "image/png": "[encoded data removed]",
      "text/plain": [
       "<Figure size 360x360 with 1 Axes>"
      ]
     },
     "metadata": {
      "needs_background": "light"
     },
     "output_type": "display_data"
    }
   ],
   "source": [
    "'''Portfolio Allocation -- Portfolio Initial Value is Bankroll'''\n",
    "s_alloc = 0.4\n",
    "b_alloc = 0.5\n",
    "c_alloc = 0.1\n",
    "s_units = np.floor((portfolio_val_init * s_alloc) / s0)\n",
    "b_units = np.floor((portfolio_val_init * b_alloc) / b0)\n",
    "c_units = np.floor((portfolio_val_init * c_alloc) / c0)\n",
    "\n",
    "'''Portfolio values at initial entry and at expiry cases'''\n",
    "user_portfolio_val_init = s_units * s0 + b_units * b0 + c_units * c0\n",
    "user_portfolio_val_bear = s_units * s_bear + b_units * b_end + c_units * option_payoff_bear\n",
    "user_portfolio_val_base = s_units * s_base + b_units * b_end + c_units * option_payoff_base\n",
    "user_portfolio_val_bull = s_units * s_bull + b_units * b_end + c_units * option_payoff_bull\n",
    "\n",
    "'''Dataframe for values with calculated mean'''\n",
    "user_portfolio_cases = pd.DataFrame(columns=['bear', 'base', 'bull'])\n",
    "user_portfolio_cases['bear'] = user_portfolio_val_bear / user_portfolio_val_init - 1\n",
    "user_portfolio_cases['base'] = user_portfolio_val_base / user_portfolio_val_init - 1\n",
    "user_portfolio_cases['bull'] = user_portfolio_val_bull / user_portfolio_val_init - 1\n",
    "user_portfolio_cases['mean'] = p_bull * user_portfolio_cases['bull'] + p_base * user_portfolio_cases['base'] + p_bear + user_portfolio_cases['bear']\n",
    "\n",
    "user_mean = user_portfolio_cases['mean'].mean()\n",
    "user_std = user_portfolio_cases['mean'].std()\n",
    "print('The Out-Of-Sample expected return is {:.2%}'.format(user_mean))\n",
    "print('The Out-Of-Sample standard deciation is {:.2%}'.format(user_std))\n",
    "print('The Portfolio Sharpe Ratio is {:.2f}'.format((user_mean - (b_end/b0 - 1)) / user_std))\n",
    "\n",
    "'''Plotted Result'''\n",
    "ax = sns.displot(user_portfolio_cases['mean'], kde=True)\n",
    "ax.set(xlabel='Return', title='User Portfolio Return Distribution')\n",
    "plt.show()\n",
    "\n"
   ]
  },
  {
   "cell_type": "markdown",
   "metadata": {},
   "source": [
    "### Solution to Part C"
   ]
  },
  {
   "cell_type": "markdown",
   "metadata": {},
   "source": [
    "We now move to statisitcal analysis of the difference of means.  I begin by understanding if there is variance difference between the samples.  From there, I proceed with a parametric and nonparametric test to understand the difference in return for the samples."
   ]
  },
  {
   "cell_type": "code",
   "execution_count": 5,
   "metadata": {},
   "outputs": [
    {
     "name": "stdout",
     "output_type": "stream",
     "text": [
      "The Variances Differ\n"
     ]
    }
   ],
   "source": [
    "'''Significance Level and Variance Test'''\n",
    "alpha = 0.001 # Used because sample is very large\n",
    "\n",
    "F_stat = opt_std ** 2 / user_std ** 2\n",
    "if stats.f.cdf(F_stat, M-1, M-1) > alpha:\n",
    "    print('The Variances Differ')\n",
    "else:\n",
    "    print('The Variances are the same')\n"
   ]
  },
  {
   "cell_type": "code",
   "execution_count": 6,
   "metadata": {},
   "outputs": [
    {
     "name": "stdout",
     "output_type": "stream",
     "text": [
      "Accept the Null\n"
     ]
    }
   ],
   "source": [
    "'''Parametric Test'''\n",
    "p_val_parametric = stats.ttest_rel(portfolio_cases['mean'], user_portfolio_cases['mean'], alternative='greater')[1]\n",
    "if p_val_parametric > alpha:\n",
    "    print('Reject the Null')\n",
    "else:\n",
    "    print('Accept the Null')\n"
   ]
  },
  {
   "cell_type": "code",
   "execution_count": 7,
   "metadata": {},
   "outputs": [
    {
     "name": "stdout",
     "output_type": "stream",
     "text": [
      "Accept the Null\n"
     ]
    }
   ],
   "source": [
    "'''Nonparemetric Test'''\n",
    "p_val_nonparametric = stats.wilcoxon(portfolio_cases['mean'], user_portfolio_cases['mean'], alternative='greater')[1]\n",
    "if p_val_nonparametric > alpha:\n",
    "    print('Reject the Null')\n",
    "else:\n",
    "    print('Accept the Null')"
   ]
  },
  {
   "cell_type": "markdown",
   "metadata": {},
   "source": [
    "With different variances, the nonparametric test result should be the one considered.  That said, both tests conclude the optimized portfolio outperformed the rule of thumb portfolio."
   ]
  },
  {
   "cell_type": "markdown",
   "metadata": {},
   "source": [
    "## Problem 3 (10 Points) - Vector and Matrices (Based on Exercise 2.6)\n",
    "\n",
    "As mentioned after Example 2.2 in the textbook, a linear optimization problem is considered to be given in standard form if it is written as follows (using vector and matrix notation):\n",
    "$$\\min c^Tx\\\\\n",
    "\\mathrm{s.t.} Ax = b \\\\\n",
    "x\\geq0$$\n",
    "Write the Fund Allocation problem (Example 2.1) considered in class in standard form. Specifically, show that one can construct a new vector of decision variables $\\tilde{x}$ and matrices and vectors $\\tilde{c}$, $\\tilde{A}$, $\\tilde{b}$ such that the Fund Allocation problem can be rewritten as:\n",
    "$$\\min \\tilde{c}^T\\tilde{x}\\\\\n",
    "\\mathrm{s.t.} \\tilde{A}\\tilde{x} = \\tilde{b} \\\\\n",
    "\\tilde{x}\\geq0$$\n",
    "(Hint: Introduce additional slack variables to rewrite inequality constraints as equality constraints).\n"
   ]
  },
  {
   "cell_type": "markdown",
   "metadata": {},
   "source": [
    "### RECALL: Fund Allocation Problem (Example 2.1)\n",
    "\n",
    "You would like to allocate $\\$80,000$ among four mutual funds that have different weights in large, medium, and small cap stocks.\n",
    "\n",
    "| Capitalization | Fund 1 | Fund 2 | Fund 3 | Fund 4 | Required |\n",
    "| -- | -- | -- | -- | -- | -- |\n",
    "| Large | $$50\\%$$ | $$30\\%$$ | $$25\\%$$ | $$60\\%$$ | $$35\\%$$ |\n",
    "| Medium | $$30\\%$$ | $$10\\%$$ | $$40\\%$$ | $$20\\%$$ | $$30\\%$$ |\n",
    "| Small | $$20\\%$$ | $$60\\%$$ | $$35\\%$$ | $$20\\%$$ | $$15\\%$$ |\n",
    "| Expected Return | $$10\\%$$ | $$15\\%$$ | $$16\\%$$ | $$8\\%$$ | |\n",
    "\n",
    "**CURRENT FORM**\n",
    "$$\\max 0.10f_1 + 0.15f_2 + 0.16f_3 + 0.08f_4$$\n",
    "$$\\mathrm{s.t.}\\;\\;\\; f_1 + f_2 + f_3 + f_4 = 80,000$$\n",
    "$$0.50f_1 + 0.30f_2 + 0.25f_3 + 0.60f_4 \\geq 0.35 * 80,000 = 28,000$$\n",
    "$$0.30f_1 + 0.10f_2 + 0.40f_3 + 0.20f_4 \\geq 0.30 * 80,000 = 24,000$$\n",
    "$$0.20f_1 + 0.60f_2 + 0.35f_3 + 0.20f_4 \\geq 0.15 * 80,000 = 12,000$$\n",
    "$$f_1,f_2,f_3,f_4 \\geq 0$$"
   ]
  },
  {
   "cell_type": "markdown",
   "metadata": {},
   "source": [
    "### Solution"
   ]
  },
  {
   "cell_type": "markdown",
   "metadata": {},
   "source": [
    "$$\\max 0.10f_1 + 0.15f_2 + 0.16f_3 + 0.08f_4$$\n",
    "$$\\mathrm{s.t.}\\;\\;\\; f_1 + f_2 + f_3 + f_4 = 80,000$$\n",
    "$$0.50f_1 + 0.30f_2 + 0.25f_3 + 0.60f_4 - s_1 = 28,000$$\n",
    "$$0.30f_1 + 0.10f_2 + 0.40f_3 + 0.20f_4 - s_2 = 24,000$$\n",
    "$$0.20f_1 + 0.60f_2 + 0.35f_3 + 0.20f_4 -s_3 = 12,000$$\n",
    "$$f_1,f_2,f_3,f_4, s_1,s_2,s_3 \\geq 0$$"
   ]
  },
  {
   "cell_type": "markdown",
   "metadata": {},
   "source": [
    "## Problem 4 (20 Points) - Financial Optimization Modelling\n",
    "\n",
    "Consider the Stock/Bond/Call portfolio investment problem considered in class. Looking at the analysis made in class, notice that in the scenario when the stock raises its value to $\\$40$, the net value of the optimal portfolio of the original version of the problem is $-\\$5000$.  \n",
    "\n",
    "### Part A (10 Points)  \n",
    "Assume that this type of loss is considered to high for us, and therefore, we want to obtain a Stock/Bond/Call portfolio in which the net profit in each of the three scenarios (i.e., stock value = $\\$40$, $\\$20$, $\\$12$) should be greater than or equal to $-\\$1000$. What constraints need to be added to the original linear programming formulation of the problem to make sure that the optimal portfolio of the model satisfies the minimum net profit requirement.\n",
    "\n",
    "### Part B (10 Points)  \n",
    "Solve the linear programming problem you obtained above using your favorite software tools. Provide print screen of the code/results that you obtain.\n"
   ]
  },
  {
   "cell_type": "markdown",
   "metadata": {},
   "source": [
    "### Solution to Part A"
   ]
  },
  {
   "cell_type": "markdown",
   "metadata": {},
   "source": [
    "**RECALL** The original formulation was\n",
    "$$\\max 4S+10B$$\n",
    "$$\\mathrm{s.t.}\\;\\;\\; C_+ \\leq 5,000$$\n",
    "$$C_- \\leq 5,000$$\n",
    "$$20S + 90B + 10C_+ - 10C_- \\leq 20,000$$\n",
    "$$S, B, C_+, C_- \\geq 0 $$\n",
    "I then add constraints for the bear, base, and bull case such that the portfolio change cannot be less than $\\$1,000$.  The coefficient of each variable is the change in the price of the asset from portfolio creation to expiry.\n",
    "$$(40-20)S + (100-90)B + (25-10)C_+ (10-25)C_- \\geq -1,000$$\n",
    "$$(20-20)S + (100-90)B + (5-10)C_+ (10-5)C_- \\geq -1,000$$\n",
    "$$(12-20)S + (100-90)B + (0-10)C_+ (10-0)C_- \\geq -1,000$$\n",
    "This makes the final problem\n",
    "$$\\max 4S+10B$$\n",
    "$$\\mathrm{s.t.}\\;\\;\\; C_+ \\leq 5,000$$\n",
    "$$C_- \\leq 5,000$$\n",
    "$$20S + 90B + 10C_+ - 10C_- \\leq 20,000$$\n",
    "$$20S+10B+15C_+-15C_-\\geq-1,000$$\n",
    "$$10B-5C_++5C_-\\geq-1,000$$\n",
    "$$-8S+10B-10C_++10C_-\\geq-1,000$$\n",
    "$$S, B, C_+, C_- \\geq 0 $$"
   ]
  },
  {
   "cell_type": "markdown",
   "metadata": {},
   "source": [
    "### Solution to Part B"
   ]
  },
  {
   "cell_type": "code",
   "execution_count": 8,
   "metadata": {},
   "outputs": [
    {
     "name": "stdout",
     "output_type": "stream",
     "text": [
      "Portfolio_Optimization:\n",
      "MAXIMIZE\n",
      "10*Securities_LongBond + 4*Securities_LongStock + 0\n",
      "SUBJECT TO\n",
      "_C1: 90 Securities_LongBond + 10 Securities_LongCall + 20 Securities_LongStock\n",
      " - 10 Securities_ShortCall <= 20000\n",
      "\n",
      "_C2: Securities_ShortCall <= 5000\n",
      "\n",
      "_C3: Securities_ShortCall <= 5000\n",
      "\n",
      "_C4: 10 Securities_LongBond + 15 Securities_LongCall + 20 Securities_LongStock\n",
      " - 15 Securities_ShortCall >= -1000\n",
      "\n",
      "_C5: 10 Securities_LongBond - 5 Securities_LongCall + 5 Securities_ShortCall\n",
      " >= -1000\n",
      "\n",
      "_C6: 10 Securities_LongBond - 10 Securities_LongCall - 8 Securities_LongStock\n",
      " + 10 Securities_ShortCall >= -1000\n",
      "\n",
      "VARIABLES\n",
      "Securities_LongBond Continuous\n",
      "Securities_LongCall Continuous\n",
      "Securities_LongStock Continuous\n",
      "Securities_ShortCall Continuous\n",
      "\n",
      "FINAL DECISION VARIABLE VALUES\n",
      "Securities_LongBond: 0.0\n",
      "Securities_LongCall: 0.0\n",
      "Securities_LongStock: 3100.0\n",
      "Securities_ShortCall: 4200.0\n"
     ]
    }
   ],
   "source": [
    "'''Setting Up Values'''\n",
    "securities  = ['LongStock','LongBond','LongCall','ShortCall']   # Security Names\n",
    "init_price  = dict(zip(securities, [20,  90,  10, -10]))        # Initial Security Prices (Value Constraint)\n",
    "risk_lim_lc = dict(zip(securities, [ 0,   0,   0,   1]))        # Risk Limit (No more than 5k calls)\n",
    "risk_lim_sc = dict(zip(securities, [ 0,   0,   0,   1]))        # Risk Limit (No more than 5k calls)\n",
    "avg_payoff  = dict(zip(securities, [ 4,  10,   0,   0]))        # Max Function\n",
    "bull_payoff = dict(zip(securities, [20,  10,  15, -15]))        # Bull Case Payoff\n",
    "base_payoff = dict(zip(securities, [ 0,  10,  -5,   5]))        # Base Case Payoff\n",
    "bear_payoff = dict(zip(securities, [-8,  10, -10,  10]))        # Bear Case Payoff\n",
    "\n",
    "sec_count   = LpVariable.dicts('Securities', securities, lowBound=0)\n",
    "\n",
    "'''Setting up Problem'''\n",
    "profit = LpProblem(\"Portfolio_Optimization\", LpMaximize)\n",
    "profit += lpSum([avg_payoff[i] * sec_count[i] for i in securities])\n",
    "profit += lpSum([init_price[i] * sec_count[i] for i in securities])  <= 20000    # Value Constraint\n",
    "profit += lpSum([risk_lim_lc[i] * sec_count[i] for i in securities]) <= 5000    # Risk Limit\n",
    "profit += lpSum([risk_lim_sc[i] * sec_count[i] for i in securities]) <= 5000    # Risk Limit\n",
    "profit += lpSum([bull_payoff[i] * sec_count[i] for i in securities]) >= -1000   # Loss Constraint (bull case)\n",
    "profit += lpSum([base_payoff[i] * sec_count[i] for i in securities]) >= -1000   # Loss Constraint (base case)\n",
    "profit += lpSum([bear_payoff[i] * sec_count[i] for i in securities]) >= -1000   # Loss Constraint (bear case)\n",
    "\n",
    "'''Solving Problem and printing Results'''\n",
    "profit.solve()\n",
    "print(profit)\n",
    "print('FINAL DECISION VARIABLE VALUES')\n",
    "for v in profit.variables():\n",
    "    print(v.name + ': ' + str(v.varValue))"
   ]
  },
  {
   "cell_type": "markdown",
   "metadata": {},
   "source": [
    "## Problem 5 (20 Points) - Financial Optimization Modelling\n",
    "\n",
    "Consider the the Fund Allocation problem stated in Lecture 3, slide 15-16. Let $s$ be the funds that you leave in a savings account, which is assumed to give you $0\\%$ interest rate. Further, assume that due to fears that the large-cap market will undergo a bubble burst soon, you have decided that for every dollar that you invest in the large-cap market, you should put $\\alpha\\% \\times \\$1$ in the savings account.  \n",
    "\n",
    "### Part A (10 Points)\n",
    "Use the information on Lecture 3, slide 15-16 to obtain a modified version of the problem, taking into account the savings requirement.  \n",
    "*Hint*: Notice that (among other things) the right hand side of the cap constraints needs to be updated because not all the budget might be invested into the funds  \n",
    "\n",
    "### Part B (10 Points)\n",
    "Following what was done in Lecture 3, slide 24 (last slide) for the original Fund Allocation problem. Write a general version of the Fund Allocation problem taking into account the savings requirements.\n"
   ]
  },
  {
   "cell_type": "markdown",
   "metadata": {},
   "source": [
    "### ADJUSTED: Fund Allocation Problem (Example 2.1)\n",
    "\n",
    "You would like to allocate $\\$80,000$ among four mutual funds that have different weights in large, medium, and small cap stocks.\n",
    "\n",
    "| Capitalization | Fund 1 | Fund 2 | Fund 3 | Fund 4 | Savings | Required |\n",
    "| -- | -- | -- | -- | -- | -- | -- |\n",
    "| Large | $$50\\%$$ | $$30\\%$$ | $$25\\%$$ | $$60\\%$$ | $$\\alpha\\%$$ | $$35\\%$$ |\n",
    "| Medium | $$30\\%$$ | $$10\\%$$ | $$40\\%$$ | $$20\\%$$ | | $$30\\%$$ |\n",
    "| Small | $$20\\%$$ | $$60\\%$$ | $$35\\%$$ | $$20\\%$$ | | $$15\\%$$ |\n",
    "| Expected Return | $$10\\%$$ | $$15\\%$$ | $$16\\%$$ | $$8\\%$$ | $$0\\%$$ |"
   ]
  },
  {
   "cell_type": "markdown",
   "metadata": {},
   "source": [
    "### Solution to Part A"
   ]
  },
  {
   "cell_type": "markdown",
   "metadata": {},
   "source": [
    "$$\\max 0.10f_1 + 0.15f_2 + 0.16f_3 + 0.08f_4$$\n",
    "$$\\mathrm{s.t.}\\;\\;\\; f_1 + f_2 + f_3 + f_4 + s = 80,000$$\n",
    "$$0.50f_1 + 0.30f_2 + 0.25f_3 + 0.60f_4 \\geq .35 * 80,000 = 28,000$$\n",
    "$$0.30f_1 + 0.10f_2 + 0.40f_3 + 0.20f_4 \\geq 0.30 * 80,000 = 24,000$$\n",
    "$$0.20f_1 + 0.60f_2 + 0.35f_3 + 0.20f_4 \\geq 0.15 * 80,000 = 12,000$$\n",
    "$$s - \\alpha0.50f_1 - \\alpha0.30f_2 - \\alpha0.25f_3 - \\alpha0.60f_4 \\geq 0$$\n",
    "$$$$\n",
    "$$f_1,f_2,f_3,f_4,s \\geq 0$$"
   ]
  },
  {
   "cell_type": "markdown",
   "metadata": {},
   "source": [
    "### Solution to Part B"
   ]
  },
  {
   "cell_type": "markdown",
   "metadata": {},
   "source": [
    "$$\\max r^T x$$\n",
    "$$\\mathrm{s.t.}\\;\\;\\;\\ e^Tx \\leq B$$\n",
    "$$Ax \\geq Bb$$\n",
    "$$x \\geq 0$$\n",
    "\n",
    "Where the matrices and vectors listed are\n",
    "\n",
    "$$r = \\begin{pmatrix} 0.10 \\\\ 0.15 \\\\ 0.16 \\\\ 0.08 \\\\ 0.00\\end{pmatrix}, \\;\\;\\; x = \\begin{pmatrix} f_1 \\\\ f_2 \\\\ f_3 \\\\ f_4 \\\\ s\\end{pmatrix}, \\;\\;\\;A = \\begin{pmatrix} 0.50 & 0.30 & 0.25 & 0.60 & 0\\\\\n",
    "0.30 & 0.10 & 0.40 & 0.20 & 0\\\\\n",
    "0.20 & 0.60 & 0.35 & 0.20 & 0\\\\\n",
    "\\alpha0.50 & \\alpha0.30 & \\alpha0.25 & \\alpha0.60 & 1\\end{pmatrix}$$\n",
    "$$e=\\begin{pmatrix} 1 & 1 & 1 & 1 & 1 \\end{pmatrix}, \\;\\;\\; b = \\begin{pmatrix} 0.35 & 0.30 & 0.15 & 0 \\end{pmatrix}, \\;\\;\\; B = 80,000$$\n"
   ]
  },
  {
   "cell_type": "markdown",
   "metadata": {},
   "source": [
    "## Recommended Further Practice\n",
    "\n",
    "* Reconsider the last HW problem regarding the Fund Allocation with savings requirements. I recommend you to give a particular value to α and solve the modified version of the problem using you favorite\n",
    "software AMPL, Matlab, etc.  \n",
    "* Check how the formulation of Example 2.2 in the textbook is obtained. Then, solve the problem using EXCEL (or similar)  \n",
    "* Solve Exercise 2.10 in the textbook. You don’t necessarily have to use CVX & and MATLAB as suggested in the exercise. You could use any software you want. The Exercise uses the following MATLAB functions that are important for you to understand whether or not you use MATLAB.  \n",
    "    * rand(m, n): produces a matrix of size m × n with all positions being assigned random numbers between 0 and 1\n",
    "    * ones(m, n): produces a matrix of size m × n with all positions equal to 1.\n",
    "* Review and practice linear programming formulation problems from your previous optimization related course(s)"
   ]
  }
 ],
 "metadata": {
  "interpreter": {
   "hash": "702e518b60c67dbd3b0638a510bff2830380600f50d13e8fcb105f9ecc05fb71"
  },
  "kernelspec": {
   "display_name": "Python 3.9.6 64-bit",
   "language": "python",
   "name": "python3"
  },
  "language_info": {
   "codemirror_mode": {
    "name": "ipython",
    "version": 3
   },
   "file_extension": ".py",
   "mimetype": "text/x-python",
   "name": "python",
   "nbconvert_exporter": "python",
   "pygments_lexer": "ipython3",
   "version": "3.9.6"
  },
  "orig_nbformat": 4
 },
 "nbformat": 4,
 "nbformat_minor": 2
}
