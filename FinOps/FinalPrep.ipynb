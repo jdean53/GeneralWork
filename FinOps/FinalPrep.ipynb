{
 "cells": [
  {
   "cell_type": "code",
   "execution_count": 161,
   "metadata": {},
   "outputs": [],
   "source": [
    "'''imports'''\n",
    "from pulp import *\n",
    "import pandas as pd\n",
    "import numpy as np\n",
    "import matplotlib.pyplot as plt\n",
    "import seaborn as sb\n",
    "import scipy.stats as stats\n",
    "import pulp\n",
    "import riskfolio as rp\n",
    "%matplotlib inline"
   ]
  },
  {
   "cell_type": "markdown",
   "metadata": {},
   "source": [
    "# Graphical\n"
   ]
  },
  {
   "cell_type": "markdown",
   "metadata": {},
   "source": [
    "Note: Use Desmos, get the points and solve."
   ]
  },
  {
   "cell_type": "markdown",
   "metadata": {},
   "source": [
    "$$\n",
    "\\begin{split}\n",
    "\\text{max} \\ \\ \\ \\ & x_1 + 2x_2 \\\\\n",
    "\\text{s.t.} \\ \\ \\ \\ &  2x_1 - 2x_2 \\le 3 \\\\\n",
    "& -2x_1 +x_2 \\le 2 \\\\\n",
    "& 2x_1 + 2x_2 \\le 13 \\\\\n",
    "& x_1, \\ x_2 \\ge 0\n",
    "\\end{split}\n",
    "$$\n",
    "\n",
    "Change for $x_1$\n",
    "\n",
    "$$\n",
    "\\begin{split}\n",
    "\\text{max} \\ \\ \\ \\ & x_1 + 2x_2 \\\\\n",
    "\\text{s.t.} \\ \\ \\ \\ &  x_1  \\le \\frac{3 + 2x_2}{2}\\\\\n",
    "& x_1  \\ge -\\frac{2 - x_2}{2}\\\\\n",
    "& x_1 \\le \\frac{13}2 - x_2 \\\\\n",
    "& x_1, \\ x_2 \\ge 0\n",
    "\\end{split}\n",
    "$$\n",
    "\n",
    "Need for programming the solution now move onto code below"
   ]
  },
  {
   "cell_type": "code",
   "execution_count": 162,
   "metadata": {},
   "outputs": [],
   "source": [
    "'''Constrains'''\n",
    "\n",
    "x = np.linspace(0, 8, 801)\n",
    "\n",
    "y1 = [(3+2*i)/2 for i in x]\n",
    "\n",
    "y2 = [-(2-i)/2 for i in x]\n",
    "\n",
    "y3 = [13/2 - i for i in x]\n"
   ]
  },
  {
   "cell_type": "code",
   "execution_count": 163,
   "metadata": {},
   "outputs": [],
   "source": [
    "df = pd.DataFrame(index=x, columns=['Con1', 'Con2', 'Con3'])"
   ]
  },
  {
   "cell_type": "code",
   "execution_count": 164,
   "metadata": {},
   "outputs": [],
   "source": [
    "df['Con1'] = y1\n",
    "df['Con2'] = y2\n",
    "df['Con3'] = y3"
   ]
  },
  {
   "cell_type": "code",
   "execution_count": 165,
   "metadata": {},
   "outputs": [
    {
     "data": {
      "image/png": "[encoded data removed]",
      "text/plain": [
       "<Figure size 1440x720 with 1 Axes>"
      ]
     },
     "metadata": {},
     "output_type": "display_data"
    }
   ],
   "source": [
    "with plt.style.context('fivethirtyeight'):\n",
    "    fig, ax = plt.subplots(figsize=(20,10))\n",
    "    plt.plot(df.loc[:,'Con1'], label = 'Con1')\n",
    "    plt.plot(df.loc[:,'Con2'], label = 'Con2')\n",
    "    plt.plot(df.loc[:,'Con3'], label = 'Con3')\n",
    "    d = np.linspace(0,8,300)\n",
    "    x,y = np.meshgrid(d,d)\n",
    "    plt.imshow( ((y>=0)&(y<=(3+2*x)/2) & (y>=(x-2)/2) & (y<=13/2 - x)).astype(int) , \n",
    "                extent=(x.min(),x.max(),y.min(),y.max()),origin=\"lower\", cmap=\"Greys\", alpha = 0.3)\n",
    "\n",
    "    plt.legend()"
   ]
  },
  {
   "cell_type": "markdown",
   "metadata": {},
   "source": [
    "## Getting points from desmos and then use the following. The points are from the example"
   ]
  },
  {
   "cell_type": "markdown",
   "metadata": {},
   "source": [
    "### Just change mx to min if it is a min problem"
   ]
  },
  {
   "cell_type": "code",
   "execution_count": 166,
   "metadata": {},
   "outputs": [],
   "source": [
    "x = [0, 0,   2.5, 5,   2]\n",
    "y = [0, 1.5, 4,   1.5, 0]\n",
    "\n",
    "obj = [y[i] + 2*x[i] for i in range(0,len(x))]\n",
    "\n",
    "obj_df = pd.DataFrame(columns=['x', 'y', 'obj'])\n",
    "\n",
    "obj_df['x'] = x\n",
    "obj_df['y'] = y\n",
    "obj_df['obj'] = obj"
   ]
  },
  {
   "cell_type": "code",
   "execution_count": 167,
   "metadata": {},
   "outputs": [
    {
     "data": {
      "text/html": [
       "<div>\n",
       "<style scoped>\n",
       "    .dataframe tbody tr th:only-of-type {\n",
       "        vertical-align: middle;\n",
       "    }\n",
       "\n",
       "    .dataframe tbody tr th {\n",
       "        vertical-align: top;\n",
       "    }\n",
       "\n",
       "    .dataframe thead th {\n",
       "        text-align: right;\n",
       "    }\n",
       "</style>\n",
       "<table border=\"1\" class=\"dataframe\">\n",
       "  <thead>\n",
       "    <tr style=\"text-align: right;\">\n",
       "      <th></th>\n",
       "      <th>x</th>\n",
       "      <th>y</th>\n",
       "      <th>obj</th>\n",
       "    </tr>\n",
       "  </thead>\n",
       "  <tbody>\n",
       "    <tr>\n",
       "      <th>0</th>\n",
       "      <td>0.0</td>\n",
       "      <td>0.0</td>\n",
       "      <td>0.0</td>\n",
       "    </tr>\n",
       "    <tr>\n",
       "      <th>1</th>\n",
       "      <td>0.0</td>\n",
       "      <td>1.5</td>\n",
       "      <td>1.5</td>\n",
       "    </tr>\n",
       "    <tr>\n",
       "      <th>2</th>\n",
       "      <td>2.5</td>\n",
       "      <td>4.0</td>\n",
       "      <td>9.0</td>\n",
       "    </tr>\n",
       "    <tr>\n",
       "      <th>3</th>\n",
       "      <td>5.0</td>\n",
       "      <td>1.5</td>\n",
       "      <td>11.5</td>\n",
       "    </tr>\n",
       "    <tr>\n",
       "      <th>4</th>\n",
       "      <td>2.0</td>\n",
       "      <td>0.0</td>\n",
       "      <td>4.0</td>\n",
       "    </tr>\n",
       "  </tbody>\n",
       "</table>\n",
       "</div>"
      ],
      "text/plain": [
       "     x    y   obj\n",
       "0  0.0  0.0   0.0\n",
       "1  0.0  1.5   1.5\n",
       "2  2.5  4.0   9.0\n",
       "3  5.0  1.5  11.5\n",
       "4  2.0  0.0   4.0"
      ]
     },
     "execution_count": 167,
     "metadata": {},
     "output_type": "execute_result"
    }
   ],
   "source": [
    "obj_df"
   ]
  },
  {
   "cell_type": "markdown",
   "metadata": {},
   "source": [
    "# Parameter Estimation\n"
   ]
  },
  {
   "cell_type": "code",
   "execution_count": 168,
   "metadata": {},
   "outputs": [],
   "source": [
    "'''Improrting the random sample of it'''\n",
    "prices = pd.read_excel(r'C:\\MFE\\MFE Sem 2\\ISE 447\\Final\\Data and Sharpe From Midterm.xlsx', sheet_name='Sheet1', index_col='Month')"
   ]
  },
  {
   "cell_type": "markdown",
   "metadata": {},
   "source": [
    "## Monthly Returns\n",
    "Note: I just made up some prices in an excel sheet."
   ]
  },
  {
   "cell_type": "code",
   "execution_count": 169,
   "metadata": {},
   "outputs": [
    {
     "data": {
      "text/html": [
       "<div>\n",
       "<style scoped>\n",
       "    .dataframe tbody tr th:only-of-type {\n",
       "        vertical-align: middle;\n",
       "    }\n",
       "\n",
       "    .dataframe tbody tr th {\n",
       "        vertical-align: top;\n",
       "    }\n",
       "\n",
       "    .dataframe thead th {\n",
       "        text-align: right;\n",
       "    }\n",
       "</style>\n",
       "<table border=\"1\" class=\"dataframe\">\n",
       "  <thead>\n",
       "    <tr style=\"text-align: right;\">\n",
       "      <th></th>\n",
       "      <th>AAA</th>\n",
       "      <th>BBB</th>\n",
       "      <th>CCC</th>\n",
       "    </tr>\n",
       "    <tr>\n",
       "      <th>Month</th>\n",
       "      <th></th>\n",
       "      <th></th>\n",
       "      <th></th>\n",
       "    </tr>\n",
       "  </thead>\n",
       "  <tbody>\n",
       "    <tr>\n",
       "      <th>0</th>\n",
       "      <td>1012</td>\n",
       "      <td>652</td>\n",
       "      <td>278</td>\n",
       "    </tr>\n",
       "    <tr>\n",
       "      <th>1</th>\n",
       "      <td>1024</td>\n",
       "      <td>704</td>\n",
       "      <td>145</td>\n",
       "    </tr>\n",
       "    <tr>\n",
       "      <th>2</th>\n",
       "      <td>953</td>\n",
       "      <td>742</td>\n",
       "      <td>163</td>\n",
       "    </tr>\n",
       "    <tr>\n",
       "      <th>3</th>\n",
       "      <td>973</td>\n",
       "      <td>694</td>\n",
       "      <td>218</td>\n",
       "    </tr>\n",
       "    <tr>\n",
       "      <th>4</th>\n",
       "      <td>980</td>\n",
       "      <td>633</td>\n",
       "      <td>198</td>\n",
       "    </tr>\n",
       "    <tr>\n",
       "      <th>5</th>\n",
       "      <td>1040</td>\n",
       "      <td>678</td>\n",
       "      <td>180</td>\n",
       "    </tr>\n",
       "    <tr>\n",
       "      <th>6</th>\n",
       "      <td>1006</td>\n",
       "      <td>726</td>\n",
       "      <td>205</td>\n",
       "    </tr>\n",
       "    <tr>\n",
       "      <th>7</th>\n",
       "      <td>1033</td>\n",
       "      <td>511</td>\n",
       "      <td>153</td>\n",
       "    </tr>\n",
       "    <tr>\n",
       "      <th>8</th>\n",
       "      <td>1007</td>\n",
       "      <td>706</td>\n",
       "      <td>267</td>\n",
       "    </tr>\n",
       "    <tr>\n",
       "      <th>9</th>\n",
       "      <td>1035</td>\n",
       "      <td>694</td>\n",
       "      <td>197</td>\n",
       "    </tr>\n",
       "    <tr>\n",
       "      <th>10</th>\n",
       "      <td>1017</td>\n",
       "      <td>588</td>\n",
       "      <td>132</td>\n",
       "    </tr>\n",
       "    <tr>\n",
       "      <th>11</th>\n",
       "      <td>1029</td>\n",
       "      <td>642</td>\n",
       "      <td>289</td>\n",
       "    </tr>\n",
       "    <tr>\n",
       "      <th>12</th>\n",
       "      <td>1025</td>\n",
       "      <td>511</td>\n",
       "      <td>175</td>\n",
       "    </tr>\n",
       "  </tbody>\n",
       "</table>\n",
       "</div>"
      ],
      "text/plain": [
       "        AAA  BBB  CCC\n",
       "Month                \n",
       "0      1012  652  278\n",
       "1      1024  704  145\n",
       "2       953  742  163\n",
       "3       973  694  218\n",
       "4       980  633  198\n",
       "5      1040  678  180\n",
       "6      1006  726  205\n",
       "7      1033  511  153\n",
       "8      1007  706  267\n",
       "9      1035  694  197\n",
       "10     1017  588  132\n",
       "11     1029  642  289\n",
       "12     1025  511  175"
      ]
     },
     "execution_count": 169,
     "metadata": {},
     "output_type": "execute_result"
    }
   ],
   "source": [
    "prices"
   ]
  },
  {
   "cell_type": "code",
   "execution_count": 170,
   "metadata": {},
   "outputs": [
    {
     "data": {
      "text/html": [
       "<div>\n",
       "<style scoped>\n",
       "    .dataframe tbody tr th:only-of-type {\n",
       "        vertical-align: middle;\n",
       "    }\n",
       "\n",
       "    .dataframe tbody tr th {\n",
       "        vertical-align: top;\n",
       "    }\n",
       "\n",
       "    .dataframe thead th {\n",
       "        text-align: right;\n",
       "    }\n",
       "</style>\n",
       "<table border=\"1\" class=\"dataframe\">\n",
       "  <thead>\n",
       "    <tr style=\"text-align: right;\">\n",
       "      <th></th>\n",
       "      <th>AAA</th>\n",
       "      <th>BBB</th>\n",
       "      <th>CCC</th>\n",
       "    </tr>\n",
       "    <tr>\n",
       "      <th>Month</th>\n",
       "      <th></th>\n",
       "      <th></th>\n",
       "      <th></th>\n",
       "    </tr>\n",
       "  </thead>\n",
       "  <tbody>\n",
       "    <tr>\n",
       "      <th>1</th>\n",
       "      <td>0.011858</td>\n",
       "      <td>0.079755</td>\n",
       "      <td>-0.478417</td>\n",
       "    </tr>\n",
       "    <tr>\n",
       "      <th>2</th>\n",
       "      <td>-0.069336</td>\n",
       "      <td>0.053977</td>\n",
       "      <td>0.124138</td>\n",
       "    </tr>\n",
       "    <tr>\n",
       "      <th>3</th>\n",
       "      <td>0.020986</td>\n",
       "      <td>-0.064690</td>\n",
       "      <td>0.337423</td>\n",
       "    </tr>\n",
       "    <tr>\n",
       "      <th>4</th>\n",
       "      <td>0.007194</td>\n",
       "      <td>-0.087896</td>\n",
       "      <td>-0.091743</td>\n",
       "    </tr>\n",
       "    <tr>\n",
       "      <th>5</th>\n",
       "      <td>0.061224</td>\n",
       "      <td>0.071090</td>\n",
       "      <td>-0.090909</td>\n",
       "    </tr>\n",
       "    <tr>\n",
       "      <th>6</th>\n",
       "      <td>-0.032692</td>\n",
       "      <td>0.070796</td>\n",
       "      <td>0.138889</td>\n",
       "    </tr>\n",
       "    <tr>\n",
       "      <th>7</th>\n",
       "      <td>0.026839</td>\n",
       "      <td>-0.296143</td>\n",
       "      <td>-0.253659</td>\n",
       "    </tr>\n",
       "    <tr>\n",
       "      <th>8</th>\n",
       "      <td>-0.025169</td>\n",
       "      <td>0.381605</td>\n",
       "      <td>0.745098</td>\n",
       "    </tr>\n",
       "    <tr>\n",
       "      <th>9</th>\n",
       "      <td>0.027805</td>\n",
       "      <td>-0.016997</td>\n",
       "      <td>-0.262172</td>\n",
       "    </tr>\n",
       "    <tr>\n",
       "      <th>10</th>\n",
       "      <td>-0.017391</td>\n",
       "      <td>-0.152738</td>\n",
       "      <td>-0.329949</td>\n",
       "    </tr>\n",
       "    <tr>\n",
       "      <th>11</th>\n",
       "      <td>0.011799</td>\n",
       "      <td>0.091837</td>\n",
       "      <td>1.189394</td>\n",
       "    </tr>\n",
       "    <tr>\n",
       "      <th>12</th>\n",
       "      <td>-0.003887</td>\n",
       "      <td>-0.204050</td>\n",
       "      <td>-0.394464</td>\n",
       "    </tr>\n",
       "  </tbody>\n",
       "</table>\n",
       "</div>"
      ],
      "text/plain": [
       "            AAA       BBB       CCC\n",
       "Month                              \n",
       "1      0.011858  0.079755 -0.478417\n",
       "2     -0.069336  0.053977  0.124138\n",
       "3      0.020986 -0.064690  0.337423\n",
       "4      0.007194 -0.087896 -0.091743\n",
       "5      0.061224  0.071090 -0.090909\n",
       "6     -0.032692  0.070796  0.138889\n",
       "7      0.026839 -0.296143 -0.253659\n",
       "8     -0.025169  0.381605  0.745098\n",
       "9      0.027805 -0.016997 -0.262172\n",
       "10    -0.017391 -0.152738 -0.329949\n",
       "11     0.011799  0.091837  1.189394\n",
       "12    -0.003887 -0.204050 -0.394464"
      ]
     },
     "execution_count": 170,
     "metadata": {},
     "output_type": "execute_result"
    }
   ],
   "source": [
    "returns = prices.pct_change().dropna(axis=0)\n",
    "returns"
   ]
  },
  {
   "cell_type": "markdown",
   "metadata": {},
   "source": [
    "## Dividend adjusted return"
   ]
  },
  {
   "cell_type": "code",
   "execution_count": 171,
   "metadata": {},
   "outputs": [],
   "source": [
    "prices_AAA_div = prices"
   ]
  },
  {
   "cell_type": "code",
   "execution_count": 172,
   "metadata": {},
   "outputs": [],
   "source": [
    "prices_AAA_div.loc[1:,'AAA'] = prices.loc[1:,'AAA']+200/12"
   ]
  },
  {
   "cell_type": "code",
   "execution_count": 173,
   "metadata": {},
   "outputs": [
    {
     "data": {
      "text/html": [
       "<div>\n",
       "<style scoped>\n",
       "    .dataframe tbody tr th:only-of-type {\n",
       "        vertical-align: middle;\n",
       "    }\n",
       "\n",
       "    .dataframe tbody tr th {\n",
       "        vertical-align: top;\n",
       "    }\n",
       "\n",
       "    .dataframe thead th {\n",
       "        text-align: right;\n",
       "    }\n",
       "</style>\n",
       "<table border=\"1\" class=\"dataframe\">\n",
       "  <thead>\n",
       "    <tr style=\"text-align: right;\">\n",
       "      <th></th>\n",
       "      <th>AAA</th>\n",
       "      <th>BBB</th>\n",
       "      <th>CCC</th>\n",
       "    </tr>\n",
       "    <tr>\n",
       "      <th>Month</th>\n",
       "      <th></th>\n",
       "      <th></th>\n",
       "      <th></th>\n",
       "    </tr>\n",
       "  </thead>\n",
       "  <tbody>\n",
       "    <tr>\n",
       "      <th>0</th>\n",
       "      <td>1012.000000</td>\n",
       "      <td>652</td>\n",
       "      <td>278</td>\n",
       "    </tr>\n",
       "    <tr>\n",
       "      <th>1</th>\n",
       "      <td>1040.666667</td>\n",
       "      <td>704</td>\n",
       "      <td>145</td>\n",
       "    </tr>\n",
       "    <tr>\n",
       "      <th>2</th>\n",
       "      <td>969.666667</td>\n",
       "      <td>742</td>\n",
       "      <td>163</td>\n",
       "    </tr>\n",
       "    <tr>\n",
       "      <th>3</th>\n",
       "      <td>989.666667</td>\n",
       "      <td>694</td>\n",
       "      <td>218</td>\n",
       "    </tr>\n",
       "    <tr>\n",
       "      <th>4</th>\n",
       "      <td>996.666667</td>\n",
       "      <td>633</td>\n",
       "      <td>198</td>\n",
       "    </tr>\n",
       "    <tr>\n",
       "      <th>5</th>\n",
       "      <td>1056.666667</td>\n",
       "      <td>678</td>\n",
       "      <td>180</td>\n",
       "    </tr>\n",
       "    <tr>\n",
       "      <th>6</th>\n",
       "      <td>1022.666667</td>\n",
       "      <td>726</td>\n",
       "      <td>205</td>\n",
       "    </tr>\n",
       "    <tr>\n",
       "      <th>7</th>\n",
       "      <td>1049.666667</td>\n",
       "      <td>511</td>\n",
       "      <td>153</td>\n",
       "    </tr>\n",
       "    <tr>\n",
       "      <th>8</th>\n",
       "      <td>1023.666667</td>\n",
       "      <td>706</td>\n",
       "      <td>267</td>\n",
       "    </tr>\n",
       "    <tr>\n",
       "      <th>9</th>\n",
       "      <td>1051.666667</td>\n",
       "      <td>694</td>\n",
       "      <td>197</td>\n",
       "    </tr>\n",
       "    <tr>\n",
       "      <th>10</th>\n",
       "      <td>1033.666667</td>\n",
       "      <td>588</td>\n",
       "      <td>132</td>\n",
       "    </tr>\n",
       "    <tr>\n",
       "      <th>11</th>\n",
       "      <td>1045.666667</td>\n",
       "      <td>642</td>\n",
       "      <td>289</td>\n",
       "    </tr>\n",
       "    <tr>\n",
       "      <th>12</th>\n",
       "      <td>1041.666667</td>\n",
       "      <td>511</td>\n",
       "      <td>175</td>\n",
       "    </tr>\n",
       "  </tbody>\n",
       "</table>\n",
       "</div>"
      ],
      "text/plain": [
       "               AAA  BBB  CCC\n",
       "Month                       \n",
       "0      1012.000000  652  278\n",
       "1      1040.666667  704  145\n",
       "2       969.666667  742  163\n",
       "3       989.666667  694  218\n",
       "4       996.666667  633  198\n",
       "5      1056.666667  678  180\n",
       "6      1022.666667  726  205\n",
       "7      1049.666667  511  153\n",
       "8      1023.666667  706  267\n",
       "9      1051.666667  694  197\n",
       "10     1033.666667  588  132\n",
       "11     1045.666667  642  289\n",
       "12     1041.666667  511  175"
      ]
     },
     "execution_count": 173,
     "metadata": {},
     "output_type": "execute_result"
    }
   ],
   "source": [
    "prices_AAA_div"
   ]
  },
  {
   "cell_type": "code",
   "execution_count": 174,
   "metadata": {},
   "outputs": [],
   "source": [
    "div_adj_ret = prices_AAA_div.pct_change().dropna(axis=0)"
   ]
  },
  {
   "cell_type": "code",
   "execution_count": 175,
   "metadata": {},
   "outputs": [
    {
     "data": {
      "text/html": [
       "<div>\n",
       "<style scoped>\n",
       "    .dataframe tbody tr th:only-of-type {\n",
       "        vertical-align: middle;\n",
       "    }\n",
       "\n",
       "    .dataframe tbody tr th {\n",
       "        vertical-align: top;\n",
       "    }\n",
       "\n",
       "    .dataframe thead th {\n",
       "        text-align: right;\n",
       "    }\n",
       "</style>\n",
       "<table border=\"1\" class=\"dataframe\">\n",
       "  <thead>\n",
       "    <tr style=\"text-align: right;\">\n",
       "      <th></th>\n",
       "      <th>AAA</th>\n",
       "      <th>BBB</th>\n",
       "      <th>CCC</th>\n",
       "    </tr>\n",
       "    <tr>\n",
       "      <th>Month</th>\n",
       "      <th></th>\n",
       "      <th></th>\n",
       "      <th></th>\n",
       "    </tr>\n",
       "  </thead>\n",
       "  <tbody>\n",
       "    <tr>\n",
       "      <th>1</th>\n",
       "      <td>0.028327</td>\n",
       "      <td>0.079755</td>\n",
       "      <td>-0.478417</td>\n",
       "    </tr>\n",
       "    <tr>\n",
       "      <th>2</th>\n",
       "      <td>-0.068225</td>\n",
       "      <td>0.053977</td>\n",
       "      <td>0.124138</td>\n",
       "    </tr>\n",
       "    <tr>\n",
       "      <th>3</th>\n",
       "      <td>0.020626</td>\n",
       "      <td>-0.064690</td>\n",
       "      <td>0.337423</td>\n",
       "    </tr>\n",
       "    <tr>\n",
       "      <th>4</th>\n",
       "      <td>0.007073</td>\n",
       "      <td>-0.087896</td>\n",
       "      <td>-0.091743</td>\n",
       "    </tr>\n",
       "    <tr>\n",
       "      <th>5</th>\n",
       "      <td>0.060201</td>\n",
       "      <td>0.071090</td>\n",
       "      <td>-0.090909</td>\n",
       "    </tr>\n",
       "    <tr>\n",
       "      <th>6</th>\n",
       "      <td>-0.032177</td>\n",
       "      <td>0.070796</td>\n",
       "      <td>0.138889</td>\n",
       "    </tr>\n",
       "    <tr>\n",
       "      <th>7</th>\n",
       "      <td>0.026402</td>\n",
       "      <td>-0.296143</td>\n",
       "      <td>-0.253659</td>\n",
       "    </tr>\n",
       "    <tr>\n",
       "      <th>8</th>\n",
       "      <td>-0.024770</td>\n",
       "      <td>0.381605</td>\n",
       "      <td>0.745098</td>\n",
       "    </tr>\n",
       "    <tr>\n",
       "      <th>9</th>\n",
       "      <td>0.027353</td>\n",
       "      <td>-0.016997</td>\n",
       "      <td>-0.262172</td>\n",
       "    </tr>\n",
       "    <tr>\n",
       "      <th>10</th>\n",
       "      <td>-0.017116</td>\n",
       "      <td>-0.152738</td>\n",
       "      <td>-0.329949</td>\n",
       "    </tr>\n",
       "    <tr>\n",
       "      <th>11</th>\n",
       "      <td>0.011609</td>\n",
       "      <td>0.091837</td>\n",
       "      <td>1.189394</td>\n",
       "    </tr>\n",
       "    <tr>\n",
       "      <th>12</th>\n",
       "      <td>-0.003825</td>\n",
       "      <td>-0.204050</td>\n",
       "      <td>-0.394464</td>\n",
       "    </tr>\n",
       "  </tbody>\n",
       "</table>\n",
       "</div>"
      ],
      "text/plain": [
       "            AAA       BBB       CCC\n",
       "Month                              \n",
       "1      0.028327  0.079755 -0.478417\n",
       "2     -0.068225  0.053977  0.124138\n",
       "3      0.020626 -0.064690  0.337423\n",
       "4      0.007073 -0.087896 -0.091743\n",
       "5      0.060201  0.071090 -0.090909\n",
       "6     -0.032177  0.070796  0.138889\n",
       "7      0.026402 -0.296143 -0.253659\n",
       "8     -0.024770  0.381605  0.745098\n",
       "9      0.027353 -0.016997 -0.262172\n",
       "10    -0.017116 -0.152738 -0.329949\n",
       "11     0.011609  0.091837  1.189394\n",
       "12    -0.003825 -0.204050 -0.394464"
      ]
     },
     "execution_count": 175,
     "metadata": {},
     "output_type": "execute_result"
    }
   ],
   "source": [
    "div_adj_ret"
   ]
  },
  {
   "cell_type": "markdown",
   "metadata": {},
   "source": [
    "## Var Covar Matrix\n",
    "Note: Just using AAA from Midterm II and changing the column titles"
   ]
  },
  {
   "cell_type": "code",
   "execution_count": 176,
   "metadata": {},
   "outputs": [],
   "source": [
    "returns = pd.read_excel(r'C:\\MFE\\MFE Sem 2\\ISE 447\\Final\\Data and Sharpe From Midterm.xlsx', sheet_name='Sheet2', index_col='Month')"
   ]
  },
  {
   "cell_type": "code",
   "execution_count": 177,
   "metadata": {},
   "outputs": [],
   "source": [
    "cov_m = np.cov(returns.T,bias=True)"
   ]
  },
  {
   "cell_type": "code",
   "execution_count": 178,
   "metadata": {},
   "outputs": [],
   "source": [
    "cov_m_df = pd.DataFrame(cov_m, index=returns.columns.tolist(), columns=returns.columns.tolist())"
   ]
  },
  {
   "cell_type": "code",
   "execution_count": 179,
   "metadata": {},
   "outputs": [
    {
     "data": {
      "text/html": [
       "<div>\n",
       "<style scoped>\n",
       "    .dataframe tbody tr th:only-of-type {\n",
       "        vertical-align: middle;\n",
       "    }\n",
       "\n",
       "    .dataframe tbody tr th {\n",
       "        vertical-align: top;\n",
       "    }\n",
       "\n",
       "    .dataframe thead th {\n",
       "        text-align: right;\n",
       "    }\n",
       "</style>\n",
       "<table border=\"1\" class=\"dataframe\">\n",
       "  <thead>\n",
       "    <tr style=\"text-align: right;\">\n",
       "      <th></th>\n",
       "      <th>AAA</th>\n",
       "      <th>BBB</th>\n",
       "      <th>CCC</th>\n",
       "    </tr>\n",
       "  </thead>\n",
       "  <tbody>\n",
       "    <tr>\n",
       "      <th>AAA</th>\n",
       "      <td>0.275297</td>\n",
       "      <td>-0.033064</td>\n",
       "      <td>-0.068121</td>\n",
       "    </tr>\n",
       "    <tr>\n",
       "      <th>BBB</th>\n",
       "      <td>-0.033064</td>\n",
       "      <td>0.604631</td>\n",
       "      <td>-0.228329</td>\n",
       "    </tr>\n",
       "    <tr>\n",
       "      <th>CCC</th>\n",
       "      <td>-0.068121</td>\n",
       "      <td>-0.228329</td>\n",
       "      <td>1.102535</td>\n",
       "    </tr>\n",
       "  </tbody>\n",
       "</table>\n",
       "</div>"
      ],
      "text/plain": [
       "          AAA       BBB       CCC\n",
       "AAA  0.275297 -0.033064 -0.068121\n",
       "BBB -0.033064  0.604631 -0.228329\n",
       "CCC -0.068121 -0.228329  1.102535"
      ]
     },
     "execution_count": 179,
     "metadata": {},
     "output_type": "execute_result"
    }
   ],
   "source": [
    "cov_m_df"
   ]
  },
  {
   "cell_type": "markdown",
   "metadata": {},
   "source": [
    "## Downside Semi Var"
   ]
  },
  {
   "cell_type": "code",
   "execution_count": 180,
   "metadata": {},
   "outputs": [
    {
     "data": {
      "text/plain": [
       "[0.31, 2.22, 0.78, -0.38, 1.43, 1.02, -0.79, 2.39, -0.98, 0.59, 0.27, 1.63]"
      ]
     },
     "execution_count": 180,
     "metadata": {},
     "output_type": "execute_result"
    }
   ],
   "source": [
    "returns['CCC'].values.tolist()"
   ]
  },
  {
   "cell_type": "code",
   "execution_count": 181,
   "metadata": {},
   "outputs": [],
   "source": [
    "'''Xbar'''\n",
    "\n",
    "averages = [np.mean(returns[i]) for i in returns.columns.tolist()]"
   ]
  },
  {
   "cell_type": "code",
   "execution_count": 182,
   "metadata": {},
   "outputs": [
    {
     "data": {
      "text/plain": [
       "[0.4916666666666667, 0.4383333333333333, 0.7074999999999999]"
      ]
     },
     "execution_count": 182,
     "metadata": {},
     "output_type": "execute_result"
    }
   ],
   "source": [
    "averages"
   ]
  },
  {
   "cell_type": "code",
   "execution_count": 183,
   "metadata": {},
   "outputs": [],
   "source": [
    "col_list = returns.columns.to_list()\n",
    "dsv = [[(returns[col_list[i]].values.tolist()[t] - averages[i])**2 if returns[col_list[i]].values.tolist()[t] - averages[i] > 0 else 0 \n",
    "        for t in range(0, len(returns)) ] \n",
    "         \n",
    "        for i in range(0,len(averages))]"
   ]
  },
  {
   "cell_type": "code",
   "execution_count": 184,
   "metadata": {},
   "outputs": [],
   "source": [
    "DSV_df = pd.DataFrame(index=range(0,1))\n",
    "for i in range(0,len(averages)):\n",
    "    DSV_df[col_list[i]] = np.mean(dsv[i])"
   ]
  },
  {
   "cell_type": "code",
   "execution_count": 185,
   "metadata": {},
   "outputs": [
    {
     "data": {
      "text/html": [
       "<div>\n",
       "<style scoped>\n",
       "    .dataframe tbody tr th:only-of-type {\n",
       "        vertical-align: middle;\n",
       "    }\n",
       "\n",
       "    .dataframe tbody tr th {\n",
       "        vertical-align: top;\n",
       "    }\n",
       "\n",
       "    .dataframe thead th {\n",
       "        text-align: right;\n",
       "    }\n",
       "</style>\n",
       "<table border=\"1\" class=\"dataframe\">\n",
       "  <thead>\n",
       "    <tr style=\"text-align: right;\">\n",
       "      <th></th>\n",
       "      <th>AAA</th>\n",
       "      <th>BBB</th>\n",
       "      <th>CCC</th>\n",
       "    </tr>\n",
       "  </thead>\n",
       "  <tbody>\n",
       "    <tr>\n",
       "      <th>0</th>\n",
       "      <td>0.083691</td>\n",
       "      <td>0.162552</td>\n",
       "      <td>0.549532</td>\n",
       "    </tr>\n",
       "  </tbody>\n",
       "</table>\n",
       "</div>"
      ],
      "text/plain": [
       "        AAA       BBB       CCC\n",
       "0  0.083691  0.162552  0.549532"
      ]
     },
     "execution_count": 185,
     "metadata": {},
     "output_type": "execute_result"
    }
   ],
   "source": [
    "DSV_df"
   ]
  },
  {
   "cell_type": "markdown",
   "metadata": {},
   "source": [
    "## Value at Risk"
   ]
  },
  {
   "cell_type": "code",
   "execution_count": 186,
   "metadata": {},
   "outputs": [],
   "source": [
    "beta = 1/12"
   ]
  },
  {
   "cell_type": "code",
   "execution_count": 187,
   "metadata": {},
   "outputs": [],
   "source": [
    "VaR = returns\n",
    "ret = [np.average(returns.loc[i,:]) for i in returns.index.to_list()]\n",
    "VaR['Returns'] = ret\n",
    "ret.sort(reverse=True)\n",
    "VaR['Sorted'] = ret\n",
    "\n",
    "VaR['CDF'] = [(1/12)*i for i in reversed(returns.index.tolist())]"
   ]
  },
  {
   "cell_type": "code",
   "execution_count": 188,
   "metadata": {},
   "outputs": [],
   "source": [
    "for i in VaR.columns.to_list():\n",
    "    VaR[i] = VaR[i].astype(float).map(\"{:.2%}\".format)"
   ]
  },
  {
   "cell_type": "code",
   "execution_count": 189,
   "metadata": {},
   "outputs": [
    {
     "data": {
      "text/html": [
       "<div>\n",
       "<style scoped>\n",
       "    .dataframe tbody tr th:only-of-type {\n",
       "        vertical-align: middle;\n",
       "    }\n",
       "\n",
       "    .dataframe tbody tr th {\n",
       "        vertical-align: top;\n",
       "    }\n",
       "\n",
       "    .dataframe thead th {\n",
       "        text-align: right;\n",
       "    }\n",
       "</style>\n",
       "<table border=\"1\" class=\"dataframe\">\n",
       "  <thead>\n",
       "    <tr style=\"text-align: right;\">\n",
       "      <th></th>\n",
       "      <th>AAA</th>\n",
       "      <th>BBB</th>\n",
       "      <th>CCC</th>\n",
       "      <th>Returns</th>\n",
       "      <th>Sorted</th>\n",
       "      <th>CDF</th>\n",
       "    </tr>\n",
       "    <tr>\n",
       "      <th>Month</th>\n",
       "      <th></th>\n",
       "      <th></th>\n",
       "      <th></th>\n",
       "      <th></th>\n",
       "      <th></th>\n",
       "      <th></th>\n",
       "    </tr>\n",
       "  </thead>\n",
       "  <tbody>\n",
       "    <tr>\n",
       "      <th>1</th>\n",
       "      <td>51.00%</td>\n",
       "      <td>58.00%</td>\n",
       "      <td>31.00%</td>\n",
       "      <td>46.67%</td>\n",
       "      <td>124.00%</td>\n",
       "      <td>100.00%</td>\n",
       "    </tr>\n",
       "    <tr>\n",
       "      <th>2</th>\n",
       "      <td>111.00%</td>\n",
       "      <td>39.00%</td>\n",
       "      <td>222.00%</td>\n",
       "      <td>124.00%</td>\n",
       "      <td>117.33%</td>\n",
       "      <td>91.67%</td>\n",
       "    </tr>\n",
       "    <tr>\n",
       "      <th>3</th>\n",
       "      <td>62.00%</td>\n",
       "      <td>77.00%</td>\n",
       "      <td>78.00%</td>\n",
       "      <td>72.33%</td>\n",
       "      <td>91.33%</td>\n",
       "      <td>83.33%</td>\n",
       "    </tr>\n",
       "    <tr>\n",
       "      <th>4</th>\n",
       "      <td>78.00%</td>\n",
       "      <td>119.00%</td>\n",
       "      <td>-38.00%</td>\n",
       "      <td>53.00%</td>\n",
       "      <td>72.33%</td>\n",
       "      <td>75.00%</td>\n",
       "    </tr>\n",
       "    <tr>\n",
       "      <th>5</th>\n",
       "      <td>-76.00%</td>\n",
       "      <td>107.00%</td>\n",
       "      <td>143.00%</td>\n",
       "      <td>58.00%</td>\n",
       "      <td>58.00%</td>\n",
       "      <td>66.67%</td>\n",
       "    </tr>\n",
       "    <tr>\n",
       "      <th>6</th>\n",
       "      <td>59.00%</td>\n",
       "      <td>113.00%</td>\n",
       "      <td>102.00%</td>\n",
       "      <td>91.33%</td>\n",
       "      <td>53.00%</td>\n",
       "      <td>58.33%</td>\n",
       "    </tr>\n",
       "    <tr>\n",
       "      <th>7</th>\n",
       "      <td>57.00%</td>\n",
       "      <td>42.00%</td>\n",
       "      <td>-79.00%</td>\n",
       "      <td>6.67%</td>\n",
       "      <td>46.67%</td>\n",
       "      <td>50.00%</td>\n",
       "    </tr>\n",
       "    <tr>\n",
       "      <th>8</th>\n",
       "      <td>22.00%</td>\n",
       "      <td>-144.00%</td>\n",
       "      <td>239.00%</td>\n",
       "      <td>39.00%</td>\n",
       "      <td>39.00%</td>\n",
       "      <td>41.67%</td>\n",
       "    </tr>\n",
       "    <tr>\n",
       "      <th>9</th>\n",
       "      <td>62.00%</td>\n",
       "      <td>71.00%</td>\n",
       "      <td>-98.00%</td>\n",
       "      <td>11.67%</td>\n",
       "      <td>20.33%</td>\n",
       "      <td>33.33%</td>\n",
       "    </tr>\n",
       "    <tr>\n",
       "      <th>10</th>\n",
       "      <td>-32.00%</td>\n",
       "      <td>34.00%</td>\n",
       "      <td>59.00%</td>\n",
       "      <td>20.33%</td>\n",
       "      <td>14.67%</td>\n",
       "      <td>25.00%</td>\n",
       "    </tr>\n",
       "    <tr>\n",
       "      <th>11</th>\n",
       "      <td>106.00%</td>\n",
       "      <td>-89.00%</td>\n",
       "      <td>27.00%</td>\n",
       "      <td>14.67%</td>\n",
       "      <td>11.67%</td>\n",
       "      <td>16.67%</td>\n",
       "    </tr>\n",
       "    <tr>\n",
       "      <th>12</th>\n",
       "      <td>90.00%</td>\n",
       "      <td>99.00%</td>\n",
       "      <td>163.00%</td>\n",
       "      <td>117.33%</td>\n",
       "      <td>6.67%</td>\n",
       "      <td>8.33%</td>\n",
       "    </tr>\n",
       "  </tbody>\n",
       "</table>\n",
       "</div>"
      ],
      "text/plain": [
       "           AAA       BBB      CCC  Returns   Sorted      CDF\n",
       "Month                                                       \n",
       "1       51.00%    58.00%   31.00%   46.67%  124.00%  100.00%\n",
       "2      111.00%    39.00%  222.00%  124.00%  117.33%   91.67%\n",
       "3       62.00%    77.00%   78.00%   72.33%   91.33%   83.33%\n",
       "4       78.00%   119.00%  -38.00%   53.00%   72.33%   75.00%\n",
       "5      -76.00%   107.00%  143.00%   58.00%   58.00%   66.67%\n",
       "6       59.00%   113.00%  102.00%   91.33%   53.00%   58.33%\n",
       "7       57.00%    42.00%  -79.00%    6.67%   46.67%   50.00%\n",
       "8       22.00%  -144.00%  239.00%   39.00%   39.00%   41.67%\n",
       "9       62.00%    71.00%  -98.00%   11.67%   20.33%   33.33%\n",
       "10     -32.00%    34.00%   59.00%   20.33%   14.67%   25.00%\n",
       "11     106.00%   -89.00%   27.00%   14.67%   11.67%   16.67%\n",
       "12      90.00%    99.00%  163.00%  117.33%    6.67%    8.33%"
      ]
     },
     "execution_count": 189,
     "metadata": {},
     "output_type": "execute_result"
    }
   ],
   "source": [
    "VaR"
   ]
  },
  {
   "cell_type": "markdown",
   "metadata": {},
   "source": [
    "Take the $\\beta m + 1$ value so in our case:"
   ]
  },
  {
   "cell_type": "code",
   "execution_count": 190,
   "metadata": {},
   "outputs": [
    {
     "data": {
      "text/plain": [
       "'11.67%'"
      ]
     },
     "execution_count": 190,
     "metadata": {},
     "output_type": "execute_result"
    }
   ],
   "source": [
    "VaR['Sorted'][11]"
   ]
  },
  {
   "cell_type": "markdown",
   "metadata": {},
   "source": [
    "That is the Value at Risk based on $\\beta = 1/12$"
   ]
  },
  {
   "cell_type": "markdown",
   "metadata": {},
   "source": [
    "# MAD Sensitivity Analysis\n"
   ]
  },
  {
   "cell_type": "markdown",
   "metadata": {},
   "source": [
    "## $\\mu_0$ decreases"
   ]
  },
  {
   "cell_type": "markdown",
   "metadata": {},
   "source": [
    "### Midterm Riskfolio Sharpe and MAD"
   ]
  },
  {
   "cell_type": "code",
   "execution_count": 191,
   "metadata": {},
   "outputs": [],
   "source": [
    "returns_df = pd.read_excel(r'C:\\MFE\\MFE Sem 2\\ISE 447\\Final\\Data and Sharpe From Midterm.xlsx', sheet_name='Sheet2', index_col='Month')"
   ]
  },
  {
   "cell_type": "code",
   "execution_count": 192,
   "metadata": {},
   "outputs": [
    {
     "data": {
      "text/html": [
       "<div>\n",
       "<style scoped>\n",
       "    .dataframe tbody tr th:only-of-type {\n",
       "        vertical-align: middle;\n",
       "    }\n",
       "\n",
       "    .dataframe tbody tr th {\n",
       "        vertical-align: top;\n",
       "    }\n",
       "\n",
       "    .dataframe thead th {\n",
       "        text-align: right;\n",
       "    }\n",
       "</style>\n",
       "<table border=\"1\" class=\"dataframe\">\n",
       "  <thead>\n",
       "    <tr style=\"text-align: right;\">\n",
       "      <th></th>\n",
       "      <th>AAA</th>\n",
       "      <th>BBB</th>\n",
       "      <th>CCC</th>\n",
       "    </tr>\n",
       "  </thead>\n",
       "  <tbody>\n",
       "    <tr>\n",
       "      <th>weights</th>\n",
       "      <td>0.491293</td>\n",
       "      <td>0.277012</td>\n",
       "      <td>0.231694</td>\n",
       "    </tr>\n",
       "  </tbody>\n",
       "</table>\n",
       "</div>"
      ],
      "text/plain": [
       "              AAA       BBB       CCC\n",
       "weights  0.491293  0.277012  0.231694"
      ]
     },
     "execution_count": 192,
     "metadata": {},
     "output_type": "execute_result"
    }
   ],
   "source": [
    "'''Riskfolio Sharpe'''\n",
    "Y = returns_df\n",
    "\n",
    "# Building the portfolio object\n",
    "port = rp.Portfolio(returns=Y)\n",
    "# Calculating optimal portfolio\n",
    "\n",
    "# Select method and estimate input parameters:\n",
    "\n",
    "method_mu='hist' # Method to estimate expected returns based on historical data.\n",
    "method_cov='hist' # Method to estimate covariance matrix based on historical data.\n",
    "\n",
    "port.assets_stats(method_mu=method_mu, method_cov=method_cov, d=0.94)\n",
    "\n",
    "# Estimate optimal portfolio:\n",
    "\n",
    "model='Classic' # Could be Classic (historical), BL (Black Litterman) or FM (Factor Model)\n",
    "rm = 'MV' # Risk measure used, this time will be variance\n",
    "obj = 'Sharpe' # Objective function, could be MinRisk, MaxRet, Utility or Sharpe\n",
    "hist = True # Use historical scenarios for risk measures that depend on scenarios\n",
    "rf = 0 # Risk free rate\n",
    "l = 0 # Risk aversion factor, only useful when obj is 'Utility'\n",
    "\n",
    "w = port.optimization(model=model, rm=rm, obj=obj, rf=rf, l=l, hist=hist)\n",
    "\n",
    "w.T"
   ]
  },
  {
   "cell_type": "code",
   "execution_count": 193,
   "metadata": {},
   "outputs": [],
   "source": [
    "means = Y.mean(axis=0)"
   ]
  },
  {
   "cell_type": "code",
   "execution_count": 194,
   "metadata": {},
   "outputs": [],
   "source": [
    "means_df = pd.DataFrame(index=['means'], columns = returns_df.columns.to_list())\n",
    "for i in means_df.columns.to_list():\n",
    "    means_df[i] = means[i]"
   ]
  },
  {
   "cell_type": "code",
   "execution_count": 204,
   "metadata": {},
   "outputs": [
    {
     "data": {
      "text/html": [
       "<div>\n",
       "<style scoped>\n",
       "    .dataframe tbody tr th:only-of-type {\n",
       "        vertical-align: middle;\n",
       "    }\n",
       "\n",
       "    .dataframe tbody tr th {\n",
       "        vertical-align: top;\n",
       "    }\n",
       "\n",
       "    .dataframe thead th {\n",
       "        text-align: right;\n",
       "    }\n",
       "</style>\n",
       "<table border=\"1\" class=\"dataframe\">\n",
       "  <thead>\n",
       "    <tr style=\"text-align: right;\">\n",
       "      <th></th>\n",
       "      <th>AAA</th>\n",
       "      <th>BBB</th>\n",
       "      <th>CCC</th>\n",
       "    </tr>\n",
       "  </thead>\n",
       "  <tbody>\n",
       "    <tr>\n",
       "      <th>weights</th>\n",
       "      <td>0.454967</td>\n",
       "      <td>0.235801</td>\n",
       "      <td>0.309233</td>\n",
       "    </tr>\n",
       "  </tbody>\n",
       "</table>\n",
       "</div>"
      ],
      "text/plain": [
       "              AAA       BBB       CCC\n",
       "weights  0.454967  0.235801  0.309233"
      ]
     },
     "execution_count": 204,
     "metadata": {},
     "output_type": "execute_result"
    }
   ],
   "source": [
    "\n",
    "# Building the port2folio object\n",
    "port2 = rp.Portfolio(returns=Y)\n",
    "# Calculating optimal port2folio\n",
    "\n",
    "'''This is where you must change the problem to manually input your own mean\n",
    "cov, and min return. \n",
    "'''\n",
    "port2.mu = means_df # Method to estimate expected returns based on historical data.\n",
    "port2.cov = cov_m_df # Method to estimate covariance matrix based on historical data.\n",
    "port2.lowerret = np.mean([np.mean(returns_df[i]) for i in returns_df.columns.to_list()])\n",
    "\n",
    "\n",
    "\n",
    "# Estimate optimal port2folio:\n",
    "\n",
    "model='Classic' # Could be Classic (historical), BL (Black Litterman) or FM (Factor Model)\n",
    "rm = 'MV' # Risk measure used, this time will be variance\n",
    "obj = 'Sharpe' # Objective function, could be MinRisk, MaxRet, Utility or Sharpe\n",
    "\n",
    "hist = True # Use historical scenarios for risk measures that depend on scenarios\n",
    "rf = 0 # Risk free rate\n",
    "l = 0 # Risk aversion factor, only useful when obj is 'Utility'\n",
    "w = port2.optimization(model=model, rm=rm, obj=obj, rf=rf, l=l, hist=hist)\n",
    "\n",
    "w.T"
   ]
  },
  {
   "cell_type": "code",
   "execution_count": 205,
   "metadata": {},
   "outputs": [
    {
     "data": {
      "text/plain": [
       "array([0.54583333])"
      ]
     },
     "execution_count": 205,
     "metadata": {},
     "output_type": "execute_result"
    }
   ],
   "source": [
    "sum([means_df[i].values*w.T[i].values for i in returns_df.columns.to_list()])"
   ]
  },
  {
   "cell_type": "markdown",
   "metadata": {},
   "source": [
    "### Shadow Prices"
   ]
  },
  {
   "cell_type": "markdown",
   "metadata": {},
   "source": [
    "If shadow price is positive, objective will decrease along with the change in the associated constraint.\n",
    "0.00552 Decrease, we can say less risky as in-turn the sharpe ratio would also decrease.\n",
    "\n",
    "If shadow price is negative, objective goes up when there is a decrease in constraint and down for the opposite\n",
    "0.0012 Increase, More risky as the sharpe ratio would have inscreased\n",
    "\n",
    "Makes sense as you are decreasing your avaliable cashflows, the optimal solution will have to go to use the riskier assets. As for $\\mu_0$, if your setting the minimum return to be $\\ge$ some value and then we increase that value, it would have to be the case that the objective would increase and vice versa if that objective would decrease. It would be pressing the solution closer and closer to riskier assets to meet that constraint."
   ]
  }
 ],
 "metadata": {
  "interpreter": {
   "hash": "8377259de029fbe3469e5825885a3984679ef58677fe54558bfe80e0473ceee4"
  },
  "kernelspec": {
   "display_name": "Python 3.9.7 64-bit",
   "language": "python",
   "name": "python3"
  },
  "language_info": {
   "codemirror_mode": {
    "name": "ipython",
    "version": 3
   },
   "file_extension": ".py",
   "mimetype": "text/x-python",
   "name": "python",
   "nbconvert_exporter": "python",
   "pygments_lexer": "ipython3",
   "version": "3.9.7"
  },
  "orig_nbformat": 4
 },
 "nbformat": 4,
 "nbformat_minor": 2
}
