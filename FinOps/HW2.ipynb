{
 "cells": [
  {
   "cell_type": "markdown",
   "metadata": {},
   "source": [
    "# ISE 447 - Financial Optimization - HW 2\n",
    "\n",
    "## Jack Dean\n",
    "## Lehigh University\n",
    "\n",
    "Due Date: Monday March 21st, 2022  \n",
    "Total: 100 Points  \n",
    "*Note*: Under otherwise stated, all textbook references are for “Optimization Methods in Finance”"
   ]
  },
  {
   "cell_type": "code",
   "execution_count": 1,
   "metadata": {},
   "outputs": [],
   "source": [
    "'''Packages used in this work'''\n",
    "import numpy as np\n",
    "import pandas as pd\n",
    "import scipy.stats as stats\n",
    "import pulp\n",
    "from pulp import *\n",
    "import matplotlib.pyplot as plt\n",
    "import seaborn as sns"
   ]
  },
  {
   "cell_type": "markdown",
   "metadata": {},
   "source": [
    "## Problem 1 -- Reformulating Linear Programs & Duality (10 Points)\n",
    "\n",
    "Consider the modified version of the fund allocation problem considered in HW 1, Question 5.  Recall that a linear program in standard form is\n",
    "$$\\min c^Tx$$\n",
    "$$\\mathrm{s.t.}\\; Ax=b$$\n",
    "$$x \\geq 0$$\n",
    "First reformulate the modified version of the fund allocation problem considere din HW 1, Question 5, in standard form.  Then find the linear programming dual associated to it."
   ]
  },
  {
   "cell_type": "markdown",
   "metadata": {},
   "source": [
    "### RECALL: Modified Fund Allocation Problem (as in HQ 1 Solutions)\n",
    "\n",
    "$$\\max 0.10f_1 + 0.15f_2 + 0.16f_3 + 0.08f_4$$\n",
    "$$\\mathrm{s.t.}\\;\\;\\; f_1 + f_2 + f_3 + f_4 + s = 80,000$$\n",
    "$$0.50f_1 + 0.30f_2 + 0.25f_3 + 0.60f_4 \\geq 0.35 * (f_1 + f_2 + f_3 + f_4)$$\n",
    "$$0.30f_1 + 0.10f_2 + 0.40f_3 + 0.20f_4 \\geq 0.30 * (f_1 + f_2 + f_3 + f_4)$$\n",
    "$$0.20f_1 + 0.60f_2 + 0.35f_3 + 0.20f_4 \\geq 0.15 * (f_1 + f_2 + f_3 + f_4)$$\n",
    "$$s - \\alpha0.50f_1 - \\alpha0.30f_2 - \\alpha0.25f_3 - \\alpha0.60f_4 \\geq 0$$\n",
    "$$$$\n",
    "$$f_1,f_2,f_3,f_4,s \\geq 0$$"
   ]
  },
  {
   "cell_type": "markdown",
   "metadata": {},
   "source": [
    "### Solution"
   ]
  },
  {
   "cell_type": "markdown",
   "metadata": {},
   "source": []
  },
  {
   "cell_type": "markdown",
   "metadata": {},
   "source": [
    "## Problem 2 -- Linear Programming Duality (Based on Exercise 2.3 in Textbook) (10 Points)\n",
    "\n",
    "Consider a Linear Program of the Form:\n",
    "$$\\max c^Tx$$\n",
    "$$\\mathrm{s.t.} \\; Ax\\leq b$$\n",
    "$$x \\geq 0$$\n",
    "where\n",
    "$$A = \\begin{pmatrix}\n",
    "1 & 1 & 1 & 1 & 1\\\\\n",
    "5 & 4 & 3 & 2 & 1\\\\\n",
    "\\end{pmatrix},\\;\\;\\; b = \\begin{pmatrix}\n",
    "3\\\\\n",
    "14\\\\\n",
    "\\end{pmatrix},\\;\\;\\;\n",
    "c=\\begin{pmatrix}\n",
    "6\\\\\n",
    "5\\\\\n",
    "4\\\\\n",
    "3\\\\\n",
    "5\n",
    "\\end{pmatrix}$$\n",
    "First, obtain the dual of this problem. Now solve the dual problem that you obtain using your favorite solver. Does the objective of the dual LP tells you something about the objective value of the original problem?\n",
    "\n",
    "\n",
    "*Hint*: notice that the problem is in “dual form”, so in a sense you are really looking for the primal associated to this dual  \n",
    "*Note*: because it has only two variables, you could also solve the problem by the graphical method"
   ]
  },
  {
   "cell_type": "markdown",
   "metadata": {},
   "source": [
    "### Solution"
   ]
  },
  {
   "cell_type": "markdown",
   "metadata": {},
   "source": [
    "$$\\min b^Tx$$\n",
    "$$\\mathrm{s.t.} \\; A^Tx\\geq c$$\n",
    "$$x\\geq 0$$\n",
    "\n",
    "$$A^T = \\begin{pmatrix}\n",
    "1 & 5 \\\\\n",
    "1 & 4 \\\\\n",
    "1 & 3 \\\\\n",
    "1 & 2 \\\\\n",
    "1 & 1\n",
    "\\end{pmatrix}$$"
   ]
  },
  {
   "cell_type": "code",
   "execution_count": 2,
   "metadata": {},
   "outputs": [
    {
     "name": "stdout",
     "output_type": "stream",
     "text": [
      "Dual_Problem:\n",
      "MINIMIZE\n",
      "3*Decision_Variables_x1 + 14*Decision_Variables_x2 + 0\n",
      "SUBJECT TO\n",
      "_C1: Decision_Variables_x1 + 5 Decision_Variables_x2 >= 6\n",
      "\n",
      "_C2: Decision_Variables_x1 + 4 Decision_Variables_x2 >= 5\n",
      "\n",
      "_C3: Decision_Variables_x1 + 3 Decision_Variables_x2 >= 4\n",
      "\n",
      "_C4: Decision_Variables_x1 + 2 Decision_Variables_x2 >= 3\n",
      "\n",
      "_C5: Decision_Variables_x1 + Decision_Variables_x2 >= 5\n",
      "\n",
      "VARIABLES\n",
      "Decision_Variables_x1 Continuous\n",
      "Decision_Variables_x2 Continuous\n",
      "\n",
      "FINAL DECISION VARIABLE VALUES\n",
      "Decision_Variables_x1: 4.75\n",
      "Decision_Variables_x2: 0.25\n"
     ]
    },
    {
     "name": "stderr",
     "output_type": "stream",
     "text": [
      "C:\\Users\\jdean\\AppData\\Local\\Programs\\Python\\Python39\\lib\\site-packages\\pulp\\pulp.py:1352: UserWarning: Spaces are not permitted in the name. Converted to '_'\n",
      "  warnings.warn(\"Spaces are not permitted in the name. Converted to '_'\")\n"
     ]
    }
   ],
   "source": [
    "dec_vars   = ['x1', 'x2']\n",
    "opt_coef   = dict(zip(dec_vars, [3, 14]))\n",
    "cons_one   = dict(zip(dec_vars, [1, 5]))\n",
    "cons_two   = dict(zip(dec_vars, [1, 4]))\n",
    "cons_three = dict(zip(dec_vars, [1, 3]))\n",
    "cons_four  = dict(zip(dec_vars, [1, 2]))\n",
    "cons_five  = dict(zip(dec_vars, [1, 1]))\n",
    "\n",
    "x          = LpVariable.dicts('Decision Variables',dec_vars,lowBound=0)\n",
    "\n",
    "problem    = LpProblem('Dual Problem', LpMinimize)\n",
    "problem   += lpSum([opt_coef[i] * x[i] for i in dec_vars])\n",
    "problem   += lpSum([cons_one[i] * x[i] for i in dec_vars]) >= 6\n",
    "problem   += lpSum([cons_two[i] * x[i] for i in dec_vars]) >= 5\n",
    "problem   += lpSum([cons_three[i] * x[i] for i in dec_vars]) >= 4\n",
    "problem   += lpSum([cons_four[i] * x[i] for i in dec_vars]) >= 3\n",
    "problem   += lpSum([cons_five[i] * x[i] for i in dec_vars]) >= 5\n",
    "\n",
    "problem.solve()\n",
    "print(problem)\n",
    "print('FINAL DECISION VARIABLE VALUES')\n",
    "for v in problem.variables():\n",
    "    print(v.name + ': ' + str(v.varValue))"
   ]
  },
  {
   "cell_type": "markdown",
   "metadata": {},
   "source": [
    "## Problem 3 -- Dedication and Immunization portfolios (Based on Excercise 3.1 in the Textbook 3.1) (50 Points)\n",
    "\n",
    "You need to create a portfolio to cover the following stream of liabilities for the next six future periods:\n",
    "\n",
    "| Period | 1 | 2 | 3 | 4 | 5 | 6 |\n",
    "| -- | -- | -- | -- | -- | -- | -- |\n",
    "| Liability | 500 | 200 | 800 | 200 | 800 | 1200 |\n",
    "\n",
    "For that purpose, you may purchase the bonds in Table 1.\n",
    "\n",
    "The term structure of risk-free insterest rate is (to be used for Immunization Constraints)\n",
    "\n",
    "| Period | 1 | 2 | 3 | 4 | 5 | 6 |\n",
    "| -- | -- | -- | -- | -- | -- | -- |\n",
    "| Rate | 5.04% | 5.94% | 6.36% | 7.18% | 7.89% | 8.39% |\n",
    "\n",
    "### Part (a) -- Dedication (10 Points)\n",
    "Formulate a linear programming model to find the lowest-cost long-only (only buy bonds) dedicated portfolio that covers the stream of liabilities with the bonds above. Assume that surplus balances can be carried from one period to the next but earn no interest. What is the cost of your portfolio? What is the composition of your portfolio?\n",
    "\n",
    "*Table 1*\n",
    "| Bond | 1 | 2 | 3 | 4 | 5 | 6 | Price |\n",
    "| -- | -- | -- | -- | -- | -- | -- | -- |\n",
    "| 1 | 10 | 10 | 10 | 10 | 10 | 110 | 109 |\n",
    "| 2 | 7 | 7 | 7 | 7 | 7 | 107 | 94.8 |\n",
    "| 3 | 8 | 8 | 8 | 8 | 8 | 108 | 99.5 |\n",
    "| 4 | 6 | 6 | 6 | 6 | 106 | 0 | 93.1 |\n",
    "| 5 | 7 | 7 | 7 | 7 | 107 | 0 | 97.2 |\n",
    "| 6 | 6 | 6 | 6 | 106 | 0 | 0 | 93.1 |\n",
    "| 7 | 5 | 5 | 5 | 105 | 0 | 0 | 97.2 |\n",
    "| 8 | 10 | 10 | 110 | 0 | 0 | 0 | 110 |\n",
    "| 9 | 8 | 8 | 108 | 0 | 0 | 0 | 104 |\n",
    "| 10 | 6 | 6 | 106 | 0 | 0 | 0 | 101 |\n",
    "| 11 | 10 | 110 | 0 | 0 | 0 | 0 | 107 |\n",
    "| 12 | 7 | 107 | 0 | 0 | 0 | 0 | 102 |\n",
    "| 13 | 100 | 0 | 0 | 0 | 0 | 0 | 95.2 |\n",
    "\n",
    "### Part (b) -- Term Structure (5 Points)\n",
    "Use the linear programming sensitivity information obtained by solving the problem in Part (a) to determine the implied term structure of interest rates\n",
    "\n",
    "### Part (c) -- Overpriced Bonds (5 Points)\n",
    "Using sensitivity analysis information, and in particular the reduced costs associated to the different bonds, can you identify bonds that are overpriced? By how much? Briefly explain.\n",
    "\n",
    "### Part (d) -- Term Structure cont. (5 Points)\n",
    "Suppose the streams of liabilities changes to\n",
    "\n",
    "| Period | 1 | 2 | 3 | 4 | 5 | 6 |\n",
    "| -- | -- | -- | -- | -- | -- | -- |\n",
    "| Liability | 500 | 200 | 800 | 200 | 800 | 1200 |\n",
    "\n",
    "Find the new optimal dedicated portfolio and determine its associated new implied term structure. Is it different from the one you obtained in Part (b)? Can you provide an intuitive explanation for the difference or lack of thereof?\n",
    "\n",
    "### Part (e) -- Immunization (25 Points)\n",
    "Using the problem's original data:\n",
    "\n",
    "#### Sub-Part (i) -- (10 Points)\n",
    "Find the lowest cost portfolio that matches the present value and duration of the stream of liabilities.\n",
    "\n",
    "#### Sub-Part (ii) -- (5 Points)\n",
    "Compare the costs and the cash flow streams vs liabilities of both the Dedication and Immunized portfolio. Discuss the trade-offs of each solution. Briefly explain which portfolio would you prefer.\n",
    "\n",
    "#### Sub-Part (iii) -- (10 Points)\n",
    "How does the present value of the Immunized portfolio change if the current rates decrease (all) by 1 percentage point? How does the present value of the Immunized portfolio change if the current rates increase (all) by 1 percentage point? How does the present value of the Immunized portfolio change if the current rates of periods 1, 2 decrease by 1%, of periods 3, 4, 5 increase by 1%, and of period 6 decreases by 1%. Can you draw any conclusions from your results.\n"
   ]
  },
  {
   "cell_type": "markdown",
   "metadata": {},
   "source": [
    "### Solution to Part (a)"
   ]
  },
  {
   "cell_type": "markdown",
   "metadata": {},
   "source": []
  },
  {
   "cell_type": "code",
   "execution_count": 32,
   "metadata": {},
   "outputs": [],
   "source": [
    "'''Problem Data'''\n",
    "\n",
    "'''Liability Stream'''\n",
    "#        Year: 0   1   2   3   4   5   6\n",
    "liabilities = [0,500,200,800,200,800,1200]\n",
    "\n",
    "'''Year of Cashflows Index'''\n",
    "cf_yr = [0,1,2,3,4,5,6]\n",
    "\n",
    "'''Bond Options'''\n",
    "bonds = ['b1','b2','b3','b4','b5','b6','b7','b8','b9','b10','b11','b12','b13']\n",
    "\n",
    "'''\n",
    "Bond Cash Flows\n",
    "NOTE: Original bond price IS included as a negative, representing buying the bond\n",
    "'''\n",
    "d = [\n",
    "    [-109 ,-94.8,-99.5,-93.1,-97.2,-96.3,-92.9,-110 ,-104 ,-101 ,-107 ,-102 ,-95.2],\n",
    "    [10   ,7    ,8    ,6    ,7    ,6    ,5    ,10   ,8    ,6    ,10   ,7    ,100  ],\n",
    "    [10   ,7    ,8    ,6    ,7    ,6    ,5    ,10   ,8    ,6    ,110  ,107  ,0    ],\n",
    "    [10   ,7    ,8    ,6    ,7    ,6    ,5    ,110  ,108  ,106  ,0    ,0    ,0    ],\n",
    "    [10   ,7    ,8    ,6    ,7    ,106  ,105  ,0    ,0    ,0    ,0    ,0    ,0    ],\n",
    "    [10   ,7    ,8    ,106  ,107  ,0    ,0    ,0    ,0    ,0    ,0    ,0    ,0    ],\n",
    "    [110  ,107  ,108  ,0    ,0    ,0    ,0    ,0    ,0    ,0    ,0    ,0    ,0    ]\n",
    "    ]\n",
    "\n",
    "'''DataFrame to combine all related Cash Flows Data'''\n",
    "df = pd.DataFrame(data=d,index=cf_yr,columns=bonds)\n",
    "df['liabilities'] = liabilities\n",
    "df.index.name = 'year'\n",
    "\n",
    "'''Interest Rate and Present Value Mechanics'''\n",
    "#  Year:      0      1      2      3      4      5      6\n",
    "rates = [0.0000,0.0504,0.0594,0.0636,0.0718,0.0789,0.0839]\n",
    "pv_factor = [1]\n",
    "for i in range(1,7):\n",
    "    pv_factor.append(1/(1+rates[i])**i)\n",
    "\n",
    "premium = []\n",
    "for i in bonds:\n",
    "    premium.append(sum(df[i] * pv_factor))"
   ]
  },
  {
   "cell_type": "code",
   "execution_count": 33,
   "metadata": {},
   "outputs": [
    {
     "data": {
      "text/html": [
       "<div>\n",
       "<style scoped>\n",
       "    .dataframe tbody tr th:only-of-type {\n",
       "        vertical-align: middle;\n",
       "    }\n",
       "\n",
       "    .dataframe tbody tr th {\n",
       "        vertical-align: top;\n",
       "    }\n",
       "\n",
       "    .dataframe thead th {\n",
       "        text-align: right;\n",
       "    }\n",
       "</style>\n",
       "<table border=\"1\" class=\"dataframe\">\n",
       "  <thead>\n",
       "    <tr style=\"text-align: right;\">\n",
       "      <th></th>\n",
       "      <th>b1</th>\n",
       "      <th>b2</th>\n",
       "      <th>b3</th>\n",
       "      <th>b4</th>\n",
       "      <th>b5</th>\n",
       "      <th>b6</th>\n",
       "      <th>b7</th>\n",
       "      <th>b8</th>\n",
       "      <th>b9</th>\n",
       "      <th>b10</th>\n",
       "      <th>b11</th>\n",
       "      <th>b12</th>\n",
       "      <th>b13</th>\n",
       "      <th>liabilities</th>\n",
       "    </tr>\n",
       "    <tr>\n",
       "      <th>year</th>\n",
       "      <th></th>\n",
       "      <th></th>\n",
       "      <th></th>\n",
       "      <th></th>\n",
       "      <th></th>\n",
       "      <th></th>\n",
       "      <th></th>\n",
       "      <th></th>\n",
       "      <th></th>\n",
       "      <th></th>\n",
       "      <th></th>\n",
       "      <th></th>\n",
       "      <th></th>\n",
       "      <th></th>\n",
       "    </tr>\n",
       "  </thead>\n",
       "  <tbody>\n",
       "    <tr>\n",
       "      <th>0</th>\n",
       "      <td>-109</td>\n",
       "      <td>-94.8</td>\n",
       "      <td>-99.5</td>\n",
       "      <td>-93.1</td>\n",
       "      <td>-97.2</td>\n",
       "      <td>-96.3</td>\n",
       "      <td>-92.9</td>\n",
       "      <td>-110</td>\n",
       "      <td>-104</td>\n",
       "      <td>-101</td>\n",
       "      <td>-107</td>\n",
       "      <td>-102</td>\n",
       "      <td>-95.2</td>\n",
       "      <td>0</td>\n",
       "    </tr>\n",
       "    <tr>\n",
       "      <th>1</th>\n",
       "      <td>10</td>\n",
       "      <td>7.0</td>\n",
       "      <td>8.0</td>\n",
       "      <td>6.0</td>\n",
       "      <td>7.0</td>\n",
       "      <td>6.0</td>\n",
       "      <td>5.0</td>\n",
       "      <td>10</td>\n",
       "      <td>8</td>\n",
       "      <td>6</td>\n",
       "      <td>10</td>\n",
       "      <td>7</td>\n",
       "      <td>100.0</td>\n",
       "      <td>500</td>\n",
       "    </tr>\n",
       "    <tr>\n",
       "      <th>2</th>\n",
       "      <td>10</td>\n",
       "      <td>7.0</td>\n",
       "      <td>8.0</td>\n",
       "      <td>6.0</td>\n",
       "      <td>7.0</td>\n",
       "      <td>6.0</td>\n",
       "      <td>5.0</td>\n",
       "      <td>10</td>\n",
       "      <td>8</td>\n",
       "      <td>6</td>\n",
       "      <td>110</td>\n",
       "      <td>107</td>\n",
       "      <td>0.0</td>\n",
       "      <td>200</td>\n",
       "    </tr>\n",
       "    <tr>\n",
       "      <th>3</th>\n",
       "      <td>10</td>\n",
       "      <td>7.0</td>\n",
       "      <td>8.0</td>\n",
       "      <td>6.0</td>\n",
       "      <td>7.0</td>\n",
       "      <td>6.0</td>\n",
       "      <td>5.0</td>\n",
       "      <td>110</td>\n",
       "      <td>108</td>\n",
       "      <td>106</td>\n",
       "      <td>0</td>\n",
       "      <td>0</td>\n",
       "      <td>0.0</td>\n",
       "      <td>800</td>\n",
       "    </tr>\n",
       "    <tr>\n",
       "      <th>4</th>\n",
       "      <td>10</td>\n",
       "      <td>7.0</td>\n",
       "      <td>8.0</td>\n",
       "      <td>6.0</td>\n",
       "      <td>7.0</td>\n",
       "      <td>106.0</td>\n",
       "      <td>105.0</td>\n",
       "      <td>0</td>\n",
       "      <td>0</td>\n",
       "      <td>0</td>\n",
       "      <td>0</td>\n",
       "      <td>0</td>\n",
       "      <td>0.0</td>\n",
       "      <td>200</td>\n",
       "    </tr>\n",
       "    <tr>\n",
       "      <th>5</th>\n",
       "      <td>10</td>\n",
       "      <td>7.0</td>\n",
       "      <td>8.0</td>\n",
       "      <td>106.0</td>\n",
       "      <td>107.0</td>\n",
       "      <td>0.0</td>\n",
       "      <td>0.0</td>\n",
       "      <td>0</td>\n",
       "      <td>0</td>\n",
       "      <td>0</td>\n",
       "      <td>0</td>\n",
       "      <td>0</td>\n",
       "      <td>0.0</td>\n",
       "      <td>800</td>\n",
       "    </tr>\n",
       "    <tr>\n",
       "      <th>6</th>\n",
       "      <td>110</td>\n",
       "      <td>107.0</td>\n",
       "      <td>108.0</td>\n",
       "      <td>0.0</td>\n",
       "      <td>0.0</td>\n",
       "      <td>0.0</td>\n",
       "      <td>0.0</td>\n",
       "      <td>0</td>\n",
       "      <td>0</td>\n",
       "      <td>0</td>\n",
       "      <td>0</td>\n",
       "      <td>0</td>\n",
       "      <td>0.0</td>\n",
       "      <td>1200</td>\n",
       "    </tr>\n",
       "  </tbody>\n",
       "</table>\n",
       "</div>"
      ],
      "text/plain": [
       "       b1     b2     b3     b4     b5     b6     b7   b8   b9  b10  b11  b12  \\\n",
       "year                                                                           \n",
       "0    -109  -94.8  -99.5  -93.1  -97.2  -96.3  -92.9 -110 -104 -101 -107 -102   \n",
       "1      10    7.0    8.0    6.0    7.0    6.0    5.0   10    8    6   10    7   \n",
       "2      10    7.0    8.0    6.0    7.0    6.0    5.0   10    8    6  110  107   \n",
       "3      10    7.0    8.0    6.0    7.0    6.0    5.0  110  108  106    0    0   \n",
       "4      10    7.0    8.0    6.0    7.0  106.0  105.0    0    0    0    0    0   \n",
       "5      10    7.0    8.0  106.0  107.0    0.0    0.0    0    0    0    0    0   \n",
       "6     110  107.0  108.0    0.0    0.0    0.0    0.0    0    0    0    0    0   \n",
       "\n",
       "        b13  liabilities  \n",
       "year                      \n",
       "0     -95.2            0  \n",
       "1     100.0          500  \n",
       "2       0.0          200  \n",
       "3       0.0          800  \n",
       "4       0.0          200  \n",
       "5       0.0          800  \n",
       "6       0.0         1200  "
      ]
     },
     "execution_count": 33,
     "metadata": {},
     "output_type": "execute_result"
    }
   ],
   "source": [
    "df"
   ]
  },
  {
   "cell_type": "code",
   "execution_count": 34,
   "metadata": {},
   "outputs": [
    {
     "name": "stdout",
     "output_type": "stream",
     "text": [
      "The minimized portfolio value is : $2754.28\n"
     ]
    }
   ],
   "source": [
    "'''Primal Solve'''\n",
    "bond_count = LpVariable.dicts('Bonds',bonds,lowBound=0)\n",
    "\n",
    "portfolio = LpProblem('Dedication', LpMinimize)\n",
    "portfolio += lpSum([df[i][0] * bond_count[i] * (-1) for i in bonds])\n",
    "for j in df.index[1:]:\n",
    "    portfolio += lpSum([df[i][j] * bond_count[i] for i in bonds]) >= df.iloc[j,-1]  \n",
    "\n",
    "portfolio.solve()\n",
    "\n",
    "bonds_fin = dict(zip([v.name[6:] for v in portfolio.variables()], [v.varValue for v in portfolio.variables()]))\n",
    "\n",
    "print('The minimized portfolio value is : ${:.2f}'.format(value(portfolio.objective)))\n"
   ]
  },
  {
   "cell_type": "code",
   "execution_count": 41,
   "metadata": {},
   "outputs": [
    {
     "name": "stdout",
     "output_type": "stream",
     "text": [
      "Decision Variable Breakdown\n",
      " \n"
     ]
    },
    {
     "data": {
      "text/html": [
       "<div>\n",
       "<style scoped>\n",
       "    .dataframe tbody tr th:only-of-type {\n",
       "        vertical-align: middle;\n",
       "    }\n",
       "\n",
       "    .dataframe tbody tr th {\n",
       "        vertical-align: top;\n",
       "    }\n",
       "\n",
       "    .dataframe thead th {\n",
       "        text-align: right;\n",
       "    }\n",
       "</style>\n",
       "<table border=\"1\" class=\"dataframe\">\n",
       "  <thead>\n",
       "    <tr style=\"text-align: right;\">\n",
       "      <th></th>\n",
       "      <th>count</th>\n",
       "      <th>amt</th>\n",
       "      <th>pct</th>\n",
       "    </tr>\n",
       "    <tr>\n",
       "      <th>bond</th>\n",
       "      <th></th>\n",
       "      <th></th>\n",
       "      <th></th>\n",
       "    </tr>\n",
       "  </thead>\n",
       "  <tbody>\n",
       "    <tr>\n",
       "      <th>b1</th>\n",
       "      <td>0.000000</td>\n",
       "      <td>0.000000</td>\n",
       "      <td>0.000000</td>\n",
       "    </tr>\n",
       "    <tr>\n",
       "      <th>b2</th>\n",
       "      <td>0.000000</td>\n",
       "      <td>0.000000</td>\n",
       "      <td>0.000000</td>\n",
       "    </tr>\n",
       "    <tr>\n",
       "      <th>b3</th>\n",
       "      <td>11.111111</td>\n",
       "      <td>1105.555544</td>\n",
       "      <td>0.401395</td>\n",
       "    </tr>\n",
       "    <tr>\n",
       "      <th>b4</th>\n",
       "      <td>0.000000</td>\n",
       "      <td>0.000000</td>\n",
       "      <td>0.000000</td>\n",
       "    </tr>\n",
       "    <tr>\n",
       "      <th>b5</th>\n",
       "      <td>6.645898</td>\n",
       "      <td>645.981305</td>\n",
       "      <td>0.234537</td>\n",
       "    </tr>\n",
       "    <tr>\n",
       "      <th>b6</th>\n",
       "      <td>0.609338</td>\n",
       "      <td>58.679246</td>\n",
       "      <td>0.021305</td>\n",
       "    </tr>\n",
       "    <tr>\n",
       "      <th>b7</th>\n",
       "      <td>0.000000</td>\n",
       "      <td>0.000000</td>\n",
       "      <td>0.000000</td>\n",
       "    </tr>\n",
       "    <tr>\n",
       "      <th>b8</th>\n",
       "      <td>0.000000</td>\n",
       "      <td>0.000000</td>\n",
       "      <td>0.000000</td>\n",
       "    </tr>\n",
       "    <tr>\n",
       "      <th>b9</th>\n",
       "      <td>6.119757</td>\n",
       "      <td>636.454770</td>\n",
       "      <td>0.231078</td>\n",
       "    </tr>\n",
       "    <tr>\n",
       "      <th>b10</th>\n",
       "      <td>0.000000</td>\n",
       "      <td>0.000000</td>\n",
       "      <td>0.000000</td>\n",
       "    </tr>\n",
       "    <tr>\n",
       "      <th>b11</th>\n",
       "      <td>0.108870</td>\n",
       "      <td>11.649125</td>\n",
       "      <td>0.004229</td>\n",
       "    </tr>\n",
       "    <tr>\n",
       "      <th>b12</th>\n",
       "      <td>0.000000</td>\n",
       "      <td>0.000000</td>\n",
       "      <td>0.000000</td>\n",
       "    </tr>\n",
       "    <tr>\n",
       "      <th>b13</th>\n",
       "      <td>3.108870</td>\n",
       "      <td>295.964453</td>\n",
       "      <td>0.107456</td>\n",
       "    </tr>\n",
       "  </tbody>\n",
       "</table>\n",
       "</div>"
      ],
      "text/plain": [
       "          count          amt       pct\n",
       "bond                                  \n",
       "b1     0.000000     0.000000  0.000000\n",
       "b2     0.000000     0.000000  0.000000\n",
       "b3    11.111111  1105.555544  0.401395\n",
       "b4     0.000000     0.000000  0.000000\n",
       "b5     6.645898   645.981305  0.234537\n",
       "b6     0.609338    58.679246  0.021305\n",
       "b7     0.000000     0.000000  0.000000\n",
       "b8     0.000000     0.000000  0.000000\n",
       "b9     6.119757   636.454770  0.231078\n",
       "b10    0.000000     0.000000  0.000000\n",
       "b11    0.108870    11.649125  0.004229\n",
       "b12    0.000000     0.000000  0.000000\n",
       "b13    3.108870   295.964453  0.107456"
      ]
     },
     "execution_count": 41,
     "metadata": {},
     "output_type": "execute_result"
    }
   ],
   "source": [
    "final_dec = pd.DataFrame(bonds_fin, index=['count'], columns=bonds).transpose()\n",
    "final_dec.index.name = 'bond'\n",
    "final_dec['amt'] = final_dec['count'] * df.loc[0] * (-1)\n",
    "final_dec['pct'] = final_dec['amt'] / value(portfolio.objective)\n",
    "print('Decision Variable Breakdown')\n",
    "print(' ')\n",
    "final_dec"
   ]
  },
  {
   "cell_type": "markdown",
   "metadata": {},
   "source": [
    "### Solution to Part (b)"
   ]
  },
  {
   "cell_type": "markdown",
   "metadata": {},
   "source": []
  },
  {
   "cell_type": "code",
   "execution_count": 42,
   "metadata": {},
   "outputs": [
    {
     "name": "stdout",
     "output_type": "stream",
     "text": [
      "The minimized portfolio value is : $2754.28\n",
      " \n",
      "The shadow prices are: \n",
      "[0.952, 0.88618182, 0.82680135, 0.75764246, 0.68450113, 0.61706468]\n"
     ]
    }
   ],
   "source": [
    "'''Dual Solve'''\n",
    "liability_count = LpVariable.dicts('Liabilities',cf_yr,lowBound=0)\n",
    "\n",
    "dual = LpProblem('Dedication', LpMaximize)\n",
    "dual += lpSum([df.transpose().iloc[-1,i] * liability_count[i] for i in df.index[1:]])\n",
    "for j in bonds:\n",
    "    dual += lpSum([df.transpose().loc[j][i] * liability_count[i] for i in df.index[1:]]) <= (-1)*df.transpose().loc[j][0]\n",
    "\n",
    "dual.solve()\n",
    "\n",
    "shadow_prices = [1]\n",
    "for v in dual.variables():\n",
    "    shadow_prices.append(v.varValue)\n",
    "\n",
    "print('The minimized portfolio value is : ${:.2f}'.format(value(dual.objective)))\n",
    "\n",
    "print(' ')\n",
    "print('The shadow prices are: ')\n",
    "print(shadow_prices[1:])"
   ]
  },
  {
   "cell_type": "code",
   "execution_count": 43,
   "metadata": {},
   "outputs": [
    {
     "name": "stdout",
     "output_type": "stream",
     "text": [
      "The Primal and Dual Agree\n"
     ]
    }
   ],
   "source": [
    "'''Confirm Primal-Dual Relationship'''\n",
    "if (value(portfolio.objective) - value(dual.objective)) < 0.0001:\n",
    "    print('The Primal and Dual Agree')\n",
    "else:\n",
    "    print('The Primal and Dual do not Agree')"
   ]
  },
  {
   "cell_type": "code",
   "execution_count": 44,
   "metadata": {},
   "outputs": [],
   "source": [
    "'''Calculate Implied Yield Curve'''\n",
    "implied_rates  = [0]\n",
    "for i in range(1,7):\n",
    "    implied_rates.append(1 / (shadow_prices[i] ** (1/(i))) -1)"
   ]
  },
  {
   "cell_type": "code",
   "execution_count": 45,
   "metadata": {},
   "outputs": [
    {
     "data": {
      "text/plain": [
       "<matplotlib.legend.Legend at 0x2243601d820>"
      ]
     },
     "execution_count": 45,
     "metadata": {},
     "output_type": "execute_result"
    },
    {
     "data": {
      "image/png": "[encoded data removed]",
      "text/plain": [
       "<Figure size 432x288 with 1 Axes>"
      ]
     },
     "metadata": {
      "needs_background": "light"
     },
     "output_type": "display_data"
    }
   ],
   "source": [
    "'''Compare Yield Curve'''\n",
    "plt.plot(rates)\n",
    "plt.plot(implied_rates)\n",
    "plt.title('Actual and Implied Yield Curve')\n",
    "plt.xlabel('Years')\n",
    "plt.ylabel('Yield')\n",
    "plt.legend(['Actual','Implied'])"
   ]
  },
  {
   "cell_type": "markdown",
   "metadata": {},
   "source": [
    "### Solution to Part (c)"
   ]
  },
  {
   "cell_type": "markdown",
   "metadata": {},
   "source": []
  },
  {
   "cell_type": "code",
   "execution_count": 46,
   "metadata": {},
   "outputs": [
    {
     "data": {
      "text/html": [
       "<div>\n",
       "<style scoped>\n",
       "    .dataframe tbody tr th:only-of-type {\n",
       "        vertical-align: middle;\n",
       "    }\n",
       "\n",
       "    .dataframe tbody tr th {\n",
       "        vertical-align: top;\n",
       "    }\n",
       "\n",
       "    .dataframe thead th {\n",
       "        text-align: right;\n",
       "    }\n",
       "</style>\n",
       "<table border=\"1\" class=\"dataframe\">\n",
       "  <thead>\n",
       "    <tr style=\"text-align: right;\">\n",
       "      <th></th>\n",
       "      <th>count</th>\n",
       "      <th>amt</th>\n",
       "      <th>pct</th>\n",
       "      <th>reduced_cost</th>\n",
       "      <th>rich</th>\n",
       "    </tr>\n",
       "    <tr>\n",
       "      <th>bond</th>\n",
       "      <th></th>\n",
       "      <th></th>\n",
       "      <th></th>\n",
       "      <th></th>\n",
       "      <th></th>\n",
       "    </tr>\n",
       "  </thead>\n",
       "  <tbody>\n",
       "    <tr>\n",
       "      <th>b1</th>\n",
       "      <td>0.000000</td>\n",
       "      <td>0.000000</td>\n",
       "      <td>0.000000</td>\n",
       "      <td>0.052</td>\n",
       "      <td>True</td>\n",
       "    </tr>\n",
       "    <tr>\n",
       "      <th>b2</th>\n",
       "      <td>0.000000</td>\n",
       "      <td>0.000000</td>\n",
       "      <td>0.000000</td>\n",
       "      <td>0.024</td>\n",
       "      <td>True</td>\n",
       "    </tr>\n",
       "    <tr>\n",
       "      <th>b3</th>\n",
       "      <td>11.111111</td>\n",
       "      <td>1105.555544</td>\n",
       "      <td>0.401395</td>\n",
       "      <td>0.000</td>\n",
       "      <td>False</td>\n",
       "    </tr>\n",
       "    <tr>\n",
       "      <th>b4</th>\n",
       "      <td>0.000000</td>\n",
       "      <td>0.000000</td>\n",
       "      <td>0.000000</td>\n",
       "      <td>0.007</td>\n",
       "      <td>True</td>\n",
       "    </tr>\n",
       "    <tr>\n",
       "      <th>b5</th>\n",
       "      <td>6.645898</td>\n",
       "      <td>645.981305</td>\n",
       "      <td>0.234537</td>\n",
       "      <td>-0.000</td>\n",
       "      <td>False</td>\n",
       "    </tr>\n",
       "    <tr>\n",
       "      <th>b6</th>\n",
       "      <td>0.609338</td>\n",
       "      <td>58.679246</td>\n",
       "      <td>0.021305</td>\n",
       "      <td>0.000</td>\n",
       "      <td>False</td>\n",
       "    </tr>\n",
       "    <tr>\n",
       "      <th>b7</th>\n",
       "      <td>0.000000</td>\n",
       "      <td>0.000000</td>\n",
       "      <td>0.000000</td>\n",
       "      <td>0.023</td>\n",
       "      <td>True</td>\n",
       "    </tr>\n",
       "    <tr>\n",
       "      <th>b8</th>\n",
       "      <td>0.000000</td>\n",
       "      <td>0.000000</td>\n",
       "      <td>0.000000</td>\n",
       "      <td>0.670</td>\n",
       "      <td>True</td>\n",
       "    </tr>\n",
       "    <tr>\n",
       "      <th>b9</th>\n",
       "      <td>6.119757</td>\n",
       "      <td>636.454770</td>\n",
       "      <td>0.231078</td>\n",
       "      <td>-0.000</td>\n",
       "      <td>False</td>\n",
       "    </tr>\n",
       "    <tr>\n",
       "      <th>b10</th>\n",
       "      <td>0.000000</td>\n",
       "      <td>0.000000</td>\n",
       "      <td>0.000000</td>\n",
       "      <td>2.330</td>\n",
       "      <td>True</td>\n",
       "    </tr>\n",
       "    <tr>\n",
       "      <th>b11</th>\n",
       "      <td>0.108870</td>\n",
       "      <td>11.649125</td>\n",
       "      <td>0.004229</td>\n",
       "      <td>-0.000</td>\n",
       "      <td>False</td>\n",
       "    </tr>\n",
       "    <tr>\n",
       "      <th>b12</th>\n",
       "      <td>0.000000</td>\n",
       "      <td>0.000000</td>\n",
       "      <td>0.000000</td>\n",
       "      <td>0.515</td>\n",
       "      <td>True</td>\n",
       "    </tr>\n",
       "    <tr>\n",
       "      <th>b13</th>\n",
       "      <td>3.108870</td>\n",
       "      <td>295.964453</td>\n",
       "      <td>0.107456</td>\n",
       "      <td>0.000</td>\n",
       "      <td>False</td>\n",
       "    </tr>\n",
       "  </tbody>\n",
       "</table>\n",
       "</div>"
      ],
      "text/plain": [
       "          count          amt       pct  reduced_cost   rich\n",
       "bond                                                       \n",
       "b1     0.000000     0.000000  0.000000         0.052   True\n",
       "b2     0.000000     0.000000  0.000000         0.024   True\n",
       "b3    11.111111  1105.555544  0.401395         0.000  False\n",
       "b4     0.000000     0.000000  0.000000         0.007   True\n",
       "b5     6.645898   645.981305  0.234537        -0.000  False\n",
       "b6     0.609338    58.679246  0.021305         0.000  False\n",
       "b7     0.000000     0.000000  0.000000         0.023   True\n",
       "b8     0.000000     0.000000  0.000000         0.670   True\n",
       "b9     6.119757   636.454770  0.231078        -0.000  False\n",
       "b10    0.000000     0.000000  0.000000         2.330   True\n",
       "b11    0.108870    11.649125  0.004229        -0.000  False\n",
       "b12    0.000000     0.000000  0.000000         0.515   True\n",
       "b13    3.108870   295.964453  0.107456         0.000  False"
      ]
     },
     "execution_count": 46,
     "metadata": {},
     "output_type": "execute_result"
    }
   ],
   "source": [
    "'''\n",
    "Reduced Cost\n",
    "\n",
    "rc = c - A^Ty\n",
    "c is portfolio variable values\n",
    "AT is df.transform\n",
    "y is shadow prices\n",
    "\n",
    "'''\n",
    "\n",
    "c = np.asarray(df.iloc[0,:-1] * (-1))\n",
    "AT = df.transpose().iloc[:-1,1:].to_numpy()\n",
    "y = np.asarray(shadow_prices[1:])\n",
    "\n",
    "reduced_costs = c - np.matmul(AT, y)\n",
    "\n",
    "final_dec['reduced_cost'] = reduced_costs.round(decimals=3)\n",
    "final_dec['rich'] = (final_dec['reduced_cost'] > 0)\n",
    "\n",
    "final_dec"
   ]
  },
  {
   "cell_type": "markdown",
   "metadata": {},
   "source": [
    "### Solution to Part (d)"
   ]
  },
  {
   "cell_type": "markdown",
   "metadata": {},
   "source": []
  },
  {
   "cell_type": "code",
   "execution_count": 47,
   "metadata": {},
   "outputs": [],
   "source": [
    "'''Liability Stream -- ADJUSTED'''\n",
    "#        Year: 0   1   2   3   4   5   6\n",
    "liabilities_adj = [0,100,200,800,200,800,1200]\n",
    "\n",
    "'''DataFrame to combine all related Cash Flows Data -- ADJUSTED'''\n",
    "df_adj = pd.DataFrame(data=d,index=cf_yr,columns=bonds)\n",
    "df_adj['liabilities_adj'] = liabilities_adj\n",
    "df_adj.index.name = 'year'"
   ]
  },
  {
   "cell_type": "code",
   "execution_count": 48,
   "metadata": {},
   "outputs": [
    {
     "name": "stdout",
     "output_type": "stream",
     "text": [
      "The minimized portfolio value is : $2445.41\n"
     ]
    }
   ],
   "source": [
    "'''Primal Solve'''\n",
    "bond_count = LpVariable.dicts('Bonds',bonds,lowBound=0)\n",
    "\n",
    "portfolio = LpProblem('Dedication', LpMinimize)\n",
    "portfolio += lpSum([df_adj[i][0] * bond_count[i] * (-1) for i in bonds])\n",
    "for j in df.index[1:]:\n",
    "    portfolio += lpSum([df_adj[i][j] * bond_count[i] for i in bonds]) >= df_adj.iloc[j,-1]  \n",
    "\n",
    "portfolio.solve()\n",
    "\n",
    "\n",
    "bonds_fin = dict(zip([v.name[6:] for v in portfolio.variables()], [v.varValue for v in portfolio.variables()]))\n",
    "\n",
    "print('The minimized portfolio value is : ${:.2f}'.format(value(portfolio.objective)))"
   ]
  },
  {
   "cell_type": "code",
   "execution_count": 49,
   "metadata": {},
   "outputs": [
    {
     "name": "stdout",
     "output_type": "stream",
     "text": [
      "Decision Variable Breakdown\n",
      " \n"
     ]
    },
    {
     "data": {
      "text/html": [
       "<div>\n",
       "<style scoped>\n",
       "    .dataframe tbody tr th:only-of-type {\n",
       "        vertical-align: middle;\n",
       "    }\n",
       "\n",
       "    .dataframe tbody tr th {\n",
       "        vertical-align: top;\n",
       "    }\n",
       "\n",
       "    .dataframe thead th {\n",
       "        text-align: right;\n",
       "    }\n",
       "</style>\n",
       "<table border=\"1\" class=\"dataframe\">\n",
       "  <thead>\n",
       "    <tr style=\"text-align: right;\">\n",
       "      <th></th>\n",
       "      <th>count</th>\n",
       "      <th>amt</th>\n",
       "      <th>pct</th>\n",
       "    </tr>\n",
       "    <tr>\n",
       "      <th>bond</th>\n",
       "      <th></th>\n",
       "      <th></th>\n",
       "      <th></th>\n",
       "    </tr>\n",
       "  </thead>\n",
       "  <tbody>\n",
       "    <tr>\n",
       "      <th>b1</th>\n",
       "      <td>0.000000</td>\n",
       "      <td>0.000000</td>\n",
       "      <td>0.000000</td>\n",
       "    </tr>\n",
       "    <tr>\n",
       "      <th>b2</th>\n",
       "      <td>11.214953</td>\n",
       "      <td>1063.177544</td>\n",
       "      <td>0.434764</td>\n",
       "    </tr>\n",
       "    <tr>\n",
       "      <th>b3</th>\n",
       "      <td>0.000000</td>\n",
       "      <td>0.000000</td>\n",
       "      <td>0.000000</td>\n",
       "    </tr>\n",
       "    <tr>\n",
       "      <th>b4</th>\n",
       "      <td>6.806560</td>\n",
       "      <td>633.690708</td>\n",
       "      <td>0.259135</td>\n",
       "    </tr>\n",
       "    <tr>\n",
       "      <th>b5</th>\n",
       "      <td>0.000000</td>\n",
       "      <td>0.000000</td>\n",
       "      <td>0.000000</td>\n",
       "    </tr>\n",
       "    <tr>\n",
       "      <th>b6</th>\n",
       "      <td>0.000000</td>\n",
       "      <td>0.000000</td>\n",
       "      <td>0.000000</td>\n",
       "    </tr>\n",
       "    <tr>\n",
       "      <th>b7</th>\n",
       "      <td>0.768152</td>\n",
       "      <td>71.361329</td>\n",
       "      <td>0.029182</td>\n",
       "    </tr>\n",
       "    <tr>\n",
       "      <th>b8</th>\n",
       "      <td>0.000000</td>\n",
       "      <td>0.000000</td>\n",
       "      <td>0.000000</td>\n",
       "    </tr>\n",
       "    <tr>\n",
       "      <th>b9</th>\n",
       "      <td>6.266807</td>\n",
       "      <td>651.747980</td>\n",
       "      <td>0.266519</td>\n",
       "    </tr>\n",
       "    <tr>\n",
       "      <th>b10</th>\n",
       "      <td>0.000000</td>\n",
       "      <td>0.000000</td>\n",
       "      <td>0.000000</td>\n",
       "    </tr>\n",
       "    <tr>\n",
       "      <th>b11</th>\n",
       "      <td>0.000000</td>\n",
       "      <td>0.000000</td>\n",
       "      <td>0.000000</td>\n",
       "    </tr>\n",
       "    <tr>\n",
       "      <th>b12</th>\n",
       "      <td>0.249353</td>\n",
       "      <td>25.433985</td>\n",
       "      <td>0.010401</td>\n",
       "    </tr>\n",
       "    <tr>\n",
       "      <th>b13</th>\n",
       "      <td>0.000000</td>\n",
       "      <td>0.000000</td>\n",
       "      <td>0.000000</td>\n",
       "    </tr>\n",
       "  </tbody>\n",
       "</table>\n",
       "</div>"
      ],
      "text/plain": [
       "          count          amt       pct\n",
       "bond                                  \n",
       "b1     0.000000     0.000000  0.000000\n",
       "b2    11.214953  1063.177544  0.434764\n",
       "b3     0.000000     0.000000  0.000000\n",
       "b4     6.806560   633.690708  0.259135\n",
       "b5     0.000000     0.000000  0.000000\n",
       "b6     0.000000     0.000000  0.000000\n",
       "b7     0.768152    71.361329  0.029182\n",
       "b8     0.000000     0.000000  0.000000\n",
       "b9     6.266807   651.747980  0.266519\n",
       "b10    0.000000     0.000000  0.000000\n",
       "b11    0.000000     0.000000  0.000000\n",
       "b12    0.249353    25.433985  0.010401\n",
       "b13    0.000000     0.000000  0.000000"
      ]
     },
     "execution_count": 49,
     "metadata": {},
     "output_type": "execute_result"
    }
   ],
   "source": [
    "final_dec = pd.DataFrame(bonds_fin, index=['count'], columns=bonds).transpose()\n",
    "final_dec.index.name = 'bond'\n",
    "final_dec['amt'] = final_dec['count'] * df.loc[0] * (-1)\n",
    "final_dec['pct'] = final_dec['amt'] / value(portfolio.objective)\n",
    "print('Decision Variable Breakdown')\n",
    "print(' ')\n",
    "final_dec"
   ]
  },
  {
   "cell_type": "code",
   "execution_count": 53,
   "metadata": {},
   "outputs": [
    {
     "name": "stdout",
     "output_type": "stream",
     "text": [
      "FINAL DECISION VARIABLE VALUES -- DUAL SOLVE\n",
      "Liabilities_1: 0.0\n",
      "Liabilities_2: 0.95327103\n",
      "Liabilities_3: 0.89235029\n",
      "Liabilities_4: 0.79687518\n",
      "Liabilities_5: 0.72872661\n",
      "Liabilities_6: 0.665434\n",
      " \n",
      "The minimized portfolio value is : $2445.41\n",
      " \n",
      "The shadow prices are: \n",
      "[0.0, 0.95327103, 0.89235029, 0.79687518, 0.72872661, 0.665434]\n"
     ]
    }
   ],
   "source": [
    "'''Dual Solve'''\n",
    "liability_count = LpVariable.dicts('Liabilities',cf_yr,lowBound=0)\n",
    "\n",
    "dual = LpProblem('Dedication', LpMaximize)\n",
    "dual += lpSum([df_adj.transpose().iloc[-1,i] * liability_count[i] for i in df_adj.index[1:]])\n",
    "for j in bonds:\n",
    "    dual += lpSum([df_adj.transpose().loc[j][i] * liability_count[i] for i in df_adj.index[1:]]) <= (-1)*df_adj.transpose().loc[j][0]\n",
    "\n",
    "dual.solve()\n",
    "\n",
    "shadow_prices = [1]\n",
    "print('FINAL DECISION VARIABLE VALUES -- DUAL SOLVE')\n",
    "for v in dual.variables():\n",
    "    print(v.name + ': ' + str(v.varValue))\n",
    "    shadow_prices.append(v.varValue)\n",
    "\n",
    "print(' ')\n",
    "print('The minimized portfolio value is : ${:.2f}'.format(value(dual.objective)))\n",
    "\n",
    "print(' ')\n",
    "print('The shadow prices are: ')\n",
    "print(shadow_prices[1:])"
   ]
  },
  {
   "cell_type": "code",
   "execution_count": 54,
   "metadata": {},
   "outputs": [
    {
     "name": "stdout",
     "output_type": "stream",
     "text": [
      "The Primal and Dual Agree\n"
     ]
    }
   ],
   "source": [
    "'''Confirm Primal-Dual Relationship'''\n",
    "if (value(portfolio.objective) - value(dual.objective)) < 0.0001:\n",
    "    print('The Primal and Dual Agree')\n",
    "else:\n",
    "    print('The Primal and Dual do not Agree')"
   ]
  },
  {
   "cell_type": "code",
   "execution_count": 55,
   "metadata": {},
   "outputs": [],
   "source": [
    "'''Calculate Implied Yield Curve'''\n",
    "implied_rates  = [0]\n",
    "for i in range(1,7):\n",
    "    if shadow_prices[i] > 0:\n",
    "        implied_rates.append(1 / (shadow_prices[i] ** (1/(i))) -1)\n",
    "    else:\n",
    "        implied_rates.append(0)"
   ]
  },
  {
   "cell_type": "code",
   "execution_count": 56,
   "metadata": {},
   "outputs": [
    {
     "data": {
      "text/plain": [
       "<matplotlib.legend.Legend at 0x2243638eac0>"
      ]
     },
     "execution_count": 56,
     "metadata": {},
     "output_type": "execute_result"
    },
    {
     "data": {
      "image/png": "[encoded data removed]",
      "text/plain": [
       "<Figure size 432x288 with 1 Axes>"
      ]
     },
     "metadata": {
      "needs_background": "light"
     },
     "output_type": "display_data"
    }
   ],
   "source": [
    "'''Compare Yield Curve'''\n",
    "plt.plot(rates)\n",
    "plt.plot(implied_rates)\n",
    "plt.title('Actual and Implied Yield Curve -- Adjusted Liability Stream')\n",
    "plt.xlabel('Years')\n",
    "plt.ylabel('Yield')\n",
    "plt.legend(['Actual','Implied'])"
   ]
  },
  {
   "cell_type": "markdown",
   "metadata": {},
   "source": [
    "### Solution to Part (e)"
   ]
  },
  {
   "cell_type": "markdown",
   "metadata": {},
   "source": [
    "#### Solution to Sub Part (i)"
   ]
  },
  {
   "cell_type": "markdown",
   "metadata": {},
   "source": []
  },
  {
   "cell_type": "code",
   "execution_count": 57,
   "metadata": {},
   "outputs": [
    {
     "name": "stdout",
     "output_type": "stream",
     "text": [
      "The NPV of the liabilities is $2757.94\n",
      "The duration of the liabilites are 3.85 years\n",
      "The convexity of the liabilities are 57.53\n"
     ]
    }
   ],
   "source": [
    "'''Immunization Facts'''\n",
    "\n",
    "npv = np.matmul(df.iloc[1:,-1].to_numpy(),np.asarray(pv_factor[1:]))\n",
    "print('The NPV of the liabilities is ${:.2f}'.format(npv))\n",
    "\n",
    "dur = np.matmul(df.iloc[1:,-1].to_numpy() * np.array(cf_yr[1:]), np.asarray(pv_factor[1:]))\n",
    "print('The duration of the liabilites are {:.2f} years'.format(dur/npv))\n",
    "\n",
    "conv = np.matmul(df.iloc[1:,-1].to_numpy() * np.array(cf_yr[1:]) * (np.array(cf_yr[1:]) + 1) , (np.asarray(rates[1:]) + 1) ** (np.asarray(cf_yr[1:]) + 2))\n",
    "print('The convexity of the liabilities are {:.2f}'.format(conv/npv))"
   ]
  },
  {
   "cell_type": "code",
   "execution_count": 67,
   "metadata": {},
   "outputs": [
    {
     "data": {
      "text/plain": [
       "bond\n",
       "b1      0.000000\n",
       "b2     11.214953\n",
       "b3      0.000000\n",
       "b4      6.806560\n",
       "b5      0.000000\n",
       "b6      0.000000\n",
       "b7      0.768152\n",
       "b8      0.000000\n",
       "b9      6.266807\n",
       "b10     0.000000\n",
       "b11     0.000000\n",
       "b12     0.249353\n",
       "b13     0.000000\n",
       "Name: count, dtype: float64"
      ]
     },
     "execution_count": 67,
     "metadata": {},
     "output_type": "execute_result"
    }
   ],
   "source": [
    "final_dec['count']"
   ]
  },
  {
   "cell_type": "code",
   "execution_count": 76,
   "metadata": {},
   "outputs": [
    {
     "data": {
      "text/plain": [
       "year\n",
       "1     10\n",
       "2     10\n",
       "3     10\n",
       "4     10\n",
       "5     10\n",
       "6    110\n",
       "Name: b1, dtype: int64"
      ]
     },
     "execution_count": 76,
     "metadata": {},
     "output_type": "execute_result"
    }
   ],
   "source": [
    "df.loc[1:]['b1']"
   ]
  },
  {
   "cell_type": "code",
   "execution_count": 87,
   "metadata": {},
   "outputs": [
    {
     "data": {
      "text/plain": [
       "[year\n",
       " 1     166.664813\n",
       " 2     356.401932\n",
       " 3    1994.693882\n",
       " 4     606.226579\n",
       " 5    2736.238979\n",
       " 6    4440.145361\n",
       " dtype: float64]"
      ]
     },
     "execution_count": 87,
     "metadata": {},
     "output_type": "execute_result"
    }
   ],
   "source": [
    "# (df.iloc[1:,:-1] * final_dec['count']).transpose().sum()\n",
    "\n",
    "[sum(df[i][1:] * final_dec['count'][i] for i in bonds) * cf_yr[1:] * pv_factor[1:]]"
   ]
  },
  {
   "cell_type": "code",
   "execution_count": 22,
   "metadata": {},
   "outputs": [
    {
     "name": "stdout",
     "output_type": "stream",
     "text": [
      "FINAL DECISION VARIABLE VALUES -- PRIMAL SOLVE\n",
      "Bonds_b1: 0.0\n",
      "Bonds_b10: 0.0\n",
      "Bonds_b11: 0.0\n",
      "Bonds_b12: 0.0\n",
      "Bonds_b13: 0.0\n",
      "Bonds_b2: 0.0\n",
      "Bonds_b3: 0.0\n",
      "Bonds_b4: 0.0\n",
      "Bonds_b5: 0.0\n",
      "Bonds_b6: 0.0\n",
      "Bonds_b7: 0.0\n",
      "Bonds_b8: 0.0\n",
      "Bonds_b9: 0.0\n",
      " \n",
      "The minimized portfolio value is : $0.00\n"
     ]
    }
   ],
   "source": [
    "'''Primal Solve -- Immunization'''\n",
    "immune_bond_count = LpVariable.dicts('Bonds',bonds,lowBound=0)\n",
    "\n",
    "immune_portfolio = LpProblem('Immunization', LpMinimize)\n",
    "immune_portfolio += lpSum([df[i][0] * immune_bond_count[i] * (-1) for i in bonds])\n",
    "immune_portfolio += lpSum([df[i][1:] * immune_bond_count[i] for i in bonds])\n",
    "#immune_portfolio += lpSum([np.matmul(df[i].to_numpy() * np.array(cf_yr[1:]), np.asarray(pv_factor[1:])])) = dur\n",
    "#immune_portfolio += lpSum([]) = conv\n",
    "\n",
    "immune_portfolio.solve()\n",
    "\n",
    "print('FINAL DECISION VARIABLE VALUES -- PRIMAL SOLVE')\n",
    "for v in immune_portfolio.variables():\n",
    "    print(v.name + ': ' + str(v.varValue))\n",
    "\n",
    "print(' ')\n",
    "print('The minimized portfolio value is : ${:.2f}'.format(value(immune_portfolio.objective)))"
   ]
  },
  {
   "cell_type": "markdown",
   "metadata": {},
   "source": [
    "#### Solution to Sub Part (ii)"
   ]
  },
  {
   "cell_type": "markdown",
   "metadata": {},
   "source": []
  },
  {
   "cell_type": "code",
   "execution_count": 23,
   "metadata": {},
   "outputs": [
    {
     "data": {
      "text/plain": [
       "'Code Block'"
      ]
     },
     "execution_count": 23,
     "metadata": {},
     "output_type": "execute_result"
    }
   ],
   "source": [
    "'''Code Block'''"
   ]
  },
  {
   "cell_type": "markdown",
   "metadata": {},
   "source": [
    "#### Solution to Sub Part (iii)"
   ]
  },
  {
   "cell_type": "markdown",
   "metadata": {},
   "source": []
  },
  {
   "cell_type": "code",
   "execution_count": 24,
   "metadata": {},
   "outputs": [
    {
     "data": {
      "text/plain": [
       "'Code Block'"
      ]
     },
     "execution_count": 24,
     "metadata": {},
     "output_type": "execute_result"
    }
   ],
   "source": [
    "'''Code Block'''"
   ]
  },
  {
   "cell_type": "markdown",
   "metadata": {},
   "source": [
    "## Problem 4 -- Dedication with Bond Ratings (Based on Exercise 3.1 in the Textbook) (10 Points)\n",
    "Consider basically the same instance of the Dedication portfolio considered in the previous question. However, now the prices of the bonds are a bit different, and for each bond, we are giving his risk rating (think of Moody’s or Bloomberg ratings).\n",
    "\n",
    "| Bond | 1 | 2 | 3 | 4 | 5 | 6 | 7 | 8 | 9 | 10 | 11 | 12 | 13 |\n",
    "| -- | -- | -- | -- | -- | -- | -- | -- | -- | -- | -- | -- | -- | -- |\n",
    "| Price | 108 | 94 | 99 | 92.7 | 96.6 | 95.9 | 92.9 | 100 | 104 | 101 | 107 | 102 | 95.2 |\n",
    "| Rating | B | B | B | B | B | B | A | A | A | A | A | A | A |\n",
    "\n",
    "Solve the Dedication portfolio problem of the previous question with the new prices, but this time assume that at most 50% of the money that you invest in Bonds should be allocated to “B” rated Bonds. What is the cost of your portfolio? What is the composition of your portfolio."
   ]
  },
  {
   "cell_type": "markdown",
   "metadata": {},
   "source": [
    "### Solution"
   ]
  },
  {
   "cell_type": "markdown",
   "metadata": {},
   "source": []
  },
  {
   "cell_type": "code",
   "execution_count": 25,
   "metadata": {},
   "outputs": [],
   "source": [
    "'''Problem Data'''\n",
    "\n",
    "'''Liability Stream'''\n",
    "#        Year: 0   1   2   3   4   5   6\n",
    "liabilities = ['',0,500,200,800,200,800,1200]\n",
    "\n",
    "'''Year of Cashflows Index'''\n",
    "cf_yr = ['rating',0,1,2,3,4,5,6]\n",
    "\n",
    "'''Bond Options'''\n",
    "bonds = ['b1','b2','b3','b4','b5','b6','b7','b8','b9','b10','b11','b12','b13']\n",
    "\n",
    "'''\n",
    "Bond Cash Flows\n",
    "NOTE: Original bond price IS included as a negative, representing buying the bond\n",
    "'''\n",
    "d = [\n",
    "    ['B'  ,'B'  ,'B'  ,'B'  ,'B'  ,'B'  ,'A'  ,'A'  ,'A'  ,'A'  ,'A'  ,'A'  ,'A'  ],\n",
    "    [-108 ,-94  ,-99  ,-92.7,-96.6,-95.9,-92.9,-100 ,-104 ,-101 ,-107 ,-102 ,-95.2],\n",
    "    [10   ,7    ,8    ,6    ,7    ,6    ,5    ,10   ,8    ,6    ,10   ,7    ,100  ],\n",
    "    [10   ,7    ,8    ,6    ,7    ,6    ,5    ,10   ,8    ,6    ,110  ,107  ,0    ],\n",
    "    [10   ,7    ,8    ,6    ,7    ,6    ,5    ,110  ,108  ,106  ,0    ,0    ,0    ],\n",
    "    [10   ,7    ,8    ,6    ,7    ,106  ,105  ,0    ,0    ,0    ,0    ,0    ,0    ],\n",
    "    [10   ,7    ,8    ,106  ,107  ,0    ,0    ,0    ,0    ,0    ,0    ,0    ,0    ],\n",
    "    [110  ,107  ,108  ,0    ,0    ,0    ,0    ,0    ,0    ,0    ,0    ,0    ,0    ]\n",
    "    ]\n",
    "\n",
    "'''DataFrame to combine all related Cash Flows Data'''\n",
    "df = pd.DataFrame(data=d,index=cf_yr,columns=bonds)\n",
    "df['liabilities'] = liabilities\n",
    "df.index.name = 'year'\n",
    "\n",
    "'''Interest Rate and Present Value Mechanics'''\n",
    "#  Year:      0      1      2      3      4      5      6\n",
    "rates = [0,0.0000,0.0504,0.0594,0.0636,0.0718,0.0789,0.0839]\n",
    "pv_factor = [1]\n",
    "for i in range(1,7):\n",
    "    pv_factor.append(1/(1+rates[i])**i)\n",
    "\n",
    "premium = []\n",
    "for i in bonds:\n",
    "    premium.append(sum(df[i][1:] * pv_factor))"
   ]
  },
  {
   "cell_type": "code",
   "execution_count": 26,
   "metadata": {},
   "outputs": [
    {
     "data": {
      "text/html": [
       "<div>\n",
       "<style scoped>\n",
       "    .dataframe tbody tr th:only-of-type {\n",
       "        vertical-align: middle;\n",
       "    }\n",
       "\n",
       "    .dataframe tbody tr th {\n",
       "        vertical-align: top;\n",
       "    }\n",
       "\n",
       "    .dataframe thead th {\n",
       "        text-align: right;\n",
       "    }\n",
       "</style>\n",
       "<table border=\"1\" class=\"dataframe\">\n",
       "  <thead>\n",
       "    <tr style=\"text-align: right;\">\n",
       "      <th></th>\n",
       "      <th>b1</th>\n",
       "      <th>b2</th>\n",
       "      <th>b3</th>\n",
       "      <th>b4</th>\n",
       "      <th>b5</th>\n",
       "      <th>b6</th>\n",
       "      <th>b7</th>\n",
       "      <th>b8</th>\n",
       "      <th>b9</th>\n",
       "      <th>b10</th>\n",
       "      <th>b11</th>\n",
       "      <th>b12</th>\n",
       "      <th>b13</th>\n",
       "      <th>liabilities</th>\n",
       "    </tr>\n",
       "    <tr>\n",
       "      <th>year</th>\n",
       "      <th></th>\n",
       "      <th></th>\n",
       "      <th></th>\n",
       "      <th></th>\n",
       "      <th></th>\n",
       "      <th></th>\n",
       "      <th></th>\n",
       "      <th></th>\n",
       "      <th></th>\n",
       "      <th></th>\n",
       "      <th></th>\n",
       "      <th></th>\n",
       "      <th></th>\n",
       "      <th></th>\n",
       "    </tr>\n",
       "  </thead>\n",
       "  <tbody>\n",
       "    <tr>\n",
       "      <th>rating</th>\n",
       "      <td>B</td>\n",
       "      <td>B</td>\n",
       "      <td>B</td>\n",
       "      <td>B</td>\n",
       "      <td>B</td>\n",
       "      <td>B</td>\n",
       "      <td>A</td>\n",
       "      <td>A</td>\n",
       "      <td>A</td>\n",
       "      <td>A</td>\n",
       "      <td>A</td>\n",
       "      <td>A</td>\n",
       "      <td>A</td>\n",
       "      <td></td>\n",
       "    </tr>\n",
       "    <tr>\n",
       "      <th>0</th>\n",
       "      <td>-108</td>\n",
       "      <td>-94</td>\n",
       "      <td>-99</td>\n",
       "      <td>-92.7</td>\n",
       "      <td>-96.6</td>\n",
       "      <td>-95.9</td>\n",
       "      <td>-92.9</td>\n",
       "      <td>-100</td>\n",
       "      <td>-104</td>\n",
       "      <td>-101</td>\n",
       "      <td>-107</td>\n",
       "      <td>-102</td>\n",
       "      <td>-95.2</td>\n",
       "      <td>0</td>\n",
       "    </tr>\n",
       "    <tr>\n",
       "      <th>1</th>\n",
       "      <td>10</td>\n",
       "      <td>7</td>\n",
       "      <td>8</td>\n",
       "      <td>6</td>\n",
       "      <td>7</td>\n",
       "      <td>6</td>\n",
       "      <td>5</td>\n",
       "      <td>10</td>\n",
       "      <td>8</td>\n",
       "      <td>6</td>\n",
       "      <td>10</td>\n",
       "      <td>7</td>\n",
       "      <td>100</td>\n",
       "      <td>500</td>\n",
       "    </tr>\n",
       "    <tr>\n",
       "      <th>2</th>\n",
       "      <td>10</td>\n",
       "      <td>7</td>\n",
       "      <td>8</td>\n",
       "      <td>6</td>\n",
       "      <td>7</td>\n",
       "      <td>6</td>\n",
       "      <td>5</td>\n",
       "      <td>10</td>\n",
       "      <td>8</td>\n",
       "      <td>6</td>\n",
       "      <td>110</td>\n",
       "      <td>107</td>\n",
       "      <td>0</td>\n",
       "      <td>200</td>\n",
       "    </tr>\n",
       "    <tr>\n",
       "      <th>3</th>\n",
       "      <td>10</td>\n",
       "      <td>7</td>\n",
       "      <td>8</td>\n",
       "      <td>6</td>\n",
       "      <td>7</td>\n",
       "      <td>6</td>\n",
       "      <td>5</td>\n",
       "      <td>110</td>\n",
       "      <td>108</td>\n",
       "      <td>106</td>\n",
       "      <td>0</td>\n",
       "      <td>0</td>\n",
       "      <td>0</td>\n",
       "      <td>800</td>\n",
       "    </tr>\n",
       "    <tr>\n",
       "      <th>4</th>\n",
       "      <td>10</td>\n",
       "      <td>7</td>\n",
       "      <td>8</td>\n",
       "      <td>6</td>\n",
       "      <td>7</td>\n",
       "      <td>106</td>\n",
       "      <td>105</td>\n",
       "      <td>0</td>\n",
       "      <td>0</td>\n",
       "      <td>0</td>\n",
       "      <td>0</td>\n",
       "      <td>0</td>\n",
       "      <td>0</td>\n",
       "      <td>200</td>\n",
       "    </tr>\n",
       "    <tr>\n",
       "      <th>5</th>\n",
       "      <td>10</td>\n",
       "      <td>7</td>\n",
       "      <td>8</td>\n",
       "      <td>106</td>\n",
       "      <td>107</td>\n",
       "      <td>0</td>\n",
       "      <td>0</td>\n",
       "      <td>0</td>\n",
       "      <td>0</td>\n",
       "      <td>0</td>\n",
       "      <td>0</td>\n",
       "      <td>0</td>\n",
       "      <td>0</td>\n",
       "      <td>800</td>\n",
       "    </tr>\n",
       "    <tr>\n",
       "      <th>6</th>\n",
       "      <td>110</td>\n",
       "      <td>107</td>\n",
       "      <td>108</td>\n",
       "      <td>0</td>\n",
       "      <td>0</td>\n",
       "      <td>0</td>\n",
       "      <td>0</td>\n",
       "      <td>0</td>\n",
       "      <td>0</td>\n",
       "      <td>0</td>\n",
       "      <td>0</td>\n",
       "      <td>0</td>\n",
       "      <td>0</td>\n",
       "      <td>1200</td>\n",
       "    </tr>\n",
       "  </tbody>\n",
       "</table>\n",
       "</div>"
      ],
      "text/plain": [
       "          b1   b2   b3    b4    b5    b6    b7    b8    b9   b10   b11   b12  \\\n",
       "year                                                                           \n",
       "rating     B    B    B     B     B     B     A     A     A     A     A     A   \n",
       "0       -108  -94  -99 -92.7 -96.6 -95.9 -92.9  -100  -104  -101  -107  -102   \n",
       "1         10    7    8     6     7     6     5    10     8     6    10     7   \n",
       "2         10    7    8     6     7     6     5    10     8     6   110   107   \n",
       "3         10    7    8     6     7     6     5   110   108   106     0     0   \n",
       "4         10    7    8     6     7   106   105     0     0     0     0     0   \n",
       "5         10    7    8   106   107     0     0     0     0     0     0     0   \n",
       "6        110  107  108     0     0     0     0     0     0     0     0     0   \n",
       "\n",
       "         b13 liabilities  \n",
       "year                      \n",
       "rating     A              \n",
       "0      -95.2           0  \n",
       "1        100         500  \n",
       "2          0         200  \n",
       "3          0         800  \n",
       "4          0         200  \n",
       "5          0         800  \n",
       "6          0        1200  "
      ]
     },
     "execution_count": 26,
     "metadata": {},
     "output_type": "execute_result"
    }
   ],
   "source": [
    "df"
   ]
  },
  {
   "cell_type": "code",
   "execution_count": 27,
   "metadata": {},
   "outputs": [
    {
     "name": "stdout",
     "output_type": "stream",
     "text": [
      "FINAL DECISION VARIABLE VALUES -- PRIMAL SOLVE\n",
      "Bonds_b1: 0.0\n",
      "Bonds_b10: 0.0\n",
      "Bonds_b11: 7.1642697\n",
      "Bonds_b12: 0.0\n",
      "Bonds_b13: 2.4364386\n",
      "Bonds_b2: 11.214953\n",
      "Bonds_b3: 0.0\n",
      "Bonds_b4: 6.8065597\n",
      "Bonds_b5: 0.0\n",
      "Bonds_b6: 0.0\n",
      "Bonds_b7: 0.76815209\n",
      "Bonds_b8: 6.1528655\n",
      "Bonds_b9: 0.0\n",
      " \n",
      "The minimized portfolio value is : $3370.35\n"
     ]
    }
   ],
   "source": [
    "'''Primal Solve'''\n",
    "bond_count = LpVariable.dicts('Bonds',bonds,lowBound=0)\n",
    "\n",
    "portfolio = LpProblem('Dedication', LpMinimize)\n",
    "portfolio += lpSum([df[i][0] * bond_count[i] * (-1) for i in bonds])\n",
    "portfolio += lpSum([df[i][0] * bond_count[i] * (-1) for i in bonds if df[i]['rating'] == 'B']) <= 0.5 * lpSum([df[i][0] * bond_count[i] * (-1) for i in bonds])\n",
    "for j in df.index[2:]:\n",
    "    portfolio += lpSum([df[i][j] * bond_count[i] for i in bonds]) >= df['liabilities'][j]  \n",
    "\n",
    "portfolio.solve()\n",
    "\n",
    "print('FINAL DECISION VARIABLE VALUES -- PRIMAL SOLVE')\n",
    "for v in portfolio.variables():\n",
    "    print(v.name + ': ' + str(v.varValue))\n",
    "\n",
    "print(' ')\n",
    "print('The minimized portfolio value is : ${:.2f}'.format(value(portfolio.objective)))\n"
   ]
  },
  {
   "cell_type": "markdown",
   "metadata": {},
   "source": [
    "## Problem 5 -- Other Liability Management Problem (Based on Exercise 3.4/3.5 in the Textbook) (10 Points)\n",
    "A company will face the following cash requirement in the next eight quarters (positive numbers indicate cash needs while negative entries represent cash surpluses):\n",
    "\n",
    "| Period | Q1 | Q2 | Q3 | Q4 | Q5 | Q6 | Q7 | Q8 |\n",
    "| -- | -- | -- | -- | -- | -- | -- | -- | -- |\n",
    "| Liability/Surplus | 100 | 500 | 100 | -600 | -500 | 200 | 600 | -900 |\n",
    "\n",
    "To cover cash needs, the company has three borrowing possibilities:  \n",
    "* A 2-year loan available at the beginning of Q1, with a 1% interest rate per quarter  \n",
    "* The other two borrowing opportunities are available at the beginning of every quarter: a 6-month loan with 1.8% interest rate per quarter, and a quarterly loan with 2.5% interest per quarter  \n",
    "* Any surplus can be invested at a 0.5% interest rate per quarter\n",
    "\n",
    "### Part (a) -- (5 Points)\n",
    "Formulate a linear program that maximizes the wealth of the company at the beginning of Q9\n",
    "\n",
    "### Part (b) -- (5 Points)\n",
    "Using your favorite solver, solve the liability management problem above, and find out the dual values associated to each of the balance per quarter constraints. Use the latter information to solve the following question: Supose that the cash requirement in Q2 is 300 (instead of 500). Use the shadow price associated to the Q2 balance constraint to find out by how much would the wealth in Q9 would change.\n"
   ]
  },
  {
   "cell_type": "markdown",
   "metadata": {},
   "source": [
    "### Solution to Part (a)"
   ]
  },
  {
   "cell_type": "markdown",
   "metadata": {},
   "source": []
  },
  {
   "cell_type": "code",
   "execution_count": 28,
   "metadata": {},
   "outputs": [
    {
     "data": {
      "text/plain": [
       "'Code Block'"
      ]
     },
     "execution_count": 28,
     "metadata": {},
     "output_type": "execute_result"
    }
   ],
   "source": [
    "'''Code Block'''"
   ]
  },
  {
   "cell_type": "markdown",
   "metadata": {},
   "source": [
    "### Solution to Part (b)"
   ]
  },
  {
   "cell_type": "markdown",
   "metadata": {},
   "source": []
  },
  {
   "cell_type": "code",
   "execution_count": 29,
   "metadata": {},
   "outputs": [
    {
     "data": {
      "text/plain": [
       "'Code Block'"
      ]
     },
     "execution_count": 29,
     "metadata": {},
     "output_type": "execute_result"
    }
   ],
   "source": [
    "'''Code Block'''"
   ]
  },
  {
   "cell_type": "markdown",
   "metadata": {},
   "source": [
    "## Problem 6 -- Home Financing Problem (Based on Exercise 3.6 in the Textbook) (10 Points)\n",
    "A home buyer can combine several mortgage loans to finance the purchase of a house. Regulations impose limits on the amount that can be borrowed from certain sources as well as a limit on the total reimbursement each\n",
    "month. Let $B$ be the borrowing needs at $T$ the nmber of months over which the loans will be paid back. There are $n$ different loan opportunities available. Loan $i$ has a fixed interest rate $t_i$, and length $T_i ≤ T$ and a maximum amount borrowed $b_i$. The monthly payment $m_i$ is required each month. Furthermore,\n",
    "we would like the total monthly payment $p$ over all loans to be constant. Formulate a linear program that\n",
    "finds a combination of the loans that minimizes the home buyer’s cost of borrowing.\n",
    "\n",
    "*Hint*: In addition to variables $x_t_i$ for the the payment of loan $i$ in month $t$, it may be useful to introduce a variable for the amount of outstanding principal on loan $i$ in month $t$.\n"
   ]
  },
  {
   "cell_type": "markdown",
   "metadata": {},
   "source": [
    "### Solution"
   ]
  },
  {
   "cell_type": "markdown",
   "metadata": {},
   "source": []
  },
  {
   "cell_type": "code",
   "execution_count": 30,
   "metadata": {},
   "outputs": [
    {
     "data": {
      "text/plain": [
       "'Code Block'"
      ]
     },
     "execution_count": 30,
     "metadata": {},
     "output_type": "execute_result"
    }
   ],
   "source": [
    "'''Code Block'''"
   ]
  }
 ],
 "metadata": {
  "interpreter": {
   "hash": "702e518b60c67dbd3b0638a510bff2830380600f50d13e8fcb105f9ecc05fb71"
  },
  "kernelspec": {
   "display_name": "Python 3.9.6 64-bit",
   "language": "python",
   "name": "python3"
  },
  "language_info": {
   "codemirror_mode": {
    "name": "ipython",
    "version": 3
   },
   "file_extension": ".py",
   "mimetype": "text/x-python",
   "name": "python",
   "nbconvert_exporter": "python",
   "pygments_lexer": "ipython3",
   "version": "3.9.6"
  },
  "orig_nbformat": 4
 },
 "nbformat": 4,
 "nbformat_minor": 2
}
