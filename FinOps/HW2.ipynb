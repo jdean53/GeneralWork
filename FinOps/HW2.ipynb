{
 "cells": [
  {
   "cell_type": "markdown",
   "metadata": {},
   "source": [
    "# ISE 447 - Financial Optimization - HW 2\n",
    "\n",
    "## Jack Dean\n",
    "## Lehigh University\n",
    "\n",
    "Due Date: Monday March 21st, 2022  \n",
    "Total: 100 Points  \n",
    "*Note*: Under otherwise stated, all textbook references are for “Optimization Methods in Finance”"
   ]
  },
  {
   "cell_type": "code",
   "execution_count": 1,
   "metadata": {},
   "outputs": [],
   "source": [
    "'''Packages used in this work'''\n",
    "import numpy as np\n",
    "import pandas as pd\n",
    "import pulp\n",
    "from pulp import *\n",
    "import matplotlib.pyplot as plt\n",
    "from IPython.display import Markdown as md"
   ]
  },
  {
   "cell_type": "markdown",
   "metadata": {},
   "source": [
    "## Problem 1 -- Reformulating Linear Programs & Duality (10 Points)\n",
    "\n",
    "Consider the modified version of the fund allocation problem considered in HW 1, Question 5.  Recall that a linear program in standard form is\n",
    "$$\\min c^Tx$$\n",
    "$$\\mathrm{s.t.}\\; Ax=b$$\n",
    "$$x \\geq 0$$\n",
    "First reformulate the modified version of the fund allocation problem considered in HW 1, Question 5, in standard form.  Then find the linear programming dual associated to it."
   ]
  },
  {
   "cell_type": "markdown",
   "metadata": {},
   "source": [
    "### RECALL: Modified Fund Allocation Problem (as in HQ 1 Solutions)\n",
    "\n",
    "$$\\max 0.10f_1 + 0.15f_2 + 0.16f_3 + 0.08f_4$$\n",
    "$$\\mathrm{s.t.}\\;\\;\\; f_1 + f_2 + f_3 + f_4 + s = 80,000$$\n",
    "$$0.50f_1 + 0.30f_2 + 0.25f_3 + 0.60f_4 \\geq 0.35 * (f_1 + f_2 + f_3 + f_4)$$\n",
    "$$0.30f_1 + 0.10f_2 + 0.40f_3 + 0.20f_4 \\geq 0.30 * (f_1 + f_2 + f_3 + f_4)$$\n",
    "$$0.20f_1 + 0.60f_2 + 0.35f_3 + 0.20f_4 \\geq 0.15 * (f_1 + f_2 + f_3 + f_4)$$\n",
    "$$s - \\alpha0.50f_1 - \\alpha0.30f_2 - \\alpha0.25f_3 - \\alpha0.60f_4 \\geq 0$$\n",
    "$$$$\n",
    "$$f_1,f_2,f_3,f_4,s \\geq 0$$"
   ]
  },
  {
   "cell_type": "markdown",
   "metadata": {},
   "source": [
    "### Solution"
   ]
  },
  {
   "cell_type": "markdown",
   "metadata": {},
   "source": [
    "Reformulated Primal\n",
    "\n",
    "$$\\min -0.10f_1 - 0.15f_2 - 0.16f_3 - 0.08f_4$$\n",
    "$$\\mathrm{s.t.}\\;\\; f_1 + f_2 + f_3 + f_4 + s = 80,000$$\n",
    "$$0.50f_1 + 0.30f_2 + 0.25f_3 + 0.60f_4 + 0.35s - e_1 = 28000$$\n",
    "$$0.30f_1 + 0.10f_2 + 0.40f_3 + 0.20f_4 + 0.30s - e_2 = 24000$$\n",
    "$$0.20f_1 + 0.60f_2 + 0.35f_3 + 0.20f_4 + 0.15s - e_3 = 12000$$\n",
    "$$\\alpha0.50f_1 - \\alpha0.30f_2 - \\alpha0.25f_3 - \\alpha0.60f_4 + s - e_4= 0$$\n",
    "$$$$\n",
    "$$f_1,f_2,f_3,f_4,s,e_1,e_2,e_3,e_4 \\geq 0$$\n",
    "\n",
    "Associated Dual\n",
    "$$\\max \\; 80000w_1 + 28000w_2 + 24000w_3 + 12000w_4 + 0w_5$$\n",
    "$$\\mathrm{s.t.}\\;\\; w_1 + 0.50w_2 + 0.30w_3 + 0.20w_4 - \\alpha0.50w_5 \\leq -0.10$$\n",
    "$$w_1 + 0.30w_2 + 0.10w_3 + 0.60w_4 - \\alpha0.30w_5 \\leq -0.15$$\n",
    "$$w_1 + 0.25w_2 + 0.40w_3 + 0.35w_4 - \\alpha0.25w_5 \\leq -0.16$$\n",
    "$$w_1 + 0.60w_2 + 0.20w_3 + 0.20w_4 - \\alpha0.60w_5 \\leq -0.08$$\n",
    "$$w_1 + 0.35w_2 + 0.30w_3 + 0.15w_4 + w_5 \\leq 0$$\n",
    "$$w_1\\in\\mathbb{R} \\;\\; \\mathrm{and} \\; w_i\\in\\mathbb{R}^+\\;\\;\\forall i \\in\\{2,3,4,5\\}$$\n"
   ]
  },
  {
   "cell_type": "markdown",
   "metadata": {},
   "source": [
    "## Problem 2 -- Linear Programming Duality (Based on Exercise 2.3 in Textbook) (10 Points)\n",
    "\n",
    "Consider a Linear Program of the Form:\n",
    "$$\\max c^Tx$$\n",
    "$$\\mathrm{s.t.} \\; Ax\\leq b$$\n",
    "$$x \\geq 0$$\n",
    "where\n",
    "$$A = \\begin{pmatrix}\n",
    "1 & 1 & 1 & 1 & 1\\\\\n",
    "5 & 4 & 3 & 2 & 1\\\\\n",
    "\\end{pmatrix},\\;\\;\\; b = \\begin{pmatrix}\n",
    "3\\\\\n",
    "14\\\\\n",
    "\\end{pmatrix},\\;\\;\\;\n",
    "c=\\begin{pmatrix}\n",
    "6\\\\\n",
    "5\\\\\n",
    "4\\\\\n",
    "3\\\\\n",
    "5\n",
    "\\end{pmatrix}$$\n",
    "First, obtain the dual of this problem. Now solve the dual problem that you obtain using your favorite solver. Does the objective of the dual LP tells you something about the objective value of the original problem?\n",
    "\n",
    "\n",
    "*Hint*: notice that the problem is in “dual form”, so in a sense you are really looking for the primal associated to this dual  \n",
    "*Note*: because it has only two variables, you could also solve the problem by the graphical method"
   ]
  },
  {
   "cell_type": "markdown",
   "metadata": {},
   "source": [
    "### Solution"
   ]
  },
  {
   "cell_type": "markdown",
   "metadata": {},
   "source": [
    "$$\\min b^Ty$$\n",
    "$$\\mathrm{s.t.} \\; A^Ty\\geq c$$\n",
    "$$y\\geq 0$$\n",
    "\n",
    "$$A^T = \\begin{pmatrix}\n",
    "1 & 5 \\\\\n",
    "1 & 4 \\\\\n",
    "1 & 3 \\\\\n",
    "1 & 2 \\\\\n",
    "1 & 1\n",
    "\\end{pmatrix}$$"
   ]
  },
  {
   "cell_type": "code",
   "execution_count": 2,
   "metadata": {},
   "outputs": [
    {
     "name": "stdout",
     "output_type": "stream",
     "text": [
      "Decision Variable Values\n"
     ]
    },
    {
     "name": "stderr",
     "output_type": "stream",
     "text": [
      "C:\\Users\\jdean\\AppData\\Local\\Programs\\Python\\Python39\\lib\\site-packages\\pulp\\pulp.py:1352: UserWarning: Spaces are not permitted in the name. Converted to '_'\n",
      "  warnings.warn(\"Spaces are not permitted in the name. Converted to '_'\")\n"
     ]
    },
    {
     "data": {
      "text/markdown": [
       "|    | name                 |   value |\n",
       "|---:|:---------------------|--------:|\n",
       "|  0 | Decision_Variable_y1 |    4.75 |\n",
       "|  1 | Decision_Variable_y2 |    0.25 |"
      ],
      "text/plain": [
       "<IPython.core.display.Markdown object>"
      ]
     },
     "execution_count": 2,
     "metadata": {},
     "output_type": "execute_result"
    }
   ],
   "source": [
    "'''\n",
    "Problem data\n",
    "'''\n",
    "dec_vars   = ['y1', 'y2']\n",
    "opt_coef   = dict(zip(dec_vars, [3, 14]))\n",
    "cons_one   = dict(zip(dec_vars, [1, 5]))\n",
    "cons_two   = dict(zip(dec_vars, [1, 4]))\n",
    "cons_three = dict(zip(dec_vars, [1, 3]))\n",
    "cons_four  = dict(zip(dec_vars, [1, 2]))\n",
    "cons_five  = dict(zip(dec_vars, [1, 1]))\n",
    "y          = LpVariable.dicts('Decision Variable',dec_vars,lowBound=0)\n",
    "\n",
    "'''\n",
    "problem formulation\n",
    "'''\n",
    "problem    = LpProblem('Dual Problem', LpMinimize)\n",
    "problem   += lpSum([opt_coef[i] * y[i] for i in dec_vars])\n",
    "problem   += lpSum([cons_one[i] * y[i] for i in dec_vars]) >= 6\n",
    "problem   += lpSum([cons_two[i] * y[i] for i in dec_vars]) >= 5\n",
    "problem   += lpSum([cons_three[i] * y[i] for i in dec_vars]) >= 4\n",
    "problem   += lpSum([cons_four[i] * y[i] for i in dec_vars]) >= 3\n",
    "problem   += lpSum([cons_five[i] * y[i] for i in dec_vars]) >= 5\n",
    "\n",
    "'''\n",
    "problem solution\n",
    "'''\n",
    "problem.solve()\n",
    "values = [{'name':v.name, 'value':v.varValue} for v in problem.variables()]\n",
    "print('Decision Variable Values')\n",
    "md(pd.DataFrame(values).to_markdown())"
   ]
  },
  {
   "cell_type": "code",
   "execution_count": 3,
   "metadata": {},
   "outputs": [
    {
     "name": "stdout",
     "output_type": "stream",
     "text": [
      "The objective of the Dual LP is 17.75\n",
      "This is also the objective of the Primal LP\n"
     ]
    }
   ],
   "source": [
    "print('The objective of the Dual LP is {:.2f}'.format(value(problem.objective)))\n",
    "print('This is also the objective of the Primal LP')"
   ]
  },
  {
   "cell_type": "markdown",
   "metadata": {},
   "source": [
    "## Problem 3 -- Dedication and Immunization portfolios (Based on Excercise 3.1 in the Textbook 3.1) (50 Points)\n",
    "\n",
    "You need to create a portfolio to cover the following stream of liabilities for the next six future periods:\n",
    "\n",
    "| Period | 1 | 2 | 3 | 4 | 5 | 6 |\n",
    "| -- | -- | -- | -- | -- | -- | -- |\n",
    "| Liability | 500 | 200 | 800 | 200 | 800 | 1200 |\n",
    "\n",
    "For that purpose, you may purchase the bonds in Table 1.\n",
    "\n",
    "The term structure of risk-free insterest rate is (to be used for Immunization Constraints)\n",
    "\n",
    "| Period | 1 | 2 | 3 | 4 | 5 | 6 |\n",
    "| -- | -- | -- | -- | -- | -- | -- |\n",
    "| Rate | 5.04% | 5.94% | 6.36% | 7.18% | 7.89% | 8.39% |\n",
    "\n",
    "### Part (a) -- Dedication (10 Points)\n",
    "Formulate a linear programming model to find the lowest-cost long-only (only buy bonds) dedicated portfolio that covers the stream of liabilities with the bonds above. Assume that surplus balances can be carried from one period to the next but earn no interest. What is the cost of your portfolio? What is the composition of your portfolio?\n",
    "\n",
    "*Table 1*\n",
    "\n",
    "| Bond | 1 | 2 | 3 | 4 | 5 | 6 | Price |\n",
    "| -- | -- | -- | -- | -- | -- | -- | -- |\n",
    "| 1 | 10 | 10 | 10 | 10 | 10 | 110 | 109 |\n",
    "| 2 | 7 | 7 | 7 | 7 | 7 | 107 | 94.8 |\n",
    "| 3 | 8 | 8 | 8 | 8 | 8 | 108 | 99.5 |\n",
    "| 4 | 6 | 6 | 6 | 6 | 106 | 0 | 93.1 |\n",
    "| 5 | 7 | 7 | 7 | 7 | 107 | 0 | 97.2 |\n",
    "| 6 | 6 | 6 | 6 | 106 | 0 | 0 | 93.1 |\n",
    "| 7 | 5 | 5 | 5 | 105 | 0 | 0 | 97.2 |\n",
    "| 8 | 10 | 10 | 110 | 0 | 0 | 0 | 110 |\n",
    "| 9 | 8 | 8 | 108 | 0 | 0 | 0 | 104 |\n",
    "| 10 | 6 | 6 | 106 | 0 | 0 | 0 | 101 |\n",
    "| 11 | 10 | 110 | 0 | 0 | 0 | 0 | 107 |\n",
    "| 12 | 7 | 107 | 0 | 0 | 0 | 0 | 102 |\n",
    "| 13 | 100 | 0 | 0 | 0 | 0 | 0 | 95.2 |\n",
    "\n",
    "### Part (b) -- Term Structure (5 Points)\n",
    "Use the linear programming sensitivity information obtained by solving the problem in Part (a) to determine the implied term structure of interest rates\n",
    "\n",
    "### Part (c) -- Overpriced Bonds (5 Points)\n",
    "Using sensitivity analysis information, and in particular the reduced costs associated to the different bonds, can you identify bonds that are overpriced? By how much? Briefly explain.\n",
    "\n",
    "### Part (d) -- Term Structure cont. (5 Points)\n",
    "Suppose the streams of liabilities changes to\n",
    "\n",
    "| Period | 1 | 2 | 3 | 4 | 5 | 6 |\n",
    "| -- | -- | -- | -- | -- | -- | -- |\n",
    "| Liability | 100 | 200 | 800 | 500 | 800 | 1200 |\n",
    "\n",
    "Find the new optimal dedicated portfolio and determine its associated new implied term structure. Is it different from the one you obtained in Part (b)? Can you provide an intuitive explanation for the difference or lack of thereof?\n",
    "\n",
    "### Part (e) -- Immunization (25 Points)\n",
    "Using the problem's original data:\n",
    "\n",
    "#### Sub-Part (i) -- (10 Points)\n",
    "Find the lowest cost portfolio that matches the present value and duration of the stream of liabilities.\n",
    "\n",
    "#### Sub-Part (ii) -- (5 Points)\n",
    "Compare the costs and the cash flow streams vs liabilities of both the Dedication and Immunized portfolio. Discuss the trade-offs of each solution. Briefly explain which portfolio would you prefer.\n",
    "\n",
    "#### Sub-Part (iii) -- (10 Points)\n",
    "How does the present value of the Immunized portfolio change if the current rates decrease (all) by 1 percentage point? How does the present value of the Immunized portfolio change if the current rates increase (all) by 1 percentage point? How does the present value of the Immunized portfolio change if the current rates of periods 1, 2 decrease by 1%, of periods 3, 4, 5 increase by 1%, and of period 6 decreases by 1%. Can you draw any conclusions from your results.\n"
   ]
  },
  {
   "cell_type": "markdown",
   "metadata": {},
   "source": [
    "### Solution to Part (a)"
   ]
  },
  {
   "cell_type": "markdown",
   "metadata": {},
   "source": []
  },
  {
   "cell_type": "code",
   "execution_count": 4,
   "metadata": {},
   "outputs": [],
   "source": [
    "'''\n",
    "PROBLEM DATA\n",
    "'''\n",
    "\n",
    "'''Years of Liabilities and Interest Rates'''\n",
    "cf_yr       = [     0,     1,     2,     3,     4,     5,     6]\n",
    "liabilities = [     0,   500,   200,   800,   200,   800,  1200]\n",
    "rates       = [0.0000,0.0504,0.0594,0.0636,0.0718,0.0789,0.0839]\n",
    "\n",
    "'''\n",
    "Bonds and their Cash Flows\n",
    "NOTE: Original bond price IS included as a negative, representing buying the bond\n",
    "'''\n",
    "bonds = [ '$b_1$', '$b_2$', '$b_3$', '$b_4$', '$b_5$', '$b_6$', '$b_7$', '$b_8$', '$b_9$','$b_{10}$','$b_{11}$','$b_{12}$','$b_{13}$']\n",
    "d =     [\n",
    "        [    -109,   -94.8,   -99.5,   -93.1,   -97.2,   -96.3,   -92.9,   -110 ,   -104 ,     -101 ,     -107 ,     -102 ,     -95.2],\n",
    "        [      10,       7,       8,       6,       7,       6,       5,      10,       8,         6,        10,         7,       100],\n",
    "        [      10,       7,       8,       6,       7,       6,       5,      10,       8,         6,       110,       107,         0],\n",
    "        [      10,       7,       8,       6,       7,       6,       5,     110,     108,       106,         0,         0,         0],\n",
    "        [      10,       7,       8,       6,       7,     106,     105,       0,       0,         0,         0,         0,         0],\n",
    "        [      10,       7,       8,     106,     107,       0,       0,       0,       0,         0,         0,         0,         0],\n",
    "        [     110,     107,     108,       0,       0,       0,       0,       0,       0,         0,         0,         0,         0]\n",
    "        ]\n",
    "\n",
    "'''DataFrame to combine all related Cash Flows Data'''\n",
    "df = pd.DataFrame(data=d,index=cf_yr,columns=bonds)\n",
    "df['liabilities'] = liabilities\n",
    "df.index.name = 'year'\n",
    "\n",
    "'''PV Mechanics, Duration, and Convexity'''\n",
    "pv_factor = []\n",
    "for i in range(0,7):\n",
    "    pv_factor.append(1/(1+rates[i])**i)\n",
    "\n",
    "dur_factor = []\n",
    "for i in range(0,7):\n",
    "    dur_factor.append( i / (1+rates[i]) ** (i+1))\n",
    "\n",
    "conv_factor = []\n",
    "for i in range(0,7):\n",
    "    conv_factor.append( (i * (i+1)) / (1+rates[i]) ** (i+2))"
   ]
  },
  {
   "cell_type": "code",
   "execution_count": 5,
   "metadata": {},
   "outputs": [
    {
     "name": "stdout",
     "output_type": "stream",
     "text": [
      "The minimized portfolio value is : $2754.28\n"
     ]
    }
   ],
   "source": [
    "'''\n",
    "PORTFOLIO ALLOCATION INITIAL SOLVE\n",
    "'''\n",
    "\n",
    "'''\n",
    "Decision Variables\n",
    "---\n",
    "bond_count - The amount of each bond purchased  \n",
    "carry - excess cash from coupon payments carried over period to period  \n",
    "r - The interest rate on cash carry\n",
    "'''\n",
    "bond_count = LpVariable.dicts('Bonds',bonds,lowBound=0)\n",
    "carry = LpVariable.dicts('CashCarry',df.index[0:],lowBound=0)\n",
    "r=0\n",
    "\n",
    "\n",
    "'''\n",
    "Problem Set Up & Solution\n",
    "---\n",
    "portfolio - problem name\n",
    "'''\n",
    "portfolio = LpProblem('Dedication', LpMinimize)\n",
    "portfolio += lpSum([df[i][0] * bond_count[i] * (-1) for i in bonds] + carry[0])\n",
    "for j in df.index[1:]:\n",
    "    portfolio += lpSum([df[i][j] * bond_count[i] for i in bonds] + carry[j-1]*(1+r) - carry[j]) >= df.iloc[j,-1]  \n",
    "\n",
    "portfolio.solve()\n",
    "\n",
    "bonds_fin = dict(zip([v.name[6:] for v in portfolio.variables()], [v.varValue for v in portfolio.variables()]))\n",
    "\n",
    "print('The minimized portfolio value is : ${:.2f}'.format(value(portfolio.objective)))\n"
   ]
  },
  {
   "cell_type": "code",
   "execution_count": 6,
   "metadata": {},
   "outputs": [
    {
     "name": "stdout",
     "output_type": "stream",
     "text": [
      "Decision Variable Final Values\n"
     ]
    },
    {
     "data": {
      "text/markdown": [
       "| bond     |     count |       amt |        pct |\n",
       "|:---------|----------:|----------:|-----------:|\n",
       "| $b_1$    |  0        |    0      | 0          |\n",
       "| $b_2$    |  0        |    0      | 0          |\n",
       "| $b_3$    | 11.1111   | 1105.56   | 0.401395   |\n",
       "| $b_4$    |  0        |    0      | 0          |\n",
       "| $b_5$    |  6.6459   |  645.981  | 0.234537   |\n",
       "| $b_6$    |  0.609338 |   58.6792 | 0.0213047  |\n",
       "| $b_7$    |  0        |    0      | 0          |\n",
       "| $b_8$    |  0        |    0      | 0          |\n",
       "| $b_9$    |  6.11976  |  636.455  | 0.231078   |\n",
       "| $b_{10}$ |  0        |    0      | 0          |\n",
       "| $b_{11}$ |  0.10887  |   11.6491 | 0.00422946 |\n",
       "| $b_{12}$ |  0        |    0      | 0          |\n",
       "| $b_{13}$ |  3.10887  |  295.964  | 0.107456   |"
      ],
      "text/plain": [
       "<IPython.core.display.Markdown object>"
      ]
     },
     "execution_count": 6,
     "metadata": {},
     "output_type": "execute_result"
    }
   ],
   "source": [
    "'''\n",
    "Decision Variable Breakdown\n",
    "'''\n",
    "final_dec = pd.DataFrame(bonds_fin, index=['count'], columns=bonds).transpose()\n",
    "final_dec.index.name = 'bond'\n",
    "final_dec['amt'] = final_dec['count'] * df.loc[0] * (-1)\n",
    "final_dec['pct'] = final_dec['amt'] / value(portfolio.objective)\n",
    "print('Decision Variable Final Values')\n",
    "md(final_dec.to_markdown())"
   ]
  },
  {
   "cell_type": "markdown",
   "metadata": {},
   "source": [
    "### Solution to Part (b)"
   ]
  },
  {
   "cell_type": "markdown",
   "metadata": {},
   "source": []
  },
  {
   "cell_type": "code",
   "execution_count": 7,
   "metadata": {},
   "outputs": [
    {
     "name": "stdout",
     "output_type": "stream",
     "text": [
      "Portfolio Optimization Shadow Prices\n"
     ]
    },
    {
     "data": {
      "text/markdown": [
       "|    | name   |   shadow price |   implied rate |\n",
       "|---:|:-------|---------------:|---------------:|\n",
       "|  0 | _C1    |       0.952    |      0.0504202 |\n",
       "|  1 | _C2    |       0.886182 |      0.062279  |\n",
       "|  2 | _C3    |       0.826801 |      0.0654497 |\n",
       "|  3 | _C4    |       0.757642 |      0.0718498 |\n",
       "|  4 | _C5    |       0.684501 |      0.0787608 |\n",
       "|  5 | _C6    |       0.617065 |      0.0837894 |"
      ],
      "text/plain": [
       "<IPython.core.display.Markdown object>"
      ]
     },
     "execution_count": 7,
     "metadata": {},
     "output_type": "execute_result"
    }
   ],
   "source": [
    "'''Get Shadow Prices'''\n",
    "o = [{'name':name, 'shadow price':c.pi} for name, c in portfolio.constraints.items()]\n",
    "portfolio_sp = pd.DataFrame(o)\n",
    "shadow_prices = portfolio_sp['shadow price']\n",
    "\n",
    "'''Calculate Implied Yield Curve & Add to Shadow Price df'''\n",
    "implied_rates  = [0]\n",
    "for i in range(0,6):\n",
    "    implied_rates.append(1 / (shadow_prices[i] ** (1/(i+1))) -1)\n",
    "portfolio_sp['implied rate'] = implied_rates[1:]\n",
    "\n",
    "'''Print for User'''\n",
    "print('Portfolio Optimization Shadow Prices')\n",
    "md(portfolio_sp.to_markdown())"
   ]
  },
  {
   "cell_type": "code",
   "execution_count": 8,
   "metadata": {},
   "outputs": [
    {
     "data": {
      "text/plain": [
       "<matplotlib.legend.Legend at 0x1926687f460>"
      ]
     },
     "execution_count": 8,
     "metadata": {},
     "output_type": "execute_result"
    },
    {
     "data": {
      "image/png": "[encoded data removed]",
      "text/plain": [
       "<Figure size 432x288 with 1 Axes>"
      ]
     },
     "metadata": {
      "needs_background": "light"
     },
     "output_type": "display_data"
    }
   ],
   "source": [
    "'''Compare Yield Curve'''\n",
    "plt.plot(rates)\n",
    "plt.plot(implied_rates)\n",
    "plt.title('Actual and Implied Yield Curve (term structure of interest rates)')\n",
    "plt.xlabel('Years')\n",
    "plt.ylabel('Yield')\n",
    "plt.legend(['Actual','Implied'])"
   ]
  },
  {
   "cell_type": "markdown",
   "metadata": {},
   "source": [
    "### Solution to Part (c)"
   ]
  },
  {
   "cell_type": "markdown",
   "metadata": {},
   "source": []
  },
  {
   "cell_type": "code",
   "execution_count": 9,
   "metadata": {},
   "outputs": [
    {
     "name": "stdout",
     "output_type": "stream",
     "text": [
      "Decision Variables Final Value and Reduced Cost\n"
     ]
    },
    {
     "data": {
      "text/markdown": [
       "| bond     |     count |       amt |        pct |   reduced_cost | rich   |\n",
       "|:---------|----------:|----------:|-----------:|---------------:|:-------|\n",
       "| $b_1$    |  0        |    0      | 0          |          0.052 | True   |\n",
       "| $b_2$    |  0        |    0      | 0          |          0.024 | True   |\n",
       "| $b_3$    | 11.1111   | 1105.56   | 0.401395   |          0     | False  |\n",
       "| $b_4$    |  0        |    0      | 0          |          0.007 | True   |\n",
       "| $b_5$    |  6.6459   |  645.981  | 0.234537   |         -0     | False  |\n",
       "| $b_6$    |  0.609338 |   58.6792 | 0.0213047  |          0     | False  |\n",
       "| $b_7$    |  0        |    0      | 0          |          0.023 | True   |\n",
       "| $b_8$    |  0        |    0      | 0          |          0.67  | True   |\n",
       "| $b_9$    |  6.11976  |  636.455  | 0.231078   |         -0     | False  |\n",
       "| $b_{10}$ |  0        |    0      | 0          |          2.33  | True   |\n",
       "| $b_{11}$ |  0.10887  |   11.6491 | 0.00422946 |         -0     | False  |\n",
       "| $b_{12}$ |  0        |    0      | 0          |          0.515 | True   |\n",
       "| $b_{13}$ |  3.10887  |  295.964  | 0.107456   |          0     | False  |"
      ],
      "text/plain": [
       "<IPython.core.display.Markdown object>"
      ]
     },
     "execution_count": 9,
     "metadata": {},
     "output_type": "execute_result"
    }
   ],
   "source": [
    "'''\n",
    "Reduced Cost\n",
    "---\n",
    "rc = c - A^Ty  \n",
    "c is portfolio variable values  \n",
    "AT is df.transform  \n",
    "y is shadow prices  \n",
    "'''\n",
    "\n",
    "'''Get Inputs'''\n",
    "c = np.asarray(df.iloc[0,:-1] * (-1))\n",
    "AT = df.transpose().iloc[:-1,1:].to_numpy()\n",
    "y = np.asarray(shadow_prices)\n",
    "\n",
    "'''Calculate & interpret reduced cost'''\n",
    "reduced_costs = c - np.matmul(AT, y)\n",
    "final_dec['reduced_cost'] = reduced_costs.round(decimals=3)\n",
    "final_dec['rich'] = (final_dec['reduced_cost'] > 0)\n",
    "\n",
    "'''print for user'''\n",
    "print('Decision Variables Final Value and Reduced Cost')\n",
    "md(final_dec.to_markdown())"
   ]
  },
  {
   "cell_type": "markdown",
   "metadata": {},
   "source": [
    "### Solution to Part (d)"
   ]
  },
  {
   "cell_type": "markdown",
   "metadata": {},
   "source": []
  },
  {
   "cell_type": "code",
   "execution_count": 10,
   "metadata": {},
   "outputs": [],
   "source": [
    "'''Liability Stream -- ADJUSTED'''\n",
    "#        Year:     0   1   2   3   4   5    6\n",
    "liabilities_adj = [0,100,200,800,500,800,1200]\n",
    "\n",
    "'''DataFrame to combine all related Cash Flows Data -- ADJUSTED'''\n",
    "df_adj = pd.DataFrame(data=d,index=cf_yr,columns=bonds)\n",
    "df_adj['liabilities_adj'] = liabilities_adj\n",
    "df_adj.index.name = 'year'"
   ]
  },
  {
   "cell_type": "code",
   "execution_count": 11,
   "metadata": {},
   "outputs": [
    {
     "name": "stdout",
     "output_type": "stream",
     "text": [
      "The minimized portfolio value is : $2610.35\n"
     ]
    }
   ],
   "source": [
    "'''PRIMAL SOLVE'''\n",
    "\n",
    "'''\n",
    "Decision Variables\n",
    "---\n",
    "bond_count - The amount of each bond purchased  \n",
    "carry - excess cash from coupon payments carried over period to period  \n",
    "r - The interest rate on cash carry\n",
    "'''\n",
    "bond_count = LpVariable.dicts('Bonds',bonds,lowBound=0)\n",
    "carry = LpVariable.dicts('CashCarry',df.index[0:],lowBound=0)\n",
    "r=0\n",
    "\n",
    "'''\n",
    "Problem Set Up & Solution\n",
    "---\n",
    "adj_portfolio - problem name\n",
    "'''\n",
    "adj_portfolio = LpProblem('Dedication', LpMinimize)\n",
    "adj_portfolio += lpSum([df_adj[i][0] * bond_count[i] * (-1) for i in bonds] + carry[0])\n",
    "for j in df.index[1:]:\n",
    "    adj_portfolio += lpSum([df_adj[i][j] * bond_count[i] for i in bonds] + carry[j-1]*(1+r) - carry[j]) == df_adj.iloc[j,-1]  \n",
    "\n",
    "adj_portfolio.solve()\n",
    "\n",
    "bonds_fin = dict(zip([v.name[6:] for v in adj_portfolio.variables()], [v.varValue for v in adj_portfolio.variables()]))\n",
    "\n",
    "print('The minimized portfolio value is : ${:.2f}'.format(value(adj_portfolio.objective)))"
   ]
  },
  {
   "cell_type": "code",
   "execution_count": 12,
   "metadata": {},
   "outputs": [
    {
     "name": "stdout",
     "output_type": "stream",
     "text": [
      "Decision Variable Breakdown\n"
     ]
    },
    {
     "data": {
      "text/markdown": [
       "| bond     |    count |      amt |      pct |\n",
       "|:---------|---------:|---------:|---------:|\n",
       "| $b_1$    |  0       |    0     | 0        |\n",
       "| $b_2$    | 11.215   | 1063.18  | 0.407294 |\n",
       "| $b_3$    |  0       |    0     | 0        |\n",
       "| $b_4$    |  6.80656 |  633.691 | 0.242761 |\n",
       "| $b_5$    |  0       |    0     | 0        |\n",
       "| $b_6$    |  0       |    0     | 0        |\n",
       "| $b_7$    |  3.62529 |  336.79  | 0.129021 |\n",
       "| $b_8$    |  0       |    0     | 0        |\n",
       "| $b_9$    |  5.54507 |  576.687 | 0.220924 |\n",
       "| $b_{10}$ |  0       |    0     | 0        |\n",
       "| $b_{11}$ |  0       |    0     | 0        |\n",
       "| $b_{12}$ |  0       |    0     | 0        |\n",
       "| $b_{13}$ |  0       |    0     | 0        |"
      ],
      "text/plain": [
       "<IPython.core.display.Markdown object>"
      ]
     },
     "execution_count": 12,
     "metadata": {},
     "output_type": "execute_result"
    }
   ],
   "source": [
    "final_dec = pd.DataFrame(bonds_fin, index=['count'], columns=bonds).transpose()\n",
    "final_dec.index.name = 'bond'\n",
    "final_dec['amt'] = final_dec['count'] * df.loc[0] * (-1)\n",
    "final_dec['pct'] = final_dec['amt'] / value(adj_portfolio.objective)\n",
    "print('Decision Variable Breakdown')\n",
    "md(final_dec.to_markdown())"
   ]
  },
  {
   "cell_type": "code",
   "execution_count": 13,
   "metadata": {},
   "outputs": [
    {
     "name": "stdout",
     "output_type": "stream",
     "text": [
      "Adjusted Portfolio Shadow Prices\n"
     ]
    },
    {
     "data": {
      "text/markdown": [
       "|    | name   |   shadow price |   implied rate |\n",
       "|---:|:-------|---------------:|---------------:|\n",
       "|  0 | _C1    |       0.83871  |      0.192308  |\n",
       "|  1 | _C2    |       0.83871  |      0.0919284 |\n",
       "|  2 | _C3    |       0.83871  |      0.0603831 |\n",
       "|  3 | _C4    |       0.764946 |      0.069282  |\n",
       "|  4 | _C5    |       0.692581 |      0.0762321 |\n",
       "|  5 | _C6    |       0.626023 |      0.0811891 |"
      ],
      "text/plain": [
       "<IPython.core.display.Markdown object>"
      ]
     },
     "execution_count": 13,
     "metadata": {},
     "output_type": "execute_result"
    }
   ],
   "source": [
    "'''Get Shadow Prices'''\n",
    "o = [{'name':name, 'shadow price':c.pi} for name, c in adj_portfolio.constraints.items()]\n",
    "adj_portfolio_sp = pd.DataFrame(o)\n",
    "shadow_prices = adj_portfolio_sp['shadow price']\n",
    "\n",
    "'''Calculate Implied Yield Curve & Add to Shadow Price df'''\n",
    "implied_rates  = [0]\n",
    "for i in range(0,6):\n",
    "    implied_rates.append(1 / (shadow_prices[i] ** (1/(i+1))) -1)\n",
    "adj_portfolio_sp['implied rate'] = implied_rates[1:]\n",
    "\n",
    "'''print for user'''\n",
    "print('Adjusted Portfolio Shadow Prices')\n",
    "md(adj_portfolio_sp.to_markdown())"
   ]
  },
  {
   "cell_type": "code",
   "execution_count": 14,
   "metadata": {},
   "outputs": [
    {
     "data": {
      "text/plain": [
       "<matplotlib.legend.Legend at 0x19268976820>"
      ]
     },
     "execution_count": 14,
     "metadata": {},
     "output_type": "execute_result"
    },
    {
     "data": {
      "image/png": "[encoded data removed]",
      "text/plain": [
       "<Figure size 432x288 with 1 Axes>"
      ]
     },
     "metadata": {
      "needs_background": "light"
     },
     "output_type": "display_data"
    }
   ],
   "source": [
    "'''Compare Yield Curve'''\n",
    "plt.plot(rates)\n",
    "plt.plot(implied_rates)\n",
    "plt.title('Actual and Implied Yield Curve -- Adjusted Liability Stream')\n",
    "plt.xlabel('Years')\n",
    "plt.ylabel('Yield')\n",
    "plt.legend(['Actual','Implied'])"
   ]
  },
  {
   "cell_type": "markdown",
   "metadata": {},
   "source": [
    "The term structure is extremely different between the two cases.  This is because the first case requires no cash carry, while the second does.  Because this doesn't earn any interest, the same allocation of bonds is required later in the problem, which means the excessive cash at the beginning spikes the term structure."
   ]
  },
  {
   "cell_type": "markdown",
   "metadata": {},
   "source": [
    "### Solution to Part (e)"
   ]
  },
  {
   "cell_type": "markdown",
   "metadata": {},
   "source": [
    "#### Solution to Sub Part (i)"
   ]
  },
  {
   "cell_type": "code",
   "execution_count": 15,
   "metadata": {},
   "outputs": [
    {
     "name": "stdout",
     "output_type": "stream",
     "text": [
      "The NPV of the liabilities is $2757.94\n",
      "The duration of the liabilites are 3.58 years\n",
      "The convexity of the liabilities are 18.88\n"
     ]
    }
   ],
   "source": [
    "'''Immunization Facts'''\n",
    "\n",
    "npv = np.matmul(df.iloc[:,-1].to_numpy(),np.asarray(pv_factor))\n",
    "print('The NPV of the liabilities is ${:.2f}'.format(npv))\n",
    "\n",
    "dur = np.matmul(df.iloc[:,-1].to_numpy(),np.asarray(dur_factor) )\n",
    "print('The duration of the liabilites are {:.2f} years'.format(dur/npv))\n",
    "\n",
    "conv = np.matmul(df.iloc[:,-1].to_numpy(),np.asarray(conv_factor))\n",
    "print('The convexity of the liabilities are {:.2f}'.format(conv/npv))"
   ]
  },
  {
   "cell_type": "code",
   "execution_count": 16,
   "metadata": {},
   "outputs": [
    {
     "name": "stdout",
     "output_type": "stream",
     "text": [
      "The minimized portfolio value is : $2750.69\n"
     ]
    }
   ],
   "source": [
    "'''PRIMAL SOLVE -- Immunization'''\n",
    "\n",
    "'''\n",
    "Decision Variables\n",
    "---\n",
    "immune_bond_count - Bonds Bought  \n",
    "NOTE: No Cash Carry because no dedication required\n",
    "'''\n",
    "immune_bond_count = LpVariable.dicts('Bonds',bonds,lowBound=0)\n",
    "\n",
    "'''\n",
    "Problem Formulation & Solution\n",
    "---\n",
    "immune_portfolio - problem name\n",
    "'''\n",
    "immune_portfolio = LpProblem('Immunization', LpMinimize)\n",
    "immune_portfolio += lpSum([df[i][0] * immune_bond_count[i] * (-1) for i in bonds])\n",
    "immune_portfolio += lpSum([df[i][1:] * pv_factor[1:] * immune_bond_count[i] for i in bonds]) == npv\n",
    "immune_portfolio += lpSum([df[i][1:] * dur_factor[1:] * immune_bond_count[i] for i in bonds]) == dur\n",
    "'''\n",
    "Convexity Constraint\n",
    "---\n",
    "NOTE: If convexity is also needed, this is the necessary constraint.  This is not run in the current iteration\n",
    "immune_portfolio += lpSum([df[i][1:] * conv_factor[1:] * immune_bond_count[i] for i in bonds]) == conv\n",
    "'''\n",
    "\n",
    "immune_portfolio.solve()\n",
    "\n",
    "bonds_fin = dict(zip([v.name[6:] for v in immune_portfolio.variables()], [v.varValue for v in immune_portfolio.variables()]))\n",
    "\n",
    "print('The minimized portfolio value is : ${:.2f}'.format(value(immune_portfolio.objective)))"
   ]
  },
  {
   "cell_type": "code",
   "execution_count": 17,
   "metadata": {},
   "outputs": [
    {
     "name": "stdout",
     "output_type": "stream",
     "text": [
      "Decision Variable Breakdown -- Immunized Portfolio\n"
     ]
    },
    {
     "data": {
      "text/markdown": [
       "| bond     |   count |     amt |      pct |\n",
       "|:---------|--------:|--------:|---------:|\n",
       "| $b_1$    |  0      |    0    | 0        |\n",
       "| $b_2$    |  0      |    0    | 0        |\n",
       "| $b_3$    | 13.4945 | 1342.7  | 0.488132 |\n",
       "| $b_4$    |  0      |    0    | 0        |\n",
       "| $b_5$    |  0      |    0    | 0        |\n",
       "| $b_6$    |  0      |    0    | 0        |\n",
       "| $b_7$    |  0      |    0    | 0        |\n",
       "| $b_8$    |  0      |    0    | 0        |\n",
       "| $b_9$    | 13.5384 | 1407.99 | 0.511868 |\n",
       "| $b_{10}$ |  0      |    0    | 0        |\n",
       "| $b_{11}$ |  0      |    0    | 0        |\n",
       "| $b_{12}$ |  0      |    0    | 0        |\n",
       "| $b_{13}$ |  0      |    0    | 0        |"
      ],
      "text/plain": [
       "<IPython.core.display.Markdown object>"
      ]
     },
     "execution_count": 17,
     "metadata": {},
     "output_type": "execute_result"
    }
   ],
   "source": [
    "final_dec = pd.DataFrame(bonds_fin, index=['count'], columns=bonds).transpose()\n",
    "final_dec.index.name = 'bond'\n",
    "final_dec['amt'] = final_dec['count'] * df.loc[0] * (-1)\n",
    "final_dec['pct'] = final_dec['amt'] / value(immune_portfolio.objective)\n",
    "print('Decision Variable Breakdown -- Immunized Portfolio')\n",
    "\n",
    "md(final_dec.to_markdown())"
   ]
  },
  {
   "cell_type": "markdown",
   "metadata": {},
   "source": [
    "#### Solution to Sub Part (ii)"
   ]
  },
  {
   "cell_type": "code",
   "execution_count": 18,
   "metadata": {},
   "outputs": [
    {
     "data": {
      "text/plain": [
       "<matplotlib.legend.Legend at 0x19268a18a60>"
      ]
     },
     "execution_count": 18,
     "metadata": {},
     "output_type": "execute_result"
    },
    {
     "data": {
      "image/png": "[encoded data removed]",
      "text/plain": [
       "<Figure size 432x288 with 1 Axes>"
      ]
     },
     "metadata": {
      "needs_background": "light"
     },
     "output_type": "display_data"
    }
   ],
   "source": [
    "plt.plot((final_dec['count'] * df[1:]).transpose().sum())\n",
    "plt.plot(df['liabilities'][1:])\n",
    "plt.title('Immunized Portfolio vs Liabilities Cash Flows')\n",
    "plt.xlabel('Year')\n",
    "plt.ylabel('Cash')\n",
    "plt.legend(['Immunized Cash Flows', 'Liabilities'])"
   ]
  },
  {
   "cell_type": "markdown",
   "metadata": {},
   "source": [
    "Obviously, the orange line representing the liabilities also represents cashflows from the dedicted portfolio.  The immunized portfolio sees most of its cash come in in period 3 and 6, which happens to have large liabilities then.  That said, the immunized portfolio will not cover the year one liability, which is a cause for concern.  This is because there is little time to refinance ahead of this liability being due.  Additionally, the immunized portfolio cost is only 4 dollars less than the dedicated portfolio.  This is such a small difference relative to the value of both portfolios that I would suggest the dedicated portfolio in this case."
   ]
  },
  {
   "cell_type": "markdown",
   "metadata": {},
   "source": [
    "#### Solution to Sub Part (iii)"
   ]
  },
  {
   "cell_type": "markdown",
   "metadata": {},
   "source": [
    "**RECALL**: The duration of the liabilities (and therefore the immunized portfolio) is 3.58 years\n",
    "\n",
    "*1 pt decrease*  \n",
    "A 1% decrease implies the present value should increase by 3.58\n",
    "\n",
    "*1 pt increase*  \n",
    "A 1% increase implies the present value should decrease by 3.58\n",
    "\n",
    "*Crazy Shift*  \n",
    "A duration approximation of this value is invalid as the shift is not constant throughout the curve.   That said, it should slightly increase as the largest liability will have a greater discount factor (year 6 rate decreases by 1%)"
   ]
  },
  {
   "cell_type": "markdown",
   "metadata": {},
   "source": [
    "## Problem 4 -- Dedication with Bond Ratings (Based on Exercise 3.1 in the Textbook) (10 Points)\n",
    "Consider basically the same instance of the Dedication portfolio considered in the previous question. However, now the prices of the bonds are a bit different, and for each bond, we are giving his risk rating (think of Moody’s or Bloomberg ratings).\n",
    "\n",
    "| Bond | 1 | 2 | 3 | 4 | 5 | 6 | 7 | 8 | 9 | 10 | 11 | 12 | 13 |\n",
    "| -- | -- | -- | -- | -- | -- | -- | -- | -- | -- | -- | -- | -- | -- |\n",
    "| Price | 108 | 94 | 99 | 92.7 | 96.6 | 95.9 | 92.9 | 100 | 104 | 101 | 107 | 102 | 95.2 |\n",
    "| Rating | B | B | B | B | B | B | A | A | A | A | A | A | A |\n",
    "\n",
    "Solve the Dedication portfolio problem of the previous question with the new prices, but this time assume that at most 50% of the money that you invest in Bonds should be allocated to “B” rated Bonds. What is the cost of your portfolio? What is the composition of your portfolio."
   ]
  },
  {
   "cell_type": "markdown",
   "metadata": {},
   "source": [
    "### Solution"
   ]
  },
  {
   "cell_type": "code",
   "execution_count": 19,
   "metadata": {},
   "outputs": [],
   "source": [
    "'''Problem Data'''\n",
    "\n",
    "'''Liability Stream'''\n",
    "#        Year: 0   1   2   3   4   5   6\n",
    "liabilities = ['',0,500,200,800,200,800,1200]\n",
    "\n",
    "'''Year of Cashflows Index'''\n",
    "cf_yr = ['rating',0,1,2,3,4,5,6]\n",
    "\n",
    "'''Bond Options'''\n",
    "bonds = ['b1','b2','b3','b4','b5','b6','b7','b8','b9','b10','b11','b12','b13']\n",
    "\n",
    "'''\n",
    "Bond Cash Flows\n",
    "NOTE: Original bond price IS included as a negative, representing buying the bond\n",
    "'''\n",
    "d = [\n",
    "    ['B'  ,'B'  ,'B'  ,'B'  ,'B'  ,'B'  ,'A'  ,'A'  ,'A'  ,'A'  ,'A'  ,'A'  ,'A'  ],\n",
    "    [-108 ,-94  ,-99  ,-92.7,-96.6,-95.9,-92.9,-100 ,-104 ,-101 ,-107 ,-102 ,-95.2],\n",
    "    [10   ,7    ,8    ,6    ,7    ,6    ,5    ,10   ,8    ,6    ,10   ,7    ,100  ],\n",
    "    [10   ,7    ,8    ,6    ,7    ,6    ,5    ,10   ,8    ,6    ,110  ,107  ,0    ],\n",
    "    [10   ,7    ,8    ,6    ,7    ,6    ,5    ,110  ,108  ,106  ,0    ,0    ,0    ],\n",
    "    [10   ,7    ,8    ,6    ,7    ,106  ,105  ,0    ,0    ,0    ,0    ,0    ,0    ],\n",
    "    [10   ,7    ,8    ,106  ,107  ,0    ,0    ,0    ,0    ,0    ,0    ,0    ,0    ],\n",
    "    [110  ,107  ,108  ,0    ,0    ,0    ,0    ,0    ,0    ,0    ,0    ,0    ,0    ]\n",
    "    ]\n",
    "\n",
    "'''DataFrame to combine all related Cash Flows Data'''\n",
    "rating_df = pd.DataFrame(data=d,index=cf_yr,columns=bonds)\n",
    "rating_df['liabilities'] = liabilities\n",
    "rating_df.index.name = 'year'\n",
    "\n",
    "'''Interest Rate and Present Value Mechanics'''\n",
    "#  Year:      0      1      2      3      4      5      6\n",
    "rates = [0,0.0000,0.0504,0.0594,0.0636,0.0718,0.0789,0.0839]\n",
    "pv_factor = [1]\n",
    "for i in range(1,7):\n",
    "    pv_factor.append(1/(1+rates[i])**i)"
   ]
  },
  {
   "cell_type": "code",
   "execution_count": 20,
   "metadata": {},
   "outputs": [
    {
     "name": "stdout",
     "output_type": "stream",
     "text": [
      "The minimized portfolio value is : $2705.73\n"
     ]
    }
   ],
   "source": [
    "'''PRIMAL SOLVE'''\n",
    "\n",
    "'''\n",
    "Decision Variables\n",
    "---\n",
    "bond_count - The amount of each bond purchased  \n",
    "b_bons - bonds with a 'B' Rating  \n",
    "carry - excess cash from coupon payments carried over period to period  \n",
    "r - The interest rate on cash carry\n",
    "'''\n",
    "bond_count = LpVariable.dicts('Bonds',bonds,lowBound=0)\n",
    "carry = LpVariable.dicts('CashCarry',rating_df.index[1:],lowBound=0)\n",
    "b_bonds = rating_df.columns[(rating_df.loc['rating']=='B')].to_list()\n",
    "r=0\n",
    "\n",
    "'''\n",
    "Problem Set Up & Solution\n",
    "---\n",
    "rating_portfolio - problem name\n",
    "'''\n",
    "rating_portfolio = LpProblem('Dedication', LpMinimize)\n",
    "rating_portfolio += lpSum([rating_df[i][0] * bond_count[i] * (-1) for i in bonds] + carry[0])\n",
    "rating_portfolio += 0.5 * lpSum([rating_df[i][0] * bond_count[i] * (-1) for i in bonds]) - lpSum([rating_df[i][0] * bond_count[i] * (-1) for i in b_bonds]) >= 0\n",
    "for j in rating_df.index[2:]:\n",
    "    rating_portfolio += lpSum([rating_df[i][j] * bond_count[i] for i in bonds] + carry[j-1]*(1+r) - carry[j]) == rating_df['liabilities'][j]  \n",
    "\n",
    "rating_portfolio.solve()\n",
    "\n",
    "bonds_fin = dict(zip([v.name[6:] for v in rating_portfolio.variables()], [v.varValue for v in rating_portfolio.variables()]))\n",
    "\n",
    "print('The minimized portfolio value is : ${:.2f}'.format(value(rating_portfolio.objective)))\n"
   ]
  },
  {
   "cell_type": "code",
   "execution_count": 21,
   "metadata": {},
   "outputs": [
    {
     "name": "stdout",
     "output_type": "stream",
     "text": [
      "Decision Variable Breakdown -- Bond Rating Portfolio\n"
     ]
    },
    {
     "data": {
      "text/markdown": [
       "| bond   |    count |     amt |      pct | rating   |\n",
       "|:-------|---------:|--------:|---------:|:---------|\n",
       "| b1     |  0       |    0    | 0        | B        |\n",
       "| b2     | 11.215   | 1054.21 | 0.389619 | B        |\n",
       "| b3     |  0       |    0    | 0        | B        |\n",
       "| b4     |  3.22179 |  298.66 | 0.110381 | B        |\n",
       "| b5     |  0       |    0    | 0        | B        |\n",
       "| b6     |  0       |    0    | 0        | B        |\n",
       "| b7     |  0       |    0    | 0        | A        |\n",
       "| b8     | 10.7207  | 1072.07 | 0.39622  | A        |\n",
       "| b9     |  0       |    0    | 0        | A        |\n",
       "| b10    |  0       |    0    | 0        | A        |\n",
       "| b11    |  0       |    0    | 0        | A        |\n",
       "| b12    |  0       |    0    | 0        | A        |\n",
       "| b13    |  2.94958 |  280.8  | 0.10378  | A        |"
      ],
      "text/plain": [
       "<IPython.core.display.Markdown object>"
      ]
     },
     "execution_count": 21,
     "metadata": {},
     "output_type": "execute_result"
    }
   ],
   "source": [
    "final_dec = pd.DataFrame(bonds_fin, index=['count'], columns=bonds).transpose()\n",
    "final_dec.index.name = 'bond'\n",
    "final_dec['amt'] = final_dec['count'] * rating_df.loc[0] * (-1)\n",
    "final_dec['pct'] = final_dec['amt'] / value(rating_portfolio.objective)\n",
    "final_dec['rating'] = rating_df.loc['rating']\n",
    "print('Decision Variable Breakdown -- Bond Rating Portfolio')\n",
    "\n",
    "md(final_dec.to_markdown())"
   ]
  },
  {
   "cell_type": "markdown",
   "metadata": {},
   "source": [
    "## Problem 5 -- Other Liability Management Problem (Based on Exercise 3.4/3.5 in the Textbook) (10 Points)\n",
    "A company will face the following cash requirement in the next eight quarters (positive numbers indicate cash needs while negative entries represent cash surpluses):\n",
    "\n",
    "| Period | Q1 | Q2 | Q3 | Q4 | Q5 | Q6 | Q7 | Q8 |\n",
    "| -- | -- | -- | -- | -- | -- | -- | -- | -- |\n",
    "| Liability/Surplus | 100 | 500 | 100 | -600 | -500 | 200 | 600 | -900 |\n",
    "\n",
    "To cover cash needs, the company has three borrowing possibilities:  \n",
    "* A 2-year loan available at the beginning of Q1, with a 1% interest rate per quarter  \n",
    "* The other two borrowing opportunities are available at the beginning of every quarter: a 6-month loan with 1.8% interest rate per quarter, and a quarterly loan with 2.5% interest per quarter  \n",
    "* Any surplus can be invested at a 0.5% interest rate per quarter\n",
    "\n",
    "### Part (a) -- (5 Points)\n",
    "Formulate a linear program that maximizes the wealth of the company at the beginning of Q9\n",
    "\n",
    "### Part (b) -- (5 Points)\n",
    "Using your favorite solver, solve the liability management problem above, and find out the dual values associated to each of the balance per quarter constraints. Use the latter information to solve the following question: Supose that the cash requirement in Q2 is 300 (instead of 500). Use the shadow price associated to the Q2 balance constraint to find out by how much would the wealth in Q9 would change.\n"
   ]
  },
  {
   "cell_type": "markdown",
   "metadata": {},
   "source": [
    "### Solution to Part (a)"
   ]
  },
  {
   "cell_type": "markdown",
   "metadata": {},
   "source": [
    "$$\\max 1.005z_8$$\n",
    "$$\\mathrm{s.t.} w + x_1 + y_1 -z_1 = 100$$\n",
    "$$-.01w -1.018x_1 -0.018x_2 + x_3 - 1.025y_2 + y_3 + 1.005z_2- z_3 = 100$$\n",
    "$$-.01w -1.018x_2 -0.018x_3 + x_4 - 1.025y_3 + y_4 + 1.005z_3- z_4 = -600$$\n",
    "$$-.01w -1.018x_3 -0.018x_4 + x_5 - 1.025y_4 + y_5 + 1.005z_4- z_5 = -500$$\n",
    "$$-.01w -1.018x_4 -0.018x_5 + x_6 - 1.025y_5 + y_6 + 1.005z_5- z_6 = 200$$\n",
    "$$-.01w -1.018x_5 -0.018x_6 - 1.025y_6 + y_7 + 1.005z_6- z_7 = 600$$\n",
    "$$-1.01w -1.018x_6 - 1.025y_7  + 1.005z_7- z_8= -900$$\n",
    "$$w,x_i,y_i,z_i\\geq0\\;\\forall i$$"
   ]
  },
  {
   "cell_type": "markdown",
   "metadata": {},
   "source": [
    "### Solution to Part (b)"
   ]
  },
  {
   "cell_type": "code",
   "execution_count": 22,
   "metadata": {},
   "outputs": [
    {
     "data": {
      "text/markdown": [
       "|           |   q1 |      q2 |      q3 |       q4 |       q5 |      q6 |      q7 |       q8 |   obj |\n",
       "|:----------|-----:|--------:|--------:|---------:|---------:|--------:|--------:|---------:|------:|\n",
       "| $w$       |    1 |  -0.01  |  -0.01  |   -0.01  |   -0.01  |  -0.01  |  -0.01  |   -1.01  | 0     |\n",
       "| $x_1$     |    1 |  -0.018 |  -1.018 |    0     |    0     |   0     |   0     |    0     | 0     |\n",
       "| $x_2$     |    0 |   1     |  -0.018 |   -1.018 |    0     |   0     |   0     |    0     | 0     |\n",
       "| $x_3$     |    0 |   0     |   1     |   -0.018 |   -1.018 |   0     |   0     |    0     | 0     |\n",
       "| $x_4$     |    0 |   0     |   0     |    1     |   -0.018 |  -1.018 |   0     |    0     | 0     |\n",
       "| $x_5$     |    0 |   0     |   0     |    0     |    1     |  -0.018 |  -1.018 |    0     | 0     |\n",
       "| $x_6$     |    0 |   0     |   0     |    0     |    0     |   1     |  -0.018 |   -1.018 | 0     |\n",
       "| $y_1$     |    1 |  -1.025 |   0     |    0     |    0     |   0     |   0     |    0     | 0     |\n",
       "| $y_2$     |    0 |   1     |  -1.025 |    0     |    0     |   0     |   0     |    0     | 0     |\n",
       "| $y_3$     |    0 |   0     |   1     |   -1.025 |    0     |   0     |   0     |    0     | 0     |\n",
       "| $y_4$     |    0 |   0     |   0     |    1     |   -1.025 |   0     |   0     |    0     | 0     |\n",
       "| $y_5$     |    0 |   0     |   0     |    0     |    1     |  -1.025 |   0     |    0     | 0     |\n",
       "| $y_6$     |    0 |   0     |   0     |    0     |    0     |   1     |  -1.025 |    0     | 0     |\n",
       "| $y_7$     |    0 |   0     |   0     |    0     |    0     |   0     |   1     |   -1.025 | 0     |\n",
       "| $z_1$     |   -1 |   1.005 |   0     |    0     |    0     |   0     |   0     |    0     | 0     |\n",
       "| $z_2$     |    0 |  -1     |   1.005 |    0     |    0     |   0     |   0     |    0     | 0     |\n",
       "| $z_3$     |    0 |   0     |  -1     |    1.005 |    0     |   0     |   0     |    0     | 0     |\n",
       "| $z_4$     |    0 |   0     |   0     |   -1     |    1.005 |   0     |   0     |    0     | 0     |\n",
       "| $z_5$     |    0 |   0     |   0     |    0     |   -1     |   1.005 |   0     |    0     | 0     |\n",
       "| $z_6$     |    0 |   0     |   0     |    0     |    0     |  -1     |   1.005 |    0     | 0     |\n",
       "| $z_7$     |    0 |   0     |   0     |    0     |    0     |   0     |  -1     |    1.005 | 0     |\n",
       "| $z_8$     |    0 |   0     |   0     |    0     |    0     |   0     |   0     |   -1     | 1.005 |\n",
       "| cash_reqs |  100 | 500     | 100     | -600     | -500     | 200     | 600     | -900     | 0     |"
      ],
      "text/plain": [
       "<IPython.core.display.Markdown object>"
      ]
     },
     "execution_count": 22,
     "metadata": {},
     "output_type": "execute_result"
    }
   ],
   "source": [
    "'''\n",
    "Interest Rates for Respective Loans and Cash (given values)\n",
    "---\n",
    "tl_r - Term Loan Interest Rate (1.00%/q)  \n",
    "q2_r - 2 Quarter Loan Interest Rate (1.8%/q)  \n",
    "q1_r - 1 Quarter Loan Interest Rate (2.5%/q)  \n",
    "ec_r - Excess Cash Interest Rate (0.5%/q)\n",
    "'''\n",
    "tl_r = 0.010\n",
    "q2_r = 0.018\n",
    "q1_r = 0.025\n",
    "ec_r = 0.005\n",
    "\n",
    "'''\n",
    "Problem Data\n",
    "---\n",
    "loans - names for each loan as a decision variable  \n",
    "obj - objective function coefficients  \n",
    "data - Balance of Cash through Time per Decision Variable  \n",
    "eqs - Quarters & Objective (for df)  \n",
    "quar - quarters (for solve)\n",
    "cfs - Cash Flow Needs  \n",
    "df - Compiled Data\n",
    "'''\n",
    "loans=  [  '$w$','$x_1$','$x_2$','$x_3$','$x_4$','$x_5$','$x_6$','$y_1$','$y_2$','$y_3$','$y_4$','$y_5$','$y_6$','$y_7$','$z_1$','$z_2$','$z_3$','$z_4$','$z_5$','$z_6$','$z_7$','$z_8$']\n",
    "obj  =  [      0,      0,      0,      0,      0,      0,      0,      0,      0,      0,      0,      0,      0,      0,      0,      0,      0,      0,      0,      0,      0,      1]\n",
    "data =  [\n",
    "        [      1,      1,      0,      0,      0,      0,      0,      1,      0,      0,      0,      0,      0,      0,     -1,      0,      0,      0,      0,      0,      0,      0],\n",
    "        [ 0-tl_r, 0-q2_r,      1,      0,      0,      0,      0,-1-q1_r,      1,      0,      0,      0,      0,      0, 1+ec_r,     -1,      0,      0,      0,      0,      0,      0],\n",
    "        [ 0-tl_r,-1-q2_r, 0-q2_r,      1,      0,      0,      0,      0,-1-q1_r,      1,      0,      0,      0,      0,      0, 1+ec_r,     -1,      0,      0,      0,      0,      0],\n",
    "        [ 0-tl_r,      0,-1-q2_r, 0-q2_r,      1,      0,      0,      0,      0,-1-q1_r,      1,      0,      0,      0,      0,      0, 1+ec_r,     -1,      0,      0,      0,      0],\n",
    "        [ 0-tl_r,      0,      0,-1-q2_r, 0-q2_r,      1,      0,      0,      0,      0,-1-q1_r,      1,      0,      0,      0,      0,      0, 1+ec_r,     -1,      0,      0,      0],\n",
    "        [ 0-tl_r,      0,      0,      0,-1-q2_r, 0-q2_r,      1,      0,      0,      0,      0,-1-q1_r,      1,      0,      0,      0,      0,      0, 1+ec_r,     -1,      0,      0],\n",
    "        [ 0-tl_r,      0,      0,      0,      0,-1-q2_r, 0-q2_r,      0,      0,      0,      0,      0,-1-q1_r,      1,      0,      0,      0,      0,      0, 1+ec_r,     -1,      0],\n",
    "        [-1-tl_r,      0,      0,      0,      0,      0,-1-q2_r,      0,      0,      0,      0,      0,      0,-1-q1_r,      0,      0,      0,      0,      0,      0, 1+ec_r,     -1],\n",
    "        [      0,      0,      0,      0,      0,      0,      0,      0,      0,      0,      0,      0,      0,      0,      0,      0,      0,      0,      0,      0,      0, 1+ec_r]\n",
    "        ]\n",
    "\n",
    "eqs  = ['q1','q2','q3','q4','q5','q6','q7','q8','obj']\n",
    "cfs  = [ 100, 500, 100,-600,-500, 200, 600,-900,    0]\n",
    "quar = ['q1','q2','q3','q4','q5','q6','q7','q8']\n",
    "\n",
    "df= pd.DataFrame(data=data,columns=loans,index=eqs)\n",
    "df['cash_reqs'] = cfs\n",
    "\n",
    "md(df.transpose().to_markdown())"
   ]
  },
  {
   "cell_type": "code",
   "execution_count": 23,
   "metadata": {},
   "outputs": [
    {
     "data": {
      "text/markdown": [
       "|       |   Value |\n",
       "|:------|--------:|\n",
       "| $w$   | 424.41  |\n",
       "| $x_1$ |   0     |\n",
       "| $x_2$ | 178.212 |\n",
       "| $x_3$ |   0     |\n",
       "| $x_4$ |   0     |\n",
       "| $x_5$ |   0     |\n",
       "| $x_6$ |   0     |\n",
       "| $y_1$ |   0     |\n",
       "| $y_2$ |   0     |\n",
       "| $y_3$ | 107.452 |\n",
       "| $y_4$ |   0     |\n",
       "| $y_5$ |   0     |\n",
       "| $y_6$ |   0     |\n",
       "| $y_7$ |   0     |\n",
       "| $z_1$ | 324.41  |\n",
       "| $z_2$ |   0     |\n",
       "| $z_3$ |   0     |\n",
       "| $z_4$ | 304.198 |\n",
       "| $z_5$ | 801.475 |\n",
       "| $z_6$ | 601.238 |\n",
       "| $z_7$ |   0     |\n",
       "| $z_8$ | 471.346 |"
      ],
      "text/plain": [
       "<IPython.core.display.Markdown object>"
      ]
     },
     "execution_count": 23,
     "metadata": {},
     "output_type": "execute_result"
    }
   ],
   "source": [
    "'''PRIMAL SOLVE'''\n",
    "\n",
    "'''\n",
    "Decision Variables\n",
    "---\n",
    "dec_vars - Amount Taken on Each Loan\n",
    "'''\n",
    "dec_vars = LpVariable.dict('loans',loans,lowBound=0)\n",
    "\n",
    "'''\n",
    "Problem Set Up & Solution\n",
    "---\n",
    "financing - problem name\n",
    "'''\n",
    "financing = LpProblem('financing',LpMaximize)\n",
    "financing += lpSum([df.loc['obj'][i] * dec_vars[i] for i in loans])\n",
    "for quarter in quar:\n",
    "    financing += lpSum([df.loc[quarter][i] * dec_vars[i] for i in loans]) == df.loc[quarter][-1]\n",
    "financing.solve()\n",
    "\n",
    "'''print for user'''\n",
    "solutions = [v.varValue for v in financing.variables()]\n",
    "solution_df = pd.DataFrame([solutions],index=['Value'],columns=loans)\n",
    "md(solution_df.transpose().to_markdown())"
   ]
  },
  {
   "cell_type": "code",
   "execution_count": 24,
   "metadata": {},
   "outputs": [
    {
     "data": {
      "text/markdown": [
       "|    | name   |   shadow price |\n",
       "|---:|:-------|---------------:|\n",
       "|  0 | _C1    |       -1.07744 |\n",
       "|  1 | _C2    |       -1.07208 |\n",
       "|  2 | _C3    |       -1.06024 |\n",
       "|  3 | _C4    |       -1.03438 |\n",
       "|  4 | _C5    |       -1.02923 |\n",
       "|  5 | _C6    |       -1.02411 |\n",
       "|  6 | _C7    |       -1.01902 |\n",
       "|  7 | _C8    |       -1.005   |"
      ],
      "text/plain": [
       "<IPython.core.display.Markdown object>"
      ]
     },
     "execution_count": 24,
     "metadata": {},
     "output_type": "execute_result"
    }
   ],
   "source": [
    "'''Get Shadow Prices'''\n",
    "o = [{'name':name, 'shadow price':c.pi} for name, c in financing.constraints.items()]\n",
    "sp_financing = pd.DataFrame(o)\n",
    "md(sp_financing.to_markdown())"
   ]
  },
  {
   "cell_type": "code",
   "execution_count": 25,
   "metadata": {},
   "outputs": [
    {
     "name": "stdout",
     "output_type": "stream",
     "text": [
      "The objective changes by $214.42\n"
     ]
    }
   ],
   "source": [
    "'''Print Objective'''\n",
    "obj_diff = sp_financing['shadow price'][1] * (300 - 500)\n",
    "print('The objective changes by ${:.2f}'.format(obj_diff))"
   ]
  },
  {
   "cell_type": "markdown",
   "metadata": {},
   "source": [
    "## Problem 6 -- Home Financing Problem (Based on Exercise 3.6 in the Textbook) (10 Points)\n",
    "A home buyer can combine several mortgage loans to finance the purchase of a house. Regulations impose limits on the amount that can be borrowed from certain sources as well as a limit on the total reimbursement each\n",
    "month. Let $B$ be the borrowing needs at $T$ the number of months over which the loans will be paid back. There are $n$ different loan opportunities available. Loan $i$ has a fixed interest rate $t_i$, and length $T_i ≤ T$ and a maximum amount borrowed $b_i$. The monthly payment $m_i$ is required each month. Furthermore,\n",
    "we would like the total monthly payment $p$ over all loans to be constant. Formulate a linear program that\n",
    "finds a combination of the loans that minimizes the home buyer’s cost of borrowing.\n",
    "\n",
    "*Hint*: In addition to variables $x_{t_i}$ for the the payment of loan $i$ in month $t$, it may be useful to introduce a variable for the amount of outstanding principal on loan $i$ in month $t$.\n"
   ]
  },
  {
   "cell_type": "markdown",
   "metadata": {},
   "source": [
    "### Solution"
   ]
  },
  {
   "cell_type": "markdown",
   "metadata": {},
   "source": [
    "$$\\min \\sum_t \\sum_i L_{t_i}$$\n",
    "$$\\mathrm{s.t.} \\;\\; \\sum_i X_{t_i} \\geq m_{t_i} \\;\\;\\; \\forall t \\;\\; \\mathrm{where} \\; m_{t_i}\\in\\mathbb{R}^+ \\; \\forall t$$\n",
    "$$\\sum_i X_{t_i} = P \\;\\;\\; \\forall t \\;\\; \\mathrm{where} \\; P\\in\\mathbb{R}^+$$\n",
    "$$L_{t_{i-1}}(1+r_i) - X_{t_i} = L_{t_i} \\;\\;\\; \\forall i \\; \\forall t$$\n",
    "$$\\sum_i L_{t_i} \\geq B_t \\; \\forall t\\;\\; \\mathrm{where} \\; B_t\\in\\mathbb{R}^+ \\; \\forall t$$\n",
    "$$L_i \\geq0 \\; \\forall i, \\;\\; X_{t_i}\\geq0 \\; \\forall i \\; \\forall t \\;\\; \\mathrm{where}\\;i\\in\\{1,\\dots,n\\}\\;\\; t\\in\\{0,\\dots,T\\}$$"
   ]
  }
 ],
 "metadata": {
  "interpreter": {
   "hash": "702e518b60c67dbd3b0638a510bff2830380600f50d13e8fcb105f9ecc05fb71"
  },
  "kernelspec": {
   "display_name": "Python 3.9.6 64-bit",
   "language": "python",
   "name": "python3"
  },
  "language_info": {
   "codemirror_mode": {
    "name": "ipython",
    "version": 3
   },
   "file_extension": ".py",
   "mimetype": "text/x-python",
   "name": "python",
   "nbconvert_exporter": "python",
   "pygments_lexer": "ipython3",
   "version": "3.9.6"
  },
  "orig_nbformat": 4
 },
 "nbformat": 4,
 "nbformat_minor": 2
}
