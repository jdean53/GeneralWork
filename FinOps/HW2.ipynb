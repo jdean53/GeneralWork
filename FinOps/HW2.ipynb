{
 "cells": [
  {
   "cell_type": "markdown",
   "metadata": {},
   "source": [
    "# ISE 447 - Financial Optimization - HW 2\n",
    "\n",
    "## Jack Dean\n",
    "## Lehigh University\n",
    "\n",
    "Due Date: Monday March 21st, 2022  \n",
    "Total: 100 Points  \n",
    "*Note*: Under otherwise stated, all textbook references are for “Optimization Methods in Finance”"
   ]
  },
  {
   "cell_type": "code",
   "execution_count": null,
   "metadata": {},
   "outputs": [],
   "source": [
    "'''Packages used in this work'''\n",
    "import numpy as np\n",
    "import pandas as pd\n",
    "import scipy.stats as stats\n",
    "import pulp\n",
    "from pulp import *\n",
    "import matplotlib.pyplot as plt\n",
    "import seaborn as sns"
   ]
  },
  {
   "cell_type": "markdown",
   "metadata": {},
   "source": [
    "## Problem 1 -- Reformulating Linear Programs & Duality (10 Points)\n",
    "\n",
    "Consider the modified version of the fund allocation problem considered in HW 1, Question 5.  Recall that a linear program in standard form is\n",
    "$$\\min c^Tx$$\n",
    "$$\\mathrm{s.t.}\\; Ax=b$$\n",
    "$$x \\geq 0$$\n",
    "First reformulate the modified version of the fund allocation problem considere din HW 1, Question 5, in standard form.  Then find the linear programming dual associated to it."
   ]
  },
  {
   "cell_type": "markdown",
   "metadata": {},
   "source": [
    "### RECALL: Modified Fund Allocation Problem (as in HQ 1 Solutions)\n",
    "\n",
    "$$\\max 0.10f_1 + 0.15f_2 + 0.16f_3 + 0.08f_4$$\n",
    "$$\\mathrm{s.t.}\\;\\;\\; f_1 + f_2 + f_3 + f_4 + s = 80,000$$\n",
    "$$0.50f_1 + 0.30f_2 + 0.25f_3 + 0.60f_4 \\geq 0.35 * (f_1 + f_2 + f_3 + f_4)$$\n",
    "$$0.30f_1 + 0.10f_2 + 0.40f_3 + 0.20f_4 \\geq 0.30 * (f_1 + f_2 + f_3 + f_4)$$\n",
    "$$0.20f_1 + 0.60f_2 + 0.35f_3 + 0.20f_4 \\geq 0.15 * (f_1 + f_2 + f_3 + f_4)$$\n",
    "$$s - \\alpha0.50f_1 - \\alpha0.30f_2 - \\alpha0.25f_3 - \\alpha0.60f_4 \\geq 0$$\n",
    "$$$$\n",
    "$$f_1,f_2,f_3,f_4,s \\geq 0$$"
   ]
  },
  {
   "cell_type": "markdown",
   "metadata": {},
   "source": [
    "### Solution"
   ]
  },
  {
   "cell_type": "markdown",
   "metadata": {},
   "source": []
  },
  {
   "cell_type": "markdown",
   "metadata": {},
   "source": [
    "## Problem 2 -- Linear Programming Duality (Based on Exercise 2.3 in Textbook) (10 Points)\n",
    "\n",
    "Consider a Linear Program of the Form:\n",
    "$$\\max c^Tx$$\n",
    "$$\\mathrm{s.t.} \\; Ax\\leq b$$\n",
    "$$x \\geq 0$$\n",
    "where\n",
    "$$A = \\begin{pmatrix}\n",
    "1 & 1 & 1 & 1 & 1\\\\\n",
    "5 & 4 & 3 & 2 & 1\\\\\n",
    "\\end{pmatrix},\\;\\;\\; b = \\begin{pmatrix}\n",
    "3\\\\\n",
    "14\\\\\n",
    "\\end{pmatrix},\\;\\;\\;\n",
    "c=\\begin{pmatrix}\n",
    "6\\\\\n",
    "5\\\\\n",
    "4\\\\\n",
    "3\\\\\n",
    "2\\\\\n",
    "1\\\\\n",
    "\\end{pmatrix}$$\n",
    "First, obtain the dual of this problem. Now solve the dual problem that you obtain using your favorite solver. Does the objective of the dual LP tells you something about the objective value of the original problem?\n",
    "\n",
    "\n",
    "*Hint*: notice that the problem is in “dual form”, so in a sense you are really looking for the primal associated to this dual  \n",
    "*Note*: because it has only two variables, you could also solve the problem by the graphical method"
   ]
  },
  {
   "cell_type": "markdown",
   "metadata": {},
   "source": [
    "### Solution"
   ]
  },
  {
   "cell_type": "markdown",
   "metadata": {},
   "source": []
  },
  {
   "cell_type": "code",
   "execution_count": null,
   "metadata": {},
   "outputs": [],
   "source": [
    "'''Code Block'''"
   ]
  },
  {
   "cell_type": "markdown",
   "metadata": {},
   "source": [
    "## Problem 3 -- Dedication and Immunization portfolios (Based on Excercise 3.1 in the Textbook 3.1) (50 Points)\n",
    "\n",
    "You need to create a portfolio to cover the following stream of liabilities for the next six future periods:\n",
    "\n",
    "| Period | 1 | 2 | 3 | 4 | 5 | 6 |\n",
    "| -- | -- | -- | -- | -- | -- | -- |\n",
    "| Liability | 500 | 200 | 800 | 200 | 800 | 1200 |\n",
    "\n",
    "For that purpose, you may purchase the bonds in Table 1.\n",
    "\n",
    "The term structure of risk-free insterest rate is (to be used for Immunization Constraints)\n",
    "\n",
    "| Period | 1 | 2 | 3 | 4 | 5 | 6 |\n",
    "| -- | -- | -- | -- | -- | -- | -- |\n",
    "| Rate | 5.04% | 5.94% | 6.36% | 7.18% | 7.89% | 8.39% |\n",
    "\n",
    "### Part (a) -- Dedication (10 Points)\n",
    "Formulate a linear programming model to find the lowest-cost long-only (only buy bonds) dedicated portfolio that covers the stream of liabilities with the bonds above. Assume that surplus balances can be carried from one period to the next but earn no interest. What is the cost of your portfolio? What is the composition of your portfolio?\n",
    "\n",
    "*Table 1*\n",
    "| Bond | 1 | 2 | 3 | 4 | 5 | 6 | Price |\n",
    "| -- | -- | -- | -- | -- | -- | -- | -- |\n",
    "| 1 | 10 | 10 | 10 | 10 | 10 | 110 | 109 |\n",
    "| 2 | 7 | 7 | 7 | 7 | 7 | 107 | 94.8 |\n",
    "| 3 | 8 | 8 | 8 | 8 | 8 | 108 | 99.5 |\n",
    "| 4 | 6 | 6 | 6 | 6 | 106 | 0 | 93.1 |\n",
    "| 5 | 7 | 7 | 7 | 7 | 107 | 0 | 97.2 |\n",
    "| 6 | 6 | 6 | 6 | 106 | 0 | 0 | 93.1 |\n",
    "| 7 | 5 | 5 | 5 | 105 | 0 | 0 | 97.2 |\n",
    "| 8 | 10 | 10 | 110 | 0 | 0 | 0 | 110 |\n",
    "| 9 | 8 | 8 | 108 | 0 | 0 | 0 | 104 |\n",
    "| 10 | 6 | 6 | 106 | 0 | 0 | 0 | 101 |\n",
    "| 11 | 10 | 110 | 0 | 0 | 0 | 0 | 107 |\n",
    "| 12 | 7 | 107 | 0 | 0 | 0 | 0 | 102 |\n",
    "| 13 | 100 | 0 | 0 | 0 | 0 | 0 | 95.2 |\n",
    "\n",
    "### Part (b) -- Term Structure (5 Points)\n",
    "Use the linear programming sensitivity information obtained by solving the problem in Part (a) to determine the implied term structure of interest rates\n",
    "\n",
    "### Part (c) -- Overpriced Bonds (5 Points)\n",
    "Using sensitivity analysis information, and in particular the reduced costs associated to the different bonds, can you identify bonds that are overpriced? By how much? Briefly explain.\n",
    "\n",
    "### Part (d) -- Term Structure cont. (5 Points)\n",
    "Suppose the streams of liabilities changes to\n",
    "\n",
    "| Period | 1 | 2 | 3 | 4 | 5 | 6 |\n",
    "| -- | -- | -- | -- | -- | -- | -- |\n",
    "| Liability | 500 | 200 | 800 | 200 | 800 | 1200 |\n",
    "\n",
    "Find the new optimal dedicated portfolio and determine its associated new implied term structure. Is it different from the one you obtained in Part (b)? Can you provide an intuitive explanation for the difference or lack of thereof?\n",
    "\n",
    "### Part (e) -- Immunization (25 Points)\n",
    "Using the problem's original data:\n",
    "\n",
    "#### Sub-Part (i) -- (10 Points)\n",
    "Find the lowest cost portfolio that matches the present value and duration of the stream of liabilities.\n",
    "\n",
    "#### Sub-Part (ii) -- (5 Points)\n",
    "Compare the costs and the cash flow streams vs liabilities of both the Dedication and Immunized portfolio. Discuss the trade-offs of each solution. Briefly explain which portfolio would you prefer.\n",
    "\n",
    "#### Sub-Part (iii) -- (10 Points)\n",
    "How does the present value of the Immunized portfolio change if the current rates decrease (all) by 1 percentage point? How does the present value of the Immunized portfolio change if the current rates increase (all) by 1 percentage point? How does the present value of the Immunized portfolio change if the current rates of periods 1, 2 decrease by 1%, of periods 3, 4, 5 increase by 1%, and of period 6 decreases by 1%. Can you draw any conclusions from your results.\n"
   ]
  },
  {
   "cell_type": "markdown",
   "metadata": {},
   "source": [
    "### Solution to Part (a)"
   ]
  },
  {
   "cell_type": "markdown",
   "metadata": {},
   "source": []
  },
  {
   "cell_type": "code",
   "execution_count": null,
   "metadata": {},
   "outputs": [],
   "source": [
    "'''Code Block'''"
   ]
  },
  {
   "cell_type": "markdown",
   "metadata": {},
   "source": [
    "### Solution to Part (b)"
   ]
  },
  {
   "cell_type": "markdown",
   "metadata": {},
   "source": []
  },
  {
   "cell_type": "code",
   "execution_count": null,
   "metadata": {},
   "outputs": [],
   "source": [
    "'''Code Block'''"
   ]
  },
  {
   "cell_type": "markdown",
   "metadata": {},
   "source": [
    "### Solution to Part (c)"
   ]
  },
  {
   "cell_type": "markdown",
   "metadata": {},
   "source": []
  },
  {
   "cell_type": "code",
   "execution_count": null,
   "metadata": {},
   "outputs": [],
   "source": [
    "'''Code Block'''"
   ]
  },
  {
   "cell_type": "markdown",
   "metadata": {},
   "source": [
    "### Solution to Part (d)"
   ]
  },
  {
   "cell_type": "markdown",
   "metadata": {},
   "source": []
  },
  {
   "cell_type": "code",
   "execution_count": null,
   "metadata": {},
   "outputs": [],
   "source": [
    "'''Code Block'''"
   ]
  },
  {
   "cell_type": "markdown",
   "metadata": {},
   "source": [
    "### Solution to Part (e)"
   ]
  },
  {
   "cell_type": "markdown",
   "metadata": {},
   "source": [
    "#### Solution to Sub Part (i)"
   ]
  },
  {
   "cell_type": "markdown",
   "metadata": {},
   "source": []
  },
  {
   "cell_type": "code",
   "execution_count": null,
   "metadata": {},
   "outputs": [],
   "source": [
    "'''Code Block'''"
   ]
  },
  {
   "cell_type": "markdown",
   "metadata": {},
   "source": [
    "#### Solution to Sub Part (ii)"
   ]
  },
  {
   "cell_type": "markdown",
   "metadata": {},
   "source": []
  },
  {
   "cell_type": "code",
   "execution_count": null,
   "metadata": {},
   "outputs": [],
   "source": [
    "'''Code Block'''"
   ]
  },
  {
   "cell_type": "markdown",
   "metadata": {},
   "source": [
    "#### Solution to Sub Part (iii)"
   ]
  },
  {
   "cell_type": "markdown",
   "metadata": {},
   "source": []
  },
  {
   "cell_type": "code",
   "execution_count": null,
   "metadata": {},
   "outputs": [],
   "source": [
    "'''Code Block'''"
   ]
  },
  {
   "cell_type": "markdown",
   "metadata": {},
   "source": [
    "## Problem 4 -- Dedication with Bond Ratings (Based on Exercise 3.1 in the Textbook) (10 Points)\n",
    "Consider basically the same instance of the Dedication portfolio considered in the previous question. However, now the prices of the bonds are a bit different, and for each bond, we are giving his risk rating (think of Moody’s or Bloomberg ratings).\n",
    "\n",
    "| Bond | 1 | 2 | 3 | 4 | 5 | 6 | 7 | 8 | 9 | 10 | 11 | 12 | 13 |\n",
    "| -- | -- | -- | -- | -- | -- | -- | -- | -- | -- | -- | -- | -- | -- |\n",
    "| Price | 108 | 94 | 99 | 92.7 | 96.6 | 95.9 | 92.9 | 100 | 104 | 101 | 107 | 102 | 95.2 |\n",
    "| Rating | B | B | B | B | B | B | A | A | A | A | A | A | A |\n",
    "\n",
    "Solve the Dedication portfolio problem of the previous question with the new prices, but this time assume that at most 50% of the money that you invest in Bonds should be allocated to “B” rated Bonds. What is the cost of your portfolio? What is the composition of your portfolio."
   ]
  },
  {
   "cell_type": "markdown",
   "metadata": {},
   "source": [
    "### Solution"
   ]
  },
  {
   "cell_type": "markdown",
   "metadata": {},
   "source": []
  },
  {
   "cell_type": "code",
   "execution_count": null,
   "metadata": {},
   "outputs": [],
   "source": [
    "'''Code Block'''"
   ]
  },
  {
   "cell_type": "markdown",
   "metadata": {},
   "source": [
    "## Problem 4 -- Other Liability Management Problem (Based on Exercise 3.4/3.5 in the Textbook) (10 Points)\n",
    "A company will face the following cash requirement in the next eight quarters (positive numbers indicate cash needs while negative entries represent cash surpluses):\n",
    "\n",
    "| Period | Q1 | Q2 | Q3 | Q4 | Q5 | Q6 | Q7 | Q8 |\n",
    "| -- | -- | -- | -- | -- | -- | -- | -- | -- |\n",
    "| Liability/Surplus | 100 | 500 | 100 | -600 | -500 | 200 | 600 | -900 |\n",
    "\n",
    "To cover cash needs, the company has three borrowing possibilities:  \n",
    "* A 2-year loan available at the beginning of Q1, with a 1% interest rate per quarter  \n",
    "* The other two borrowing opportunities are available at the beginning of every quarter: a 6-month loan with 1.8% interest rate per quarter, and a quarterly loan with 2.5% interest per quarter  \n",
    "* Any surplus can be invested at a 0.5% interest rate per quarter\n",
    "\n",
    "### Part (a) -- (5 Points)\n",
    "Formulate a linear program that maximizes the wealth of the company at the beginning of Q9\n",
    "\n",
    "### Part (b) -- (5 Points)\n",
    "Using your favorite solver, solve the liability management problem above, and find out the dual values associated to each of the balance per quarter constraints. Use the latter information to solve the following question: Supose that the cash requirement in Q2 is 300 (instead of 500). Use the shadow price associated to the Q2 balance constraint to find out by how much would the wealth in Q9 would change.\n"
   ]
  },
  {
   "cell_type": "markdown",
   "metadata": {},
   "source": [
    "### Solution to Part (a)"
   ]
  },
  {
   "cell_type": "markdown",
   "metadata": {},
   "source": []
  },
  {
   "cell_type": "code",
   "execution_count": null,
   "metadata": {},
   "outputs": [],
   "source": [
    "'''Code Block'''"
   ]
  },
  {
   "cell_type": "markdown",
   "metadata": {},
   "source": [
    "### Solution to Part (b)"
   ]
  },
  {
   "cell_type": "markdown",
   "metadata": {},
   "source": []
  },
  {
   "cell_type": "code",
   "execution_count": null,
   "metadata": {},
   "outputs": [],
   "source": [
    "'''Code Block'''"
   ]
  },
  {
   "cell_type": "markdown",
   "metadata": {},
   "source": [
    "## Problem 6 -- Home Financing Problem (Based on Exercise 3.6 in the Textbook) (10 Points)\n",
    "A home buyer can combine several mortgage loans to finance the purchase of a house. Regulations impose limits on the amount that can be borrowed from certain sources as well as a limit on the total reimbursement each\n",
    "month. Let $B$ be the borrowing needs at $T$ the nmber of months over which the loans will be paid back. There are $n$ different loan opportunities available. Loan $i$ has a fixed interest rate $t_i$, and length $T_i ≤ T$ and a maximum amount borrowed $b_i$. The monthly payment $m_i$ is required each month. Furthermore,\n",
    "we would like the total monthly payment $p$ over all loans to be constant. Formulate a linear program that\n",
    "finds a combination of the loans that minimizes the home buyer’s cost of borrowing.\n",
    "\n",
    "*Hint*: In addition to variables $x_t_i$ for the the payment of loan $i$ in month $t$, it may be useful to introduce a variable for the amount of outstanding principal on loan $i$ in month $t$.\n"
   ]
  },
  {
   "cell_type": "markdown",
   "metadata": {},
   "source": [
    "### Solution"
   ]
  },
  {
   "cell_type": "markdown",
   "metadata": {},
   "source": []
  },
  {
   "cell_type": "code",
   "execution_count": null,
   "metadata": {},
   "outputs": [],
   "source": [
    "'''Code Block'''"
   ]
  }
 ],
 "metadata": {
  "language_info": {
   "name": "python"
  },
  "orig_nbformat": 4
 },
 "nbformat": 4,
 "nbformat_minor": 2
}
