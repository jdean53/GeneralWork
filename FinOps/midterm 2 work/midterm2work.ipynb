{
 "cells": [
  {
   "cell_type": "markdown",
   "metadata": {},
   "source": [
    "# Midterm 2 Computer Work"
   ]
  },
  {
   "cell_type": "code",
   "execution_count": 1,
   "metadata": {},
   "outputs": [],
   "source": [
    "'''\n",
    "Packages Used\n",
    "'''\n",
    "\n",
    "import pandas as pd\n",
    "import numpy as np\n",
    "\n",
    "from pulp import *\n",
    "import riskfolio as rp\n",
    "import quadprog\n",
    "\n",
    "import FinOpsCodeDeck as finops\n",
    "\n",
    "import matplotlib.pyplot as plt"
   ]
  },
  {
   "cell_type": "code",
   "execution_count": 2,
   "metadata": {},
   "outputs": [
    {
     "data": {
      "text/html": [
       "<div>\n",
       "<style scoped>\n",
       "    .dataframe tbody tr th:only-of-type {\n",
       "        vertical-align: middle;\n",
       "    }\n",
       "\n",
       "    .dataframe tbody tr th {\n",
       "        vertical-align: top;\n",
       "    }\n",
       "\n",
       "    .dataframe thead th {\n",
       "        text-align: right;\n",
       "    }\n",
       "</style>\n",
       "<table border=\"1\" class=\"dataframe\">\n",
       "  <thead>\n",
       "    <tr style=\"text-align: right;\">\n",
       "      <th></th>\n",
       "      <th>MSFT</th>\n",
       "      <th>GE</th>\n",
       "      <th>GM</th>\n",
       "    </tr>\n",
       "    <tr>\n",
       "      <th>Year</th>\n",
       "      <th></th>\n",
       "      <th></th>\n",
       "      <th></th>\n",
       "    </tr>\n",
       "  </thead>\n",
       "  <tbody>\n",
       "    <tr>\n",
       "      <th>1</th>\n",
       "      <td>0.51</td>\n",
       "      <td>0.58</td>\n",
       "      <td>0.31</td>\n",
       "    </tr>\n",
       "    <tr>\n",
       "      <th>2</th>\n",
       "      <td>1.11</td>\n",
       "      <td>0.39</td>\n",
       "      <td>2.22</td>\n",
       "    </tr>\n",
       "    <tr>\n",
       "      <th>3</th>\n",
       "      <td>0.62</td>\n",
       "      <td>0.77</td>\n",
       "      <td>0.78</td>\n",
       "    </tr>\n",
       "    <tr>\n",
       "      <th>4</th>\n",
       "      <td>0.78</td>\n",
       "      <td>1.19</td>\n",
       "      <td>-0.38</td>\n",
       "    </tr>\n",
       "    <tr>\n",
       "      <th>5</th>\n",
       "      <td>-0.76</td>\n",
       "      <td>1.07</td>\n",
       "      <td>1.43</td>\n",
       "    </tr>\n",
       "    <tr>\n",
       "      <th>6</th>\n",
       "      <td>0.59</td>\n",
       "      <td>1.13</td>\n",
       "      <td>1.02</td>\n",
       "    </tr>\n",
       "    <tr>\n",
       "      <th>7</th>\n",
       "      <td>0.57</td>\n",
       "      <td>0.42</td>\n",
       "      <td>-0.79</td>\n",
       "    </tr>\n",
       "    <tr>\n",
       "      <th>8</th>\n",
       "      <td>0.22</td>\n",
       "      <td>-1.44</td>\n",
       "      <td>2.39</td>\n",
       "    </tr>\n",
       "    <tr>\n",
       "      <th>9</th>\n",
       "      <td>0.62</td>\n",
       "      <td>0.71</td>\n",
       "      <td>-0.98</td>\n",
       "    </tr>\n",
       "    <tr>\n",
       "      <th>10</th>\n",
       "      <td>-0.32</td>\n",
       "      <td>0.34</td>\n",
       "      <td>0.59</td>\n",
       "    </tr>\n",
       "    <tr>\n",
       "      <th>11</th>\n",
       "      <td>1.06</td>\n",
       "      <td>-0.89</td>\n",
       "      <td>0.27</td>\n",
       "    </tr>\n",
       "    <tr>\n",
       "      <th>12</th>\n",
       "      <td>0.90</td>\n",
       "      <td>0.99</td>\n",
       "      <td>1.63</td>\n",
       "    </tr>\n",
       "  </tbody>\n",
       "</table>\n",
       "</div>"
      ],
      "text/plain": [
       "      MSFT    GE    GM\n",
       "Year                  \n",
       "1     0.51  0.58  0.31\n",
       "2     1.11  0.39  2.22\n",
       "3     0.62  0.77  0.78\n",
       "4     0.78  1.19 -0.38\n",
       "5    -0.76  1.07  1.43\n",
       "6     0.59  1.13  1.02\n",
       "7     0.57  0.42 -0.79\n",
       "8     0.22 -1.44  2.39\n",
       "9     0.62  0.71 -0.98\n",
       "10   -0.32  0.34  0.59\n",
       "11    1.06 -0.89  0.27\n",
       "12    0.90  0.99  1.63"
      ]
     },
     "execution_count": 2,
     "metadata": {},
     "output_type": "execute_result"
    }
   ],
   "source": [
    "'''\n",
    "given data\n",
    "'''\n",
    "annum_ret_a = pd.read_csv('Annual_Returns_AAA.csv',index_col='Year')\n",
    "annum_ret_b = pd.read_csv('Annual_Returns_BBB.csv',index_col='Year')\n",
    "annum_ret_a"
   ]
  },
  {
   "cell_type": "markdown",
   "metadata": {},
   "source": [
    "# Question 1"
   ]
  },
  {
   "cell_type": "code",
   "execution_count": 3,
   "metadata": {},
   "outputs": [
    {
     "name": "stdout",
     "output_type": "stream",
     "text": [
      "The given matrix is Positive Semi Definite\n"
     ]
    }
   ],
   "source": [
    "'''\n",
    "Question 1 part b\n",
    "'''\n",
    "M = np.array([[1,-1,0],[-1,4,-2],[0,-2,3]])\n",
    "finops.positive_semi_definite(M)"
   ]
  },
  {
   "cell_type": "markdown",
   "metadata": {},
   "source": [
    "# Question 2"
   ]
  },
  {
   "cell_type": "code",
   "execution_count": 4,
   "metadata": {},
   "outputs": [
    {
     "data": {
      "text/plain": [
       "0.4383333333333333"
      ]
     },
     "execution_count": 4,
     "metadata": {},
     "output_type": "execute_result"
    }
   ],
   "source": [
    "'''Question 2 part a'''\n",
    "annum_ret_a['GE'].mean()"
   ]
  },
  {
   "cell_type": "code",
   "execution_count": 5,
   "metadata": {},
   "outputs": [
    {
     "data": {
      "text/html": [
       "<div>\n",
       "<style scoped>\n",
       "    .dataframe tbody tr th:only-of-type {\n",
       "        vertical-align: middle;\n",
       "    }\n",
       "\n",
       "    .dataframe tbody tr th {\n",
       "        vertical-align: top;\n",
       "    }\n",
       "\n",
       "    .dataframe thead th {\n",
       "        text-align: right;\n",
       "    }\n",
       "</style>\n",
       "<table border=\"1\" class=\"dataframe\">\n",
       "  <thead>\n",
       "    <tr style=\"text-align: right;\">\n",
       "      <th></th>\n",
       "      <th>MSFT</th>\n",
       "      <th>GE</th>\n",
       "      <th>GM</th>\n",
       "    </tr>\n",
       "  </thead>\n",
       "  <tbody>\n",
       "    <tr>\n",
       "      <th>MSFT</th>\n",
       "      <td>0.300324</td>\n",
       "      <td>-0.036070</td>\n",
       "      <td>-0.074314</td>\n",
       "    </tr>\n",
       "    <tr>\n",
       "      <th>GE</th>\n",
       "      <td>-0.036070</td>\n",
       "      <td>0.659597</td>\n",
       "      <td>-0.249086</td>\n",
       "    </tr>\n",
       "    <tr>\n",
       "      <th>GM</th>\n",
       "      <td>-0.074314</td>\n",
       "      <td>-0.249086</td>\n",
       "      <td>1.202766</td>\n",
       "    </tr>\n",
       "  </tbody>\n",
       "</table>\n",
       "</div>"
      ],
      "text/plain": [
       "          MSFT        GE        GM\n",
       "MSFT  0.300324 -0.036070 -0.074314\n",
       "GE   -0.036070  0.659597 -0.249086\n",
       "GM   -0.074314 -0.249086  1.202766"
      ]
     },
     "execution_count": 5,
     "metadata": {},
     "output_type": "execute_result"
    }
   ],
   "source": [
    "'''question 2 part b'''\n",
    "annum_ret_a.cov()"
   ]
  },
  {
   "cell_type": "code",
   "execution_count": 6,
   "metadata": {},
   "outputs": [
    {
     "name": "stdout",
     "output_type": "stream",
     "text": [
      "The given matrix is Positive Semi Definite\n"
     ]
    }
   ],
   "source": [
    "'''Quesion 2 part c'''\n",
    "finops.positive_semi_definite(annum_ret_a[['MSFT','GM']].cov())  # Function checks Eigen values"
   ]
  },
  {
   "cell_type": "markdown",
   "metadata": {},
   "source": [
    "# Question 3"
   ]
  },
  {
   "cell_type": "code",
   "execution_count": 7,
   "metadata": {},
   "outputs": [
    {
     "name": "stdout",
     "output_type": "stream",
     "text": [
      "0.54745 0.7074999999999999\n",
      "0.16314821909090915 1.202765909090909\n"
     ]
    }
   ],
   "source": [
    "'''question 3 part a'''\n",
    "alloc_diverse = np.array([0.33,0.33,0.34])\n",
    "alloc_risky = np.array([0,0,1])\n",
    "\n",
    "mu_diverse = sum(annum_ret_a.mean().to_numpy() * alloc_diverse)\n",
    "mu_risky = sum(annum_ret_a.mean().to_numpy() * alloc_risky)\n",
    "print(mu_diverse, mu_risky)\n",
    "\n",
    "sigma_diverse = np.matmul(np.matmul(alloc_diverse,annum_ret_a.cov().to_numpy()), alloc_diverse)\n",
    "sigma_risky = np.matmul(np.matmul(alloc_risky,annum_ret_a.cov().to_numpy()), alloc_risky)\n",
    "print(sigma_diverse, sigma_risky)"
   ]
  },
  {
   "cell_type": "markdown",
   "metadata": {},
   "source": [
    "# Question 5"
   ]
  },
  {
   "cell_type": "code",
   "execution_count": 8,
   "metadata": {},
   "outputs": [],
   "source": [
    "'''Constraint matrix'''\n",
    "A = np.zeros((3,3))\n",
    "np.fill_diagonal(A,1)\n",
    "C=np.concatenate((np.ones((1,3)),A,np.reshape(annum_ret_a.mean().to_numpy(),(1,3))))\n",
    "\n",
    "'''Right side'''\n",
    "b=np.zeros(5)\n",
    "b[0]=1\n",
    "\n",
    "'''REQUIRED RETURN HERE'''\n",
    "b[-1] = 0"
   ]
  },
  {
   "cell_type": "code",
   "execution_count": 9,
   "metadata": {},
   "outputs": [
    {
     "data": {
      "text/plain": [
       "Text(0, 0.5, 'Required Return')"
      ]
     },
     "execution_count": 9,
     "metadata": {},
     "output_type": "execute_result"
    },
    {
     "data": {
      "image/png": "[encoded data removed]",
      "text/plain": [
       "<Figure size 432x288 with 1 Axes>"
      ]
     },
     "metadata": {
      "needs_background": "light"
     },
     "output_type": "display_data"
    }
   ],
   "source": [
    "req_returns = range(40,70,1)\n",
    "variance = []\n",
    "sharpe = []\n",
    "for req_return in req_returns:\n",
    "    '''Non-Negativity (0s along main diaganol'''\n",
    "    A = np.zeros((3,3))\n",
    "    np.fill_diagonal(A,1)\n",
    "    '''Adding in the weighting to 1'''\n",
    "    C=np.concatenate((np.ones((1,3)),A,np.reshape(annum_ret_a.mean().to_numpy(),(1,3))))\n",
    "    '''Equality vector - first is equal to 1, last 20 are greater than 0'''\n",
    "    b=np.zeros(5)\n",
    "    b[0]=1\n",
    "    b[-1]=req_return/100\n",
    "    alloc, min_var = quadprog.solve_qp(G=annum_ret_a.cov().to_numpy(),a=np.zeros(3),C=np.transpose(C),b=b,meq=1)[:2]\n",
    "    variance.append(min_var)\n",
    "    sharpe.append((req_return/100) / np.sqrt(min_var))\n",
    "\n",
    "plt.plot(np.sqrt(variance),req_returns)\n",
    "plt.title('Efficient Frontier')\n",
    "plt.xlabel('Standard Deviation of Returns')\n",
    "plt.ylabel('Required Return')"
   ]
  },
  {
   "cell_type": "code",
   "execution_count": 10,
   "metadata": {},
   "outputs": [
    {
     "data": {
      "text/plain": [
       "Text(0, 0.5, 'Sharpe Ratio')"
      ]
     },
     "execution_count": 10,
     "metadata": {},
     "output_type": "execute_result"
    },
    {
     "data": {
      "image/png": "[encoded data removed]",
      "text/plain": [
       "<Figure size 432x288 with 1 Axes>"
      ]
     },
     "metadata": {
      "needs_background": "light"
     },
     "output_type": "display_data"
    }
   ],
   "source": [
    "pd.options.display.float_format = '{:.2f}'.format\n",
    "sharpe_df = pd.DataFrame(data=sharpe, index=req_returns, columns=['sharpe'])\n",
    "max_sharpe_ret = sharpe_df.idxmax()\n",
    "\n",
    "plt.plot(np.sqrt(variance),sharpe)\n",
    "plt.title('Sharpe Ratio, Maximum Share of {:.2f} with a Return of {:.0f}'.format(sharpe_df.max()[0], max_sharpe_ret[0]))\n",
    "plt.xlabel('Standard Deviation of Returns')\n",
    "plt.ylabel('Sharpe Ratio')"
   ]
  },
  {
   "cell_type": "code",
   "execution_count": 11,
   "metadata": {},
   "outputs": [
    {
     "data": {
      "text/plain": [
       "array([0.48534556, 0.27026471, 0.24438973])"
      ]
     },
     "execution_count": 11,
     "metadata": {},
     "output_type": "execute_result"
    }
   ],
   "source": [
    "'''Non-Negativity (0s along main diaganol'''\n",
    "A = np.zeros((3,3))\n",
    "np.fill_diagonal(A,1)\n",
    "'''Adding in the weighting to 1'''\n",
    "C=np.concatenate((np.ones((1,3)),A,np.reshape(annum_ret_a.mean().to_numpy(),(1,3))))\n",
    "'''Equality vector - first is equal to 1, last 20 are greater than 0'''\n",
    "b=np.zeros(5)\n",
    "b[0]=1\n",
    "b[-1]=53/100\n",
    "alloc, min_var = quadprog.solve_qp(G=annum_ret_a.cov().to_numpy(),a=np.zeros(3),C=np.transpose(C),b=b,meq=1)[:2]\n",
    "alloc"
   ]
  },
  {
   "cell_type": "code",
   "execution_count": 12,
   "metadata": {},
   "outputs": [
    {
     "data": {
      "text/plain": [
       "0.5299999999999999"
      ]
     },
     "execution_count": 12,
     "metadata": {},
     "output_type": "execute_result"
    }
   ],
   "source": [
    "sum(alloc * annum_ret_a.mean())"
   ]
  },
  {
   "cell_type": "markdown",
   "metadata": {},
   "source": [
    "# Question 6"
   ]
  },
  {
   "cell_type": "code",
   "execution_count": 13,
   "metadata": {},
   "outputs": [
    {
     "data": {
      "text/html": [
       "<div>\n",
       "<style scoped>\n",
       "    .dataframe tbody tr th:only-of-type {\n",
       "        vertical-align: middle;\n",
       "    }\n",
       "\n",
       "    .dataframe tbody tr th {\n",
       "        vertical-align: top;\n",
       "    }\n",
       "\n",
       "    .dataframe thead th {\n",
       "        text-align: right;\n",
       "    }\n",
       "</style>\n",
       "<table border=\"1\" class=\"dataframe\">\n",
       "  <thead>\n",
       "    <tr style=\"text-align: right;\">\n",
       "      <th></th>\n",
       "      <th>weights</th>\n",
       "    </tr>\n",
       "  </thead>\n",
       "  <tbody>\n",
       "    <tr>\n",
       "      <th>MSFT</th>\n",
       "      <td>0.51</td>\n",
       "    </tr>\n",
       "    <tr>\n",
       "      <th>GE</th>\n",
       "      <td>0.19</td>\n",
       "    </tr>\n",
       "    <tr>\n",
       "      <th>GM</th>\n",
       "      <td>0.30</td>\n",
       "    </tr>\n",
       "  </tbody>\n",
       "</table>\n",
       "</div>"
      ],
      "text/plain": [
       "      weights\n",
       "MSFT     0.51\n",
       "GE       0.19\n",
       "GM       0.30"
      ]
     },
     "execution_count": 13,
     "metadata": {},
     "output_type": "execute_result"
    }
   ],
   "source": [
    "mu_0 = annum_ret_a.mean().mean()\n",
    "port = rp.Portfolio(returns=annum_ret_a, lowerret=mu_0)\n",
    "port.assets_stats(method_mu='hist',method_cov='hist')\n",
    "w = port.optimization(model='Classic', rm='MAD', obj='MinRisk',rf=0,hist=True,l=0)\n",
    "w"
   ]
  },
  {
   "cell_type": "code",
   "execution_count": 14,
   "metadata": {},
   "outputs": [
    {
     "data": {
      "text/plain": [
       "0.5458333332998343"
      ]
     },
     "execution_count": 14,
     "metadata": {},
     "output_type": "execute_result"
    }
   ],
   "source": [
    "sum(w.to_numpy().squeeze() * annum_ret_a.mean().to_numpy())"
   ]
  }
 ],
 "metadata": {
  "interpreter": {
   "hash": "702e518b60c67dbd3b0638a510bff2830380600f50d13e8fcb105f9ecc05fb71"
  },
  "kernelspec": {
   "display_name": "Python 3.9.6 64-bit",
   "language": "python",
   "name": "python3"
  },
  "language_info": {
   "codemirror_mode": {
    "name": "ipython",
    "version": 3
   },
   "file_extension": ".py",
   "mimetype": "text/x-python",
   "name": "python",
   "nbconvert_exporter": "python",
   "pygments_lexer": "ipython3",
   "version": "3.9.6"
  },
  "orig_nbformat": 4
 },
 "nbformat": 4,
 "nbformat_minor": 2
}
