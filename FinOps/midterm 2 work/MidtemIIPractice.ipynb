{
 "cells": [
  {
   "cell_type": "code",
   "execution_count": 23,
   "metadata": {},
   "outputs": [],
   "source": [
    "import pandas as pd\n",
    "import numpy as np\n",
    "\n",
    "import riskfolio as rp\n",
    "\n",
    "import FinOpsCodeDeck as finops"
   ]
  },
  {
   "cell_type": "code",
   "execution_count": 4,
   "metadata": {},
   "outputs": [],
   "source": [
    "'''\n",
    "Create Data Structure for annual returns\n",
    "---\n",
    "USED IN:  \n",
    "    * Question 1\n",
    "    * Question 2\n",
    "'''\n",
    "years   = [    1,     2,     3,     4,     5,     6,     7,     8,     9,    10,    11,    12]      # Year Index\n",
    "ibc_ret = [ 0.11,  0.11,  0.12, -0.02, -0.04,  0.09,  0.07,  0.12,  0.08,  0.08,  0.06,  0.10]\n",
    "nmc_ret = [ 0.08,  0.09,  0.07,  0.19,  0.07,  0.13,  0.22,  0.14,  0.21,  0.14,  0.19,  0.09]\n",
    "nbs_ret = [ 0.11,  0.22,  0.38, -0.12,  0.13, -0.08,  0.09,  0.49, -0.02,  0.19, -0.03,  0.43]\n",
    "\n",
    "annum_ret_df = pd.DataFrame(index=years)\n",
    "annum_ret_df['ibc'] = ibc_ret\n",
    "annum_ret_df['nmc'] = nmc_ret\n",
    "annum_ret_df['nbs'] = nbs_ret"
   ]
  },
  {
   "cell_type": "markdown",
   "metadata": {},
   "source": [
    "## Question 1"
   ]
  },
  {
   "cell_type": "code",
   "execution_count": 10,
   "metadata": {},
   "outputs": [
    {
     "data": {
      "text/html": [
       "<div>\n",
       "<style scoped>\n",
       "    .dataframe tbody tr th:only-of-type {\n",
       "        vertical-align: middle;\n",
       "    }\n",
       "\n",
       "    .dataframe tbody tr th {\n",
       "        vertical-align: top;\n",
       "    }\n",
       "\n",
       "    .dataframe thead th {\n",
       "        text-align: right;\n",
       "    }\n",
       "</style>\n",
       "<table border=\"1\" class=\"dataframe\">\n",
       "  <thead>\n",
       "    <tr style=\"text-align: right;\">\n",
       "      <th></th>\n",
       "      <th>ibc</th>\n",
       "      <th>nmc</th>\n",
       "      <th>nbs</th>\n",
       "    </tr>\n",
       "  </thead>\n",
       "  <tbody>\n",
       "    <tr>\n",
       "      <th>ibc</th>\n",
       "      <td>0.002715</td>\n",
       "      <td>-0.000545</td>\n",
       "      <td>0.005503</td>\n",
       "    </tr>\n",
       "    <tr>\n",
       "      <th>nmc</th>\n",
       "      <td>-0.000545</td>\n",
       "      <td>0.003136</td>\n",
       "      <td>-0.006068</td>\n",
       "    </tr>\n",
       "    <tr>\n",
       "      <th>nbs</th>\n",
       "      <td>0.005503</td>\n",
       "      <td>-0.006068</td>\n",
       "      <td>0.040554</td>\n",
       "    </tr>\n",
       "  </tbody>\n",
       "</table>\n",
       "</div>"
      ],
      "text/plain": [
       "          ibc       nmc       nbs\n",
       "ibc  0.002715 -0.000545  0.005503\n",
       "nmc -0.000545  0.003136 -0.006068\n",
       "nbs  0.005503 -0.006068  0.040554"
      ]
     },
     "execution_count": 10,
     "metadata": {},
     "output_type": "execute_result"
    }
   ],
   "source": [
    "'''\n",
    "Covariance Matrix\n",
    "'''\n",
    "Sigma = annum_ret_df.cov()\n",
    "Sigma"
   ]
  },
  {
   "cell_type": "markdown",
   "metadata": {},
   "source": [
    "## Question 2"
   ]
  },
  {
   "cell_type": "code",
   "execution_count": 18,
   "metadata": {},
   "outputs": [
    {
     "name": "stdout",
     "output_type": "stream",
     "text": [
      "With the set allocation the expected return is 12.31% with standard deviation 5.02%\n"
     ]
    }
   ],
   "source": [
    "alloc = np.array([1/4, 1/2, 1/4])\n",
    "\n",
    "exp_ret = sum(annum_ret_df.mean().to_numpy() * alloc)\n",
    "\n",
    "sigma_sq = np.matmul(np.matmul(alloc, Sigma), alloc)\n",
    "sigma = np.sqrt(sigma_sq)\n",
    "\n",
    "print('With the set allocation the expected return is {:.2%} with standard deviation {:.2%}'.format(exp_ret, sigma))"
   ]
  },
  {
   "cell_type": "markdown",
   "metadata": {},
   "source": [
    "## Question 3"
   ]
  },
  {
   "cell_type": "code",
   "execution_count": 20,
   "metadata": {},
   "outputs": [
    {
     "name": "stdout",
     "output_type": "stream",
     "text": [
      "The given matrix is Positive Semi Definite\n"
     ]
    }
   ],
   "source": [
    "mat = np.array([[ 2,-1, 0],\n",
    "                [-1, 2,-1],\n",
    "                [ 0,-1, 2]])\n",
    "\n",
    "finops.positive_semi_definite(A=mat)"
   ]
  },
  {
   "cell_type": "markdown",
   "metadata": {},
   "source": [
    "## Question 4\n",
    "\n",
    "$$f(x_1,x_2,x_3) = x_2(4x_1-3x_3+1) - x_3(2x_2+10x_3) + 2x_1^2 - 7$$\n",
    "$$f(x_1,x_2,x_3) = 4x_1x_2-3x_2x_3+x_2 - 2x_2x_3 - 10x_3^2 + 2x_1^2 - 7$$\n",
    "$$f(x_1,x_2,x_3) = x^T\\begin{pmatrix} 2 & 2 & 0\\\\\n",
    "2 & 0 & -\\frac{5}{2}\\\\\n",
    "0 & -\\frac{5}{2} & -10\\end{pmatrix}x + \\begin{pmatrix} 0\\\\\n",
    "1\\\\\n",
    "0\\end{pmatrix}x - 7$$\n"
   ]
  },
  {
   "cell_type": "code",
   "execution_count": null,
   "metadata": {},
   "outputs": [],
   "source": []
  },
  {
   "cell_type": "markdown",
   "metadata": {},
   "source": [
    "## Question 9"
   ]
  },
  {
   "cell_type": "code",
   "execution_count": 25,
   "metadata": {},
   "outputs": [],
   "source": [
    "port = rp.Portfolio(returns=annum_ret_df)"
   ]
  },
  {
   "cell_type": "code",
   "execution_count": 26,
   "metadata": {},
   "outputs": [],
   "source": [
    "port.assets_stats(method_mu='hist',method_cov='hist')"
   ]
  },
  {
   "cell_type": "code",
   "execution_count": 29,
   "metadata": {},
   "outputs": [
    {
     "data": {
      "text/html": [
       "<div>\n",
       "<style scoped>\n",
       "    .dataframe tbody tr th:only-of-type {\n",
       "        vertical-align: middle;\n",
       "    }\n",
       "\n",
       "    .dataframe tbody tr th {\n",
       "        vertical-align: top;\n",
       "    }\n",
       "\n",
       "    .dataframe thead th {\n",
       "        text-align: right;\n",
       "    }\n",
       "</style>\n",
       "<table border=\"1\" class=\"dataframe\">\n",
       "  <thead>\n",
       "    <tr style=\"text-align: right;\">\n",
       "      <th></th>\n",
       "      <th>weights</th>\n",
       "    </tr>\n",
       "  </thead>\n",
       "  <tbody>\n",
       "    <tr>\n",
       "      <th>ibc</th>\n",
       "      <td>0.515219</td>\n",
       "    </tr>\n",
       "    <tr>\n",
       "      <th>nmc</th>\n",
       "      <td>0.459540</td>\n",
       "    </tr>\n",
       "    <tr>\n",
       "      <th>nbs</th>\n",
       "      <td>0.025241</td>\n",
       "    </tr>\n",
       "  </tbody>\n",
       "</table>\n",
       "</div>"
      ],
      "text/plain": [
       "      weights\n",
       "ibc  0.515219\n",
       "nmc  0.459540\n",
       "nbs  0.025241"
      ]
     },
     "execution_count": 29,
     "metadata": {},
     "output_type": "execute_result"
    }
   ],
   "source": [
    "w = port.optimization(model='Classic', rm='MAD', obj='MinRisk',rf=0,hist=True,l=0)\n",
    "w"
   ]
  },
  {
   "cell_type": "code",
   "execution_count": 33,
   "metadata": {},
   "outputs": [
    {
     "data": {
      "text/plain": [
       "0.10358574611138244"
      ]
     },
     "execution_count": 33,
     "metadata": {},
     "output_type": "execute_result"
    }
   ],
   "source": [
    "sum(annum_ret_df.mean().to_numpy() * w.to_numpy().squeeze())\n"
   ]
  },
  {
   "cell_type": "code",
   "execution_count": 37,
   "metadata": {},
   "outputs": [
    {
     "data": {
      "text/plain": [
       "0.033955459015620554"
      ]
     },
     "execution_count": 37,
     "metadata": {},
     "output_type": "execute_result"
    }
   ],
   "source": [
    "np.sqrt(np.matmul(np.matmul(w.to_numpy().squeeze(),Sigma), w.to_numpy().squeeze()))"
   ]
  },
  {
   "cell_type": "code",
   "execution_count": 38,
   "metadata": {},
   "outputs": [
    {
     "data": {
      "text/html": [
       "<div>\n",
       "<style scoped>\n",
       "    .dataframe tbody tr th:only-of-type {\n",
       "        vertical-align: middle;\n",
       "    }\n",
       "\n",
       "    .dataframe tbody tr th {\n",
       "        vertical-align: top;\n",
       "    }\n",
       "\n",
       "    .dataframe thead th {\n",
       "        text-align: right;\n",
       "    }\n",
       "</style>\n",
       "<table border=\"1\" class=\"dataframe\">\n",
       "  <thead>\n",
       "    <tr style=\"text-align: right;\">\n",
       "      <th></th>\n",
       "      <th>ibc</th>\n",
       "      <th>nmc</th>\n",
       "      <th>nbs</th>\n",
       "    </tr>\n",
       "  </thead>\n",
       "  <tbody>\n",
       "    <tr>\n",
       "      <th>ibc</th>\n",
       "      <td>0.002715</td>\n",
       "      <td>-0.000545</td>\n",
       "      <td>0.005503</td>\n",
       "    </tr>\n",
       "    <tr>\n",
       "      <th>nmc</th>\n",
       "      <td>-0.000545</td>\n",
       "      <td>0.003136</td>\n",
       "      <td>-0.006068</td>\n",
       "    </tr>\n",
       "    <tr>\n",
       "      <th>nbs</th>\n",
       "      <td>0.005503</td>\n",
       "      <td>-0.006068</td>\n",
       "      <td>0.040554</td>\n",
       "    </tr>\n",
       "  </tbody>\n",
       "</table>\n",
       "</div>"
      ],
      "text/plain": [
       "          ibc       nmc       nbs\n",
       "ibc  0.002715 -0.000545  0.005503\n",
       "nmc -0.000545  0.003136 -0.006068\n",
       "nbs  0.005503 -0.006068  0.040554"
      ]
     },
     "execution_count": 38,
     "metadata": {},
     "output_type": "execute_result"
    }
   ],
   "source": [
    "rp.ParamsEstimation.covar_matrix(annum_ret_df)"
   ]
  },
  {
   "cell_type": "code",
   "execution_count": null,
   "metadata": {},
   "outputs": [],
   "source": []
  }
 ],
 "metadata": {
  "interpreter": {
   "hash": "702e518b60c67dbd3b0638a510bff2830380600f50d13e8fcb105f9ecc05fb71"
  },
  "kernelspec": {
   "display_name": "Python 3.9.6 64-bit",
   "language": "python",
   "name": "python3"
  },
  "language_info": {
   "codemirror_mode": {
    "name": "ipython",
    "version": 3
   },
   "file_extension": ".py",
   "mimetype": "text/x-python",
   "name": "python",
   "nbconvert_exporter": "python",
   "pygments_lexer": "ipython3",
   "version": "3.9.6"
  },
  "orig_nbformat": 4
 },
 "nbformat": 4,
 "nbformat_minor": 2
}
