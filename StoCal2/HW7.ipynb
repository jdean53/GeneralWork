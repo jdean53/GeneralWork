{
 "cells": [
  {
   "cell_type": "markdown",
   "metadata": {},
   "source": [
    "# MATH 469 - StoCal II - Assignment 7\n",
    "\n",
    "Jack Dean"
   ]
  },
  {
   "cell_type": "code",
   "execution_count": 39,
   "metadata": {},
   "outputs": [],
   "source": [
    "import numpy as np\n",
    "import pandas as pd\n",
    "\n",
    "import datetime\n",
    "\n",
    "import matplotlib.pyplot as plt\n",
    "import seaborn as sns\n",
    "\n",
    "import yfinance as yf\n",
    "\n",
    "import StoCalCodeDeck as stocal"
   ]
  },
  {
   "cell_type": "markdown",
   "metadata": {},
   "source": [
    "## Problem 1 - Multi-Stock Model\n",
    "\n",
    "We consider a 2-stock model similar to the one studied in class.  Namely, we consider\n",
    "$$\\begin{cases}\n",
    "S_t^{(1)} = S_0^{(1)} \\mathrm{exp}\\{\\sigma_1B_t^{(1)} + (\\mu_1-\\frac{\\sigma_1^2}{2})t\\}\\\\\n",
    "S_t^{(2)} = S_0^{(2)} \\mathrm{exp}\\{\\sigma_2B_t^{(2)} + (\\mu_2-\\frac{\\sigma_2^2}{2})t\\}\\\\\n",
    "\\end{cases}$$\n",
    "Where $(B_t^{(1)})_{t\\geq0}$ and $(B_t^{(2)})_{t\\geq0}$ are two Brownian motions with\n",
    "$$\\mathrm{Cov}(B_t^{(1)},B_s^{(2)}) = \\rho \\min\\{t,s\\}$$\n",
    "Prove that there exists a 2-dimensional Brownian motion $(\\mathbf{W}_t)_{t\\geq0} = \\begin{pmatrix} W_t^{(1)} & W_t^{(2)}\\end{pmatrix}_{t\\geq0}$ such that\n",
    "$$\\begin{cases}\n",
    "S_t^{(1)} = S_0^{(1)} \\mathrm{exp}\\{\\sigma_{11}W_t^{(1)} + (\\mu_1-\\frac{\\sigma_{11}^2}{2})t\\}\\\\\n",
    "S_t^{(2)} = S_0^{(2)} \\mathrm{exp}\\{\\sigma_{21}W_t^{(1)} + \\sigma_{22}W_t^{(2)} + (\\mu_2-\\frac{\\sigma_{21}^2+\\sigma_{22}^2}{2})t\\}\\\\\n",
    "\\end{cases}$$\n",
    "where $\\sigma_{11},\\sigma_{21},\\sigma_{22}$ are constants to be determined (as functions of $\\sigma_1,\\sigma_2,\\rho$).\n",
    "\n",
    "*Hint*: The constants will follow the formulas developed within the lectures.  To show existence of $(\\mathbf{W}_t)$, first write the expression for both $W_t^{(1)}$ and $W_t^{(2)}$ as functions of $\\begin{pmatrix} B_t^{(1)} & B_t^{(2)}\\end{pmatrix}$.  From there, you need to prove that the process $(\\mathbf{W}_t)$ is actually 2-dimensional standard Brownian motion (i.e. prove that each of them is normal, with mean $0$, variance $t$, and their covariance is 0, which yields independence)"
   ]
  },
  {
   "cell_type": "markdown",
   "metadata": {},
   "source": [
    "### Solution\n",
    "\n",
    "*Proof*.  \n",
    "We wish to show there exists $(\\mathbf{W}_t)_{t\\geq0} = \\begin{pmatrix} W_t^{(1)} & W_t^{(2)}\\end{pmatrix}_{t\\geq0}$ such that\n",
    "$$S_0^{(1)} \\mathrm{exp}\\{\\sigma_1B_t^{(1)} + (\\mu_1-\\frac{\\sigma_1^2}{2})t\\}$$\n",
    "$$= S_0^{(1)} \\mathrm{exp}\\{\\sigma_{1,1}W_t^{(1)} + (\\mu_1-\\frac{\\sigma_{1,1}^2}{2})t\\}$$\n",
    "and\n",
    "$$S_0^{(2)} \\mathrm{exp}\\{\\sigma_2B_t^{(2)} + (\\mu_2-\\frac{\\sigma_2^2}{2})t\\}$$\n",
    "$$= S_0^{(2)} \\mathrm{exp}\\{\\sigma_{2,1}W_t^{(1)} + \\sigma_{2,2}W_t^{(2)} + (\\mu_2-\\frac{\\sigma_{2,1}^2+\\sigma_{2,2}^2}{2})t\\}$$\n",
    "The first equation shows\n",
    "$$\\sigma_1B_t^{(1)} - \\frac{\\sigma_1^2}{2}t = \\sigma_{1,1}W_t^{(1)} - \\frac{\\sigma_{1,1}^2}{2}t$$\n",
    "which implies\n",
    "$$\\sigma_1 = \\sigma_{1,1}\\;\\mathrm{and}\\; B_t^{(1)} = W_t^{(1)}$$\n",
    "The second equation shows\n",
    "$$\\sigma_2B_t^{(2)} - \\frac{\\sigma_2^2}{2}t = \\sigma_{2,1}W_t^{(1)} + \\sigma_{2,2}W_t^{(2)} - (\\frac{\\sigma_{2,1}^2+\\sigma_{2,2}^2}{2})t$$\n",
    "similarly seperating into random and deterministic terms\n",
    "$$\\sigma_2B_t^{(2)} = \\sigma_{2,1}W_t^{(1)} + \\sigma_{2,2}W_t^{(2)} \\;\\mathrm{and}\\; \\sigma_2^2 = \\sigma_{2,1}^2+\\sigma_{2,2}^2$$\n",
    "and recall\n",
    "$$\\mathrm{Cov}(B_t^{(1)},B_s^{(2)}) = \\rho \\min\\{t,s\\}$$\n",
    "We consider\n",
    "$$\\mathrm{Cov}(\\sigma_1B_t^{(1)},\\sigma_2B_t^{(2)}) = \\mathrm{Cov}(\\sigma_{1,1}W_t^{(1)},\\sigma_{2,1}W_t^{(1)} + \\sigma_{2,2}W_t^{(2)})$$\n",
    "which we can simplify to\n",
    "$$\\sigma_1\\sigma_2\\mathrm{Cov}(B_t^{(1)},B_t^{(2)}) = \\sigma_{1,1}\\sigma_{2,1}\\mathrm{Cov}(W_t^{(1)},W_t^{(1)}) + \\sigma_{1,1}\\sigma_{2,2}\\mathrm{Cov}(W_t^{(1)},W_t^{(2)})$$\n",
    "For the sake of this, I will call the second covariance term $\\rho' t$, indicating it is some function of a correlation and the minimum time of the two Brownian motions\n",
    "$$\\sigma_1\\sigma_2\\rho t = \\sigma_{1,1}\\sigma_{2,1}\\mathrm{Var}(W_t^{(1)}) + \\rho' = \\sigma_{1,1}\\sigma_{2,1}t + \\sigma_{2,2}\\rho' t$$\n",
    "and we get the following result\n",
    "$$\\implies \\sigma_2\\rho = \\sigma_{2,1} + \\sigma_{2,2}\\rho'$$\n",
    "We consider the following relationship\n",
    "$$\\sigma_2B_t^{(2)} = \\sigma_{2,1}W_t^{(1)} + \\sigma_{2,2}W_t^{(2)}$$\n",
    "And substitute $B_t^{(1)}$ for $W_t^{(1)}$ to observe the following expression for $W_t^{(2)}$\n",
    "$$\\sigma_2B_t^{(2)} - \\sigma_{2,1}B_t^{(1)} = \\sigma_{2,2}W_t^{(2)}$$\n",
    "Obviously, we can see the expectation of these equations are 0 as their are Brownian motions.  We then consider the second moment\n",
    "$$\\mathbb{E}[(\\sigma_2B_t^{(2)} - \\sigma_{2,1}B_t^{(1)})^2] = \\mathbb{E}[\\sigma_{2,2}^2(W_t^{(2)})^2]$$\n",
    "Expanding these expressions\n",
    "$$\\sigma_2^2\\mathbb{E}[(B_t^{(2)})^2] - 2\\sigma_{2,1}\\sigma_2\\mathbb{E}[B_t^{(2)}B_t^{(1)}] + \\sigma_{2,1}^2\\mathbb{E}[(B_t^{(2)})^2] = \\sigma_{2,2}^2\\mathbb{E}[(W_t^{(2)})^2]$$\n",
    "And we then evaluate these expectations assuming the variance of $W_t^{(2)}$ is $t$ to see\n",
    "$$\\sigma_2^2t - 2\\sigma_{2,1}\\sigma_2\\rho t + \\sigma_{2,1}^2t = \\sigma_{2,2}^2t$$\n",
    "Dividing by $t$ and using the previously derived Covariance result, we see\n",
    "$$\\sigma_2^2 - 2\\sigma_{2,1}(\\sigma_{2,1} + \\sigma_{2,2}\\rho') + \\sigma_{2,1}^2 = \\sigma_{2,2}^2$$\n",
    "Using the fact that $\\sigma_2^2=\\sigma_{2,1}^2+\\sigma_{2,2}^2$, we see\n",
    "$$(\\sigma_{2,1}^2+\\sigma_{2,2}^2)-2\\sigma_{2,1}^2-2\\sigma_{2,1}\\sigma_{2,2}\\rho'+\\sigma_{2,1}^2=\\sigma_{2,2}^2$$\n",
    "And then cancelling terms we arrive at\n",
    "$$2\\sigma_{2,1}\\sigma_{2,2}\\rho' = 0 \\implies \\rho'=0$$\n",
    "Therefore $W_t^{(1)}$ and $W_t^{(2)}$ are independent of each other as their Covariance is 0.  This completes the proof.\n"
   ]
  },
  {
   "cell_type": "markdown",
   "metadata": {},
   "source": [
    "## Problem 2 - Diversified Portfolio\n",
    "\n",
    "The purpose of this problem is to use the multi-stock model described in class on real data. Select the following items:\n",
    "* A market index of your choice (e.g. S&P500, DowJones, Nasdaq, etc...) that suits your asset well, typically the one of which your chosen asset of previous assignments is part. This will be asset #1.  \n",
    "* The asset that you chose for previous assignments. This will be asset #2.  \n",
    "* A different asset that could be considered a competitor of your asset, typically something in the same sector of activities (e.g. with Apple, you could choose Microsoft, or Samsung). This will be asset #3.  \n",
    "* A different asset that you presume should be fairly independent of your asset, typically something in a different sector of activities (e.g. with Apple, you could choose an oil company, or a restaurant chain). This will be asset #4.  \n",
    "\n",
    "For each of these assets, download the daily closing prices over the same time period. Your time period should be at least 3 months in length in order to get sufficiently many data.\n",
    "\n",
    "(a) For each asset, estimate the rate of return $\\mu_i$ and volatility $\\sigma_i$ from the data using the method seen in class.  \n",
    "(b) Estimate the correlation parameters of the model, both in the $B$ form and in the $W$ form.  (i.e. estiamte both $\\rho_{i,j}$, and $\\sigma_{i,j}$.  Recall that $\\rho_{i,j}$ is estimated from the data and $\\sigma_{i,j}$ is calculated from those values)  \n",
    "(c) Deduce the volatility matrix $\\Sigma=\\begin{pmatrix} \\sigma_{i,j} \\end{pmatrix}$ and the correlation matrix $R=\\begin{pmatrix} r_{i,j} \\end{pmatrix}$  \n",
    "(d) Determine the diversification coefficient $d$ of your portfolio.  Comment on the results, in particular how well the index reflects the behavior of the four assets.  \n",
    "(e) Determine which selection of two assets out of the four would give you the largest diversificiation.  \n",
    "\n",
    "*Note*: You are free to use any source for your data and any software/language to work this out. Your score will not depend on the quality of your diversification. There is no need to change your selection to make the results better. Simply provide appropriate comments related to what you first selected."
   ]
  },
  {
   "cell_type": "markdown",
   "metadata": {},
   "source": [
    "### Solution to Part (a)\n",
    "\n",
    "\n"
   ]
  },
  {
   "cell_type": "markdown",
   "metadata": {},
   "source": [
    "I have been tracking the Corporate Bond ETF LQD.  I use the fo\n",
    "\n",
    "* LQD US Equity - Asset I have been tracking  \n",
    "* SPY US Equity - Benchmark  \n",
    "* VCIT US Equity - Close Competitor to LQD  \n",
    "* AMZN US Equity - Large Single Name Tech Equity"
   ]
  },
  {
   "cell_type": "code",
   "execution_count": 41,
   "metadata": {},
   "outputs": [],
   "source": [
    "def multi_stock_data(tick_list, start_date, end_date):\n",
    "    '''\n",
    "    Pulls Adjusted Closing Price for Equity Ticker List  \n",
    "    ---  \n",
    "    Parameters:  \n",
    "    tick_list - (list) List of Equities  \n",
    "    start_date - (str) Date to start pulling data from  \n",
    "    end_data - (str) Date to end data pull, typically today \n",
    "    ---\n",
    "    Returns:  \n",
    "    df - (DataFrame) DataFrame of Adjusted Closing Prices\n",
    "    '''\n",
    "    import yfinance as yf\n",
    "    import pandas as pd\n",
    "\n",
    "    df = pd.DataFrame()\n",
    "    \n",
    "    for ticker in tick_list:\n",
    "        df[ticker] = yf.download(ticker, start_date, end_date)['Adj Close']\n",
    "    \n",
    "    return df"
   ]
  },
  {
   "cell_type": "code",
   "execution_count": 51,
   "metadata": {},
   "outputs": [],
   "source": [
    "def estimate_params_multi_stock(tick_list, df, M):\n",
    "    '''\n",
    "    Estimates Drift, Vol, and Correlation parameters for a Multi Stock B Model  \n",
    "    Feeds functions for parameter estimation of Multi Stock W Model\n",
    "    ---  \n",
    "    Parameters:  \n",
    "    tick_list - (list) List of Equities  \n",
    "    df - (DataFrame) Adjusted Closing Prices of Equities listed (pulled from multi_stock_data() function)  \n",
    "    M - (int) Lookback period (in trading days)  \n",
    "    ---\n",
    "    Returns:  \n",
    "    estimates - (DataFrame) Drift and Vol estimates  \n",
    "    rho - (DataFrame) Correlation Matrix  \n",
    "    '''\n",
    "    import pandas as pd\n",
    "    import numpy as np\n",
    "\n",
    "    if M > len(df):\n",
    "        M = len(df)\n",
    "    else:\n",
    "        pass\n",
    "\n",
    "    y_df = np.log(df) - np.log(df.shift(1))\n",
    "    estimates = pd.DataFrame(columns=tick_list,index=['drift','vol'])\n",
    "    \n",
    "    for ticker in tick_list:\n",
    "        prices = df[ticker]\n",
    "        y = y_df[ticker][-M:]\n",
    "        sigma_sq = np.var(y) * 252\n",
    "        sigma = np.sqrt(sigma_sq)\n",
    "        mu = np.mean(y) * 252 + 0.5*sigma_sq\n",
    "        estimates[ticker] = [mu, sigma]\n",
    "    \n",
    "    rho=y_df.corr()\n",
    "    \n",
    "    return estimates, rho"
   ]
  },
  {
   "cell_type": "code",
   "execution_count": 53,
   "metadata": {},
   "outputs": [
    {
     "name": "stdout",
     "output_type": "stream",
     "text": [
      "[*********************100%***********************]  1 of 1 completed\n",
      "[*********************100%***********************]  1 of 1 completed\n",
      "[*********************100%***********************]  1 of 1 completed\n",
      "[*********************100%***********************]  1 of 1 completed\n",
      "The Stock Drift and Vol estimates are given by\n",
      "            LQD       SPY      VCIT      AMZN\n",
      "drift -0.262822 -0.008037 -0.212011 -0.086311\n",
      "vol    0.094629  0.183335  0.064554  0.392480\n"
     ]
    }
   ],
   "source": [
    "'''\n",
    "Data Grab and Parameter Estimation  \n",
    "---\n",
    "\n",
    "'''\n",
    "end = datetime.datetime.now()\n",
    "start = end - datetime.timedelta(days=180)\n",
    "M = 126\n",
    "\n",
    "tickers = ['LQD', 'SPY', 'VCIT', 'AMZN']\n",
    "df = pd.DataFrame()\n",
    "df = multi_stock_data(tickers, start, end)\n",
    "estimate_df, rho_df = estimate_params_multi_stock(tickers, df, M)\n",
    "\n",
    "print('The Stock Drift and Vol estimates are given by')\n",
    "print(estimate_df)"
   ]
  },
  {
   "cell_type": "markdown",
   "metadata": {},
   "source": [
    "### Solution to Part (b)\n",
    "\n",
    "\n"
   ]
  },
  {
   "cell_type": "code",
   "execution_count": 44,
   "metadata": {},
   "outputs": [
    {
     "name": "stdout",
     "output_type": "stream",
     "text": [
      "The Correlation Matrix is given by\n",
      "           LQD       SPY      VCIT      AMZN\n",
      "LQD   1.000000  0.223618  0.962018  0.128728\n",
      "SPY   0.223618  1.000000  0.169648  0.687713\n",
      "VCIT  0.962018  0.169648  1.000000  0.100196\n",
      "AMZN  0.128728  0.687713  0.100196  1.000000\n"
     ]
    }
   ],
   "source": [
    "'''B-form Estimates'''\n",
    "print('The Correlation Matrix for the B-Form is given by')\n",
    "print(rho_df)"
   ]
  },
  {
   "cell_type": "code",
   "execution_count": 56,
   "metadata": {},
   "outputs": [],
   "source": [
    "def estimate_w_form_params(vol, rho):\n",
    "    '''\n",
    "    Estimates the Sigma Matrix of the W-Form of the Multi Stock Model  \n",
    "    ---\n",
    "    Parameters:  \n",
    "    vol - (pd.series) Volatility Vector  \n",
    "    rho - (DataFrame) B-Form Correlation Matrix  \n",
    "    Returns:  \n",
    "    Sigma - (np.array) Sigma Matrix of W-Form\n",
    "    '''\n",
    "    import pandas as pd\n",
    "    import numpy as np\n",
    "    \n",
    "    vol = vol.to_numpy()\n",
    "    rho = rho.to_numpy()\n",
    "    n = len(vol)\n",
    "    C = np.zeros((n,n))\n",
    "    \n",
    "    for i in range(0,n):\n",
    "        for j in range(0,n):\n",
    "            C[i,j] = rho[i,j] * vol[i] * vol[j]\n",
    "    \n",
    "    Sigma = np.linalg.cholesky(C)\n",
    "    \n",
    "    return Sigma"
   ]
  },
  {
   "cell_type": "code",
   "execution_count": 58,
   "metadata": {},
   "outputs": [
    {
     "name": "stdout",
     "output_type": "stream",
     "text": [
      "The W Form Sigmas are given by\n",
      "[[ 0.0946286   0.          0.          0.        ]\n",
      " [ 0.04099701  0.17869216  0.          0.        ]\n",
      " [ 0.06210228 -0.00301211  0.01736302  0.        ]\n",
      " [ 0.05052334  0.26533479  0.0115304   0.28452106]]\n"
     ]
    }
   ],
   "source": [
    "Sigma = estimate_w_form_params(estimate_df.loc['vol'], rho_df)\n",
    "print('The W Form Sigmas are given by')\n",
    "print(Sigma)"
   ]
  },
  {
   "cell_type": "markdown",
   "metadata": {},
   "source": [
    "### Solution to Part (c)\n",
    "\n",
    "\n"
   ]
  },
  {
   "cell_type": "code",
   "execution_count": 61,
   "metadata": {},
   "outputs": [],
   "source": [
    "def diversification_measure(vol, Sigma):\n",
    "    '''\n",
    "    Measures portfolio diversification according to estimates in B and W form of Multi Stock model  \n",
    "    ---  \n",
    "    Parameters:  \n",
    "    vol - (pd.series) B-Form Volatilities  \n",
    "    Sigma - (np.array) W-Form Volatilities  \n",
    "    ---  \n",
    "    Returns:  \n",
    "    R - (np.array) Diversification Matrix  \n",
    "    d - (float) Diversification measure\n",
    "    '''\n",
    "    import pandas as pd\n",
    "    import numpy as np\n",
    "    \n",
    "    vol = vol.to_numpy()\n",
    "    n = len(vol)\n",
    "    R = np.zeros((n,n))\n",
    "    \n",
    "    for i in range(0,n):\n",
    "        for j in range(0,n):\n",
    "            R[i,j] = Sigma[i,j] / vol[i]\n",
    "    \n",
    "    d = np.linalg.det(R) ** (1 / (n-1))\n",
    "    \n",
    "    return R, d"
   ]
  },
  {
   "cell_type": "code",
   "execution_count": 62,
   "metadata": {},
   "outputs": [
    {
     "name": "stdout",
     "output_type": "stream",
     "text": [
      "The Diversification Matrix is given by\n",
      "[[ 1.          0.          0.          0.        ]\n",
      " [ 0.22361826  0.97467681  0.          0.        ]\n",
      " [ 0.96201816 -0.04666013  0.2689682   0.        ]\n",
      " [ 0.12872852  0.67604712  0.02937832  0.72493184]]\n"
     ]
    }
   ],
   "source": [
    "R, d = diversification_measure(estimate_df.loc['vol'], Sigma)\n",
    "print('The Diversification Matrix is given by')\n",
    "print(R)"
   ]
  },
  {
   "cell_type": "markdown",
   "metadata": {},
   "source": [
    "### Solution to Part (d)\n",
    "\n",
    "\n"
   ]
  },
  {
   "cell_type": "code",
   "execution_count": 63,
   "metadata": {},
   "outputs": [
    {
     "name": "stdout",
     "output_type": "stream",
     "text": [
      "The Diversification Coefficient is given by 0.5749\n"
     ]
    }
   ],
   "source": [
    "print('The Diversification Coefficient is given by {:.4f}'.format(d))"
   ]
  },
  {
   "cell_type": "markdown",
   "metadata": {},
   "source": [
    "### Solution to Part (e)\n",
    "\n"
   ]
  },
  {
   "cell_type": "code",
   "execution_count": 75,
   "metadata": {},
   "outputs": [],
   "source": [
    "def trading_pairs(tick_list, legs):\n",
    "    '''\n",
    "    Returns all possible trading pairs for a list of equities  \n",
    "    ---\n",
    "    Parameters:  \n",
    "    tick_list - (list) List of Equities to Pair  \n",
    "    legs - (int) Number of legs for each trade  \n",
    "    ---\n",
    "    Returns:  \n",
    "    Pairs - (list) List of trading pairs (list of tuples)\n",
    "    '''\n",
    "    import itertools\n",
    "    \n",
    "    if legs > len(tick_list):\n",
    "        legs = len(tick_list)\n",
    "    \n",
    "    pairs = list(itertools.combinations(tick_list, r=legs))\n",
    "    \n",
    "    return pairs"
   ]
  },
  {
   "cell_type": "code",
   "execution_count": 76,
   "metadata": {},
   "outputs": [],
   "source": [
    "trade_pairs = trading_pairs(tickers, 2)"
   ]
  },
  {
   "cell_type": "code",
   "execution_count": 93,
   "metadata": {},
   "outputs": [
    {
     "data": {
      "text/plain": [
       "[[('LQD', 'SPY'), 0.9746768053414596],\n",
       " [('LQD', 'VCIT'), 0.9746768053414594],\n",
       " [('LQD', 'AMZN'), 0.9746768053414595],\n",
       " [('SPY', 'VCIT'), 0.9746768053414594],\n",
       " [('SPY', 'AMZN'), 0.9746768053414595],\n",
       " [('VCIT', 'AMZN'), 0.9746768053414595]]"
      ]
     },
     "execution_count": 93,
     "metadata": {},
     "output_type": "execute_result"
    }
   ],
   "source": [
    "ds = []\n",
    "for pair in trade_pairs:\n",
    "    estimates, rho = estimate_params_multi_stock(list(pair), df, M)\n",
    "    Sigma = estimate_w_form_params(estimates.loc['vol'], rho)\n",
    "    R, d = diversification_measure(estimates.loc['vol'], Sigma)\n",
    "    ds.append([pair, d])\n",
    "\n",
    "ds"
   ]
  },
  {
   "cell_type": "markdown",
   "metadata": {},
   "source": [
    "## Problem 3 - Pricing a multi-stock option - the Margrabe formula\n",
    "\n",
    "The purpose of this problem is to price a swap option in a 2-stock model, similarly as what we did in the example in the lectures.  We consider a two-dimensional Brownian motion given by $(\\mathbf{W}_t)_{t\\geq0} = \\begin{pmatrix} W_t^{(1)} & W_t^{(2)}\\end{pmatrix}_{t\\geq0}$ on a probability space $(\\Omega,\\mathcal{F},\\mathrm{P})$.  Two stock prices are modelled by the following equations\n",
    "$$\\begin{cases}\n",
    "X_t = X_0 \\mathrm{exp}\\{rdt + \\sigma_{1}dW_t^{(1)}\\}\\\\\n",
    "Y_t = Y_0 \\mathrm{exp}\\{rdt + \\sigma_{21}dW_t^{(1)} + \\sigma_{22}dW_t^{(2)}\\}\\\\\n",
    "\\end{cases}$$\n",
    "with $X_0=x_0$ and $Y_0=y_0$.  THis corresponds to the multistock model studied in class, but with notation $(X_t,Y_t)$ instead of $(S_t^{(1)}, S_t^{(2)})$.  Given the model above, the measure $\\mathrm{P}$ is already the risk-neautral measure (because both stocks have rate of return $r$).  We write $\\sigma_2^2=\\sigma_{2,1}^2+\\sigma_{2,2}^2$.  We consider a *swap* option, which gives you the right, at time $T$, to exchange one share of $X$ for one share of $Y$.  That is, the option has the payoff\n",
    "$$F = (Y_T-X_T)_+$$\n",
    "(a) We first assume that $r=0$ (for quetions (a)-(f)).  Write an explicit expression for the process $X_t$.  \n",
    "*reminder before proceeding to question (b)*: Girsanov's theorem shows that there exists a measure $\\tilde{P}$ with $\\frac{d\\tilde{P}}{d\\mathrm{P}} = \\frac{X_T}{x_0}$.  Indeed $\\frac{X_T}{x_0}$ has exactly the form given in the formula for the Radon-Nykodim derivative for an appropriate choice of the drift process $\\gamma_t$.  The consequence is that\n",
    "$$\\mathbb{E}_{\\mathrm{P}}[\\frac{X_T}{x_0}A] = \\mathbb{E}_{\\tilde{P}}[A]$$\n",
    "for all random variables $A$.  \n",
    "(b) Give an expression for the process $\\tilde{W}_t^{(1)}$ that will become a Brownian motion under the measure $\\tilde{P}$.  Notice that $\\tilde{W}_t^{(2)}=W_t^{(2)}$ remains unchanged.  \n",
    "(c) Using the Girsanov Equation and factoring $X_T$, write the price $F_0$ of the option at time $0$ as an expectation under $\\tilde{P}$.  \n",
    "(d) We define $Z_t=\\frac{Y_t}{X_t}$.  Find the stochastic differential equation satisfied by the process $(Z_t)$ under the measure $\\tilde{P}$.  \n",
    "(e) Prove that, under $\\tilde{P}$, $(Z_t)$ satisfies a Black-Scholes model for which you will identify the parameters.  (The SDE for $(Z_t)$ is driven by a Brownian motion that will be a function of $\\tilde{W}^{(1)}$ and $\\tilde{W}^{(2)}$.)  \n",
    "(f) Using the results of the questions above, find an explicit expression for the price $F_0$ of the option at time 0. (*Hint*: Use Black-Scholes formula.)  \n",
    "(g) What does the explicit expression for $F_0$ become if $r \\not= 0$  \n",
    "(h) Assuming that $x_0=y_0$, $\\sigma_1=\\sigma_2=\\sigma$, and the two stocks have correlation $\\rho$ (i.e. $\\sigma_{2,1}=\\rho\\sigma$), find a simplified expression for the option price.  \n",
    "*Note*: The formula obtained in (f) is the *Margrabe formula*.  \n",
    "*Comment*: This illustrates a clever use of Girsanov’s theorem to reduce the pricing of a swap option to Black-Scholes formula. It avoids the direct calculation of the integrals presented in the lectures and illustrates how to obtain an explicit expression without using Monte-Carlo simulations."
   ]
  },
  {
   "cell_type": "markdown",
   "metadata": {},
   "source": [
    "### Solution to Part (a)\n",
    "\n",
    "$$X_t = x_0 e^{\\sigma_{1,1}dW_t^{(1)}}$$\n"
   ]
  },
  {
   "cell_type": "markdown",
   "metadata": {},
   "source": [
    "### Solution to Part (b)\n",
    "\n",
    "\n"
   ]
  },
  {
   "cell_type": "markdown",
   "metadata": {},
   "source": [
    "### Solution to Part (c)\n",
    "\n",
    "\n"
   ]
  },
  {
   "cell_type": "markdown",
   "metadata": {},
   "source": [
    "### Solution to Part (d)\n",
    "\n",
    "\n"
   ]
  },
  {
   "cell_type": "markdown",
   "metadata": {},
   "source": [
    "### Solution to Part (e)\n",
    "\n",
    "\n"
   ]
  },
  {
   "cell_type": "markdown",
   "metadata": {},
   "source": [
    "### Solution to Part (f)\n",
    "\n",
    "\n"
   ]
  },
  {
   "cell_type": "markdown",
   "metadata": {},
   "source": [
    "### Solution to Part (g)\n",
    "\n",
    "\n"
   ]
  },
  {
   "cell_type": "markdown",
   "metadata": {},
   "source": [
    "### Solution to Part (h)\n",
    "\n",
    "\n"
   ]
  }
 ],
 "metadata": {
  "interpreter": {
   "hash": "702e518b60c67dbd3b0638a510bff2830380600f50d13e8fcb105f9ecc05fb71"
  },
  "kernelspec": {
   "display_name": "Python 3.9.6 64-bit",
   "language": "python",
   "name": "python3"
  },
  "language_info": {
   "codemirror_mode": {
    "name": "ipython",
    "version": 3
   },
   "file_extension": ".py",
   "mimetype": "text/x-python",
   "name": "python",
   "nbconvert_exporter": "python",
   "pygments_lexer": "ipython3",
   "version": "3.9.6"
  },
  "orig_nbformat": 4
 },
 "nbformat": 4,
 "nbformat_minor": 2
}
