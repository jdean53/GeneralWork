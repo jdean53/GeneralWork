{
 "cells": [
  {
   "cell_type": "markdown",
   "metadata": {},
   "source": [
    "# MATH 469 - StoCal II - Assignment 7\n",
    "\n",
    "Jack Dean"
   ]
  },
  {
   "cell_type": "code",
   "execution_count": 1,
   "metadata": {},
   "outputs": [],
   "source": [
    "import numpy as np\n",
    "import pandas as pd\n",
    "\n",
    "import datetime\n",
    "\n",
    "import matplotlib.pyplot as plt\n",
    "import seaborn as sns\n",
    "\n",
    "import yfinance as yf\n",
    "\n",
    "import StoCalCodeDeck as stocal"
   ]
  },
  {
   "cell_type": "markdown",
   "metadata": {},
   "source": [
    "## Problem 1 - Multi-Stock Model\n",
    "\n",
    "We consider a 2-stock model similar to the one studied in class.  Namely, we consider\n",
    "$$\\begin{cases}\n",
    "S_t^{(1)} = S_0^{(1)} \\mathrm{exp}\\{\\sigma_1B_t^{(1)} + (\\mu_1-\\frac{\\sigma_1^2}{2})t\\}\\\\\n",
    "S_t^{(2)} = S_0^{(2)} \\mathrm{exp}\\{\\sigma_2B_t^{(2)} + (\\mu_2-\\frac{\\sigma_2^2}{2})t\\}\\\\\n",
    "\\end{cases}$$\n",
    "Where $(B_t^{(1)})_{t\\geq0}$ and $(B_t^{(2)})_{t\\geq0}$ are two Brownian motions with\n",
    "$$\\mathrm{Cov}(B_t^{(1)},B_s^{(2)}) = \\rho \\min\\{t,s\\}$$\n",
    "Prove that there exists a 2-dimensional Brownian motion $(\\mathbf{W}_t)_{t\\geq0} = \\begin{pmatrix} W_t^{(1)} & W_t^{(2)}\\end{pmatrix}_{t\\geq0}$ such that\n",
    "$$\\begin{cases}\n",
    "S_t^{(1)} = S_0^{(1)} \\mathrm{exp}\\{\\sigma_{11}W_t^{(1)} + (\\mu_1-\\frac{\\sigma_{11}^2}{2})t\\}\\\\\n",
    "S_t^{(2)} = S_0^{(2)} \\mathrm{exp}\\{\\sigma_{21}W_t^{(1)} + \\sigma_{22}W_t^{(2)} + (\\mu_2-\\frac{\\sigma_{21}^2+\\sigma_{22}^2}{2})t\\}\\\\\n",
    "\\end{cases}$$\n",
    "where $\\sigma_{11},\\sigma_{21},\\sigma_{22}$ are constants to be determined (as functions of $\\sigma_1,\\sigma_2,\\rho$).\n",
    "\n",
    "*Hint*: The constants will follow the formulas developed within the lectures.  To show existence of $(\\mathbf{W}_t)$, first write the expression for both $W_t^{(1)}$ and $W_t^{(2)}$ as functions of $\\begin{pmatrix} B_t^{(1)} & B_t^{(2)}\\end{pmatrix}$.  From there, you need to prove that the process $(\\mathbf{W}_t)$ is actually 2-dimensional standard Brownian motion (i.e. prove that each of them is normal, with mean $0$, variance $t$, and their covariance is 0, which yields independence)"
   ]
  },
  {
   "cell_type": "markdown",
   "metadata": {},
   "source": [
    "### Solution"
   ]
  },
  {
   "cell_type": "markdown",
   "metadata": {},
   "source": [
    "## Problem 2 - Diversified Portfolio\n",
    "\n",
    "The purpose of this problem is to use the multi-stock model described in class on real data. Select the following items:\n",
    "* A market index of your choice (e.g. S&P500, DowJones, Nasdaq, etc...) that suits your asset well, typically the one of which your chosen asset of previous assignments is part. This will be asset #1.  \n",
    "* The asset that you chose for previous assignments. This will be asset #2.  \n",
    "* A different asset that could be considered a competitor of your asset, typically something in the same sector of activities (e.g. with Apple, you could choose Microsoft, or Samsung). This will be asset #3.  \n",
    "* A different asset that you presume should be fairly independent of your asset, typically something in a different sector of activities (e.g. with Apple, you could choose an oil company, or a restaurant chain). This will be asset #4.  \n",
    "\n",
    "For each of these assets, download the daily closing prices over the same time period. Your time period should be at least 3 months in length in order to get sufficiently many data.\n",
    "\n",
    "(a) For each asset, estimate the rate of return $\\mu_i$ and volatility $\\sigma_i$ from the data using the method seen in class.  \n",
    "(b) Estimate the correlation parameters of the model, both in the $B$ form and in the $W$ form.  (i.e. estiamte both $\\rho_{i,j}$, and $\\sigma_{i,j}$.  Recall that $\\rho_{i,j}$ is estimated from the data and $\\sigma_{i,j}$ is calculated from those values)  \n",
    "(c) Deduce the volatility matrix $\\Sigma=\\begin{pmatrix} \\sigma_{i,j} \\end{pmatrix}$ and the correlation matrix $R=\\begin{pmatrix} r_{i,j} \\end{pmatrix}$  \n",
    "(d) Determine the diversification coefficient $d$ of your portfolio.  Comment on the results, in particular how well the index reflects the behavior of the four assets.  \n",
    "(e) Determine which selection of two assets out of the four would give you the largest diversificiation.  \n",
    "\n",
    "*Note*: You are free to use any source for your data and any software/language to work this out. Your score will not depend on the quality of your diversification. There is no need to change your selection to make the results better. Simply provide appropriate comments related to what you first selected."
   ]
  },
  {
   "cell_type": "markdown",
   "metadata": {},
   "source": [
    "### Solution to Part (a)\n",
    "\n",
    "\n"
   ]
  },
  {
   "cell_type": "markdown",
   "metadata": {},
   "source": [
    "I have been tracking the Corporate Bond ETF LQD.  I use the fo\n",
    "\n",
    "* LQD US Equity - Asset I have been tracking  \n",
    "* SPY US Equity - Benchmark  \n",
    "* VCIT US Equity - Close Competitor to LQD  \n",
    "* AMZN US Equity - Large Single Name Tech Equity"
   ]
  },
  {
   "cell_type": "code",
   "execution_count": 25,
   "metadata": {},
   "outputs": [
    {
     "name": "stdout",
     "output_type": "stream",
     "text": [
      "[*********************100%***********************]  1 of 1 completed\n",
      "[*********************100%***********************]  1 of 1 completed\n",
      "[*********************100%***********************]  1 of 1 completed\n",
      "[*********************100%***********************]  1 of 1 completed\n"
     ]
    },
    {
     "data": {
      "text/html": [
       "<div>\n",
       "<style scoped>\n",
       "    .dataframe tbody tr th:only-of-type {\n",
       "        vertical-align: middle;\n",
       "    }\n",
       "\n",
       "    .dataframe tbody tr th {\n",
       "        vertical-align: top;\n",
       "    }\n",
       "\n",
       "    .dataframe thead th {\n",
       "        text-align: right;\n",
       "    }\n",
       "</style>\n",
       "<table border=\"1\" class=\"dataframe\">\n",
       "  <thead>\n",
       "    <tr style=\"text-align: right;\">\n",
       "      <th></th>\n",
       "      <th>LQD</th>\n",
       "      <th>SPY</th>\n",
       "      <th>VCIT</th>\n",
       "      <th>AMZN</th>\n",
       "    </tr>\n",
       "  </thead>\n",
       "  <tbody>\n",
       "    <tr>\n",
       "      <th>mu</th>\n",
       "      <td>-0.250322</td>\n",
       "      <td>-0.037520</td>\n",
       "      <td>-0.203383</td>\n",
       "      <td>-0.167769</td>\n",
       "    </tr>\n",
       "    <tr>\n",
       "      <th>sigma</th>\n",
       "      <td>0.092876</td>\n",
       "      <td>0.182655</td>\n",
       "      <td>0.063715</td>\n",
       "      <td>0.391223</td>\n",
       "    </tr>\n",
       "  </tbody>\n",
       "</table>\n",
       "</div>"
      ],
      "text/plain": [
       "            LQD       SPY      VCIT      AMZN\n",
       "mu    -0.250322 -0.037520 -0.203383 -0.167769\n",
       "sigma  0.092876  0.182655  0.063715  0.391223"
      ]
     },
     "execution_count": 25,
     "metadata": {},
     "output_type": "execute_result"
    }
   ],
   "source": [
    "'''\n",
    "Data Grab and Parameter Estimation  \n",
    "---\n",
    "\n",
    "'''\n",
    "end = datetime.datetime.now()\n",
    "start = end - datetime.timedelta(days=180)\n",
    "\n",
    "tickers = ['LQD', 'SPY', 'VCIT', 'AMZN']\n",
    "df = pd.DataFrame()\n",
    "estimate_df = pd.DataFrame(columns=tickers,index=['mu','sigma'])\n",
    "\n",
    "for ticker in tickers:\n",
    "    data = stocal.asset_data(ticker,start_date=start,end_date=end)[-1]\n",
    "    df[ticker] = data['Adj Close']\n",
    "    mu, sigma = stocal.estimate_params(M=126, data=data)\n",
    "    estimate_df[ticker] = [mu, sigma]\n",
    "\n",
    "estimate_df"
   ]
  },
  {
   "cell_type": "markdown",
   "metadata": {},
   "source": [
    "### Solution to Part (b)\n",
    "\n",
    "\n"
   ]
  },
  {
   "cell_type": "markdown",
   "metadata": {},
   "source": [
    "### Solution to Part (c)\n",
    "\n",
    "\n"
   ]
  },
  {
   "cell_type": "markdown",
   "metadata": {},
   "source": [
    "### Solution to Part (d)\n",
    "\n",
    "\n"
   ]
  },
  {
   "cell_type": "markdown",
   "metadata": {},
   "source": [
    "### Solution to Part (e)\n",
    "\n"
   ]
  },
  {
   "cell_type": "markdown",
   "metadata": {},
   "source": [
    "## Problem 3 - Pricing a multi-stock option - the Margrabe formula\n",
    "\n",
    "The purpose of this problem is to price a swap option in a 2-stock model, similarly as what we did in the example in the lectures.  We consider a two-dimensional Brownian motion given by $(\\mathbf{W}_t)_{t\\geq0} = \\begin{pmatrix} W_t^{(1)} & W_t^{(2)}\\end{pmatrix}_{t\\geq0}$ on a probability space $(\\Omega,\\mathcal{F},\\mathrm{P})$.  Two stock prices are modelled by the following equations\n",
    "$$\\begin{cases}\n",
    "X_t = X_0 \\mathrm{exp}\\{rdt + \\sigma_{1}dW_t^{(1)}\\}\\\\\n",
    "Y_t = Y_0 \\mathrm{exp}\\{rdt + \\sigma_{21}dW_t^{(1)} + \\sigma_{22}dW_t^{(2)}\\}\\\\\n",
    "\\end{cases}$$\n",
    "with $X_0=x_0$ and $Y_0=y_0$.  THis corresponds to the multistock model studied in class, but with notation $(X_t,Y_t)$ instead of $(S_t^{(1)}, S_t^{(2)})$.  Given the model above, the measure $\\mathrm{P}$ is already the risk-neautral measure (because both stocks have rate of return $r$).  We write $\\sigma_2^2=\\sigma_{2,1}^2+\\sigma_{2,2}^2$.  We consider a *swap* option, which gives you the right, at time $T$, to exchange one share of $X$ for one share of $Y$.  That is, the option has the payoff\n",
    "$$F = (Y_T-X_T)_+$$\n",
    "(a) We first assume that $r=0$ (for quetions (a)-(f)).  Write an explicit expression for the process $X_t$.  \n",
    "*reminder before proceeding to question (b)*: Girsanov's theorem shows that there exists a measure $\\tilde{P}$ with $\\frac{d\\tilde{P}}{d\\mathrm{P}} = \\frac{X_T}{x_0}$.  Indeed $\\frac{X_T}{x_0}$ has exactly the form given in the formula for the Radon-Nykodim derivative for an appropriate choice of the drift process $\\gamma_t$.  The consequence is that\n",
    "$$\\mathbb{E}_{\\mathrm{P}}[\\frac{X_T}{x_0}A] = \\mathbb{E}_{\\tilde{P}}[A]$$\n",
    "for all random variables $A$.  \n",
    "(b) Give an expression for the process $\\tilde{W}_t^{(1)}$ that will become a Brownian motion under the measure $\\tilde{P}$.  Notice that $\\tilde{W}_t^{(2)}=W_t^{(2)}$ remains unchanged.  \n",
    "(c) Using the Girsanov Equation and factoring $X_T$, write the price $F_0$ of the option at time $0$ as an expectation under $\\tilde{P}$.  \n",
    "(d) We define $Z_t=\\frac{Y_t}{X_t}$.  Find the stochastic differential equation satisfied by the process $(Z_t)$ under the measure $\\tilde{P}$.  \n",
    "(e) Prove that, under $\\tilde{P}$, $(Z_t)$ satisfies a Black-Scholes model for which you will identify the parameters.  (The SDE for $(Z_t)$ is driven by a Brownian motion that will be a function of $\\tilde{W}^{(1)}$ and $\\tilde{W}^{(2)}$.)  \n",
    "(f) Using the results of the questions above, find an explicit expression for the price $F_0$ of the option at time 0. (*Hint*: Use Black-Scholes formula.)  \n",
    "(g) What does the explicit expression for $F_0$ become if $r \\not= 0$  \n",
    "(h) Assuming that $x_0=y_0$, $\\sigma_1=\\sigma_2=\\sigma$, and the two stocks have correlation $\\rho$ (i.e. $\\sigma_{2,1}=\\rho\\sigma$), find a simplified expression for the option price.  \n",
    "*Note*: The formula obtained in (f) is the *Margrabe formula*.  \n",
    "*Comment*: This illustrates a clever use of Girsanov’s theorem to reduce the pricing of a swap option to Black-Scholes formula. It avoids the direct calculation of the integrals presented in the lectures and illustrates how to obtain an explicit expression without using Monte-Carlo simulations."
   ]
  },
  {
   "cell_type": "markdown",
   "metadata": {},
   "source": [
    "### Solution to Part (a)\n",
    "\n",
    "\n"
   ]
  },
  {
   "cell_type": "markdown",
   "metadata": {},
   "source": [
    "### Solution to Part (b)\n",
    "\n",
    "\n"
   ]
  },
  {
   "cell_type": "markdown",
   "metadata": {},
   "source": [
    "### Solution to Part (c)\n",
    "\n",
    "\n"
   ]
  },
  {
   "cell_type": "markdown",
   "metadata": {},
   "source": [
    "### Solution to Part (d)\n",
    "\n",
    "\n"
   ]
  },
  {
   "cell_type": "markdown",
   "metadata": {},
   "source": [
    "### Solution to Part (e)\n",
    "\n",
    "\n"
   ]
  },
  {
   "cell_type": "markdown",
   "metadata": {},
   "source": [
    "### Solution to Part (f)\n",
    "\n",
    "\n"
   ]
  },
  {
   "cell_type": "markdown",
   "metadata": {},
   "source": [
    "### Solution to Part (g)\n",
    "\n",
    "\n"
   ]
  },
  {
   "cell_type": "markdown",
   "metadata": {},
   "source": [
    "### Solution to Part (h)\n",
    "\n",
    "\n"
   ]
  }
 ],
 "metadata": {
  "interpreter": {
   "hash": "702e518b60c67dbd3b0638a510bff2830380600f50d13e8fcb105f9ecc05fb71"
  },
  "kernelspec": {
   "display_name": "Python 3.9.6 64-bit",
   "language": "python",
   "name": "python3"
  },
  "language_info": {
   "codemirror_mode": {
    "name": "ipython",
    "version": 3
   },
   "file_extension": ".py",
   "mimetype": "text/x-python",
   "name": "python",
   "nbconvert_exporter": "python",
   "pygments_lexer": "ipython3",
   "version": "3.9.6"
  },
  "orig_nbformat": 4
 },
 "nbformat": 4,
 "nbformat_minor": 2
}
