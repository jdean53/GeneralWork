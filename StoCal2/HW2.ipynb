{
 "cells": [
  {
   "cell_type": "markdown",
   "metadata": {},
   "source": [
    "# MATH 468 - Stochastic Calculus II - HW 2"
   ]
  },
  {
   "cell_type": "markdown",
   "metadata": {},
   "source": [
    "## Problem 1\n",
    "\n",
    "We consider a two-period binomial model with the following properties: each period lasts *one year* and the current stock price is $S_0=4$.  On each period, the stock price doubles when it moves up and is reduced by half when it moves down.  The *annual* interest rate on the money market is $25\\%$.  (Notice that this interest rate is not realistic, but allows for easier caclulations).  \n",
    "We consider two options on this market:  \n",
    "* A call option with maturity $T=2$ years and strike price $K=6$  \n",
    "* A put option with maturity $T=2$ years and strike price $K=6$  \n",
    "\n",
    "(a) For both options above, find the price at time 0  \n",
    "(b) For both options above, find the replicating portfolio and composition at each time and position  \n",
    "(c) Assume now that the interest rate is $0\\%$.  Find the new prices of both options and comment on the price change  \n",
    "(d) We denote the call price at time 0 as $C_0$ and the put price at time 0 by $P_0$.  For both $r=25\\%$ and $r=0\\%$, find the value of $C_0-P_0$ (See Problem 2 for the impact of this question)"
   ]
  },
  {
   "cell_type": "markdown",
   "metadata": {},
   "source": [
    "### Solution to Part (a)"
   ]
  },
  {
   "cell_type": "markdown",
   "metadata": {},
   "source": [
    "To find the price at time 0, we must find the payoffs at time $T$ and discount these back with the appropriate risk-neutral probabilities $q_i$.  At time $T=2$, the option payoffs are given by\n",
    "\n",
    "| $$i$$ | $$S_i$$ | $$f^C_i$$ | $$f^P_i$$ |  \n",
    "| -- | -- | -- | -- |  \n",
    "| 7 | 16 | 10 | 0 |  \n",
    "| 5 & 6 | 4 | 0 | 2 |  \n",
    "| 4 | 1 | 0 | 5 |  \n",
    "\n",
    "We also note that the stock either doubles or halves with probability $q_i$.  Therefore, we calculate $q_i$ to be\n",
    "\n",
    "$$q_i = \\frac{n(1 + 25\\%) - \\frac{n}{2}}{2n - \\frac{n}{2}} =  \\frac{1.25n - 0.50n}{2.00n - 0.50n} = \\frac{0.75n}{1.50n} = \\frac{1}{2}$$\n",
    "\n",
    "For all prices $n$ implying all probabilities $i$.  We note that the option value at the prior time is given by\n",
    "\n",
    "$$f_k = \\frac{1}{1 + r}(q f_{2k+1} + (1-q)f_{2k}) \\implies f_k = \\frac{4}{5}(\\frac{1}{2}f_{2k+1} + \\frac{1}{2}f_{2k}) = \\frac{2}{5}(f_{2k+1} + f_{2k})$$\n",
    "\n",
    "Therefore, for the call and put, the payoffs at nodes $2$ and $3$ are given by:\n",
    "\n",
    "$$f^C_3 = \\frac{2}{5}(10 + 0) = 4$$  \n",
    "$$f^C_2 = \\frac{2}{5}(0 + 0) = 0$$  \n",
    "$$f^P_3 = \\frac{2}{5}(0 + 2) = \\frac{4}{5}$$  \n",
    "$$f^P_2 = \\frac{2}{5}(2 + 5) = \\frac{14}{5}$$  \n",
    "\n",
    "Then, since the option is european we plug these calculated values to find the option price at $T=0$.  \n",
    "\n",
    "$$f^C_1 = \\frac{2}{5}(4 + 0) = \\frac{8}{5}$$\n",
    "$$f^P_1 = \\frac{2}{5}(\\frac{4}{5} + \\frac{14}{5}) = \\frac{36}{25}$$"
   ]
  },
  {
   "cell_type": "markdown",
   "metadata": {},
   "source": [
    "### Solution to Part (b)"
   ]
  },
  {
   "cell_type": "markdown",
   "metadata": {},
   "source": [
    "The replicating portfolio at node $k$ is given by:  \n",
    "\n",
    "$$\\phi_k = \\frac{f_{2k+1} - f_{2k}}{S_{2k+1} - S_{2k}}$$\n",
    "$$\\psi_k = \\frac{f_{2k} + \\phi_k S_{2k}}{1 + r/N}$$\n",
    "\n",
    "Therefore, the replicating portfolio for the call at each node is given by:  \n",
    "\n",
    "| Parameter | Call | Put |\n",
    "| -- | -- | -- |\n",
    "| $$\\phi_3$$ | $$\\frac{10 - 0}{16 - 4} = \\frac{5}{6}$$ | $$\\frac{0 - 2}{16 - 4} = -\\frac{1}{6}$$ |\n",
    "| $$\\psi_3$$ | $$\\frac{0 - (\\frac{5}{6})(4)}{1 + 25\\%} = -\\frac{25}{6}$$ | $$\\frac{2 - (-\\frac{1}{6})(4)}{1 + 25\\%} = \\frac{10}{3}$$ |\n",
    "| $$\\phi_2$$ | $$\\frac{0 - 0}{4 - 1} = 0$$ | $$\\frac{2 - 5}{4 - 1} = -1$$ |\n",
    "| $$\\psi_2$$ | $$\\frac{0 - (0)(1)}{1 + 25\\%} = 0$$ | $$\\frac{5 - (-1)(1)}{1 + 25\\%} = -\\frac{15}{2}$$ |\n",
    "| $$\\phi_1$$ | $$\\frac{4 - 0}{8 - 2} = \\frac{2}{3}$$ | $$\\frac{\\frac{4}{5} - \\frac{14}{5}}{8 - 2} = -\\frac{1}{3}$$ |\n",
    "| $$\\psi_1$$ | $$\\frac{0 - (\\frac{2}{3})(2)}{1 + 25\\%} = -\\frac{5}{3}$$ | $$\\frac{\\frac{14}{5} - (-\\frac{1}{3})(2)}{1 + 25\\%} = \\frac{13}{3}$$ |\n"
   ]
  },
  {
   "cell_type": "markdown",
   "metadata": {},
   "source": [
    "### Solution to Part (c)"
   ]
  },
  {
   "cell_type": "markdown",
   "metadata": {},
   "source": [
    "For interest rates at $0\\%$, the following formula is derived for the option price given two payoffs.\n",
    "$$f_k = \\frac{1}{1 + r}(q f_{2k+1} + (1-q)f_{2k}) \\implies f_k = (\\frac{1}{2}f_{2k+1} + \\frac{1}{2}f_{2k}) = \\frac{1}{2}(f_{2k+1} + f_{2k})$$\n",
    "\n",
    "Therefore the payoffs for the options are as follows\n",
    "$$f^C_3 = \\frac{1}{2}(10 + 0) = 5$$\n",
    "$$f^C_2 = \\frac{1}{2}(0 + 0) = 0$$\n",
    "$$f^C_1 = \\frac{1}{2}(5 + 0) = \\frac{5}{2}$$\n",
    "$$f^P_3 = \\frac{1}{2}(0 + 2) = 1$$\n",
    "$$f^P_2 = \\frac{1}{2}(2 + 5) = \\frac{7}{2}$$\n",
    "$$f^P_1 = \\frac{1}{2}(1 + \\frac{7}{2}) = \\frac{9}{4}$$\n",
    "\n",
    "The value of the call increased from $1.6$ to $2.5$.  The value of the put increased from $1.44$ to $2.25$.  Both option values increased by a factor of $1.5625$ implying an increase in rates will decrease the value of options for both calls and puts by the same factor."
   ]
  },
  {
   "cell_type": "markdown",
   "metadata": {},
   "source": [
    "### Solution to Part (d)"
   ]
  },
  {
   "cell_type": "markdown",
   "metadata": {},
   "source": [
    "For the $r=25\\%$ case, we observe:\n",
    "\n",
    "$$C_0-P_0 = \\frac{8}{5} - \\frac{26}{25} = \\frac{4}{25}$$\n",
    "\n",
    "For the $r=0\\%$ case, we observe:\n",
    "\n",
    "$$C_0-P_0 = \\frac{5}{2} - \\frac{9}{4} = \\frac{1}{4}$$\n",
    "\n",
    "Here we see this difference increase by the same factor of $1.5625$ (or $0.64$ inverted, which I believe is the greek rho $\\rho$)"
   ]
  },
  {
   "cell_type": "markdown",
   "metadata": {},
   "source": [
    "## Problem 2 - Put-Call Parity\n",
    "\n",
    "We consider a general two-period binomial model with the notation used in class.  We consider two options: a call and a put, both with strike price $K$.  We let $\\mathcal{Q}=(q_3,q_2,q_1)$ be the risk-neutral probabilities as seen in class.  Let $S_0=s_1$ denote the stock price at time 0 (i.e. at node 1) and $S_T$ denote the stock price at time $T$.\n",
    "\n",
    "(a) Prove that $\\mathbb{E}_{\\mathcal{Q}}[S_T]=(1+\\frac{r}{2})^2S_0$.  This shows that the expected stock price under the risk-neutral probability measure is the same as the risk-free investment.  \n",
    "(b) We denote the call price at time 0 by $C_0$ and the put price at time 0 by $P_0$.  Prove that  \n",
    "$$C_0 - P_0 = S_0 - K(1+\\frac{r}{2})^{-2}$$  \n",
    "This equality is known as the *put-call parity* and provides a quick way to find the price of the put when you know the price of the call.  \n",
    "*note*: You can use problem 1 part (d) as a numerical example to understand what happens  \n",
    "(c) Find the value of $K$ for which the call and put share the same price.  Comment on your result.  "
   ]
  },
  {
   "cell_type": "markdown",
   "metadata": {},
   "source": [
    "### Solution to Part (a)"
   ]
  },
  {
   "cell_type": "markdown",
   "metadata": {},
   "source": [
    "*Proof.*  \n",
    "We have\n",
    "$$\\mathbb{E}_{\\mathcal{Q}}[S_T] = (1+\\frac{r}{2})^2S_1$$\n",
    "We can substitute for the expected value of $S_T$ with its expression\n",
    "$$q_1\\mathbb{E}_{\\mathcal{Q}}[S^U_{\\frac{T}{2}}] + (1-q_1)\\mathbb{E}_{\\mathcal{Q}}[S^D_{\\frac{T}{2}}] = (1+\\frac{r}{2})^2S_1$$\n",
    "Note that $S^U$ is representing the up move and $S^D$ represents the down move.  Then we can do a furth subsititution and see\n",
    "$$q_1(q_3S_7 + (1-q_3)S_6) + (1-q_1)(q_2S_5 + (1-q_2)S_4) = (1+\\frac{r}{2})^2S_1$$\n",
    "subsituting $q_i$ for all $i\\in\\{1,2\\}$ by its definition, we have\n",
    "$$q_1((\\frac{(1+\\frac{r}{2})S_3-S_6}{S_7-S_6})S_7 + (1-(\\frac{(1+\\frac{r}{2})S_3-S_6}{S_7-S_6}))S_6)$$\n",
    "$$ + (1-q_1)((\\frac{(1+\\frac{r}{2})S_2-S_4}{S_5-S_4})S_5 $$\n",
    "$$+ (1-(\\frac{(1+\\frac{r}{2})S_2-S_4}{S_5-S_4}))S_4) = (1+\\frac{r}{2})^2S_1$$\n",
    "Rewriting this expression we ovserve\n",
    "$$q_1((\\frac{(1+\\frac{r}{2})S_3-S_6}{S_7-S_6})(S_7-S_6) + S_6)$$\n",
    "$$ + (1-q_1)((\\frac{(1+\\frac{r}{2})S_2-S_4}{S_5-S_4})(S_5-S_4)+S_4) = (1+\\frac{r}{2})^2S_1$$\n",
    "Which then simplifies too\n",
    "$$q_1((1+\\frac{r}{2})S_3) + (1-q_1)((1+\\frac{r}{2})S_2) = (1+\\frac{r}{2})^2S_1$$\n",
    "We pull out the present value factor to rewrite the expression as an expectation\n",
    "$$(1+\\frac{r}{2})(q_1S_3 + (1-q_1)S_2) = (1+\\frac{r}{2})^2S_1$$\n",
    "And then subsitute $q_1$ with its definition\n",
    "$$(1+\\frac{r}{2})((\\frac{(1+\\frac{r}{2})S_1-S_2}{S_3-S_2})S_3$$\n",
    "$$ + (1-(\\frac{(1+\\frac{r}{2})S_1-S_2}{S_3-S_2}))S_2) = (1+\\frac{r}{2})^2S_1$$\n",
    "And further simplify\n",
    "$$(1+\\frac{r}{2})((\\frac{(1+\\frac{r}{2})S_1-S_2}{S_3-S_2})(S_3-S_2)+S_2) = (1+\\frac{r}{2})^2S_1$$\n",
    "This completes the result\n",
    "$$(1+\\frac{r}{2})(1+\\frac{r}{2})S_1 = (1+\\frac{r}{2})^2S_1$$"
   ]
  },
  {
   "cell_type": "markdown",
   "metadata": {},
   "source": [
    "### Solution to Part (b)"
   ]
  },
  {
   "cell_type": "markdown",
   "metadata": {},
   "source": [
    "*Proof.*  \n",
    "We begin with the claim of the put call parity\n",
    "$$C_0 - P_0 = S_0 - \\mathrm{PV}(K)$$\n",
    "We subsitute the price of the call and put with their respective calculations, the present value of the future option payoffs\n",
    "$$\\mathrm{PV}(\\mathbb{E}_{\\mathcal{Q}}[F^c]) - \\mathrm{PV}(\\mathbb{E}_{\\mathcal{Q}}[F^p]) = S_0 - \\mathrm{PV}(K)$$\n",
    "We then rewrite the future option payoffs as their representative function\n",
    "$$\\mathrm{PV}(\\mathbb{E}_{\\mathcal{Q}}[\\max\\{0,S_T - K\\}]) - \\mathrm{PV}(\\mathbb{E}_{\\mathcal{Q}}[\\max\\{K-S_T,0\\}]) = S_0 - \\mathrm{PV}(K)$$\n",
    "We combine the present value function\n",
    "$$\\mathrm{PV}(\\mathbb{E}_{\\mathcal{Q}}[\\max\\{0,S_T - K\\}] - \\mathbb{E}_{\\mathcal{Q}}[\\max\\{K-S_T,0\\}]) = S_0 - \\mathrm{PV}(K)$$\n",
    "It is easy to see the combined maximum function yields the following linear expression\n",
    "$$\\mathrm{PV}(\\mathbb{E}_{\\mathcal{Q}}[S_T - K]) = S_0 - \\mathrm{PV}(K)$$\n",
    "Using linearity we can simplify this to\n",
    "$$\\mathrm{PV}(\\mathbb{E}_{\\mathcal{Q}}[S_T] - K) = S_0 - \\mathrm{PV}(K)$$\n",
    "We seperate the Present Value operation\n",
    "$$\\mathrm{PV}(\\mathbb{E}_{\\mathcal{Q}}[S_T]) - \\mathrm{PV}(K) = S_0 - \\mathrm{PV}(K)$$\n",
    "And we see that\n",
    "$$\\mathrm{PV}(\\mathbb{E}_{\\mathcal{Q}}[S_T]) = S_0$$\n",
    "Which completes the result"
   ]
  },
  {
   "cell_type": "markdown",
   "metadata": {},
   "source": [
    "### Solution to Part (c)"
   ]
  },
  {
   "cell_type": "markdown",
   "metadata": {},
   "source": [
    "If $P_0=C_0$, then $0=S_0-\\mathrm{PV}(K)$.  This implies that $\\mathrm{PV}(K)=S_0$.  This implies the put and call are the same price iff the present value of the strike is the current trading price of the asset.  This makes intuitive sense as the up/down side trades are worth the same when the price of the asset is appreciating with the risk-free rate."
   ]
  },
  {
   "cell_type": "markdown",
   "metadata": {},
   "source": [
    "## Problem 3 - Exotic Options\n",
    "\n",
    "We consider the same market as in Problem 1.  However, we consider two new options on this market  \n",
    "\n",
    "*lookback option*: A lookback option.  Such an option has a payoff at time $T$ given by:\n",
    "$$F = \\max_{i\\in\\{0,1,2\\}} S_{t_i} - S_T$$\n",
    "For instance, if your stock's final price is $S_T=5$, but the stock reached $S_{t_i}=8$ sometime in the past, you receive $\\$3$  \n",
    "\n",
    "*Asian put*: An Asian put option with the strike price $K=6$.  An Asian put option works like a put, except that the value compared to the strike price $K$ is the average stock price over the time period instead of the final price $S_T$.  In other words, let\n",
    "$$\\bar{S}_T = \\frac{S_{t_0} + S_{t_1} + S_{t_2}}{3}$$\n",
    "be the average price of the option over the whole time period.  Then, the payoff of the Asian put option is\n",
    "$$F = (K-\\bar{S}_T)_+$$\n",
    "\n",
    "Notice that both options depend on the whole past of the evolution of your stock price and not just on the current spot price  \n",
    "(a) For both options above, find the price at time 0  \n",
    "(b) For both options above, find the replicating portfolio at each time and position"
   ]
  },
  {
   "cell_type": "markdown",
   "metadata": {},
   "source": [
    "### Solution to Part (a)"
   ]
  },
  {
   "cell_type": "markdown",
   "metadata": {},
   "source": [
    "**Lookback Option**  \n",
    "Payoff table  \n",
    "\n",
    "| $$S_T$$ | Trajectory | $$f$$ |\n",
    "| -- | -- | -- |\n",
    "| $$16$$ | $$4-8-16$$ | $$0$$ |\n",
    "| $$4$$ | $$4-8-4$$ | $$4$$ |\n",
    "| $$4$$ | $$4-2-4$$ | $$0$$ |\n",
    "| $$1$$ | $$4-2-1$$ | $$3$$ |\n",
    "\n",
    "Since this is the same tree as the one in problem 1, the risk-neutral probabilites remain $\\frac{1}{2}$ and rates at $25\\%$.  We calculate the value of the option at time 0 as follows:\n",
    "$$V_0 = \\mathrm{PV}(\\mathbb{E}_{\\mathcal{Q}}[F]) = \\frac{1}{(1+25\\%)^2}(\\frac{1}{2}(\\frac{1}{2}(0) + \\frac{1}{2}(4)) + \\frac{1}{2}(\\frac{1}{2}(3) + \\frac{1}{2}(0)))$$\n",
    "$$V_0 = (\\frac{4}{5})^2(\\frac{4}{4} + \\frac{3}{4}) = \\frac{4^2}{5^2}\\frac{7}{4} = \\frac{28}{25}$$\n",
    "\n",
    "**Asian Put**  \n",
    "Payoff table  \n",
    "\n",
    "| $$S_T$$ | $$\\bar{S}_T$$ | $$f$$ |\n",
    "| -- | -- | -- |\n",
    "| $$16$$ | $$\\frac{28}{3}$$ | $$0$$ |\n",
    "| $$4$$ | $$\\frac{16}{3}$$ | $$\\frac{2}{3}$$ |\n",
    "| $$4$$ | $$\\frac{10}{3}$$ | $$\\frac{8}{3}$$ |\n",
    "| $$1$$ | $$\\frac{7}{3}$$ | $$\\frac{11}{3}$$ |\n",
    "\n",
    "We calculate the value of the option at time 0 as follows:  \n",
    "$$V_0 = \\mathrm{PV}(\\mathbb{E}_{\\mathcal{Q}}[F]) = \\frac{1}{(1+25\\%)^2}(\\frac{1}{2}(\\frac{1}{2}(0) + \\frac{1}{2}(\\frac{2}{3})) + \\frac{1}{2}(\\frac{1}{2}(\\frac{8}{3}) + \\frac{1}{2}(\\frac{11}{3})))$$\n",
    "$$V_0 = (\\frac{4}{5})^2(\\frac{1}{2}(\\frac{1}{3}) + \\frac{1}{2}(\\frac{4}{3} + \\frac{11}{6})) = (\\frac{4}{5})^2(\\frac{1}{6} + \\frac{2}{3} + \\frac{11}{12}) = (\\frac{4}{5})^2(\\frac{21}{12}) = \\frac{84}{75}$$"
   ]
  },
  {
   "cell_type": "markdown",
   "metadata": {},
   "source": [
    "### Solution to Part (b)"
   ]
  },
  {
   "cell_type": "markdown",
   "metadata": {},
   "source": [
    "We solve this problem using the following equations.  We use these equations as a system  \n",
    "$$\\begin{cases}\n",
    "\\phi S_0 + \\psi = 0\\\\\n",
    "\\phi S_+ + \\psi = f_+\\\\\n",
    "\\phi S_- + \\psi = f_-\\\\\n",
    "\\end{cases}$$"
   ]
  },
  {
   "cell_type": "markdown",
   "metadata": {},
   "source": [
    "**Lookback Option**  \n",
    "*From Node 3*  \n",
    "$$\\begin{cases}\n",
    "\\phi 16 + \\psi = 0\\\\\n",
    "\\phi 4 + \\psi = 4\n",
    "\\end{cases} \\implies 12\\phi = -4 \\implies \\phi=-\\frac{1}{3}, \\psi = \\frac{8}{3}$$\n",
    "\n",
    "*From Node 2*  \n",
    "$$\\begin{cases}\n",
    "\\phi 4 + \\psi = 0\\\\\n",
    "\\phi 1 + \\psi = 3\n",
    "\\end{cases} \\implies 3\\phi = -3 \\implies \\phi=-1, \\psi = 2$$\n",
    "\n",
    "*From Node 1*  \n",
    "$$\\begin{cases}\n",
    "\\phi 8 + \\psi = \\frac{8}{5}\\\\\n",
    "\\phi 2 + \\psi = \\frac{6}{5}\n",
    "\\end{cases} \\implies 6\\phi = \\frac{2}{5} \\implies \\phi=\\frac{1}{15}, \\psi = -\\frac{4}{15}$$\n",
    "\n",
    "*note*: the option payoffs from node one are calculated from an intermediate step in part (a) which is not included\n",
    "\n",
    "**Asian Put**  \n",
    "*From Node 3*  \n",
    "$$\\begin{cases}\n",
    "\\phi 16 + \\psi = 0\\\\\n",
    "\\phi 4 + \\psi = \\frac{2}{3}\n",
    "\\end{cases} \\implies 12\\phi = -\\frac{2}{3} \\implies \\phi=-\\frac{1}{18}, \\psi = \\frac{4}{9}$$\n",
    "\n",
    "*From Node 2*  \n",
    "$$\\begin{cases}\n",
    "\\phi 4 + \\psi = \\frac{8}{3}\\\\\n",
    "\\phi 1 + \\psi = \\frac{11}{3}\n",
    "\\end{cases} \\implies 3\\phi = -1 \\implies \\phi=-\\frac{1}{3}, \\psi = \\frac{2}{3}$$\n",
    "\n",
    "*From Node 1*  \n",
    "$$\\begin{cases}\n",
    "\\phi 8 + \\psi = \\frac{4}{15}\\\\\n",
    "\\phi 2 + \\psi = \\frac{38}{15}\n",
    "\\end{cases} \\implies 6\\phi = -\\frac{34}{15} \\implies \\phi=-\\frac{17}{45}, \\psi = \\frac{68}{45}$$\n",
    "\n",
    "*note*: the option payoffs from node one are calculated from an intermediate step in part (a) which is not included\n"
   ]
  }
 ],
 "metadata": {
  "language_info": {
   "name": "python"
  },
  "orig_nbformat": 4
 },
 "nbformat": 4,
 "nbformat_minor": 2
}
