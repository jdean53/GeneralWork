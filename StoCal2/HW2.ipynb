{
 "cells": [
  {
   "cell_type": "markdown",
   "metadata": {},
   "source": [
    "# MATH 468 - Stochastic Calculus II - HW 2"
   ]
  },
  {
   "cell_type": "code",
   "execution_count": null,
   "metadata": {},
   "outputs": [],
   "source": [
    "# Assorted Packages Used through the file\n",
    "import numpy as np\n",
    "import pandas as pd\n",
    "import matplotlib.pyplot as plt\n",
    "import datetime\n",
    "import yfinance as yf\n"
   ]
  },
  {
   "cell_type": "markdown",
   "metadata": {},
   "source": [
    "## Problem 1\n",
    "\n",
    "We consider a two-period binomial model with the following properties: each period lasts *one year* and the current stock price is $S_0=4$.  On each period, the stock price doubles when it moves up and is reduced by half when it moves down.  The *annual* interest rate on the money market is $25\\%$.  (Notice that this interest rate is not realistic, but allows for easier caclulations).  \n",
    "We consider two options on this market:  \n",
    "* A call option with maturity $T=2$ years and strike price $K=6$  \n",
    "* A put option with maturity $T=2$ years and strike price $K=6$  \n",
    "\n",
    "(a) For both options above, find the price at time 0  \n",
    "(b) For both options above, find the replicating portfolio and composition at each time and position  \n",
    "(c) Assume now that the interest rate is $0\\%$.  Find the new prices of both options and comment on the price change  \n",
    "(d) We denote the call price at time 0 as $C_0$ and the put price at time 0 by $P_0$.  For both $r=25\\%$ and $r=0\\%$, find the value of $C_0-P_0$ (See Problem 2 for the impact of this question)"
   ]
  },
  {
   "cell_type": "code",
   "execution_count": null,
   "metadata": {},
   "outputs": [],
   "source": [
    "#Code Block"
   ]
  },
  {
   "cell_type": "markdown",
   "metadata": {},
   "source": [
    "### Solution to Part (a)"
   ]
  },
  {
   "cell_type": "markdown",
   "metadata": {},
   "source": []
  },
  {
   "cell_type": "markdown",
   "metadata": {},
   "source": [
    "### Solution to Part (b)"
   ]
  },
  {
   "cell_type": "markdown",
   "metadata": {},
   "source": []
  },
  {
   "cell_type": "markdown",
   "metadata": {},
   "source": [
    "### Solution to Part (c)"
   ]
  },
  {
   "cell_type": "markdown",
   "metadata": {},
   "source": []
  },
  {
   "cell_type": "markdown",
   "metadata": {},
   "source": [
    "### Solution to Part (d)"
   ]
  },
  {
   "cell_type": "markdown",
   "metadata": {},
   "source": []
  },
  {
   "cell_type": "markdown",
   "metadata": {},
   "source": [
    "## Problem 2 - Put-Call Parity\n",
    "\n",
    "We consider a general two-period binomial model with the notation used in class.  We consider two options: a call and a put, both with strike price $K$.  We let $\\mathcal{Q}=(q_3,q_2,q_1)$ be the risk-neutral probabilities as seen in class.  Let $S_0=s_1$ denote the stock price at time 0 (i.e. at node 1) and $S_T$ denote the stock price at time $T$.\n",
    "\n",
    "(a) Prove that $\\mathbb{E}_{\\mathcal{Q}}[S_T]=(1+\\frac{r}{2})^2S_0$.  This shows that the expected stock price under the risk-neutral probability measure is the same as the risk-free investment.  \n",
    "(b) We denote the call price at time 0 by $C_0$ and the put price at time 0 by $P_0$.  Prove that  \n",
    "$$C_0 - P_0 = S_0 - K(1+\\frac{r}{2})^{-2}$$  \n",
    "This equality is known as the *put-call parity* and provides a quick way to find the price of the put when you know the price of the call.  \n",
    "*note*: You can use problem 1 part (d) as a numerical example to understand what happens  \n",
    "(c) Find the value of $K$ for which the call and put share the same price.  Comment on your result.  "
   ]
  },
  {
   "cell_type": "code",
   "execution_count": null,
   "metadata": {},
   "outputs": [],
   "source": [
    "#Code Block"
   ]
  },
  {
   "cell_type": "markdown",
   "metadata": {},
   "source": [
    "### Solution to Part (a)"
   ]
  },
  {
   "cell_type": "markdown",
   "metadata": {},
   "source": []
  },
  {
   "cell_type": "markdown",
   "metadata": {},
   "source": [
    "### Solution to Part (b)"
   ]
  },
  {
   "cell_type": "markdown",
   "metadata": {},
   "source": []
  },
  {
   "cell_type": "markdown",
   "metadata": {},
   "source": [
    "### Solution to Part (c)"
   ]
  },
  {
   "cell_type": "markdown",
   "metadata": {},
   "source": []
  },
  {
   "cell_type": "markdown",
   "metadata": {},
   "source": [
    "## Problem 3 - Exotic Options\n",
    "\n",
    "We consider the same market as in Problem 1.  However, we consider two new options on this market  \n",
    "\n",
    "*lookback option*: A lookback option.  Such an option has a payoff at time $T$ given by:\n",
    "$$F = \\max_{i\\in\\{0,1,2\\}} S_{t_i} - S_T$$\n",
    "For instance, if your stock's final price is $S_T=5$, but the stock reached $S_{t_i}=8$ sometime in the past, you receive $\\$3$  \n",
    "\n",
    "*Asian put*: An Asian put option with the strike price $K=6$.  An Asian put option works like a put, except that the value compared to the strike price $K$ is the average stock price over the time period instead of the final price $S_T$.  In other words, let\n",
    "$$\\bar{S}_T = \\frac{S_{t_0} + S_{t_1} + S_{t_2}}{3}$$\n",
    "be the average price of the option over the whole time period.  Then, the payoff of the Asian put option is\n",
    "$$F = (K-\\bar{S}_T)_+$$\n",
    "\n",
    "Notice that both options depend on the whole past of the evolution of your stock price and not just on the current spot price  \n",
    "(a) For both options above, find the price at time 0  \n",
    "(b) For both options above, find the replicating portfolio at each time and position"
   ]
  },
  {
   "cell_type": "code",
   "execution_count": null,
   "metadata": {},
   "outputs": [],
   "source": [
    "#Code Block"
   ]
  },
  {
   "cell_type": "markdown",
   "metadata": {},
   "source": [
    "### Solution to Part (a)"
   ]
  },
  {
   "cell_type": "markdown",
   "metadata": {},
   "source": []
  },
  {
   "cell_type": "markdown",
   "metadata": {},
   "source": [
    "### Solution to Part (b)"
   ]
  },
  {
   "cell_type": "markdown",
   "metadata": {},
   "source": []
  }
 ],
 "metadata": {
  "language_info": {
   "name": "python"
  },
  "orig_nbformat": 4
 },
 "nbformat": 4,
 "nbformat_minor": 2
}
