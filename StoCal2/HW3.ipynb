{
 "cells": [
  {
   "cell_type": "markdown",
   "metadata": {},
   "source": [
    "# MATH 468 - Stochastic Calculus II - HW 3"
   ]
  },
  {
   "cell_type": "code",
   "execution_count": null,
   "metadata": {},
   "outputs": [],
   "source": [
    "# Code Block\n",
    "# Insert Packages Here"
   ]
  },
  {
   "cell_type": "markdown",
   "metadata": {},
   "source": [
    "## Problem 1\n",
    "\n",
    "We consider a two-period binomial model with the following properties: each period lasts a year and the current stock price is $S_0 = 4$. On each period, the stock price doubles when it moves up and is reduced by half when it moves down. The annual interest rate on the money market is $25\\%$. (This model is the same as in Prob. 1 of HW#2).  \n",
    "We consider four options on this market:  \n",
    "* a *European Call* option with maturity $T=2$ years and strike price $K=4$.  \n",
    "* a *European Put* option with maturity $T=2$ years and strike price $K=4$.  \n",
    "* an *American Call* option with maturity $T=2$ years and strike price $K=4$.  \n",
    "* an *American Put* option with maturity $T=2$ years and strike price $K=4$.  \n",
    "\n",
    "(a) Find the price at time $0$ of both European options.  \n",
    "(b) Find the price at time $0$ of both American options. Compare your results with (a) and comment.  \n",
    "(c) For each of the american options, describe the optimal excerising strategy.  \n",
    "(d) We assume that you sell the American put to a market participant A for the price found in $b$.  Explain how you act on the market to be able to payoff A when he excercises the option.  (We assume that A exercises optimally)  \n",
    "(e) Now assume that A makes a mistake and doesn't excercise optimally.  What is the consequence for you as the seller of the option? (Only a short answer is required)"
   ]
  },
  {
   "cell_type": "markdown",
   "metadata": {},
   "source": [
    "### Solution to Part (a)"
   ]
  },
  {
   "cell_type": "markdown",
   "metadata": {},
   "source": []
  },
  {
   "cell_type": "markdown",
   "metadata": {},
   "source": [
    "### Solution to Part (b)"
   ]
  },
  {
   "cell_type": "markdown",
   "metadata": {},
   "source": []
  },
  {
   "cell_type": "markdown",
   "metadata": {},
   "source": [
    "### Solution to Part (c)"
   ]
  },
  {
   "cell_type": "markdown",
   "metadata": {},
   "source": []
  },
  {
   "cell_type": "markdown",
   "metadata": {},
   "source": [
    "### Solution to Part (d)"
   ]
  },
  {
   "cell_type": "markdown",
   "metadata": {},
   "source": []
  },
  {
   "cell_type": "markdown",
   "metadata": {},
   "source": [
    "### Solution to Part (e)"
   ]
  },
  {
   "cell_type": "markdown",
   "metadata": {},
   "source": []
  },
  {
   "cell_type": "markdown",
   "metadata": {},
   "source": [
    "## Problem 2 (Problem 1 continued)\n",
    "\n",
    "We consider the same stock evolution as in Problem 1, but now assume the market is 3-period and the expiration date of the options is $T=3$ years.  \n",
    "(a) Repeat questions (a), (b), and (c) of Problem 1 in this new market.  (You don't have to provide all the calculations, numerical results are sufficient)  \n",
    "(b) We consider a new type of option on this market: an *American straddle* option with strike price $K=4$. The payoff of an American straddle is the sum of the payoffs of an American call and an American put. If you exercise it when $S_t=5$, your payoff is $1$. If you exercise it when $S_t=2$, your payoff is $2$. You are allowed to exercise at any time. Find the price of this option.  \n",
    "(c) Describe the optimal excercising strategy.  \n",
    "(d) Let $C_0$ (resp. $P_0$, $K_0$) be the prices of the American call (resp. put, straddle).  Give an intuitive explanation why you found that\n",
    "$$K_0 < C_0 + P_0$$"
   ]
  },
  {
   "cell_type": "markdown",
   "metadata": {},
   "source": [
    "### Solution to Part (a)"
   ]
  },
  {
   "cell_type": "markdown",
   "metadata": {},
   "source": []
  },
  {
   "cell_type": "markdown",
   "metadata": {},
   "source": [
    "### Solution to Part (b)"
   ]
  },
  {
   "cell_type": "markdown",
   "metadata": {},
   "source": []
  },
  {
   "cell_type": "markdown",
   "metadata": {},
   "source": [
    "### Solution to Part (c)"
   ]
  },
  {
   "cell_type": "markdown",
   "metadata": {},
   "source": []
  },
  {
   "cell_type": "markdown",
   "metadata": {},
   "source": [
    "### Solution to Part (d)"
   ]
  },
  {
   "cell_type": "markdown",
   "metadata": {},
   "source": []
  },
  {
   "cell_type": "markdown",
   "metadata": {},
   "source": [
    "## Problem 3 (*N*-period model with *N* large)\n",
    "\n",
    "*Note*: The purpose of this problem below is to use computational techniques (Excel spreadsheet, Matlab, R, Python, etc.) and code the dynamic programming ideas seen in class. Please provide the numerical answer to the questions as well as a sample of your work (spreadsheet, code file, etc.).\n",
    "\n",
    "We consider an *N*-period binomial model with the following properties: $N=60$, the current stock price is $S_0=1000$; on each period, the stock price increases by $0.5\\%$ when it moves up and decreases by $0.3\\%$ when it moves down. The annual interest rate on the money market is $5\\%$. (Notice that this model is a CRR model, which means that the binomial tree is recombining.)\n",
    "\n",
    "(a) Find the price at time $t_0=0$ of a (European) call option with strike price $K=1025$ and maturity $T=1$ year.  \n",
    "(b) Find the price at time $t_0=0$ of a (European) put option with strike price $K=1025$ and maturity $T=1$ year.  \n",
    "(c) We consider now, that you are at time $t_5$ (i.e. after 5 periods, which represents 1 month later). Assume that the stock went up for the first three periods and then down for the next two. Determine the price of the stock at that position, the price of each of the put and call and determine how many shares of stock you should be holding in the hedging portfolio for each of the call and the put.  \n",
    "(d) Repeat questions (a)-(c) in the case where $r=0$. Comment on the results.  \n",
    "*Hint*: take advantage of the fact that the model is recombining: moving up, then down\n",
    "takes you to the same value as moving first down, and then up. It reduces the amount of\n",
    "calculations necessary and will speed up your code."
   ]
  },
  {
   "cell_type": "markdown",
   "metadata": {},
   "source": [
    "### Solution to Part (a)"
   ]
  },
  {
   "cell_type": "markdown",
   "metadata": {},
   "source": []
  },
  {
   "cell_type": "code",
   "execution_count": null,
   "metadata": {},
   "outputs": [],
   "source": [
    "# Code Block"
   ]
  },
  {
   "cell_type": "markdown",
   "metadata": {},
   "source": [
    "### Solution to Part (b)"
   ]
  },
  {
   "cell_type": "markdown",
   "metadata": {},
   "source": []
  },
  {
   "cell_type": "code",
   "execution_count": null,
   "metadata": {},
   "outputs": [],
   "source": [
    "# Code Block"
   ]
  },
  {
   "cell_type": "markdown",
   "metadata": {},
   "source": [
    "### Solution to Part (c)"
   ]
  },
  {
   "cell_type": "markdown",
   "metadata": {},
   "source": []
  },
  {
   "cell_type": "code",
   "execution_count": null,
   "metadata": {},
   "outputs": [],
   "source": [
    "# Code Block"
   ]
  },
  {
   "cell_type": "markdown",
   "metadata": {},
   "source": [
    "### Solution to Part (d)"
   ]
  },
  {
   "cell_type": "markdown",
   "metadata": {},
   "source": []
  },
  {
   "cell_type": "code",
   "execution_count": null,
   "metadata": {},
   "outputs": [],
   "source": [
    "# Code Block"
   ]
  }
 ],
 "metadata": {
  "language_info": {
   "name": "python"
  },
  "orig_nbformat": 4
 },
 "nbformat": 4,
 "nbformat_minor": 2
}
