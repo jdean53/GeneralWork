{
 "cells": [
  {
   "cell_type": "markdown",
   "metadata": {},
   "source": [
    "# MATH 468 - Stochastic Calculus II - HW 3"
   ]
  },
  {
   "cell_type": "code",
   "execution_count": 1,
   "metadata": {},
   "outputs": [],
   "source": [
    "'''Packages Used'''\n",
    "import pandas as pd\n",
    "import numpy as np"
   ]
  },
  {
   "cell_type": "markdown",
   "metadata": {},
   "source": [
    "## Problem 1\n",
    "\n",
    "We consider a two-period binomial model with the following properties: each period lasts a year and the current stock price is $S_0 = 4$. On each period, the stock price doubles when it moves up and is reduced by half when it moves down. The annual interest rate on the money market is $25\\%$. (This model is the same as in Prob. 1 of HW#2).  \n",
    "We consider four options on this market:  \n",
    "* a *European Call* option with maturity $T=2$ years and strike price $K=4$.  \n",
    "* a *European Put* option with maturity $T=2$ years and strike price $K=4$.  \n",
    "* an *American Call* option with maturity $T=2$ years and strike price $K=4$.  \n",
    "* an *American Put* option with maturity $T=2$ years and strike price $K=4$.  \n",
    "\n",
    "(a) Find the price at time $0$ of both European options.  \n",
    "(b) Find the price at time $0$ of both American options. Compare your results with (a) and comment.  \n",
    "(c) For each of the american options, describe the optimal excerising strategy.  \n",
    "(d) We assume that you sell the American put to a market participant A for the price found in $b$.  Explain how you act on the market to be able to payoff A when he excercises the option.  (We assume that A exercises optimally)  \n",
    "(e) Now assume that A makes a mistake and doesn't excercise optimally.  What is the consequence for you as the seller of the option? (Only a short answer is required)"
   ]
  },
  {
   "cell_type": "markdown",
   "metadata": {},
   "source": [
    "### Solution to Part (a)"
   ]
  },
  {
   "cell_type": "markdown",
   "metadata": {},
   "source": [
    "To derive the price of the option, we begin by understanding the option payoff at expiry.\n",
    "\n",
    "| $$i$$ | $$S_i$$ | $$f_i^c$$ | $$f_i^p$$ |\n",
    "| -- | -- | -- | -- |\n",
    "| $$7$$ | $$16$$ | $$12$$ | $$0$$ |\n",
    "| $$5\\&6$$ | $$4$$ | $$0$$ | $$0$$ |\n",
    "| $$4$$ | $$1$$ | $$0$$ | $$3$$ |\n",
    "\n",
    "Using these payoffs and the risk-neutral probability $q=\\frac{1}{2}$ derived in HW 2, we calculate the prices of the european call and put below.\n",
    "\n",
    "**European Call**  \n",
    "$$f_3^c = \\frac{1}{1 + 25\\%}(\\frac{1}{2}(12) + \\frac{1}{2}(0)) = \\frac{4}{5}(6) = \\frac{24}{5}$$\n",
    "$$f_2^c = \\frac{1}{1 + 25\\%}(\\frac{1}{2}(0) + \\frac{1}{2}(0)) = 0$$\n",
    "$$f_1^c = \\frac{1}{1 + 25\\%}(\\frac{1}{2}(\\frac{24}{5}) + \\frac{1}{2}(0)) = \\frac{4}{5}(\\frac{12}{5}) = \\frac{48}{25}$$\n",
    "\n",
    "**European Put**  \n",
    "$$f_3^p = \\frac{1}{1+25\\%}(\\frac{1}{2}(0) + \\frac{1}{2}(0)) = 0$$\n",
    "$$f_2^p = \\frac{1}{1+25\\%}(\\frac{1}{2}(0) + \\frac{1}{2}(3)) = \\frac{4}{5}(\\frac{3}{2}) = \\frac{6}{5}$$\n",
    "$$f_2^p = \\frac{1}{1+25\\%}(\\frac{1}{2}(0) + \\frac{1}{2}(\\frac{6}{5})) = \\frac{4}{5}(\\frac{3}{5}) = \\frac{12}{25}$$"
   ]
  },
  {
   "cell_type": "markdown",
   "metadata": {},
   "source": [
    "### Solution to Part (b)"
   ]
  },
  {
   "cell_type": "markdown",
   "metadata": {},
   "source": [
    "We adjust the calculations to reflect the nature of the American Option's early expiry\n",
    "\n",
    "**American Call**  \n",
    "$$f_3^C = \\max\\{\\frac{1}{1 + 25\\%}(\\frac{1}{2}(12) + \\frac{1}{2}(0)),8-4\\} = \\max\\{\\frac{4}{5}(6),4\\} = \\frac{24}{5}$$\n",
    "$$f_2^C = \\max\\{\\frac{1}{1 + 25\\%}(\\frac{1}{2}(0) + \\frac{1}{2}(0)),0\\} = 0$$\n",
    "$$f_1^C = \\max\\{\\frac{1}{1 + 25\\%}(\\frac{1}{2}(\\frac{24}{5}) + \\frac{1}{2}(0)),0\\} = \\frac{4}{5}(\\frac{12}{5}) = \\frac{48}{25}$$\n",
    "\n",
    "**American Put**  \n",
    "$$f_3^P = \\max\\{\\frac{1}{1+25\\%}(\\frac{1}{2}(0) + \\frac{1}{2}(0)),0\\} = 0$$\n",
    "$$f_2^P = \\max\\{\\frac{1}{1+25\\%}(\\frac{1}{2}(0) + \\frac{1}{2}(3)),2\\} = \\max\\{\\frac{4}{5}(\\frac{3}{2}),2\\} = 2$$\n",
    "$$f_2^P = \\max\\{\\frac{1}{1+25\\%}(\\frac{1}{2}(0) + \\frac{1}{2}(2)),0\\} = \\frac{4}{5}$$"
   ]
  },
  {
   "cell_type": "markdown",
   "metadata": {},
   "source": [
    "### Solution to Part (c)"
   ]
  },
  {
   "cell_type": "markdown",
   "metadata": {},
   "source": [
    "For the american call, it is optimally excercised at expiry, as shown in the calculations.  For the american put, it is optimally excercised at time $t=1$.  This is because the down move price relative to the strike price difference is greater than the present value of the risk-neutral expected value.  To summarize, the call should be held to expiry while the put should be excercised early."
   ]
  },
  {
   "cell_type": "markdown",
   "metadata": {},
   "source": [
    "### Solution to Part (d)"
   ]
  },
  {
   "cell_type": "markdown",
   "metadata": {},
   "source": [
    "Market Participant A will only exercise the option at time $t=1$ after a down move in the stock.  If the stock moves up, the option becomes worthless.  I included a table of cashflows below.\n",
    "\n",
    "| Time | $$t=0$$ | Down Move | Up Move |\n",
    "| -- | -- | -- | -- |\n",
    "| Short Put | $$\\frac{4}{5}$$ | $$-2$$ | $$0$$ |\n",
    "| Short Delta | $$4$$ | $$-2$$ | $$-8$$\n",
    "| Long Rates | $$-\\frac{24}{5}$$ | $$6$$ | $$6$$ |\n",
    "| **Cash Flows** | $$0$$ | $$2$$ | $$-2$$ |\n",
    "\n",
    "This combination makes us effectively short the stock but with downside cashflows hedged to only lose 2 dollars instead of 4."
   ]
  },
  {
   "cell_type": "markdown",
   "metadata": {},
   "source": [
    "### Solution to Part (e)"
   ]
  },
  {
   "cell_type": "markdown",
   "metadata": {},
   "source": [
    "In the event the stock initially rises to 8, the put becomes worthless and we close out the trade with the same $-2$ cashflow shown in Part (d).  We see that no exercise with the initial down move will lead to the following cashflows, which is greater than the previously derived cashflow of $2$.  To summarize, this works better for us.\n",
    "\n",
    "| Time | $$t=0$$ | $S_2=1$ | $S_2=4$ |\n",
    "| -- | -- | -- | -- |\n",
    "| Short Put | $$\\frac{4}{5}$$ | $$-3$$ | $$0$$ |\n",
    "| Short Delta | $$4$$ | $$-1$$ | $$-4$$ |\n",
    "| Long Rates | $$-\\frac{24}{5}$$ | $$\\frac{15}{2}$$ | $$\\frac{15}{2}$$ |\n",
    "| **Cash Flows** | $$0$$ | $$\\frac{7}{2}$$ | $$\\frac{7}{2}$$ |\n"
   ]
  },
  {
   "cell_type": "markdown",
   "metadata": {},
   "source": [
    "## Problem 2 (Problem 1 continued)\n",
    "\n",
    "We consider the same stock evolution as in Problem 1, but now assume the market is 3-period and the expiration date of the options is $T=3$ years.  \n",
    "(a) Repeat questions (a), (b), and (c) of Problem 1 in this new market.  (You don't have to provide all the calculations, numerical results are sufficient)  \n",
    "(b) We consider a new type of option on this market: an *American straddle* option with strike price $K=4$. The payoff of an American straddle is the sum of the payoffs of an American call and an American put. If you exercise it when $S_t=5$, your payoff is $1$. If you exercise it when $S_t=2$, your payoff is $2$. You are allowed to exercise at any time. Find the price of this option.  \n",
    "(c) Describe the optimal excercising strategy.  \n",
    "(d) Let $C_0$ (resp. $P_0$, $K_0$) be the prices of the American call (resp. put, straddle).  Give an intuitive explanation why you found that\n",
    "$$K_0 < C_0 + P_0$$"
   ]
  },
  {
   "cell_type": "markdown",
   "metadata": {},
   "source": [
    "### Solution to Part (a)"
   ]
  },
  {
   "cell_type": "markdown",
   "metadata": {},
   "source": [
    "As in Problem 1, we begin by understanding the payoff function of each option\n",
    "\n",
    "| $$i$$ | $$S_i$$ | $$f_i^c$$ | $$f_i^p$$ |\n",
    "| -- | -- | -- | -- |\n",
    "| $$15$$ | $$32$$ | $$28$$ | $$0$$ |\n",
    "| $$11,13,\\&14$$ | $$8$$ | $$4$$ | $$0$$ |\n",
    "| $$9,10,\\&12$$ | $$2$$ | $$0$$ | $$2$$ |\n",
    "| $$8$$ | $$\\frac{1}{2}$$ | $$0$$ | $$\\frac{7}{2}$$ |\n",
    "\n",
    "Using the payoff function, we calculate the price of each option as follows  \n",
    "\n",
    "**European Call**  \n",
    "$$f_7^c = \\frac{4}{5}(\\frac{1}{2}(28) + \\frac{1}{2}(4)) = \\frac{64}{5}$$\n",
    "$$f_{5\\&6}^c = \\frac{4}{5}(\\frac{1}{2}(4) + \\frac{1}{2}(0)) = \\frac{8}{5}$$\n",
    "$$f_4^c = \\frac{4}{5}(\\frac{1}{2}(0) + \\frac{1}{2}(0)) = 0$$\n",
    "$$f_3^c = \\frac{4}{5}(\\frac{1}{2}(\\frac{64}{5}) + \\frac{1}{2}(\\frac{8}{5})) = \\frac{144}{25}$$\n",
    "$$f_2^c = \\frac{4}{5}(\\frac{1}{2}(\\frac{8}{5}) + \\frac{1}{2}(0)) = \\frac{16}{25}$$\n",
    "$$f_1^c = \\frac{4}{5}(\\frac{1}{2}(\\frac{144}{25}) + \\frac{1}{2}(\\frac{16}{25})) = \\frac{64}{25}$$\n",
    "\n",
    "**European Put**  \n",
    "$$f_7^p = \\frac{4}{5}(\\frac{1}{2}(0) + \\frac{1}{2}(0)) = 0$$\n",
    "$$f_{5\\&6}^p = \\frac{4}{5}(\\frac{1}{2}(0) + \\frac{1}{2}(2)) = \\frac{4}{5}$$\n",
    "$$f_4^p = \\frac{4}{5}(\\frac{1}{2}(2) + \\frac{1}{2}(\\frac{7}{2})) = \\frac{11}{5}$$\n",
    "$$f_3^p = \\frac{4}{5}(\\frac{1}{2}(0) + \\frac{1}{2}(\\frac{4}{5})) = \\frac{8}{25}$$\n",
    "$$f_2^p = \\frac{4}{5}(\\frac{1}{2}(\\frac{4}{5}) + \\frac{1}{2}(\\frac{11}{5})) = \\frac{6}{5}$$\n",
    "$$f_1^p = \\frac{4}{5}(\\frac{1}{2}(\\frac{8}{25}) + \\frac{1}{2}(\\frac{6}{5})) = \\frac{76}{125}$$\n",
    "\n",
    "**American Call**  \n",
    "By the theorem of american option function convexity, we see the price of the american call is the same as the european.  Therefore\n",
    "$$f_1^C = f_1^c = \\frac{64}{25}$$\n",
    "I also validated this result but choose to leave it out for the sake of brevity\n",
    "\n",
    "**American Put**  \n",
    "$$f_7^P = \\max\\{\\frac{4}{5}(\\frac{1}{2}(0) + \\frac{1}{2}(0)),0\\} = 0$$\n",
    "$$f_{5\\&6}^P = \\max\\{\\frac{4}{5}(\\frac{1}{2}(0) + \\frac{1}{2}(2)),0\\} = \\max\\{\\frac{4}{5},0\\} = \\frac{4}{5}$$\n",
    "$$f_4^P = \\max\\{\\frac{4}{5}(\\frac{1}{2}(2) + \\frac{1}{2}(\\frac{7}{2})),3\\} = \\max\\{\\frac{11}{5},3\\} = 3$$\n",
    "$$f_3^P = \\max\\{\\frac{4}{5}(\\frac{1}{2}(0) + \\frac{1}{2}(\\frac{4}{5})),0\\} = \\max\\{\\frac{8}{25},0\\} = \\frac{8}{25}$$\n",
    "$$f_2^P = \\max\\{\\frac{4}{5}(\\frac{1}{2}(\\frac{4}{5}) + \\frac{1}{2}(3)),2\\} = \\max\\{\\frac{76}{50},2\\} = 2$$\n",
    "$$f_1^P = \\frac{4}{5}(\\frac{1}{2}(\\frac{8}{25}) + \\frac{1}{2}(2)) = \\frac{116}{125}$$\n",
    "\n",
    "Clearly, it is best to exercise the american put early after an initial down move.  If the inital move is up, then it is best to wait to hope for a move back down and back down again.  This is because an up then down move brings the stock price to $4$, which makes the option worthless still."
   ]
  },
  {
   "cell_type": "markdown",
   "metadata": {},
   "source": [
    "### Solution to Part (b)"
   ]
  },
  {
   "cell_type": "markdown",
   "metadata": {},
   "source": [
    "We begin to solve for the value of this option by understanding the payoff function, which is listed in the table below.\n",
    "\n",
    "| $$i$$ | $$S_i$$ | $$f_i^C$$ | $$f_i^P$$ | $$f_i^K$$ |\n",
    "| -- | -- | -- | -- | -- |\n",
    "| $$15$$ | $$32$$ | $$28$$ | $$0$$ |$$28$$ |\n",
    "| $$11,13,\\&14$$ | $$8$$ | $$4$$ | $$0$$ | $$4$$ |\n",
    "| $$9,10,\\&12$$ | $$2$$ | $$0$$ | $$2$$ | $$2$$\n",
    "| $$8$$ | $$\\frac{1}{2}$$ | $$0$$ | $$\\frac{7}{2}$$ | $$\\frac{7}{2}$$ |\n",
    "\n",
    "We also note that the straddle is american in nature, so we must also include max functions in calculating its value.  For these max functions, the \"early exercise\" value is $|S-K|$, the absolute value of the difference between the stock price and the strike price\n",
    "\n",
    "**American Straddle**\n",
    "$$f_7^K = \\max\\{\\frac{4}{5}(\\frac{1}{2}(28) + \\frac{1}{2}(4)),|16 - 4|\\} = \\max\\{\\frac{64}{5},12\\} = \\frac{64}{5}$$\n",
    "$$f_{5\\&6}^K = \\max\\{\\frac{4}{5}(\\frac{1}{2}(4) + \\frac{1}{2}(2)),|4-4|\\} = \\max\\{\\frac{12}{5},0\\} = \\frac{12}{5}$$\n",
    "$$f_4^K = \\max\\{\\frac{4}{5}(\\frac{1}{2}(2) + \\frac{1}{2}(\\frac{7}{2})),|1-4|\\} = \\max\\{\\frac{11}{5},3\\} = 3$$\n",
    "$$f_3^K = \\max\\{\\frac{4}{5}(\\frac{1}{2}(\\frac{64}{5}) + \\frac{1}{2}(\\frac{12}{5})),|8-4|\\} = \\max\\{\\frac{304}{50},4\\} = \\frac{152}{25}$$\n",
    "$$f_2^K = \\max\\{\\frac{4}{5}(\\frac{1}{2}(\\frac{12}{5}) + \\frac{1}{2}(3)),|2-4|\\} = \\max\\{\\frac{54}{25},2\\} = \\frac{54}{25}$$\n",
    "$$f_1^K = \\frac{4}{5}(\\frac{1}{2}(\\frac{152}{25}) + \\frac{1}{2}(\\frac{54}{25})) = \\frac{412}{125}$$"
   ]
  },
  {
   "cell_type": "markdown",
   "metadata": {},
   "source": [
    "### Solution to Part (c)"
   ]
  },
  {
   "cell_type": "markdown",
   "metadata": {},
   "source": [
    "The optimal exercise strategy is to hold the straddle until expiry unless the stock price cannot recover to the strike.  This is easily seen in the pricing arithmetic as the max function only selects the difference between strike and stock price from node 4, the bottom most node at time $t=2$.  Put more simply, hold the straddle so long as their is a chance that the call-end of it will be in-the-money at expiry, else excercise the put."
   ]
  },
  {
   "cell_type": "markdown",
   "metadata": {},
   "source": [
    "### Solution to Part (d)"
   ]
  },
  {
   "cell_type": "markdown",
   "metadata": {},
   "source": [
    "We have calulated $C_0=\\frac{64}{25}$, $P_0=\\frac{116}{125}$, and $K_0=\\frac{412}{125}$.  We can easily see\n",
    "$$C_0 + P_0 = (\\frac{5}{5})(\\frac{64}{25}) + \\frac{116}{125} = \\frac{436}{125} > \\frac{412}{125} = K_0$$\n",
    "So the given equation holds.  This is due to the fact that in the valuation of the call and put, the owner will exercise their option earlier in the event of a down move than if they hold the straddle, where the optimal strategy is to wait for 2 down moves before exercising.  The earlier potential value in the put makes the individual securities value summed greater than that of their combination."
   ]
  },
  {
   "cell_type": "markdown",
   "metadata": {},
   "source": [
    "## Problem 3 (*N*-period model with *N* large)\n",
    "\n",
    "*Note*: The purpose of this problem below is to use computational techniques (Excel spreadsheet, Matlab, R, Python, etc.) and code the dynamic programming ideas seen in class. Please provide the numerical answer to the questions as well as a sample of your work (spreadsheet, code file, etc.).\n",
    "\n",
    "We consider an *N*-period binomial model with the following properties: $N=60$, the current stock price is $S_0=1000$; on each period, the stock price increases by $0.5\\%$ when it moves up and decreases by $0.3\\%$ when it moves down. The annual interest rate on the money market is $5\\%$. (Notice that this model is a CRR model, which means that the binomial tree is recombining.)\n",
    "\n",
    "(a) Find the price at time $t_0=0$ of a (European) call option with strike price $K=1025$ and maturity $T=1$ year.  \n",
    "(b) Find the price at time $t_0=0$ of a (European) put option with strike price $K=1025$ and maturity $T=1$ year.  \n",
    "(c) We consider now, that you are at time $t_5$ (i.e. after 5 periods, which represents 1 month later). Assume that the stock went up for the first three periods and then down for the next two. Determine the price of the stock at that position, the price of each of the put and call and determine how many shares of stock you should be holding in the hedging portfolio for each of the call and the put.  \n",
    "(d) Repeat questions (a)-(c) in the case where $r=0$. Comment on the results.  \n",
    "*Hint*: take advantage of the fact that the model is recombining: moving up, then down\n",
    "takes you to the same value as moving first down, and then up. It reduces the amount of\n",
    "calculations necessary and will speed up your code."
   ]
  },
  {
   "cell_type": "markdown",
   "metadata": {},
   "source": [
    "*Note*: In the following sections, I write the functionality used to solve the parts listed.  I add comments to the code showing where I intend to use the functionality."
   ]
  },
  {
   "cell_type": "code",
   "execution_count": 2,
   "metadata": {},
   "outputs": [],
   "source": [
    "def walk_params(u,d,T,N):\n",
    "    '''get time step'''\n",
    "    dt = T/N\n",
    "\n",
    "    '''get mean'''\n",
    "    mu = (np.log(1+u) + np.log(1-d)) / (2*dt)\n",
    "    \n",
    "    '''get variance'''\n",
    "    sigma = (np.log(1+u) - mu*dt) / (np.sqrt(dt))\n",
    "\n",
    "    return mu, sigma"
   ]
  },
  {
   "cell_type": "code",
   "execution_count": 3,
   "metadata": {},
   "outputs": [],
   "source": [
    "def build_tree(N, T, mu, sigma, s0, k, r, option_type):\n",
    "    '''Establish time delta -- each variable represents\n",
    "    T - time to maturity in years\n",
    "    N - number of periods (i.e. time steps)'''\n",
    "    dt = T / N\n",
    "\n",
    "    '''Establish up and down factos'''\n",
    "    u = np.exp(mu*dt + sigma*np.sqrt(dt))\n",
    "    d = np.exp(mu*dt - sigma*np.sqrt(dt))\n",
    "    \n",
    "    '''Establish risk neutral probability'''\n",
    "    q = ((1+r*dt) - d) / (u - d)\n",
    "    \n",
    "    '''Constructs the data frame -- each column and its representation\n",
    "    index - number\n",
    "    layer - time step\n",
    "    stock_price - stock price at that node and layer\n",
    "    phi - shares in replicating protfolio\n",
    "    psi - amount of funds in money market\n",
    "    option value - option price at that node'''\n",
    "    tree = pd.DataFrame(data=None, index=range(0,sum(range(N+2))))\n",
    "    tree.index.name = 'node'\n",
    "    tree['layer'] = \"\"\n",
    "    tree['stock_price'] = 0\n",
    "    tree['phi'] = 0\n",
    "    tree['psi'] = 0\n",
    "    \n",
    "    '''inputs intial stock price'''\n",
    "    tree['stock_price'].loc[0] = s0\n",
    "\n",
    "    '''Inputs layers (time steps) and further stock prices'''\n",
    "    node = 0\n",
    "    for i in range(0,N+2):\n",
    "        if i < (N+1):\n",
    "            tree.iloc[range(node,node+i+1),0] = i #Layer\n",
    "            tree.iloc[range(node,node+i+1),1] = s0 * d ** (np.arange(i,-1,-1)) * u ** (np.arange(0,i+1,1)) #Stock Price\n",
    "            node += i + 1\n",
    "\n",
    "    '''Puts intrinsic option value in at every node'''\n",
    "    if option_type == 'c':\n",
    "        tree['option_value'] = tree['stock_price'].apply(lambda x: x-k if x-k > 0 else 0)\n",
    "    elif option_type == 'p':\n",
    "        tree['option_value'] = tree['stock_price'].apply(lambda x: k-x if k-x > 0 else 0)\n",
    "    \n",
    "    '''resets node to N-1'''\n",
    "    \n",
    "    node= node - N\n",
    "    \n",
    "    '''Calculates option value and replicating portfolio going backwards'''\n",
    "    for i in reversed(range(N)):\n",
    "        tree.iloc[range(node-i-2,node-1),4] = (1 / (1+r*dt)) * (q * tree.iloc[range(node,node+i+1),4].to_numpy() + (1-q) * tree.iloc[range(node-1,node+i),4].to_numpy()) # price option\n",
    "        tree.iloc[range(node-i-2,node-1),2] = (tree.iloc[range(node,node+i+1),4].to_numpy() - tree.iloc[range(node-1,node+i),4].to_numpy()) / (tree.iloc[range(node,node+i+1),1].to_numpy() - tree.iloc[range(node-1,node+i),1].to_numpy()) # get delta\n",
    "        tree.iloc[range(node-i-2,node-1),3] = (tree.iloc[range(node,node+i+1),4].to_numpy() - tree.iloc[range(node-i-2,node-1),2].to_numpy() * tree.iloc[range(node,node+i+1),1].to_numpy()) / (1 + r*dt) # Money Market\n",
    "        node = node - i - 1\n",
    "\n",
    "\n",
    "    return tree"
   ]
  },
  {
   "cell_type": "markdown",
   "metadata": {},
   "source": [
    "### Solution to Part (a)"
   ]
  },
  {
   "cell_type": "code",
   "execution_count": 4,
   "metadata": {},
   "outputs": [
    {
     "name": "stderr",
     "output_type": "stream",
     "text": [
      "C:\\Users\\jdean\\AppData\\Local\\Programs\\Python\\Python39\\lib\\site-packages\\pandas\\core\\indexing.py:1732: SettingWithCopyWarning: \n",
      "A value is trying to be set on a copy of a slice from a DataFrame\n",
      "\n",
      "See the caveats in the documentation: https://pandas.pydata.org/pandas-docs/stable/user_guide/indexing.html#returning-a-view-versus-a-copy\n",
      "  self._setitem_single_block(indexer, value, name)\n"
     ]
    },
    {
     "data": {
      "text/plain": [
       "layer                    0\n",
       "stock_price         1000.0\n",
       "phi               0.798915\n",
       "psi            -770.378395\n",
       "option_value     28.536695\n",
       "Name: 0, dtype: object"
      ]
     },
     "execution_count": 4,
     "metadata": {},
     "output_type": "execute_result"
    }
   ],
   "source": [
    "T=1 # 1 Year\n",
    "N=60 # 60 Periods\n",
    "mu, sigma = walk_params(u=0.005,d=0.003,T=T,N=N)\n",
    "tree_c = build_tree(N=N, T=T, mu=mu, sigma=sigma, s0=1000, k=1025, r=.05, option_type='c')\n",
    "tree_c.iloc[0,:]"
   ]
  },
  {
   "cell_type": "markdown",
   "metadata": {},
   "source": [
    "The price of the option is $\\$28.54$"
   ]
  },
  {
   "cell_type": "markdown",
   "metadata": {},
   "source": [
    "### Solution to Part (b)"
   ]
  },
  {
   "cell_type": "code",
   "execution_count": 5,
   "metadata": {},
   "outputs": [
    {
     "data": {
      "text/plain": [
       "layer                    0\n",
       "stock_price         1000.0\n",
       "phi              -0.201085\n",
       "psi             204.652066\n",
       "option_value      3.567157\n",
       "Name: 0, dtype: object"
      ]
     },
     "execution_count": 5,
     "metadata": {},
     "output_type": "execute_result"
    }
   ],
   "source": [
    "tree_p = build_tree(N=60, T=1, mu=mu, sigma=sigma, s0=1000, k=1025, r=.05, option_type='p')\n",
    "tree_p.iloc[0,:]"
   ]
  },
  {
   "cell_type": "markdown",
   "metadata": {},
   "source": [
    "The price of the option is $\\$3.57$"
   ]
  },
  {
   "cell_type": "markdown",
   "metadata": {},
   "source": [
    "### Solution to Part (c)"
   ]
  },
  {
   "cell_type": "code",
   "execution_count": 6,
   "metadata": {},
   "outputs": [],
   "source": [
    "t5_tree_c = tree_c[tree_c['layer']==5]\n",
    "t5_tree_p = tree_p[tree_p['layer']==5]"
   ]
  },
  {
   "cell_type": "code",
   "execution_count": 7,
   "metadata": {},
   "outputs": [
    {
     "data": {
      "text/html": [
       "<div>\n",
       "<style scoped>\n",
       "    .dataframe tbody tr th:only-of-type {\n",
       "        vertical-align: middle;\n",
       "    }\n",
       "\n",
       "    .dataframe tbody tr th {\n",
       "        vertical-align: top;\n",
       "    }\n",
       "\n",
       "    .dataframe thead th {\n",
       "        text-align: right;\n",
       "    }\n",
       "</style>\n",
       "<table border=\"1\" class=\"dataframe\">\n",
       "  <thead>\n",
       "    <tr style=\"text-align: right;\">\n",
       "      <th></th>\n",
       "      <th>layer</th>\n",
       "      <th>stock_price</th>\n",
       "      <th>phi</th>\n",
       "      <th>psi</th>\n",
       "      <th>option_value</th>\n",
       "    </tr>\n",
       "    <tr>\n",
       "      <th>node</th>\n",
       "      <th></th>\n",
       "      <th></th>\n",
       "      <th></th>\n",
       "      <th></th>\n",
       "      <th></th>\n",
       "    </tr>\n",
       "  </thead>\n",
       "  <tbody>\n",
       "    <tr>\n",
       "      <th>15</th>\n",
       "      <td>5</td>\n",
       "      <td>985.089730</td>\n",
       "      <td>0.588668</td>\n",
       "      <td>-565.012023</td>\n",
       "      <td>14.879245</td>\n",
       "    </tr>\n",
       "    <tr>\n",
       "      <th>16</th>\n",
       "      <td>5</td>\n",
       "      <td>992.994162</td>\n",
       "      <td>0.689458</td>\n",
       "      <td>-664.711662</td>\n",
       "      <td>19.915666</td>\n",
       "    </tr>\n",
       "    <tr>\n",
       "      <th>17</th>\n",
       "      <td>5</td>\n",
       "      <td>1000.962018</td>\n",
       "      <td>0.777898</td>\n",
       "      <td>-752.898292</td>\n",
       "      <td>25.748231</td>\n",
       "    </tr>\n",
       "    <tr>\n",
       "      <th>18</th>\n",
       "      <td>5</td>\n",
       "      <td>1008.993810</td>\n",
       "      <td>0.850065</td>\n",
       "      <td>-825.435329</td>\n",
       "      <td>32.275042</td>\n",
       "    </tr>\n",
       "    <tr>\n",
       "      <th>19</th>\n",
       "      <td>5</td>\n",
       "      <td>1017.090049</td>\n",
       "      <td>0.904785</td>\n",
       "      <td>-880.876844</td>\n",
       "      <td>39.370538</td>\n",
       "    </tr>\n",
       "    <tr>\n",
       "      <th>20</th>\n",
       "      <td>5</td>\n",
       "      <td>1025.251253</td>\n",
       "      <td>0.943301</td>\n",
       "      <td>-920.214314</td>\n",
       "      <td>46.905916</td>\n",
       "    </tr>\n",
       "  </tbody>\n",
       "</table>\n",
       "</div>"
      ],
      "text/plain": [
       "     layer  stock_price       phi         psi  option_value\n",
       "node                                                       \n",
       "15       5   985.089730  0.588668 -565.012023     14.879245\n",
       "16       5   992.994162  0.689458 -664.711662     19.915666\n",
       "17       5  1000.962018  0.777898 -752.898292     25.748231\n",
       "18       5  1008.993810  0.850065 -825.435329     32.275042\n",
       "19       5  1017.090049  0.904785 -880.876844     39.370538\n",
       "20       5  1025.251253  0.943301 -920.214314     46.905916"
      ]
     },
     "execution_count": 7,
     "metadata": {},
     "output_type": "execute_result"
    }
   ],
   "source": [
    "t5_tree_c"
   ]
  },
  {
   "cell_type": "code",
   "execution_count": 8,
   "metadata": {},
   "outputs": [
    {
     "data": {
      "text/plain": [
       "layer                    5\n",
       "stock_price     1008.99381\n",
       "phi               0.850065\n",
       "psi            -825.435329\n",
       "option_value     32.275042\n",
       "Name: 18, dtype: object"
      ]
     },
     "execution_count": 8,
     "metadata": {},
     "output_type": "execute_result"
    }
   ],
   "source": [
    "t5_tree_c.iloc[3,:]"
   ]
  },
  {
   "cell_type": "code",
   "execution_count": 9,
   "metadata": {},
   "outputs": [
    {
     "data": {
      "text/plain": [
       "layer                    5\n",
       "stock_price     1008.99381\n",
       "phi              -0.149935\n",
       "psi             153.664536\n",
       "option_value      2.381098\n",
       "Name: 18, dtype: object"
      ]
     },
     "execution_count": 9,
     "metadata": {},
     "output_type": "execute_result"
    }
   ],
   "source": [
    "t5_tree_p.iloc[3,:]"
   ]
  },
  {
   "cell_type": "markdown",
   "metadata": {},
   "source": [
    "For this, time $t_5$ is denoted by layer 5, which I call in each of the previous code blocks.  We can see the stock is worth $\\$1008.99$ with the call and put worth $\\$32.28$ and $\\$2.38$, respectively.  We can see the long call requires a hedged portfolio of $0.85$ shares and $\\$825.43$ in the money market.  The long put requires $0.15$ shares and $\\$153.66$ in the money market.  It is easily seen that the shares traded relative to the call and put adds to $1$, representing the greek delta of the option."
   ]
  },
  {
   "cell_type": "markdown",
   "metadata": {},
   "source": [
    "### Solution to Part (d)"
   ]
  },
  {
   "cell_type": "markdown",
   "metadata": {},
   "source": [
    "We see the call is wortth $\\$3.60$ and the put is worth $\\$28.60$, a complete role reversal vs the $5\\%$ interest in the previous case.  We see the absolute value of the $\\phi$'s still sum to one in both time instances, indicating the put-call parity is holding.  The option statistics for time-step 5 are also included."
   ]
  },
  {
   "cell_type": "code",
   "execution_count": 10,
   "metadata": {},
   "outputs": [
    {
     "name": "stderr",
     "output_type": "stream",
     "text": [
      "C:\\Users\\jdean\\AppData\\Local\\Programs\\Python\\Python39\\lib\\site-packages\\pandas\\core\\indexing.py:1732: SettingWithCopyWarning: \n",
      "A value is trying to be set on a copy of a slice from a DataFrame\n",
      "\n",
      "See the caveats in the documentation: https://pandas.pydata.org/pandas-docs/stable/user_guide/indexing.html#returning-a-view-versus-a-copy\n",
      "  self._setitem_single_block(indexer, value, name)\n"
     ]
    },
    {
     "data": {
      "text/plain": [
       "layer                  0\n",
       "stock_price       1000.0\n",
       "phi             0.217913\n",
       "psi            -214.3112\n",
       "option_value    3.602071\n",
       "Name: 0, dtype: object"
      ]
     },
     "execution_count": 10,
     "metadata": {},
     "output_type": "execute_result"
    }
   ],
   "source": [
    "# repeat part a\n",
    "r0_tree_c = build_tree(N=N, T=T, mu=mu, sigma=sigma, s0=1000, k=1025, r=0, option_type='c')\n",
    "r0_tree_c.iloc[0,:]"
   ]
  },
  {
   "cell_type": "code",
   "execution_count": 11,
   "metadata": {},
   "outputs": [
    {
     "data": {
      "text/plain": [
       "layer                   0\n",
       "stock_price        1000.0\n",
       "phi             -0.782087\n",
       "psi              810.6888\n",
       "option_value    28.602071\n",
       "Name: 0, dtype: object"
      ]
     },
     "execution_count": 11,
     "metadata": {},
     "output_type": "execute_result"
    }
   ],
   "source": [
    "# repeat part b\n",
    "r0_tree_p = build_tree(N=N, T=T, mu=mu, sigma=sigma, s0=1000, k=1025, r=0, option_type='p')\n",
    "r0_tree_p.iloc[0,:]"
   ]
  },
  {
   "cell_type": "code",
   "execution_count": 12,
   "metadata": {},
   "outputs": [
    {
     "name": "stdout",
     "output_type": "stream",
     "text": [
      "---------- call ----------\n",
      "layer                     6\n",
      "stock_price     1005.966828\n",
      "phi                 0.26881\n",
      "psi              -265.88962\n",
      "option_value       4.524259\n",
      "Name: 24, dtype: object\n",
      " \n",
      "---------- put ----------\n",
      "layer                     6\n",
      "stock_price     1005.966828\n",
      "phi                -0.73119\n",
      "psi               759.11038\n",
      "option_value       23.55743\n",
      "Name: 24, dtype: object\n"
     ]
    }
   ],
   "source": [
    "#repeat part c\n",
    "t5_r0_tree_c = r0_tree_c[r0_tree_c['layer']==6]\n",
    "t5_r0_tree_p = r0_tree_p[r0_tree_p['layer']==6]\n",
    "print('---------- call ----------')\n",
    "print(t5_r0_tree_c.iloc[3,:])\n",
    "print(' ')\n",
    "print('---------- put ----------')\n",
    "print(t5_r0_tree_p.iloc[3,:])"
   ]
  }
 ],
 "metadata": {
  "interpreter": {
   "hash": "702e518b60c67dbd3b0638a510bff2830380600f50d13e8fcb105f9ecc05fb71"
  },
  "kernelspec": {
   "display_name": "Python 3.9.6 64-bit",
   "language": "python",
   "name": "python3"
  },
  "language_info": {
   "codemirror_mode": {
    "name": "ipython",
    "version": 3
   },
   "file_extension": ".py",
   "mimetype": "text/x-python",
   "name": "python",
   "nbconvert_exporter": "python",
   "pygments_lexer": "ipython3",
   "version": "3.9.6"
  },
  "orig_nbformat": 4
 },
 "nbformat": 4,
 "nbformat_minor": 2
}
