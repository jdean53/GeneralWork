{
 "cells": [
  {
   "cell_type": "markdown",
   "metadata": {},
   "source": [
    "# MATH 468 - Stochastic Calculus II - HW 3"
   ]
  },
  {
   "cell_type": "code",
   "execution_count": 1,
   "metadata": {},
   "outputs": [],
   "source": [
    "# Code Block\n",
    "# Insert Packages Here\n",
    "import pandas as pd"
   ]
  },
  {
   "cell_type": "markdown",
   "metadata": {},
   "source": [
    "## Problem 1\n",
    "\n",
    "We consider a two-period binomial model with the following properties: each period lasts a year and the current stock price is $S_0 = 4$. On each period, the stock price doubles when it moves up and is reduced by half when it moves down. The annual interest rate on the money market is $25\\%$. (This model is the same as in Prob. 1 of HW#2).  \n",
    "We consider four options on this market:  \n",
    "* a *European Call* option with maturity $T=2$ years and strike price $K=4$.  \n",
    "* a *European Put* option with maturity $T=2$ years and strike price $K=4$.  \n",
    "* an *American Call* option with maturity $T=2$ years and strike price $K=4$.  \n",
    "* an *American Put* option with maturity $T=2$ years and strike price $K=4$.  \n",
    "\n",
    "(a) Find the price at time $0$ of both European options.  \n",
    "(b) Find the price at time $0$ of both American options. Compare your results with (a) and comment.  \n",
    "(c) For each of the american options, describe the optimal excerising strategy.  \n",
    "(d) We assume that you sell the American put to a market participant A for the price found in $b$.  Explain how you act on the market to be able to payoff A when he excercises the option.  (We assume that A exercises optimally)  \n",
    "(e) Now assume that A makes a mistake and doesn't excercise optimally.  What is the consequence for you as the seller of the option? (Only a short answer is required)"
   ]
  },
  {
   "cell_type": "markdown",
   "metadata": {},
   "source": [
    "### Solution to Part (a)"
   ]
  },
  {
   "cell_type": "markdown",
   "metadata": {},
   "source": [
    "To derive the price of the option, we begin by understanding the option payoff at expiry.\n",
    "\n",
    "| $$i$$ | $$S_i$$ | $$f_i^c$$ | $$f_i^p$$ |\n",
    "| -- | -- | -- | -- |\n",
    "| $$7$$ | $$16$$ | $$12$$ | $$0$$ |\n",
    "| $$5\\&6$$ | $$4$$ | $$0$$ | $$0$$ |\n",
    "| $$4$$ | $$1$$ | $$0$$ | $$3$$ |\n",
    "\n",
    "Using these payoffs and the risk-neutral probability $q=\\frac{1}{2}$ derived in HW 2, we calculate the prices of the european call and put below.\n",
    "\n",
    "**European Call**  \n",
    "$$f_3^c = \\frac{1}{1 + 25\\%}(\\frac{1}{2}(12) + \\frac{1}{2}(0)) = \\frac{4}{5}(6) = \\frac{24}{5}$$\n",
    "$$f_2^c = \\frac{1}{1 + 25\\%}(\\frac{1}{2}(0) + \\frac{1}{2}(0)) = 0$$\n",
    "$$f_1^c = \\frac{1}{1 + 25\\%}(\\frac{1}{2}(\\frac{24}{5}) + \\frac{1}{2}(0)) = \\frac{4}{5}(\\frac{12}{5}) = \\frac{48}{25}$$\n",
    "\n",
    "**European Put**  \n",
    "$$f_3^p = \\frac{1}{1+25\\%}(\\frac{1}{2}(0) + \\frac{1}{2}(0)) = 0$$\n",
    "$$f_2^p = \\frac{1}{1+25\\%}(\\frac{1}{2}(0) + \\frac{1}{2}(3)) = \\frac{4}{5}(\\frac{3}{2}) = \\frac{6}{5}$$\n",
    "$$f_2^p = \\frac{1}{1+25\\%}(\\frac{1}{2}(0) + \\frac{1}{2}(\\frac{6}{5})) = \\frac{4}{5}(\\frac{3}{5}) = \\frac{12}{25}$$"
   ]
  },
  {
   "cell_type": "markdown",
   "metadata": {},
   "source": [
    "### Solution to Part (b)"
   ]
  },
  {
   "cell_type": "markdown",
   "metadata": {},
   "source": [
    "We adjust the calculations to reflect the nature of the American Option's early expiry\n",
    "\n",
    "**American Call**  \n",
    "$$f_3^C = \\max\\{\\frac{1}{1 + 25\\%}(\\frac{1}{2}(12) + \\frac{1}{2}(0)),8-4\\} = \\max\\{\\frac{4}{5}(6),4\\} = \\frac{24}{5}$$\n",
    "$$f_2^C = \\max\\{\\frac{1}{1 + 25\\%}(\\frac{1}{2}(0) + \\frac{1}{2}(0)),0\\} = 0$$\n",
    "$$f_1^C = \\max\\{\\frac{1}{1 + 25\\%}(\\frac{1}{2}(\\frac{24}{5}) + \\frac{1}{2}(0)),0\\} = \\frac{4}{5}(\\frac{12}{5}) = \\frac{48}{25}$$\n",
    "\n",
    "**American Put**  \n",
    "$$f_3^P = \\max\\{\\frac{1}{1+25\\%}(\\frac{1}{2}(0) + \\frac{1}{2}(0)),0\\} = 0$$\n",
    "$$f_2^P = \\max\\{\\frac{1}{1+25\\%}(\\frac{1}{2}(0) + \\frac{1}{2}(3)),2\\} = \\max\\{\\frac{4}{5}(\\frac{3}{2}),2\\} = 2$$\n",
    "$$f_2^P = \\max\\{\\frac{1}{1+25\\%}(\\frac{1}{2}(0) + \\frac{1}{2}(2)),0\\} = \\frac{4}{5}$$"
   ]
  },
  {
   "cell_type": "markdown",
   "metadata": {},
   "source": [
    "### Solution to Part (c)"
   ]
  },
  {
   "cell_type": "markdown",
   "metadata": {},
   "source": [
    "For the american call, it is optimally excercised at expiry, as shown in the calculations.  For the american put, it is optimally excercised at time $t=1$.  This is because the down move price relative to the strike price difference is greater than the present value of the risk-neutral expected value.  To summarize, the call should be held to expiry while the put should be excercised early."
   ]
  },
  {
   "cell_type": "markdown",
   "metadata": {},
   "source": [
    "### Solution to Part (d)"
   ]
  },
  {
   "cell_type": "markdown",
   "metadata": {},
   "source": [
    "Market Participant A will only exercise the option at time $t=1$ after a down move in the stock.  If the stock moves up, the option becomes worthless.  I included a table of cashflows below.\n",
    "\n",
    "| Time | $$t=0$$ | Down Move | Up Move |\n",
    "| -- | -- | -- | -- |\n",
    "| Short Put | $$\\frac{4}{5}$$ | $$-2$$ | $$0$$ |\n",
    "| Short Delta | $$4$$ | $$-2$$ | $$-8$$\n",
    "| Long Rates | $$-\\frac{24}{5}$$ | $$6$$ | $$6$$ |\n",
    "| **Cash Flows** | $$0$$ | $$2$$ | $$-2$$ |\n",
    "\n",
    "This combination makes us effectively short the stock but with downside cashflows hedged to only lose 2 dollars instead of 4."
   ]
  },
  {
   "cell_type": "markdown",
   "metadata": {},
   "source": [
    "### Solution to Part (e)"
   ]
  },
  {
   "cell_type": "markdown",
   "metadata": {},
   "source": [
    "In the event the stock initially rises to 8, the put becomes worthless and we close out the trade with the same $-2$ cashflow shown in Part (d).  We see that no exercise with the initial down move will lead to the following cashflows, which is greater than the previously derived cashflow of $2$.  To summarize, this works better for us.\n",
    "\n",
    "| Time | $$t=0$$ | $S_2=1$ | $S_2=4$ |\n",
    "| -- | -- | -- | -- |\n",
    "| Short Put | $$\\frac{4}{5}$$ | $$-3$$ | $$0$$ |\n",
    "| Short Delta | $$4$$ | $$-1$$ | $$-4$$ |\n",
    "| Long Rates | $$-\\frac{24}{5}$$ | $$\\frac{15}{2}$$ | $$\\frac{15}{2}$$ |\n",
    "| **Cash Flows** | $$0$$ | $$\\frac{7}{2}$$ | $$\\frac{7}{2}$$ |\n"
   ]
  },
  {
   "cell_type": "markdown",
   "metadata": {},
   "source": [
    "## Problem 2 (Problem 1 continued)\n",
    "\n",
    "We consider the same stock evolution as in Problem 1, but now assume the market is 3-period and the expiration date of the options is $T=3$ years.  \n",
    "(a) Repeat questions (a), (b), and (c) of Problem 1 in this new market.  (You don't have to provide all the calculations, numerical results are sufficient)  \n",
    "(b) We consider a new type of option on this market: an *American straddle* option with strike price $K=4$. The payoff of an American straddle is the sum of the payoffs of an American call and an American put. If you exercise it when $S_t=5$, your payoff is $1$. If you exercise it when $S_t=2$, your payoff is $2$. You are allowed to exercise at any time. Find the price of this option.  \n",
    "(c) Describe the optimal excercising strategy.  \n",
    "(d) Let $C_0$ (resp. $P_0$, $K_0$) be the prices of the American call (resp. put, straddle).  Give an intuitive explanation why you found that\n",
    "$$K_0 < C_0 + P_0$$"
   ]
  },
  {
   "cell_type": "markdown",
   "metadata": {},
   "source": [
    "### Solution to Part (a)"
   ]
  },
  {
   "cell_type": "markdown",
   "metadata": {},
   "source": [
    "As in Problem 1, we begin by understanding the payoff function of each option\n",
    "\n",
    "| $$i$$ | $$S_i$$ | $$f_i^c$$ | $$f_i^p$$ |\n",
    "| -- | -- | -- | -- |\n",
    "| $$15$$ | $$32$$ | $$28$$ | $$0$$ |\n",
    "| $$11,13,\\&14$$ | $$8$$ | $$4$$ | $$0$$ |\n",
    "| $$9,10,\\&12$$ | $$2$$ | $$0$$ | $$2$$ |\n",
    "| $$8$$ | $$\\frac{1}{2}$$ | $$0$$ | $$\\frac{7}{2}$$ |\n",
    "\n",
    "Using the payoff function, we calculate the price of each option as follows  \n",
    "\n",
    "**European Call**  \n",
    "$$f_7^c = \\frac{4}{5}(\\frac{1}{2}(28) + \\frac{1}{2}(4)) = \\frac{64}{5}$$\n",
    "$$f_{5\\&6}^c = \\frac{4}{5}(\\frac{1}{2}(4) + \\frac{1}{2}(0)) = \\frac{8}{5}$$\n",
    "$$f_4^c = \\frac{4}{5}(\\frac{1}{2}(0) + \\frac{1}{2}(0)) = 0$$\n",
    "$$f_3^c = \\frac{4}{5}(\\frac{1}{2}(\\frac{64}{5}) + \\frac{1}{2}(\\frac{8}{5})) = \\frac{144}{25}$$\n",
    "$$f_2^c = \\frac{4}{5}(\\frac{1}{2}(\\frac{8}{5}) + \\frac{1}{2}(0)) = \\frac{16}{25}$$\n",
    "$$f_1^c = \\frac{4}{5}(\\frac{1}{2}(\\frac{144}{25}) + \\frac{1}{2}(\\frac{16}{25})) = \\frac{64}{25}$$\n",
    "\n",
    "**European Put**  \n",
    "$$f_7^p = \\frac{4}{5}(\\frac{1}{2}(0) + \\frac{1}{2}(0)) = 0$$\n",
    "$$f_{5\\&6}^p = \\frac{4}{5}(\\frac{1}{2}(0) + \\frac{1}{2}(2)) = \\frac{4}{5}$$\n",
    "$$f_4^p = \\frac{4}{5}(\\frac{1}{2}(2) + \\frac{1}{2}(\\frac{7}{2})) = \\frac{11}{5}$$\n",
    "$$f_3^p = \\frac{4}{5}(\\frac{1}{2}(0) + \\frac{1}{2}(\\frac{4}{5})) = \\frac{8}{25}$$\n",
    "$$f_2^p = \\frac{4}{5}(\\frac{1}{2}(\\frac{4}{5}) + \\frac{1}{2}(\\frac{11}{5})) = \\frac{6}{5}$$\n",
    "$$f_1^p = \\frac{4}{5}(\\frac{1}{2}(\\frac{8}{25}) + \\frac{1}{2}(\\frac{6}{5})) = \\frac{76}{125}$$\n",
    "\n",
    "**American Call**  \n",
    "By the theorem of american option function convexity, we see the price of the american call is the same as the european.  Therefore\n",
    "$$f_1^C = f_1^c = \\frac{64}{25}$$\n",
    "I also validated this result but choose to leave it out for the sake of brevity\n",
    "\n",
    "**American Put**  \n",
    "$$f_7^P = \\max\\{\\frac{4}{5}(\\frac{1}{2}(0) + \\frac{1}{2}(0)),0\\} = 0$$\n",
    "$$f_{5\\&6}^P = \\max\\{\\frac{4}{5}(\\frac{1}{2}(0) + \\frac{1}{2}(2)),0\\} = \\max\\{\\frac{4}{5},0\\} = \\frac{4}{5}$$\n",
    "$$f_4^P = \\max\\{\\frac{4}{5}(\\frac{1}{2}(2) + \\frac{1}{2}(\\frac{7}{2})),3\\} = \\max\\{\\frac{11}{5},3\\} = 3$$\n",
    "$$f_3^P = \\max\\{\\frac{4}{5}(\\frac{1}{2}(0) + \\frac{1}{2}(\\frac{4}{5})),0\\} = \\max\\{\\frac{8}{25},0\\} = \\frac{8}{25}$$\n",
    "$$f_2^P = \\max\\{\\frac{4}{5}(\\frac{1}{2}(\\frac{4}{5}) + \\frac{1}{2}(3)),2\\} = \\max\\{\\frac{76}{50},2\\} = 2$$\n",
    "$$f_1^P = \\frac{4}{5}(\\frac{1}{2}(\\frac{8}{25}) + \\frac{1}{2}(2)) = \\frac{116}{125}$$\n",
    "\n",
    "Clearly, it is best to exercise the american put early after an initial down move.  If the inital move is up, then it is best to wait to hope for a move back down and back down again.  This is because an up then down move brings the stock price to $4$, which makes the option worthless still."
   ]
  },
  {
   "cell_type": "markdown",
   "metadata": {},
   "source": [
    "### Solution to Part (b)"
   ]
  },
  {
   "cell_type": "markdown",
   "metadata": {},
   "source": [
    "We begin to solve for the value of this option by understanding the payoff function, which is listed in the table below.\n",
    "\n",
    "| $$i$$ | $$S_i$$ | $$f_i^C$$ | $$f_i^P$$ | $$f_i^K$$ |\n",
    "| -- | -- | -- | -- | -- |\n",
    "| $$15$$ | $$32$$ | $$28$$ | $$0$$ |$$28$$ |\n",
    "| $$11,13,\\&14$$ | $$8$$ | $$4$$ | $$0$$ | $$4$$ |\n",
    "| $$9,10,\\&12$$ | $$2$$ | $$0$$ | $$2$$ | $$2$$\n",
    "| $$8$$ | $$\\frac{1}{2}$$ | $$0$$ | $$\\frac{7}{2}$$ | $$\\frac{7}{2}$$ |\n",
    "\n",
    "We also note that the straddle is american in nature, so we must also include max functions in calculating its value.  For these max functions, the \"early exercise\" value is $|S-K|$, the absolute value of the difference between the stock price and the strike price\n",
    "\n",
    "**American Straddle**\n",
    "$$f_7^K = \\max\\{\\frac{4}{5}(\\frac{1}{2}(28) + \\frac{1}{2}(4)),|16 - 4|\\} = \\max\\{\\frac{64}{5},12\\} = \\frac{64}{5}$$\n",
    "$$f_{5\\&6}^K = \\max\\{\\frac{4}{5}(\\frac{1}{2}(4) + \\frac{1}{2}(2)),|4-4|\\} = \\max\\{\\frac{12}{5},0\\} = \\frac{12}{5}$$\n",
    "$$f_4^K = \\max\\{\\frac{4}{5}(\\frac{1}{2}(2) + \\frac{1}{2}(\\frac{7}{2})),|1-4|\\} = \\max\\{\\frac{11}{5},3\\} = 3$$\n",
    "$$f_3^K = \\max\\{\\frac{4}{5}(\\frac{1}{2}(\\frac{64}{5}) + \\frac{1}{2}(\\frac{12}{5})),|8-4|\\} = \\max\\{\\frac{304}{50},4\\} = \\frac{152}{25}$$\n",
    "$$f_2^K = \\max\\{\\frac{4}{5}(\\frac{1}{2}(\\frac{12}{5}) + \\frac{1}{2}(3)),|2-4|\\} = \\max\\{\\frac{54}{25},2\\} = \\frac{54}{25}$$\n",
    "$$f_1^K = \\frac{4}{5}(\\frac{1}{2}(\\frac{152}{25}) + \\frac{1}{2}(\\frac{54}{25})) = \\frac{412}{125}$$"
   ]
  },
  {
   "cell_type": "markdown",
   "metadata": {},
   "source": [
    "### Solution to Part (c)"
   ]
  },
  {
   "cell_type": "markdown",
   "metadata": {},
   "source": [
    "The optimal exercise strategy is to hold the straddle until expiry unless the stock price cannot recover to the strike.  This is easily seen in the pricing arithmetic as the max function only selects the difference between strike and stock price from node 4, the bottom most node at time $t=2$.  Put more simply, hold the straddle so long as their is a chance that the call-end of it will be in-the-money at expiry, else excercise the put."
   ]
  },
  {
   "cell_type": "markdown",
   "metadata": {},
   "source": [
    "### Solution to Part (d)"
   ]
  },
  {
   "cell_type": "markdown",
   "metadata": {},
   "source": [
    "We have calulated $C_0=\\frac{64}{25}$, $P_0=\\frac{116}{125}$, and $K_0=\\frac{412}{125}$.  We can easily see\n",
    "$$C_0 + P_0 = (\\frac{5}{5})(\\frac{64}{25}) + \\frac{116}{125} = \\frac{436}{125} > \\frac{412}{125} = K_0$$\n",
    "So the given equation holds.  This is due to the fact that in the valuation of the call and put, the owner will exercise their option earlier in the event of a down move than if they hold the straddle, where the optimal strategy is to wait for 2 down moves before exercising.  The earlier potential value in the put makes the individual securities value summed greater than that of their combination."
   ]
  },
  {
   "cell_type": "markdown",
   "metadata": {},
   "source": [
    "## Problem 3 (*N*-period model with *N* large)\n",
    "\n",
    "*Note*: The purpose of this problem below is to use computational techniques (Excel spreadsheet, Matlab, R, Python, etc.) and code the dynamic programming ideas seen in class. Please provide the numerical answer to the questions as well as a sample of your work (spreadsheet, code file, etc.).\n",
    "\n",
    "We consider an *N*-period binomial model with the following properties: $N=60$, the current stock price is $S_0=1000$; on each period, the stock price increases by $0.5\\%$ when it moves up and decreases by $0.3\\%$ when it moves down. The annual interest rate on the money market is $5\\%$. (Notice that this model is a CRR model, which means that the binomial tree is recombining.)\n",
    "\n",
    "(a) Find the price at time $t_0=0$ of a (European) call option with strike price $K=1025$ and maturity $T=1$ year.  \n",
    "(b) Find the price at time $t_0=0$ of a (European) put option with strike price $K=1025$ and maturity $T=1$ year.  \n",
    "(c) We consider now, that you are at time $t_5$ (i.e. after 5 periods, which represents 1 month later). Assume that the stock went up for the first three periods and then down for the next two. Determine the price of the stock at that position, the price of each of the put and call and determine how many shares of stock you should be holding in the hedging portfolio for each of the call and the put.  \n",
    "(d) Repeat questions (a)-(c) in the case where $r=0$. Comment on the results.  \n",
    "*Hint*: take advantage of the fact that the model is recombining: moving up, then down\n",
    "takes you to the same value as moving first down, and then up. It reduces the amount of\n",
    "calculations necessary and will speed up your code."
   ]
  },
  {
   "cell_type": "markdown",
   "metadata": {},
   "source": [
    "*Note*: In the following sections, I write the functionality used to solve the parts listed.  I add comments to the code showing where I intend to use the functionality."
   ]
  },
  {
   "cell_type": "code",
   "execution_count": 2,
   "metadata": {},
   "outputs": [],
   "source": [
    "def build_tree(N, T, u, d, s0, k, r, option_type):\n",
    "    #Creates time interval\n",
    "    dt = T/N\n",
    "    \n",
    "    #Creates list of nodes\n",
    "    nodes = sum(range(N+1))\n",
    "    tree = pd.DataFrame(index = range(1,nodes+1))\n",
    "    tree.index.name='node'\n",
    "    \n",
    "    #Adds layer of each price\n",
    "    layers = []\n",
    "    for i in range(N+1):\n",
    "        for j in range(i):\n",
    "            layers.append(i)\n",
    "    tree['layer'] = layers\n",
    "    \n",
    "    #Adds stock price\n",
    "    tree['stock_price'] = \"\"\n",
    "    prices = []\n",
    "    for node in range(N+1):\n",
    "        for i in range(node):\n",
    "            prices.append(s0 * ((1+u)**(i)) * ((1-d)**(node-i-1)))\n",
    "    tree['stock_price'] = prices\n",
    "\n",
    "    #Calculates risk-neutral probability\n",
    "    q = ((1 + r * dt) - (1-d)) / ((1+u) - (1-d))\n",
    "\n",
    "    #Adds hedging portfolio cols\n",
    "    tree['phi'] = 0\n",
    "    tree['psi'] = 0\n",
    "\n",
    "    #Sets initial payoff function\n",
    "    if option_type == 'c':\n",
    "        tree['option_value'] = tree['stock_price'].apply(lambda x: x-k if x-k > 0 else 0)\n",
    "    elif option_type == 'p':\n",
    "        tree['option_value'] = tree['stock_price'].apply(lambda x: k-x if k-x > 0 else 0)\n",
    "\n",
    "    #Recursive calculation back to time 0\n",
    "        #columns reffered to w iloc\n",
    "        # 4 -- Option Value\n",
    "        # 3 -- Psi -def- amt in rates\n",
    "        # 2 -- Phi -def- amt in stock\n",
    "        # 1 -- stock price (Delta)\n",
    "    for i in reversed(range(N)):\n",
    "        for j in range(0,i):\n",
    "            tree.iloc[sum(range(i)) + j, 4] = (1 / (1 + r * dt) ) * (q * tree[tree['layer'] == i+1].iloc[j+1,4] + (1-q) * tree[tree['layer'] == i+1].iloc[j,4])\n",
    "            tree.iloc[sum(range(i)) + j, 2] = -(tree[tree['layer'] == i+1].iloc[j+1,4] - tree[tree['layer'] == i+1].iloc[j,4]) / (tree[tree['layer'] == i+1].iloc[j+1,1] - tree[tree['layer'] == i+1].iloc[j,1])\n",
    "            tree.iloc[sum(range(i)) + j, 3] = (tree[tree['layer'] == i+1].iloc[j,4] - tree.iloc[sum(range(i)) + j, 2] * tree[tree['layer'] == i+1].iloc[j,1]) / (1 + r * dt)\n",
    "    \n",
    "    return tree"
   ]
  },
  {
   "cell_type": "code",
   "execution_count": 3,
   "metadata": {},
   "outputs": [],
   "source": [
    "#Checking by Put - Call Parity\n",
    "c0 = build_tree(N=60, T=1, u=0.005, d=0.003, s0=1000, k=1025, r=.05, option_type='c').iloc[0,4]\n",
    "p0 = build_tree(N=60, T=1, u=0.005, d=0.003, s0=1000, k=1025, r=.05, option_type='p').iloc[0,4]"
   ]
  },
  {
   "cell_type": "code",
   "execution_count": 4,
   "metadata": {},
   "outputs": [
    {
     "name": "stdout",
     "output_type": "stream",
     "text": [
      "24.157012856729274\n",
      "24.15701285672924\n"
     ]
    }
   ],
   "source": [
    "print(c0-p0)\n",
    "print(1000 - (1 + .05/60)**(-59) * 1025)\n",
    "#Put-Call Parity Holds"
   ]
  },
  {
   "cell_type": "markdown",
   "metadata": {},
   "source": [
    "### Solution to Part (a)"
   ]
  },
  {
   "cell_type": "code",
   "execution_count": 5,
   "metadata": {},
   "outputs": [
    {
     "data": {
      "text/plain": [
       "layer              1.000000\n",
       "stock_price     1000.000000\n",
       "phi               -0.793419\n",
       "psi              815.160335\n",
       "option_value      27.819382\n",
       "Name: 1, dtype: float64"
      ]
     },
     "execution_count": 5,
     "metadata": {},
     "output_type": "execute_result"
    }
   ],
   "source": [
    "tree_c = build_tree(N=60, T=1, u=0.005, d=0.003, s0=1000, k=1025, r=.05, option_type='c')\n",
    "tree_c.iloc[0,:]"
   ]
  },
  {
   "cell_type": "markdown",
   "metadata": {},
   "source": [
    "The price of the option is $\\$27.82$"
   ]
  },
  {
   "cell_type": "markdown",
   "metadata": {},
   "source": [
    "### Solution to Part (b)"
   ]
  },
  {
   "cell_type": "code",
   "execution_count": 6,
   "metadata": {},
   "outputs": [
    {
     "data": {
      "text/plain": [
       "layer              1.000000\n",
       "stock_price     1000.000000\n",
       "phi                0.206581\n",
       "psi             -201.336395\n",
       "option_value       3.662369\n",
       "Name: 1, dtype: float64"
      ]
     },
     "execution_count": 6,
     "metadata": {},
     "output_type": "execute_result"
    }
   ],
   "source": [
    "tree_p = build_tree(N=60, T=1, u=0.005, d=0.003, s0=1000, k=1025, r=.05, option_type='p')\n",
    "tree_p.iloc[0,:]"
   ]
  },
  {
   "cell_type": "markdown",
   "metadata": {},
   "source": [
    "The price of the option is $\\$3.66$"
   ]
  },
  {
   "cell_type": "markdown",
   "metadata": {},
   "source": [
    "### Solution to Part (c)"
   ]
  },
  {
   "cell_type": "code",
   "execution_count": 7,
   "metadata": {},
   "outputs": [],
   "source": [
    "t5_tree_c = tree_c[tree_c['layer']==6]\n",
    "t5_tree_p = tree_p[tree_p['layer']==6]"
   ]
  },
  {
   "cell_type": "code",
   "execution_count": 8,
   "metadata": {},
   "outputs": [
    {
     "data": {
      "text/plain": [
       "layer              6.000000\n",
       "stock_price     1008.993810\n",
       "phi               -0.845819\n",
       "psi              878.410086\n",
       "option_value      31.521853\n",
       "Name: 19, dtype: float64"
      ]
     },
     "execution_count": 8,
     "metadata": {},
     "output_type": "execute_result"
    }
   ],
   "source": [
    "t5_tree_c.iloc[3,:]"
   ]
  },
  {
   "cell_type": "code",
   "execution_count": 9,
   "metadata": {},
   "outputs": [
    {
     "data": {
      "text/plain": [
       "layer              6.000000\n",
       "stock_price     1008.993810\n",
       "phi                0.154181\n",
       "psi             -151.932573\n",
       "option_value       2.443825\n",
       "Name: 19, dtype: float64"
      ]
     },
     "execution_count": 9,
     "metadata": {},
     "output_type": "execute_result"
    }
   ],
   "source": [
    "t5_tree_p.iloc[3,:]"
   ]
  },
  {
   "cell_type": "markdown",
   "metadata": {},
   "source": [
    "For this, time $t_5$ is denoted by layer 6, which I call in each of the previous code blocks.  We can see the stock is worth $\\$1008.99$ with the call and put worth $\\$31.52$ and $\\$2.44$, respectively.  We can see the long call requires a hedged portfolio of short $0.85$ shares and long $\\$878.41$ in the money market.  The long put requires long $0.15$ shares and short $\\$151.93$ in the money market.  It is easily seen that the shares traded relative to the call and put adds to $1$, representing the greek delta of the option."
   ]
  },
  {
   "cell_type": "markdown",
   "metadata": {},
   "source": [
    "### Solution to Part (d)"
   ]
  },
  {
   "cell_type": "markdown",
   "metadata": {},
   "source": [
    "We see the call is wortth $\\$3.52$ and the put is worth $\\$28.52$, a complete role reversal vs the $5\\%$ interest in the previous case.  We see the absolute value of the $\\phi$'s still sum to one in both time instances, indicating the put-call parity is holding"
   ]
  },
  {
   "cell_type": "code",
   "execution_count": 10,
   "metadata": {},
   "outputs": [
    {
     "data": {
      "text/plain": [
       "layer              1.000000\n",
       "stock_price     1000.000000\n",
       "phi               -0.215706\n",
       "psi              217.928770\n",
       "option_value       3.517134\n",
       "Name: 1, dtype: float64"
      ]
     },
     "execution_count": 10,
     "metadata": {},
     "output_type": "execute_result"
    }
   ],
   "source": [
    "# repeat part a\n",
    "r0_tree_c = build_tree(N=60, T=1, u=0.005, d=0.003, s0=1000, k=1025, r=0, option_type='c')\n",
    "r0_tree_c.iloc[0,:]"
   ]
  },
  {
   "cell_type": "code",
   "execution_count": 11,
   "metadata": {},
   "outputs": [
    {
     "data": {
      "text/plain": [
       "layer              1.000000\n",
       "stock_price     1000.000000\n",
       "phi                0.784294\n",
       "psi             -751.071230\n",
       "option_value      28.517134\n",
       "Name: 1, dtype: float64"
      ]
     },
     "execution_count": 11,
     "metadata": {},
     "output_type": "execute_result"
    }
   ],
   "source": [
    "# repeat part b\n",
    "r0_tree_p = build_tree(N=60, T=1, u=0.005, d=0.003, s0=1000, k=1025, r=0, option_type='p')\n",
    "r0_tree_p.iloc[0,:]"
   ]
  },
  {
   "cell_type": "code",
   "execution_count": 12,
   "metadata": {},
   "outputs": [
    {
     "name": "stdout",
     "output_type": "stream",
     "text": [
      "---------- call ----------\n",
      "layer              6.000000\n",
      "stock_price     1008.993810\n",
      "phi               -0.304151\n",
      "psi              310.389003\n",
      "option_value       5.344158\n",
      "Name: 19, dtype: float64\n",
      " \n",
      "---------- put ----------\n",
      "layer              6.000000\n",
      "stock_price     1008.993810\n",
      "phi                0.695849\n",
      "psi             -676.544654\n",
      "option_value      21.350348\n",
      "Name: 19, dtype: float64\n"
     ]
    }
   ],
   "source": [
    "#repeat part c\n",
    "t5_r0_tree_c = r0_tree_c[r0_tree_c['layer']==6]\n",
    "t5_r0_tree_p = r0_tree_p[r0_tree_p['layer']==6]\n",
    "print('---------- call ----------')\n",
    "print(t5_r0_tree_c.iloc[3,:])\n",
    "print(' ')\n",
    "print('---------- put ----------')\n",
    "print(t5_r0_tree_p.iloc[3,:])"
   ]
  }
 ],
 "metadata": {
  "interpreter": {
   "hash": "702e518b60c67dbd3b0638a510bff2830380600f50d13e8fcb105f9ecc05fb71"
  },
  "kernelspec": {
   "display_name": "Python 3.9.6 64-bit",
   "language": "python",
   "name": "python3"
  },
  "language_info": {
   "codemirror_mode": {
    "name": "ipython",
    "version": 3
   },
   "file_extension": ".py",
   "mimetype": "text/x-python",
   "name": "python",
   "nbconvert_exporter": "python",
   "pygments_lexer": "ipython3",
   "version": "3.9.6"
  },
  "orig_nbformat": 4
 },
 "nbformat": 4,
 "nbformat_minor": 2
}
