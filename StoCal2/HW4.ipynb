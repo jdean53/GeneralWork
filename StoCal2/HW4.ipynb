{
 "cells": [
  {
   "cell_type": "markdown",
   "metadata": {},
   "source": [
    "# MATH 468 - Stochastic Calculus II - HW 4"
   ]
  },
  {
   "cell_type": "code",
   "execution_count": 1,
   "metadata": {},
   "outputs": [],
   "source": [
    "'''Packages Used'''\n",
    "import pandas as pd\n",
    "import numpy as np\n",
    "import datetime\n",
    "\n",
    "'''Plotting Functionality'''\n",
    "import matplotlib.pyplot as plt\n",
    "plt.style.use('dark_background')\n",
    "\n",
    "'''Code Deck Import'''\n",
    "from StoCalCodeDeck import walk_params\n",
    "\n",
    "'''Data Import Packages'''\n",
    "import yfinance as yf"
   ]
  },
  {
   "cell_type": "markdown",
   "metadata": {},
   "source": [
    "## Problem 1 (American options with N large)\n",
    "\n",
    "*Note*: This problem is a continuation of Problem 3 in HW #3. The objective is to generalize your code to American options. Please provide the answers to the questions below as well as a sample of your code.\n",
    "\n",
    "We consider the same market model as in Problem 3 of HW #3. We consider an American put option with strike price $K = \\$1,025$ and maturity $T = 1$ year.\n",
    "\n",
    "(a) Find the price of the option at time $t_0 = 0$ if it is American and compare with the price of the European put found in Problem 1.  \n",
    "(b) What is the earliest possible time of optimal exercise of the American put?  \n",
    "(c) Repeat questions (a) and (b) in the case where $r = 0\\%$. What do you conclude?  "
   ]
  },
  {
   "cell_type": "markdown",
   "metadata": {},
   "source": [
    "### Solution to Part (a)"
   ]
  },
  {
   "cell_type": "code",
   "execution_count": 2,
   "metadata": {},
   "outputs": [],
   "source": [
    "'''Expanding the Function to Include American/European Nature of the Option'''\n",
    "\n",
    "def build_tree(N, T, mu, sigma, s0, k, r, option_type, nature):\n",
    "    '''Establish time delta -- each variable represents\n",
    "    T - time to maturity in years\n",
    "    N - number of periods (i.e. time steps)'''\n",
    "    dt = T / N\n",
    "\n",
    "    '''Establish up and down factos'''\n",
    "    u = np.exp(mu*dt + sigma*np.sqrt(dt))\n",
    "    d = np.exp(mu*dt - sigma*np.sqrt(dt))\n",
    "    \n",
    "    '''Establish risk neutral probability'''\n",
    "    q = ((1+r*dt) - d) / (u - d)\n",
    "    \n",
    "    '''Constructs the data frame -- each column and its representation\n",
    "    index - number\n",
    "    layer - time step\n",
    "    stock_price - stock price at that node and layer\n",
    "    phi - shares in replicating protfolio\n",
    "    psi - amount of funds in money market\n",
    "    option value - option price at that node'''\n",
    "    tree = pd.DataFrame(data=None, index=range(0,sum(range(N+2))))\n",
    "    tree.index.name = 'node'\n",
    "    tree['layer'] = \"\"\n",
    "    tree['stock_price'] = 0\n",
    "    tree['phi'] = 0\n",
    "    tree['psi'] = 0\n",
    "    \n",
    "    '''inputs intial stock price'''\n",
    "    tree['stock_price'].loc[0] = s0\n",
    "\n",
    "    '''Inputs layers (time steps) and further stock prices'''\n",
    "    node = 0\n",
    "    for i in range(0,N+2):\n",
    "        if i < (N+1):\n",
    "            tree.iloc[range(node,node+i+1),0] = i #Layer\n",
    "            tree.iloc[range(node,node+i+1),1] = s0 * d ** (np.arange(i,-1,-1)) * u ** (np.arange(0,i+1,1)) #Stock Price\n",
    "            node += i + 1\n",
    "\n",
    "    '''Puts intrinsic option value in at every node'''\n",
    "    if option_type == 'c':\n",
    "        tree['option_value'] = tree['stock_price'].apply(lambda x: x-k if x-k > 0 else 0)\n",
    "    elif option_type == 'p':\n",
    "        tree['option_value'] = tree['stock_price'].apply(lambda x: k-x if k-x > 0 else 0)\n",
    "    \n",
    "    '''resets node to N-1'''\n",
    "    node= node - N\n",
    "    \n",
    "    '''Calculates option value and replicating portfolio going backwards'''\n",
    "    for i in reversed(range(N)):\n",
    "        price_range = (1 / (1+r*dt)) * (q * tree.iloc[range(node,node+i+1),4].to_numpy() + (1-q) * tree.iloc[range(node-1,node+i),4].to_numpy()) # price option\n",
    "        if nature == 'european':\n",
    "            tree.iloc[range(node-i-2,node-1),4] = price_range\n",
    "        elif nature == 'american':\n",
    "            tree.iloc[range(node-i-2,node-1),4] = np.maximum(price_range, tree.iloc[range(node-i-2,node-1),4].to_numpy())\n",
    "        tree.iloc[range(node-i-2,node-1),2] = (tree.iloc[range(node,node+i+1),4].to_numpy() - tree.iloc[range(node-1,node+i),4].to_numpy()) / (tree.iloc[range(node,node+i+1),1].to_numpy() - tree.iloc[range(node-1,node+i),1].to_numpy()) # get delta\n",
    "        tree.iloc[range(node-i-2,node-1),3] = (tree.iloc[range(node,node+i+1),4].to_numpy() - tree.iloc[range(node-i-2,node-1),2].to_numpy() * tree.iloc[range(node,node+i+1),1].to_numpy()) / (1 + r*dt) # Money Market\n",
    "        node = node - i - 1\n",
    "\n",
    "    return tree"
   ]
  },
  {
   "cell_type": "code",
   "execution_count": 3,
   "metadata": {},
   "outputs": [
    {
     "name": "stderr",
     "output_type": "stream",
     "text": [
      "C:\\Users\\jdean\\AppData\\Local\\Programs\\Python\\Python39\\lib\\site-packages\\pandas\\core\\indexing.py:1732: SettingWithCopyWarning: \n",
      "A value is trying to be set on a copy of a slice from a DataFrame\n",
      "\n",
      "See the caveats in the documentation: https://pandas.pydata.org/pandas-docs/stable/user_guide/indexing.html#returning-a-view-versus-a-copy\n",
      "  self._setitem_single_block(indexer, value, name)\n"
     ]
    },
    {
     "name": "stdout",
     "output_type": "stream",
     "text": [
      "the price of the american put is 25.00\n"
     ]
    }
   ],
   "source": [
    "'''Value the American Put'''\n",
    "T=1 # 1 Year\n",
    "N=60 # 60 Periods\n",
    "mu, sigma = walk_params(u=0.005,d=0.003,T=T,N=N)\n",
    "tree_a = build_tree(N=N, T=T, mu=mu, sigma=sigma, s0=1000, k=1025, r=0.05, option_type='p', nature='american')\n",
    "print('the price of the american put is {:.2f}'.format(tree_a.iloc[0,-1]))"
   ]
  },
  {
   "cell_type": "code",
   "execution_count": 4,
   "metadata": {},
   "outputs": [
    {
     "name": "stdout",
     "output_type": "stream",
     "text": [
      "the price of the european put is 3.57\n"
     ]
    }
   ],
   "source": [
    "tree_e = build_tree(N=N, T=T, mu=mu, sigma=sigma, s0=1000, k=1025, r=0.05, option_type='p', nature='european')\n",
    "tree_e.iloc[0,:]\n",
    "print('the price of the european put is {:.2f}'.format(tree_e.iloc[0,-1]))"
   ]
  },
  {
   "cell_type": "markdown",
   "metadata": {},
   "source": [
    "The price of the European Put is $\\$3.59$ while the American is $\\$25.00$, which makes sense as the underlying currently trades $\\$25$ cheap to the strike.  Therefore, one could buy the put and exercise it immediately to earn $\\$25$ in P&L, while the european put would require waiting until expiry."
   ]
  },
  {
   "cell_type": "markdown",
   "metadata": {},
   "source": [
    "### Solution to Part (b)"
   ]
  },
  {
   "cell_type": "markdown",
   "metadata": {},
   "source": [
    "The earliest possible time for early exercise is right now, as shown in the first few time steps in the dataframe below."
   ]
  },
  {
   "cell_type": "code",
   "execution_count": 5,
   "metadata": {},
   "outputs": [
    {
     "data": {
      "text/html": [
       "<div>\n",
       "<style scoped>\n",
       "    .dataframe tbody tr th:only-of-type {\n",
       "        vertical-align: middle;\n",
       "    }\n",
       "\n",
       "    .dataframe tbody tr th {\n",
       "        vertical-align: top;\n",
       "    }\n",
       "\n",
       "    .dataframe thead th {\n",
       "        text-align: right;\n",
       "    }\n",
       "</style>\n",
       "<table border=\"1\" class=\"dataframe\">\n",
       "  <thead>\n",
       "    <tr style=\"text-align: right;\">\n",
       "      <th></th>\n",
       "      <th>layer</th>\n",
       "      <th>stock_price</th>\n",
       "      <th>phi</th>\n",
       "      <th>psi</th>\n",
       "      <th>option_value</th>\n",
       "    </tr>\n",
       "    <tr>\n",
       "      <th>node</th>\n",
       "      <th></th>\n",
       "      <th></th>\n",
       "      <th></th>\n",
       "      <th></th>\n",
       "      <th></th>\n",
       "    </tr>\n",
       "  </thead>\n",
       "  <tbody>\n",
       "    <tr>\n",
       "      <th>0</th>\n",
       "      <td>0</td>\n",
       "      <td>1000.000</td>\n",
       "      <td>-1.0</td>\n",
       "      <td>1024.146545</td>\n",
       "      <td>25.000</td>\n",
       "    </tr>\n",
       "    <tr>\n",
       "      <th>1</th>\n",
       "      <td>1</td>\n",
       "      <td>997.000</td>\n",
       "      <td>-1.0</td>\n",
       "      <td>1024.146545</td>\n",
       "      <td>28.000</td>\n",
       "    </tr>\n",
       "    <tr>\n",
       "      <th>2</th>\n",
       "      <td>1</td>\n",
       "      <td>1005.000</td>\n",
       "      <td>-1.0</td>\n",
       "      <td>1024.146545</td>\n",
       "      <td>20.000</td>\n",
       "    </tr>\n",
       "    <tr>\n",
       "      <th>3</th>\n",
       "      <td>2</td>\n",
       "      <td>994.009</td>\n",
       "      <td>-1.0</td>\n",
       "      <td>1024.146545</td>\n",
       "      <td>30.991</td>\n",
       "    </tr>\n",
       "    <tr>\n",
       "      <th>4</th>\n",
       "      <td>2</td>\n",
       "      <td>1001.985</td>\n",
       "      <td>-1.0</td>\n",
       "      <td>1024.146545</td>\n",
       "      <td>23.015</td>\n",
       "    </tr>\n",
       "    <tr>\n",
       "      <th>5</th>\n",
       "      <td>2</td>\n",
       "      <td>1010.025</td>\n",
       "      <td>-1.0</td>\n",
       "      <td>1024.146545</td>\n",
       "      <td>14.975</td>\n",
       "    </tr>\n",
       "  </tbody>\n",
       "</table>\n",
       "</div>"
      ],
      "text/plain": [
       "     layer  stock_price  phi          psi  option_value\n",
       "node                                                   \n",
       "0        0     1000.000 -1.0  1024.146545        25.000\n",
       "1        1      997.000 -1.0  1024.146545        28.000\n",
       "2        1     1005.000 -1.0  1024.146545        20.000\n",
       "3        2      994.009 -1.0  1024.146545        30.991\n",
       "4        2     1001.985 -1.0  1024.146545        23.015\n",
       "5        2     1010.025 -1.0  1024.146545        14.975"
      ]
     },
     "execution_count": 5,
     "metadata": {},
     "output_type": "execute_result"
    }
   ],
   "source": [
    "tree_a.loc[:5]"
   ]
  },
  {
   "cell_type": "markdown",
   "metadata": {},
   "source": [
    "### Solution to Part (c)"
   ]
  },
  {
   "cell_type": "code",
   "execution_count": 6,
   "metadata": {},
   "outputs": [
    {
     "name": "stderr",
     "output_type": "stream",
     "text": [
      "C:\\Users\\jdean\\AppData\\Local\\Programs\\Python\\Python39\\lib\\site-packages\\pandas\\core\\indexing.py:1732: SettingWithCopyWarning: \n",
      "A value is trying to be set on a copy of a slice from a DataFrame\n",
      "\n",
      "See the caveats in the documentation: https://pandas.pydata.org/pandas-docs/stable/user_guide/indexing.html#returning-a-view-versus-a-copy\n",
      "  self._setitem_single_block(indexer, value, name)\n"
     ]
    },
    {
     "name": "stdout",
     "output_type": "stream",
     "text": [
      "the price of the american put is 28.60\n"
     ]
    }
   ],
   "source": [
    "'''Value the American Put, 0 rates'''\n",
    "T=1 # 1 Year\n",
    "N=60 # 60 Periods\n",
    "mu, sigma = walk_params(u=0.005,d=0.003,T=T,N=N)\n",
    "tree_a = build_tree(N=N, T=T, mu=mu, sigma=sigma, s0=1000, k=1025, r=0, option_type='p', nature='american')\n",
    "print('the price of the american put is {:.2f}'.format(tree_a.iloc[0,-1]))"
   ]
  },
  {
   "cell_type": "code",
   "execution_count": 7,
   "metadata": {},
   "outputs": [
    {
     "name": "stdout",
     "output_type": "stream",
     "text": [
      "the price of the european put is 28.60\n"
     ]
    }
   ],
   "source": [
    "tree_e = build_tree(N=N, T=T, mu=mu, sigma=sigma, s0=1000, k=1025, r=0, option_type='p', nature='european')\n",
    "tree_e.iloc[0,:]\n",
    "print('the price of the european put is {:.2f}'.format(tree_e.iloc[0,-1]))"
   ]
  },
  {
   "cell_type": "markdown",
   "metadata": {},
   "source": [
    "The options trade at the same price as there is no market drift to push the stock price up.  This makes the european put more valuable, and offers more potential for intrinsic value for the american put"
   ]
  },
  {
   "cell_type": "markdown",
   "metadata": {},
   "source": [
    "## Problem 2 (Option pricing from real data.)\n",
    "\n",
    "*Note*: This problem is the continuation of Prob. 3 in HW #1. We will use the data to price options and compare with the market prices.\n",
    "\n",
    "Consider the asset that you selected in HW #1. For this asset, select three call options and one put option. All options should have approximately the same expiration date, say about 3 months in the future. The three calls should have three different strike prices, typically one *in-the-money*, one *at-the-money*, and one *out-of-the-money*. (Consider values relatively close to the current price and, if you have access to this information, for which the trading volume is relatively large.) The put option should be *at-the-money*. Record the current price of these options. Note that all traded options are American options. Also determine the interest rate to be used for your calculations: typically, you can consider the LIBOR rate, or the 10-year US treasury yield.\n",
    "\n",
    "(a) We assume that the CRR model represents the stock price and that its assumptions are satisfied. Based on historical data (about 3 months to a year in the past), determine the parameters $\\mu$ and $\\sigma$ for the stock that you chose following the methods discussed in class. (I recommend to download current data, but feel free to use past data if that is all you have.)  \n",
    "(b) Price the selected put option using an $N$-period binomial model for different values of $N$ (which you can choose on your own). As a hint, you can for instance start with $N = 2$ or $N = 3$, which should be approximately monthly-periods. You can then use approximately weekly periods ($N \\approx 10$ or $N \\approx 12$) or daily periods ($N \\approx 60$). Make sure that you use the exact number of days or weeks to the maturity of your option.  \n",
    "(c) Compare your results to the market price and comment. In particular, discuss the impact of $N$ on your calculated price.  \n",
    "(d) Price each of the three selected call options using all of (i) approximately monthly periods ($N = 2, 3$), (ii) approximately weekly periods ($N \\approx 10, 12$), and (iii) daily periods ($N \\approx 60$).  \n",
    "(e) Compare your results to the market prices and comment. In particular, discuss the impact of the strike price $K$ on your results. In general, once you obtain the parameters $\\mu$ and $\\sigma$, you should be able to use the computing tool that you developed in HW#3 and in Problem 1 to price your options.\n"
   ]
  },
  {
   "cell_type": "code",
   "execution_count": 8,
   "metadata": {},
   "outputs": [],
   "source": [
    "def asset_data(ticker, start_date, end_date):\n",
    "    '''\n",
    "    Function Designed to Pull Equity Data\n",
    "    ----\n",
    "    ticker - Ticker of desired equity\n",
    "    start_date -  Date to start pulling data from\n",
    "    end_data - Date to end data pull, typically today\n",
    "    '''\n",
    "    if type(start_date) == datetime.datetime:\n",
    "        start_date = start_date.strftime('%Y-%m-%d')\n",
    "    else:\n",
    "        pass\n",
    "    \n",
    "    if type(end_date) == datetime.datetime:\n",
    "        end_date = end_date.strftime('%Y-%m-%d')\n",
    "    else:\n",
    "        pass\n",
    "\n",
    "    asset = yf.Ticker(ticker)\n",
    "    data = yf.download(ticker, start_date, end_date)                                # Pull Data\n",
    "    \n",
    "    return asset, data\n",
    "\n",
    "def maturity(timedelta, asset):\n",
    "    '''\n",
    "    Function Designed to find option expiry closest to desired expiry\n",
    "    ----\n",
    "    timedelta - time until expiry (EXPRESSED IN YEARS)\n",
    "    asset - yfinance.ticker.Ticker object whos options are being analyzed\n",
    "    '''\n",
    "    days = timedelta*365                                                            # Time Expressed in years converted to days\n",
    "    expiries = asset.options\n",
    "    distance = []\n",
    "    for expiry in expiries:                                                         # Calculate Distance from Desired Expiry\n",
    "        distance.append(abs(datetime.datetime.strptime(expiry, '%Y-%m-%d') - \n",
    "                    (datetime.datetime.today() + \n",
    "                    datetime.timedelta(days))))\n",
    "\n",
    "    expiry = expiries[distance.index(min(distance))]                                # Use minimum distance\n",
    "    years_to_expiry = float((datetime.datetime.strptime(expiry, '%Y-%m-%d') - datetime.datetime.today()).days) / 365\n",
    "    return expiry, years_to_expiry\n",
    "\n",
    "def rates_data():\n",
    "    '''\n",
    "    Function designed to pull current yield on the US 10 year note\n",
    "    NOTE: Pulls the value as a number, not a percentage\n",
    "    '''\n",
    "    rates = yf.download('^tnx', datetime.datetime.today())\n",
    "    rf = rates['Adj Close'][0] / 100\n",
    "    return rf"
   ]
  },
  {
   "cell_type": "code",
   "execution_count": 9,
   "metadata": {},
   "outputs": [
    {
     "name": "stdout",
     "output_type": "stream",
     "text": [
      "[*********************100%***********************]  1 of 1 completed\n",
      "[*********************100%***********************]  1 of 1 completed\n"
     ]
    }
   ],
   "source": [
    "'''Get ETF Data'''\n",
    "etf, etf_data = asset_data(ticker = 'LQD', start_date='2017-01-01', end_date=datetime.datetime.today())\n",
    "expiry, years_to_expiry = maturity(0.25, etf)\n",
    "px_last = etf_data.iloc[-1,3]\n",
    "\n",
    "'''Get Option Data'''\n",
    "options = etf.option_chain(expiry)\n",
    "calls = options.calls\n",
    "puts = options.puts\n",
    "itm_calls = calls[calls['strike'] < px_last - 0.5]\n",
    "atm_calls = calls[(calls['strike'] < px_last+0.5) & (calls['strike'] > px_last-0.5)]\n",
    "otm_calls = calls[calls['strike'] > px_last + 0.5]\n",
    "atm_puts = puts[(puts['strike'] < px_last+0.5) & (puts['strike'] > px_last-0.5)]\n",
    "atm_k = atm_calls['strike'].to_list()[0]\n",
    "otm_k = 126\n",
    "itm_k = 120\n",
    "\n",
    "'''Get Rates Data'''\n",
    "rf = rates_data()"
   ]
  },
  {
   "cell_type": "markdown",
   "metadata": {},
   "source": [
    "### Solution to Part (a)"
   ]
  },
  {
   "cell_type": "code",
   "execution_count": 10,
   "metadata": {},
   "outputs": [],
   "source": [
    "def estimate_params(M, data):\n",
    "    '''\n",
    "    Function designed to estimate Mu and Sigma parameters for use in Option Pricing\n",
    "    ---\n",
    "    M - Sample Size to consider\n",
    "    data - Asset DataFrame pulled from Asset_Data() function\n",
    "    '''\n",
    "\n",
    "    dt = 1/252                                              # 1 day timestep\n",
    "    \n",
    "    y = np.log(1 + data['Adj Close'].pct_change())[-M:]     # Log Returns\n",
    "    \n",
    "    sigma_sq = np.var(y) / dt\n",
    "    sigma = np.sqrt(sigma_sq)                               # Sigma Estimator\n",
    "\n",
    "    mu = np.mean(y) / dt + 0.5*sigma_sq                     # Mu Estimator\n",
    "    \n",
    "    return mu, sigma"
   ]
  },
  {
   "cell_type": "code",
   "execution_count": 11,
   "metadata": {},
   "outputs": [
    {
     "name": "stdout",
     "output_type": "stream",
     "text": [
      "The mean estimator is 4.98%\n",
      "The vol estimator is 12.11%\n",
      "The rates estimator is 1.87%\n"
     ]
    }
   ],
   "source": [
    "lqd_mu, lqd_sigma = estimate_params(M = 500, data = etf_data)\n",
    "print('The mean estimator is {:.2%}'.format(lqd_mu))\n",
    "print('The vol estimator is {:.2%}'.format(lqd_sigma))\n",
    "print('The rates estimator is {:.2%}'.format(rf))"
   ]
  },
  {
   "cell_type": "markdown",
   "metadata": {},
   "source": [
    "### Solution to Part (b)"
   ]
  },
  {
   "cell_type": "code",
   "execution_count": 12,
   "metadata": {},
   "outputs": [],
   "source": [
    "option_prices = []\n",
    "n_cases = [2,3,5,7,10,12,20,25,30,40,50,55,60,100]\n",
    "\n",
    "for n in n_cases:\n",
    "    lqd_p_tree = build_tree(N=n, T=years_to_expiry, mu=lqd_mu, sigma=lqd_sigma, s0=px_last, k=atm_k, r=rf, option_type='p', nature='american')\n",
    "    option_prices.append(lqd_p_tree.iloc[0,4])"
   ]
  },
  {
   "cell_type": "code",
   "execution_count": 13,
   "metadata": {},
   "outputs": [
    {
     "data": {
      "text/plain": [
       "Text(0, 0.5, 'Price of the Option')"
      ]
     },
     "execution_count": 13,
     "metadata": {},
     "output_type": "execute_result"
    },
    {
     "data": {
      "image/png": "[encoded data removed]",
      "text/plain": [
       "<Figure size 432x288 with 1 Axes>"
      ]
     },
     "metadata": {},
     "output_type": "display_data"
    }
   ],
   "source": [
    "plt.plot(n_cases,option_prices)\n",
    "plt.title('At-The-Money Put Price as a Function of Time Periods')\n",
    "plt.xlabel('Number of Periods, N')\n",
    "plt.ylabel('Price of the Option')"
   ]
  },
  {
   "cell_type": "markdown",
   "metadata": {},
   "source": [
    "### Solution to Part (c)"
   ]
  },
  {
   "cell_type": "markdown",
   "metadata": {},
   "source": [
    "Depending on the choice of $N$, we see the price of the option decaying exponentially from $\\$2.95$ to $\\$2.75$.  We see the at-the-money put has a strike of $\\$122$ but was last traded on February 28th, so the $\\$2.02$ does not reflect the current market price of the option.  We refer to the market on the security which is currently $\\$3.80$ at $\\$4.40$.  We see our theoretical price is below the current market but above the last traded price.  This is likely due to recent world events that have increased volatility in the market."
   ]
  },
  {
   "cell_type": "code",
   "execution_count": 14,
   "metadata": {},
   "outputs": [
    {
     "data": {
      "text/html": [
       "<div>\n",
       "<style scoped>\n",
       "    .dataframe tbody tr th:only-of-type {\n",
       "        vertical-align: middle;\n",
       "    }\n",
       "\n",
       "    .dataframe tbody tr th {\n",
       "        vertical-align: top;\n",
       "    }\n",
       "\n",
       "    .dataframe thead th {\n",
       "        text-align: right;\n",
       "    }\n",
       "</style>\n",
       "<table border=\"1\" class=\"dataframe\">\n",
       "  <thead>\n",
       "    <tr style=\"text-align: right;\">\n",
       "      <th></th>\n",
       "      <th>contractSymbol</th>\n",
       "      <th>lastTradeDate</th>\n",
       "      <th>strike</th>\n",
       "      <th>lastPrice</th>\n",
       "      <th>bid</th>\n",
       "      <th>ask</th>\n",
       "      <th>change</th>\n",
       "      <th>percentChange</th>\n",
       "      <th>volume</th>\n",
       "      <th>openInterest</th>\n",
       "      <th>impliedVolatility</th>\n",
       "      <th>inTheMoney</th>\n",
       "      <th>contractSize</th>\n",
       "      <th>currency</th>\n",
       "    </tr>\n",
       "  </thead>\n",
       "  <tbody>\n",
       "    <tr>\n",
       "      <th>16</th>\n",
       "      <td>LQD220617P00122000</td>\n",
       "      <td>2022-02-28 16:19:31+00:00</td>\n",
       "      <td>122.0</td>\n",
       "      <td>2.02</td>\n",
       "      <td>3.75</td>\n",
       "      <td>4.55</td>\n",
       "      <td>0.0</td>\n",
       "      <td>0.0</td>\n",
       "      <td>20.0</td>\n",
       "      <td>3769</td>\n",
       "      <td>0.165963</td>\n",
       "      <td>True</td>\n",
       "      <td>REGULAR</td>\n",
       "      <td>USD</td>\n",
       "    </tr>\n",
       "  </tbody>\n",
       "</table>\n",
       "</div>"
      ],
      "text/plain": [
       "        contractSymbol             lastTradeDate  strike  lastPrice   bid  \\\n",
       "16  LQD220617P00122000 2022-02-28 16:19:31+00:00   122.0       2.02  3.75   \n",
       "\n",
       "     ask  change  percentChange  volume  openInterest  impliedVolatility  \\\n",
       "16  4.55     0.0            0.0    20.0          3769           0.165963   \n",
       "\n",
       "    inTheMoney contractSize currency  \n",
       "16        True      REGULAR      USD  "
      ]
     },
     "execution_count": 14,
     "metadata": {},
     "output_type": "execute_result"
    }
   ],
   "source": [
    "atm_puts"
   ]
  },
  {
   "cell_type": "markdown",
   "metadata": {},
   "source": [
    "### Solution to Part (d) & (e)"
   ]
  },
  {
   "cell_type": "code",
   "execution_count": 15,
   "metadata": {},
   "outputs": [
    {
     "name": "stderr",
     "output_type": "stream",
     "text": [
      "C:\\Users\\jdean\\AppData\\Local\\Programs\\Python\\Python39\\lib\\site-packages\\pandas\\core\\indexing.py:1732: SettingWithCopyWarning: \n",
      "A value is trying to be set on a copy of a slice from a DataFrame\n",
      "\n",
      "See the caveats in the documentation: https://pandas.pydata.org/pandas-docs/stable/user_guide/indexing.html#returning-a-view-versus-a-copy\n",
      "  self._setitem_single_block(indexer, value, name)\n"
     ]
    },
    {
     "data": {
      "text/plain": [
       "Text(0, 0.5, 'Price of the Option')"
      ]
     },
     "execution_count": 15,
     "metadata": {},
     "output_type": "execute_result"
    },
    {
     "data": {
      "image/png": "[encoded data removed]",
      "text/plain": [
       "<Figure size 432x288 with 1 Axes>"
      ]
     },
     "metadata": {},
     "output_type": "display_data"
    }
   ],
   "source": [
    "'''ATM Call Price Sensitivity'''\n",
    "option_prices = []\n",
    "\n",
    "for n in n_cases:\n",
    "    lqd_p_tree = build_tree(N=n, T=years_to_expiry, mu=lqd_mu, sigma=lqd_sigma, s0=px_last, k=atm_k, r=rf, option_type='c', nature='american')\n",
    "    option_prices.append(lqd_p_tree.iloc[0,4])\n",
    "\n",
    "plt.plot(n_cases, option_prices)\n",
    "plt.title('At-The-Money Call Price as a Function of Time Periods')\n",
    "plt.xlabel('Number of Periods, N')\n",
    "plt.ylabel('Price of the Option')"
   ]
  },
  {
   "cell_type": "code",
   "execution_count": 16,
   "metadata": {},
   "outputs": [
    {
     "data": {
      "text/html": [
       "<div>\n",
       "<style scoped>\n",
       "    .dataframe tbody tr th:only-of-type {\n",
       "        vertical-align: middle;\n",
       "    }\n",
       "\n",
       "    .dataframe tbody tr th {\n",
       "        vertical-align: top;\n",
       "    }\n",
       "\n",
       "    .dataframe thead th {\n",
       "        text-align: right;\n",
       "    }\n",
       "</style>\n",
       "<table border=\"1\" class=\"dataframe\">\n",
       "  <thead>\n",
       "    <tr style=\"text-align: right;\">\n",
       "      <th></th>\n",
       "      <th>contractSymbol</th>\n",
       "      <th>lastTradeDate</th>\n",
       "      <th>strike</th>\n",
       "      <th>lastPrice</th>\n",
       "      <th>bid</th>\n",
       "      <th>ask</th>\n",
       "      <th>change</th>\n",
       "      <th>percentChange</th>\n",
       "      <th>volume</th>\n",
       "      <th>openInterest</th>\n",
       "      <th>impliedVolatility</th>\n",
       "      <th>inTheMoney</th>\n",
       "      <th>contractSize</th>\n",
       "      <th>currency</th>\n",
       "    </tr>\n",
       "  </thead>\n",
       "  <tbody>\n",
       "    <tr>\n",
       "      <th>1</th>\n",
       "      <td>LQD220617C00122000</td>\n",
       "      <td>2022-02-15 16:35:27+00:00</td>\n",
       "      <td>122.0</td>\n",
       "      <td>3.3</td>\n",
       "      <td>2.31</td>\n",
       "      <td>3.05</td>\n",
       "      <td>0.0</td>\n",
       "      <td>0.0</td>\n",
       "      <td>NaN</td>\n",
       "      <td>3</td>\n",
       "      <td>0.129647</td>\n",
       "      <td>False</td>\n",
       "      <td>REGULAR</td>\n",
       "      <td>USD</td>\n",
       "    </tr>\n",
       "  </tbody>\n",
       "</table>\n",
       "</div>"
      ],
      "text/plain": [
       "       contractSymbol             lastTradeDate  strike  lastPrice   bid  \\\n",
       "1  LQD220617C00122000 2022-02-15 16:35:27+00:00   122.0        3.3  2.31   \n",
       "\n",
       "    ask  change  percentChange  volume  openInterest  impliedVolatility  \\\n",
       "1  3.05     0.0            0.0     NaN             3           0.129647   \n",
       "\n",
       "   inTheMoney contractSize currency  \n",
       "1       False      REGULAR      USD  "
      ]
     },
     "execution_count": 16,
     "metadata": {},
     "output_type": "execute_result"
    }
   ],
   "source": [
    "atm_calls"
   ]
  },
  {
   "cell_type": "markdown",
   "metadata": {},
   "source": [
    "The At-The-Money Call is pricing $\\$3.45$ at $\\$3.63$, while the traded market is $\\$2.20$ at $\\$3.35$.  This is farily close to the traded market"
   ]
  },
  {
   "cell_type": "code",
   "execution_count": 17,
   "metadata": {},
   "outputs": [
    {
     "name": "stderr",
     "output_type": "stream",
     "text": [
      "C:\\Users\\jdean\\AppData\\Local\\Programs\\Python\\Python39\\lib\\site-packages\\pandas\\core\\indexing.py:1732: SettingWithCopyWarning: \n",
      "A value is trying to be set on a copy of a slice from a DataFrame\n",
      "\n",
      "See the caveats in the documentation: https://pandas.pydata.org/pandas-docs/stable/user_guide/indexing.html#returning-a-view-versus-a-copy\n",
      "  self._setitem_single_block(indexer, value, name)\n"
     ]
    },
    {
     "data": {
      "text/plain": [
       "Text(0, 0.5, 'Price of the Option')"
      ]
     },
     "execution_count": 17,
     "metadata": {},
     "output_type": "execute_result"
    },
    {
     "data": {
      "image/png": "[encoded data removed]",
      "text/plain": [
       "<Figure size 432x288 with 1 Axes>"
      ]
     },
     "metadata": {},
     "output_type": "display_data"
    }
   ],
   "source": [
    "'''ITM Call Price Sensitivity'''\n",
    "option_prices = []\n",
    "\n",
    "for n in n_cases:\n",
    "    lqd_p_tree = build_tree(N=n, T=years_to_expiry, mu=lqd_mu, sigma=lqd_sigma, s0=px_last, k=itm_k, r=rf, option_type='c', nature='american')\n",
    "    option_prices.append(lqd_p_tree.iloc[0,4])\n",
    "\n",
    "plt.plot(n_cases, option_prices)\n",
    "plt.title('In-The-Money Call Price as a Function of Time Periods')\n",
    "plt.xlabel('Number of Periods, N')\n",
    "plt.ylabel('Price of the Option')"
   ]
  },
  {
   "cell_type": "markdown",
   "metadata": {},
   "source": [
    "The In-The-Money Call is pricing $\\$4.55$ at $\\$4.80$, while the traded market is $\\$10.95$ at $\\$14.95$.  This is not close to the traded market and is likely due to the strike being at the absolute end of the option chain (a $\\$120$ is the minimum strike)"
   ]
  },
  {
   "cell_type": "code",
   "execution_count": 18,
   "metadata": {},
   "outputs": [
    {
     "data": {
      "text/html": [
       "<div>\n",
       "<style scoped>\n",
       "    .dataframe tbody tr th:only-of-type {\n",
       "        vertical-align: middle;\n",
       "    }\n",
       "\n",
       "    .dataframe tbody tr th {\n",
       "        vertical-align: top;\n",
       "    }\n",
       "\n",
       "    .dataframe thead th {\n",
       "        text-align: right;\n",
       "    }\n",
       "</style>\n",
       "<table border=\"1\" class=\"dataframe\">\n",
       "  <thead>\n",
       "    <tr style=\"text-align: right;\">\n",
       "      <th></th>\n",
       "      <th>contractSymbol</th>\n",
       "      <th>lastTradeDate</th>\n",
       "      <th>strike</th>\n",
       "      <th>lastPrice</th>\n",
       "      <th>bid</th>\n",
       "      <th>ask</th>\n",
       "      <th>change</th>\n",
       "      <th>percentChange</th>\n",
       "      <th>volume</th>\n",
       "      <th>openInterest</th>\n",
       "      <th>impliedVolatility</th>\n",
       "      <th>inTheMoney</th>\n",
       "      <th>contractSize</th>\n",
       "      <th>currency</th>\n",
       "    </tr>\n",
       "  </thead>\n",
       "  <tbody>\n",
       "    <tr>\n",
       "      <th>0</th>\n",
       "      <td>LQD220617C00120000</td>\n",
       "      <td>2021-11-10 11:49:25+00:00</td>\n",
       "      <td>120.0</td>\n",
       "      <td>17.16</td>\n",
       "      <td>10.95</td>\n",
       "      <td>14.95</td>\n",
       "      <td>0.0</td>\n",
       "      <td>0.0</td>\n",
       "      <td>4.0</td>\n",
       "      <td>3</td>\n",
       "      <td>0.560795</td>\n",
       "      <td>True</td>\n",
       "      <td>REGULAR</td>\n",
       "      <td>USD</td>\n",
       "    </tr>\n",
       "  </tbody>\n",
       "</table>\n",
       "</div>"
      ],
      "text/plain": [
       "       contractSymbol             lastTradeDate  strike  lastPrice    bid  \\\n",
       "0  LQD220617C00120000 2021-11-10 11:49:25+00:00   120.0      17.16  10.95   \n",
       "\n",
       "     ask  change  percentChange  volume  openInterest  impliedVolatility  \\\n",
       "0  14.95     0.0            0.0     4.0             3           0.560795   \n",
       "\n",
       "   inTheMoney contractSize currency  \n",
       "0        True      REGULAR      USD  "
      ]
     },
     "execution_count": 18,
     "metadata": {},
     "output_type": "execute_result"
    }
   ],
   "source": [
    "itm_calls"
   ]
  },
  {
   "cell_type": "code",
   "execution_count": 19,
   "metadata": {},
   "outputs": [
    {
     "name": "stderr",
     "output_type": "stream",
     "text": [
      "C:\\Users\\jdean\\AppData\\Local\\Programs\\Python\\Python39\\lib\\site-packages\\pandas\\core\\indexing.py:1732: SettingWithCopyWarning: \n",
      "A value is trying to be set on a copy of a slice from a DataFrame\n",
      "\n",
      "See the caveats in the documentation: https://pandas.pydata.org/pandas-docs/stable/user_guide/indexing.html#returning-a-view-versus-a-copy\n",
      "  self._setitem_single_block(indexer, value, name)\n"
     ]
    },
    {
     "data": {
      "text/plain": [
       "Text(0, 0.5, 'Price of the Option')"
      ]
     },
     "execution_count": 19,
     "metadata": {},
     "output_type": "execute_result"
    },
    {
     "data": {
      "image/png": "[encoded data removed]",
      "text/plain": [
       "<Figure size 432x288 with 1 Axes>"
      ]
     },
     "metadata": {},
     "output_type": "display_data"
    }
   ],
   "source": [
    "'''OTM Call Price Sensitivity'''\n",
    "option_prices = []\n",
    "\n",
    "for n in n_cases:\n",
    "    lqd_p_tree = build_tree(N=n, T=years_to_expiry, mu=lqd_mu, sigma=lqd_sigma, s0=px_last, k=otm_k, r=rf, option_type='c', nature='american')\n",
    "    option_prices.append(lqd_p_tree.iloc[0,4])\n",
    "\n",
    "plt.plot(n_cases, option_prices)\n",
    "plt.title('Out-Of-The-Money Call Price as a Function of Time Periods')\n",
    "plt.xlabel('Number of Periods, N')\n",
    "plt.ylabel('Price of the Option')"
   ]
  },
  {
   "cell_type": "code",
   "execution_count": 20,
   "metadata": {},
   "outputs": [
    {
     "data": {
      "text/html": [
       "<div>\n",
       "<style scoped>\n",
       "    .dataframe tbody tr th:only-of-type {\n",
       "        vertical-align: middle;\n",
       "    }\n",
       "\n",
       "    .dataframe tbody tr th {\n",
       "        vertical-align: top;\n",
       "    }\n",
       "\n",
       "    .dataframe thead th {\n",
       "        text-align: right;\n",
       "    }\n",
       "</style>\n",
       "<table border=\"1\" class=\"dataframe\">\n",
       "  <thead>\n",
       "    <tr style=\"text-align: right;\">\n",
       "      <th></th>\n",
       "      <th>contractSymbol</th>\n",
       "      <th>lastTradeDate</th>\n",
       "      <th>strike</th>\n",
       "      <th>lastPrice</th>\n",
       "      <th>bid</th>\n",
       "      <th>ask</th>\n",
       "      <th>change</th>\n",
       "      <th>percentChange</th>\n",
       "      <th>volume</th>\n",
       "      <th>openInterest</th>\n",
       "      <th>impliedVolatility</th>\n",
       "      <th>inTheMoney</th>\n",
       "      <th>contractSize</th>\n",
       "      <th>currency</th>\n",
       "    </tr>\n",
       "  </thead>\n",
       "  <tbody>\n",
       "    <tr>\n",
       "      <th>5</th>\n",
       "      <td>LQD220617C00126000</td>\n",
       "      <td>2022-03-02 15:33:44+00:00</td>\n",
       "      <td>126.0</td>\n",
       "      <td>1.13</td>\n",
       "      <td>0.84</td>\n",
       "      <td>1.35</td>\n",
       "      <td>0.0</td>\n",
       "      <td>0.0</td>\n",
       "      <td>10.0</td>\n",
       "      <td>5040</td>\n",
       "      <td>0.119516</td>\n",
       "      <td>False</td>\n",
       "      <td>REGULAR</td>\n",
       "      <td>USD</td>\n",
       "    </tr>\n",
       "  </tbody>\n",
       "</table>\n",
       "</div>"
      ],
      "text/plain": [
       "       contractSymbol             lastTradeDate  strike  lastPrice   bid  \\\n",
       "5  LQD220617C00126000 2022-03-02 15:33:44+00:00   126.0       1.13  0.84   \n",
       "\n",
       "    ask  change  percentChange  volume  openInterest  impliedVolatility  \\\n",
       "5  1.35     0.0            0.0    10.0          5040           0.119516   \n",
       "\n",
       "   inTheMoney contractSize currency  \n",
       "5       False      REGULAR      USD  "
      ]
     },
     "execution_count": 20,
     "metadata": {},
     "output_type": "execute_result"
    }
   ],
   "source": [
    "otm_calls[otm_calls['strike'] == otm_k]"
   ]
  },
  {
   "cell_type": "markdown",
   "metadata": {},
   "source": [
    "The Out-Of-The-Money Call is prcing $\\$1.77$ at $\\$1.93$, while the traded market is $\\$0.64$ at $\\$1.22$.  This is fairly close to the traded market."
   ]
  },
  {
   "cell_type": "markdown",
   "metadata": {},
   "source": [
    "The priced options were generally close to their traded market, but likely differed due to recent market volatility in the security."
   ]
  },
  {
   "cell_type": "markdown",
   "metadata": {},
   "source": [
    "## Problem 3\n",
    "\n",
    "We consider an N-period binomial model with the following properties: each period lasts a year and the current stock price is S0 = 4. On each period, the stock price doubles when it moves up and is reduced by half when it moves down. The annual interest rate on the money market is $25\\%$.\n",
    "\n",
    "(a) Find the values of $\\mu$ and $\\sigma$ associated with this CRR model.  \n",
    "(b) Assuming that $p = \\frac{1}{2}$, find $P(S_T > 6)$ when $N = 3$ and $N = 10$.  \n",
    "(c) Using the risk-neutral option pricing formula (written as an expectation), calculate the price of a European call with strike price $K = 8$ when $N = 3$ and $N = 10$.\n"
   ]
  },
  {
   "cell_type": "markdown",
   "metadata": {},
   "source": [
    "### Solution to Part (a)"
   ]
  },
  {
   "cell_type": "code",
   "execution_count": 21,
   "metadata": {},
   "outputs": [
    {
     "name": "stdout",
     "output_type": "stream",
     "text": [
      "The mean estimator is 0.00%\n",
      "The vol estimator is 69.31%\n"
     ]
    }
   ],
   "source": [
    "years = 5\n",
    "mu, sigma = walk_params(u=1,d=.5,T=years,N=years)\n",
    "print('The mean estimator is {:.2%}'.format(mu))\n",
    "print('The vol estimator is {:.2%}'.format(sigma))"
   ]
  },
  {
   "cell_type": "markdown",
   "metadata": {},
   "source": [
    "### Solution to Part (b)"
   ]
  },
  {
   "cell_type": "markdown",
   "metadata": {},
   "source": [
    "This is clearly a binomial experiment where $N$ represents the time step.  By properties of the tree, its easy to see that there will be $N+1$ nodes and the median of the nodes will be $4$.  Therefore the probability can be represented in the following terms of a binomial distribution\n",
    "\n",
    "$$P(S_T > 4) = \\sum_{i = \\lceil \\frac{N}{2} + 1 \\rceil}^{N}{N \\choose i}(\\frac{1}{2})^{N}$$\n",
    "\n",
    "We can also see that given the doubling/halving property of the tree, the node above $4$ will always be $16$, therefore $P(S_T>4)=P(S_T>6)=P(S_T\\geq16)$\n",
    "$$\\implies P(S_T > 6) = \\sum_{i = \\lceil \\frac{N}{2} \\rceil}^{N}{N \\choose i}(\\frac{1}{2})^{N}$$\n",
    "\n",
    "$N=3$ Case\n",
    "$$P(S_T > 6) = \\sum_{i = 2}^{3}{3 \\choose i}(\\frac{1}{2})^{3} = 3(\\frac{1}{2})^3 + (\\frac{1}{2})^3 = \\frac{4}{2^3} = \\frac{1}{2}$$\n",
    "\n",
    "next\n",
    "$N=10$ Case\n",
    "\n",
    "$$P(S_T > 6) = \\sum_{i = 6}^{10}{10 \\choose i}(\\frac{1}{2})^{10} = \\frac{1 - {10 \\choose 5}(\\frac{1}{2})^{10}}{2} = 0.3770$$"
   ]
  },
  {
   "cell_type": "markdown",
   "metadata": {},
   "source": [
    "### Solution to Part (c)"
   ]
  },
  {
   "cell_type": "markdown",
   "metadata": {},
   "source": [
    "$$F_t = \\mathrm{PV}(\\mathbb{E}_{\\mathcal{Q}}[F_t|\\mathcal{F}_t])$$\n",
    "$$q = \\frac{(1+r\\Delta t) - d}{u-d} = \\frac{(1+\\frac{1}{4}(1)) - \\frac{1}{2}}{2 - \\frac{1}{2}} = \\frac{\\frac{3}{4}}{\\frac{3}{2}} = \\frac{1}{2}$$\n",
    "$N=3$\n",
    "We have\n",
    "$$F_0 = \\mathrm{PV}(\\mathbb{E}_{\\mathcal{Q}}[\\max\\{0,S_3-8\\}])$$\n",
    "I partition on the event that $\\{S_3\\geq8\\}$\n",
    "$$F_0 = \\mathrm{PV}(\\mathbb{E}_{\\mathcal{Q}}[\\max\\{0,S_3-8\\}|S_3\\geq8]Q(S_3\\geq8) + \\mathbb{E}_{\\mathcal{Q}}[\\max\\{0,S_3-8\\}|S_3<8]Q(S_3<8))$$\n",
    "This partitioning allows me to drop the max function when evaluating\n",
    "$$F_0 = \\mathrm{PV}(\\mathbb{E}_{\\mathcal{Q}}[S_3-8|S_3\\geq8]Q(S_3\\geq8) + \\mathbb{E}_{\\mathcal{Q}}[0|S_3<8]Q(S_3<8))$$\n",
    "We can then eliminate the 0 term\n",
    "$$F_0 = \\mathrm{PV}((\\mathbb{E}_{\\mathcal{Q}}[S_3|S_3\\geq8]-8)Q(S_3\\geq8))$$\n",
    "Then by the definition of conditional expectation, we can evaluate this term.  Note that the sample space for time step 3 is $\\Omega = \\{\\frac{1}{2},2,8,32\\}$, which I index by $i\\in\\{0,1,2,3\\}$.  We observe\n",
    "$$F_0 = \\mathrm{PV}((\\sum_{i=2}^3\\Omega_iQ(S_3=\\Omega_i|S_3\\geq8)-8)Q(S_3\\geq8))$$\n",
    "Rewriting the conditional expectations with the appropriate terms\n",
    "$$F_0 = \\mathrm{PV}(((8\\frac{3}{4} + 32\\frac{1}{4})-8)Q(S_3\\geq8))$$\n",
    "And then we present value the payoff and observe the following option price\n",
    "$$F_0 = (\\frac{1}{1+25\\%})^3((6)\\frac{1}{2}) = 1.5360$$\n",
    "We then validate the price with the option pricing tool we have built earlier"
   ]
  },
  {
   "cell_type": "code",
   "execution_count": 22,
   "metadata": {},
   "outputs": [
    {
     "name": "stderr",
     "output_type": "stream",
     "text": [
      "C:\\Users\\jdean\\AppData\\Local\\Programs\\Python\\Python39\\lib\\site-packages\\pandas\\core\\indexing.py:1732: SettingWithCopyWarning: \n",
      "A value is trying to be set on a copy of a slice from a DataFrame\n",
      "\n",
      "See the caveats in the documentation: https://pandas.pydata.org/pandas-docs/stable/user_guide/indexing.html#returning-a-view-versus-a-copy\n",
      "  self._setitem_single_block(indexer, value, name)\n"
     ]
    },
    {
     "data": {
      "text/plain": [
       "layer               0\n",
       "stock_price       4.0\n",
       "phi              0.64\n",
       "psi            -1.024\n",
       "option_value    1.536\n",
       "Name: 0, dtype: object"
      ]
     },
     "execution_count": 22,
     "metadata": {},
     "output_type": "execute_result"
    }
   ],
   "source": [
    "mu,sigma = walk_params(u=1,d=.5,T=3,N=3)\n",
    "build_tree(N=3,T=3,mu=mu,sigma=sigma,s0=4,k=8,r=0.25, option_type='c',nature='european').loc[0]"
   ]
  },
  {
   "cell_type": "markdown",
   "metadata": {},
   "source": [
    "$N=10$\n",
    "We have\n",
    "$$F_0 = \\mathrm{PV}(\\mathbb{E}_{\\mathcal{Q}}[\\max\\{0,S_{10}-8\\}])$$\n",
    "I partition on the event that $\\{S_10\\geq8\\}$\n",
    "$$F_0 = \\mathrm{PV}(\\mathbb{E}_{\\mathcal{Q}}[\\max\\{0,S_{10}-8\\}|S_{10}\\geq8]Q(S_{10}\\geq8) + \\mathbb{E}_{\\mathcal{Q}}[\\max\\{0,S_{10}-8\\}|S_{10}<8]Q(S_{10}<8))$$\n",
    "This partitioning allows me to drop the max function when evaluating\n",
    "$$F_0 = \\mathrm{PV}(\\mathbb{E}_{\\mathcal{Q}}[S_{10}-8|S_{10}\\geq8]Q(S_{10}\\geq8) + \\mathbb{E}_{\\mathcal{Q}}[0|S_{10}<8]Q(S_{10}<8))$$\n",
    "We can then eliminate the 0 term\n",
    "$$F_0 = \\mathrm{PV}((\\mathbb{E}_{\\mathcal{Q}}[S_3|S_{10}\\geq8]-8)Q(S_3\\geq8))$$\n",
    "Then by the definition of conditional expectation, we can evaluate this term.  Note that the sample space for time step 10 is $\\Omega = \\{\\frac{1}{256},\\frac{1}{64},\\frac{1}{16},\\frac{1}{4},1,4,16,64,256,1024,4096\\}$, which I index by $i\\in\\{0,1,2,3,4,5,6,7,8,9,10\\}$.  We observe\n",
    "$$F_0 = \\mathrm{PV}((\\sum_{i=6}^{10}\\Omega_iQ(S_{10}=\\Omega_i|S_{10}\\geq8)-8)Q(S_{10}\\geq8))$$\n"
   ]
  },
  {
   "cell_type": "code",
   "execution_count": 23,
   "metadata": {},
   "outputs": [],
   "source": [
    "mu,sigma = walk_params(u=1,d=.5,T=10,N=10)\n",
    "tree = build_tree(N=10,T=10,mu=mu,sigma=sigma,s0=4,k=8,r=0.25, option_type='c',nature='european')"
   ]
  },
  {
   "cell_type": "code",
   "execution_count": 24,
   "metadata": {},
   "outputs": [
    {
     "data": {
      "text/plain": [
       "node\n",
       "55       0.003906\n",
       "56       0.015625\n",
       "57       0.062500\n",
       "58       0.250000\n",
       "59       1.000000\n",
       "60       4.000000\n",
       "61      16.000000\n",
       "62      64.000000\n",
       "63     256.000000\n",
       "64    1024.000000\n",
       "65    4096.000000\n",
       "Name: stock_price, dtype: float64"
      ]
     },
     "execution_count": 24,
     "metadata": {},
     "output_type": "execute_result"
    }
   ],
   "source": [
    "tree[tree['layer']==10]['stock_price']"
   ]
  },
  {
   "cell_type": "code",
   "execution_count": 25,
   "metadata": {},
   "outputs": [
    {
     "data": {
      "text/plain": [
       "layer                  0\n",
       "stock_price          4.0\n",
       "phi             0.958398\n",
       "psi            -0.288568\n",
       "option_value    3.545026\n",
       "Name: 0, dtype: object"
      ]
     },
     "execution_count": 25,
     "metadata": {},
     "output_type": "execute_result"
    }
   ],
   "source": [
    "tree.loc[0]"
   ]
  }
 ],
 "metadata": {
  "interpreter": {
   "hash": "702e518b60c67dbd3b0638a510bff2830380600f50d13e8fcb105f9ecc05fb71"
  },
  "kernelspec": {
   "display_name": "Python 3.9.6 64-bit",
   "language": "python",
   "name": "python3"
  },
  "language_info": {
   "codemirror_mode": {
    "name": "ipython",
    "version": 3
   },
   "file_extension": ".py",
   "mimetype": "text/x-python",
   "name": "python",
   "nbconvert_exporter": "python",
   "pygments_lexer": "ipython3",
   "version": "3.9.6"
  },
  "orig_nbformat": 4
 },
 "nbformat": 4,
 "nbformat_minor": 2
}
