{
 "cells": [
  {
   "cell_type": "markdown",
   "metadata": {},
   "source": [
    "# MATH 468 - Stochastic Calculus II - HW 1"
   ]
  },
  {
   "cell_type": "code",
   "execution_count": null,
   "metadata": {},
   "outputs": [],
   "source": [
    "# Assorted Packages Used through the file\n",
    "import numpy as np\n",
    "import pandas as pd\n",
    "import matplotlib.pyplot as plt\n",
    "import seaborn as sns\n",
    "import scipy.stats as stats"
   ]
  },
  {
   "cell_type": "markdown",
   "metadata": {},
   "source": [
    "## Problem 1\n",
    "\n",
    "We consider the situation studied in class as an example.  Namely, we assume that the current stock price is $S_0 = 10$.  At time $T$, the stock has either moved up to $S_T=12$ (with probability $p=0.6$) or down towards $S_T=8$ (with probability $1-p=0.4$).  We consider a call option on this stock with maturity $T$ and strike price $K=10$.  The interest rate on the money market is zero.\n",
    "\n",
    "As in class, we assume that you, as a customer, are willing to buy the call option on 100 shares of stock for $\\$120$.  The investor, who sold you the option, can adopt one of the following strategies:  \n",
    "* **Strategy 1**: Buy 50 shares of stock and borrow $\\$380$ (Seen in class)\n",
    "* **Strategy 2**: Buy 55 shares of stock and borrow $\\$430$\n",
    "* **Strategy 3**: Buy 60 shares of stock and borrow $\\$480$\n",
    "* **Strategy 4**: Buy 40 shares of stock and borrow $\\$280$\n",
    "\n",
    "(a) For each of strategies 2-4, describe the value of the investor's portfolio at time 0, and at each time $T$ for each possible movement of the stock  \n",
    "(b) For each of strategies 2-4, does the investor have an arbitrage? *Recall*: an arbitrage is an opportunity to obtain a postive profit without risk  \n",
    "(c) If you were the investor, which strategy would you adopt and why? (This is an open question without a right or wrong answer, elaborate)"
   ]
  },
  {
   "cell_type": "markdown",
   "metadata": {},
   "source": [
    "#### Solution to Part (a)"
   ]
  },
  {
   "cell_type": "code",
   "execution_count": null,
   "metadata": {},
   "outputs": [],
   "source": [
    "# Code Block"
   ]
  },
  {
   "cell_type": "markdown",
   "metadata": {},
   "source": [
    "Write out solution here"
   ]
  },
  {
   "cell_type": "markdown",
   "metadata": {},
   "source": [
    "#### Solution to Part (b)"
   ]
  },
  {
   "cell_type": "code",
   "execution_count": null,
   "metadata": {},
   "outputs": [],
   "source": [
    "# Code Block"
   ]
  },
  {
   "cell_type": "markdown",
   "metadata": {},
   "source": [
    "Write out solution here"
   ]
  },
  {
   "cell_type": "markdown",
   "metadata": {},
   "source": [
    "#### Solution to Part (c)"
   ]
  },
  {
   "cell_type": "markdown",
   "metadata": {},
   "source": [
    "Write out solution here"
   ]
  },
  {
   "cell_type": "markdown",
   "metadata": {},
   "source": [
    "## Problem 2\n",
    "\n",
    "We consider a market with the following properties: the current stock price is $S_0 = 4$. At time $T = 1$ year, the stock has either moved up to $S_1 = 8$ (with probability $0.7$) or down towards $S_1 = 2$ (with probability $0.3$). We consider a call option on this stock with maturity $T = 1$ and strike price $K = 5$. The interest rate on the money market is $25\\%$ yearly.\n",
    "\n",
    "(a) Find the replicating portfolio ($\\phi$, $\\psi$) corresponding to this call option.  \n",
    "(b) Find the risk-neutral (no-arbitrage) price of this call option.  \n",
    "(c) We now consider a put option with maturity $T = 1$ and strike price $K = 3$ on the same market. Find the risk-neutral price of this put option. *Reminder*: A put option gives you the right to sell the stock for the strike price $K$.\n",
    "(d) An investor with initial capital $X_0 = 0$ wants to invest on this market. He buys $\\alpha$ shares of the stock (or sells them if $\\alpha$ is negative) and buys $\\beta$ call options (or sells them is $\\beta$ is negative). He invests the cash balance on the money market (or borrows if the amount is negative). Prove that if the option price is the one found in (a), then the investor will never have an arbitrage opportunity. In other words, prove that if one of the possible final values of his investment is positive, then the other has to be negative."
   ]
  },
  {
   "cell_type": "markdown",
   "metadata": {},
   "source": [
    "#### Solution to Part (a)"
   ]
  },
  {
   "cell_type": "code",
   "execution_count": null,
   "metadata": {},
   "outputs": [],
   "source": [
    "# Code Block"
   ]
  },
  {
   "cell_type": "markdown",
   "metadata": {},
   "source": [
    "Write out solution here"
   ]
  },
  {
   "cell_type": "markdown",
   "metadata": {},
   "source": [
    "#### Solution to Part (b)"
   ]
  },
  {
   "cell_type": "code",
   "execution_count": null,
   "metadata": {},
   "outputs": [],
   "source": [
    "# Code Block"
   ]
  },
  {
   "cell_type": "markdown",
   "metadata": {},
   "source": [
    "Write out solution here"
   ]
  },
  {
   "cell_type": "markdown",
   "metadata": {},
   "source": [
    "#### Solution to Part (c)"
   ]
  },
  {
   "cell_type": "code",
   "execution_count": null,
   "metadata": {},
   "outputs": [],
   "source": [
    "# Code Block"
   ]
  },
  {
   "cell_type": "markdown",
   "metadata": {},
   "source": [
    "Write out solution here"
   ]
  },
  {
   "cell_type": "markdown",
   "metadata": {},
   "source": [
    "#### Solution to Part (d)"
   ]
  },
  {
   "cell_type": "code",
   "execution_count": null,
   "metadata": {},
   "outputs": [],
   "source": [
    "# Code Block"
   ]
  },
  {
   "cell_type": "markdown",
   "metadata": {},
   "source": [
    "Write out solution here"
   ]
  },
  {
   "cell_type": "markdown",
   "metadata": {},
   "source": [
    "## Problem 3 - Data Analysis - Part 1\n",
    "\n",
    "This problem is the first step of a series of practical problems aimed at pricing a specific option.  Each student will price their own asset.\n",
    "\n",
    "(a) You must pick a stock for which you will be able to find data with the resources at your disposal. Please make sure that you can find daily data for the (adjusted) stock price over a reasonable period of time, as well as option prices for a reasonable range of calls and puts. Submit your choice in the specific module on CourseSite.  \n",
    "(b) Once your choice of asset is approved, summarize the data of your asset: provide the current value, as well as a graph of the daily price over the last year.  \n",
    "(c) Use past data to estimate a possible value for the factors u and d in the model seen in class for the stock for a 1-year period. (There is no ”right” way to do this for this model. Use your best judgment to reach a decision.)  \n",
    "(d) Use your values of u and d found in (c), as well as a risk-neutral rate r, to calculate the price of a call option of your choice and compare with the actual price. Comment on the quality of your result."
   ]
  },
  {
   "cell_type": "markdown",
   "metadata": {},
   "source": [
    "#### Solution to Part (a)"
   ]
  },
  {
   "cell_type": "code",
   "execution_count": null,
   "metadata": {},
   "outputs": [],
   "source": [
    "# Code Block"
   ]
  },
  {
   "cell_type": "markdown",
   "metadata": {},
   "source": [
    "Write out solution here"
   ]
  },
  {
   "cell_type": "markdown",
   "metadata": {},
   "source": [
    "#### Solution to Part (b)"
   ]
  },
  {
   "cell_type": "code",
   "execution_count": null,
   "metadata": {},
   "outputs": [],
   "source": [
    "# Code Block"
   ]
  },
  {
   "cell_type": "markdown",
   "metadata": {},
   "source": [
    "Write out solution here"
   ]
  },
  {
   "cell_type": "markdown",
   "metadata": {},
   "source": [
    "#### Solution to Part (c)"
   ]
  },
  {
   "cell_type": "code",
   "execution_count": null,
   "metadata": {},
   "outputs": [],
   "source": [
    "# Code Block"
   ]
  },
  {
   "cell_type": "markdown",
   "metadata": {},
   "source": [
    "Write out solution here"
   ]
  },
  {
   "cell_type": "markdown",
   "metadata": {},
   "source": [
    "#### Solution to Part (d)"
   ]
  },
  {
   "cell_type": "code",
   "execution_count": null,
   "metadata": {},
   "outputs": [],
   "source": [
    "# Code Block"
   ]
  },
  {
   "cell_type": "markdown",
   "metadata": {},
   "source": [
    "Write out solution here"
   ]
  }
 ],
 "metadata": {
  "language_info": {
   "name": "python"
  },
  "orig_nbformat": 4
 },
 "nbformat": 4,
 "nbformat_minor": 2
}
