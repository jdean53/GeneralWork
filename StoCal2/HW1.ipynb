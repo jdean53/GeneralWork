{
 "cells": [
  {
   "cell_type": "markdown",
   "metadata": {},
   "source": [
    "# MATH 468 - Stochastic Calculus II - HW 1"
   ]
  },
  {
   "cell_type": "code",
   "execution_count": 18,
   "metadata": {},
   "outputs": [],
   "source": [
    "# Assorted Packages Used through the file\n",
    "import numpy as np\n",
    "import pandas as pd\n",
    "import matplotlib.pyplot as plt\n",
    "import seaborn as sns\n",
    "import scipy.stats as stats\n",
    "\n",
    "from datetime import datetime\n",
    "import yfinance as yf\n"
   ]
  },
  {
   "cell_type": "markdown",
   "metadata": {},
   "source": [
    "## Problem 1\n",
    "\n",
    "We consider the situation studied in class as an example.  Namely, we assume that the current stock price is $S_0 = 10$.  At time $T$, the stock has either moved up to $S_T=12$ (with probability $p=0.6$) or down towards $S_T=8$ (with probability $1-p=0.4$).  We consider a call option on this stock with maturity $T$ and strike price $K=10$.  The interest rate on the money market is zero.\n",
    "\n",
    "As in class, we assume that you, as a customer, are willing to buy the call option on 100 shares of stock for $\\$120$.  The investor, who sold you the option, can adopt one of the following strategies:  \n",
    "* **Strategy 1**: Buy 50 shares of stock and borrow $\\$380$ (Seen in class)\n",
    "* **Strategy 2**: Buy 55 shares of stock and borrow $\\$430$\n",
    "* **Strategy 3**: Buy 60 shares of stock and borrow $\\$480$\n",
    "* **Strategy 4**: Buy 40 shares of stock and borrow $\\$280$\n",
    "\n",
    "(a) For each of strategies 2-4, describe the value of the investor's portfolio at time 0, and at each time $T$ for each possible movement of the stock  \n",
    "(b) For each of strategies 2-4, does the investor have an arbitrage? *Recall*: an arbitrage is an opportunity to obtain a postive profit without risk  \n",
    "(c) If you were the investor, which strategy would you adopt and why? (This is an open question without a right or wrong answer, elaborate)"
   ]
  },
  {
   "cell_type": "markdown",
   "metadata": {},
   "source": [
    "### Solution to Part (a)"
   ]
  },
  {
   "cell_type": "markdown",
   "metadata": {},
   "source": [
    "*Strategy 2*\n",
    "\n",
    "Given $\\phi=55$ and $\\psi=430$\n",
    "\n",
    "| Portfolio | Stock Move | Formula | Value |\n",
    "| :-: | :-: | :-: | :-: |\n",
    "| $t=0$ | N/A | $\\phi*S_0+\\psi = 55(10)+430 $ | $980$\n",
    "| $t=T$ | UP | $\\phi*S_0+\\psi = 55(12)+430 $ | $1090$\n",
    "| $t=T$ | DOWN | $\\phi*S_0+\\psi = 55(8)+430 $ | $870$\n",
    "\n",
    "\n",
    "*Strategy 3*\n",
    "\n",
    "Given $\\phi=60$ and $\\psi=480$\n",
    "\n",
    "| Portfolio | Stock Move | Formula | Value |\n",
    "| :-: | :-: | :-: | :-: |\n",
    "| $t=0$ | N/A | $\\phi*S_0+\\psi = 60(10)+480 $ | $1080$\n",
    "| $t=T$ | UP | $\\phi*S_0+\\psi = 60(12)+480 $ | $1200$\n",
    "| $t=T$ | DOWN | $\\phi*S_0+\\psi = 60(8)+480 $ | $960$\n",
    "\n",
    "\n",
    "*Strategy 4*\n",
    "\n",
    "Given $\\phi=40$ and $\\psi=280$\n",
    "\n",
    "| Portfolio | Stock Move | Formula | Value |\n",
    "| :-: | :-: | :-: | :-: |\n",
    "| $t=0$ | N/A | $\\phi*S_0+\\psi = 40(10)+280 $ | $680$\n",
    "| $t=T$ | UP | $\\phi*S_0+\\psi = 40(12)+280 $ | $760$\n",
    "| $t=T$ | DOWN | $\\phi*S_0+\\psi = 40(8)+280 $ | $600$"
   ]
  },
  {
   "cell_type": "markdown",
   "metadata": {},
   "source": [
    "#### Solution to Part (b)"
   ]
  },
  {
   "cell_type": "markdown",
   "metadata": {},
   "source": [
    "To understand if there is an arbitrage, I show the cashflows by strategy by leg.  Laying out the cashflows makes understanding the arbitrage opportunity easier.  Following each of the cashflow tables I state whether there is an arbitrage opportunity.\n",
    "\n",
    "*Strategy 2*   \n",
    "| Action | Time 0 | Time T after Up Move | Time T after Down Move |\n",
    "| :-: | :-: | :-: | :-: |\n",
    "| Short Call | +120 | -200 | 0 |\n",
    "| Buy Delta | -550 | +660 | +440 |\n",
    "| Short Rates | +430 | -430 | -430 |\n",
    "| **Total** | **0** | **10** | **10** |\n",
    "\n",
    "Clearly, strategy 2 yields a an arbitrage opportunity of 10\n",
    "\n",
    "*Strategy 3*  \n",
    "| Security | Time 0 | Time T after Up Move | Time T after Down Move |\n",
    "| :-: | :-: | :-: | :-: |\n",
    "| Short Call | +120 | -200 | 0 |\n",
    "| Buy Delta | -600 | +720 | +480 |\n",
    "| Short Rates | +480 | -480 | -480 |\n",
    "| **Total** | **0** | **40** | **0** |\n",
    "\n",
    "Strategy 3 shows no risk-free arbitrage opportunity\n",
    "\n",
    "*Strategy 4*  \n",
    "| Security | Time 0 | Time T after Up Move | Time T after Down Move |\n",
    "| :-: | :-: | :-: | :-: |\n",
    "| Short Call | +120 | -200 | 0 |\n",
    "| Buy Delta | -400 | +480 | +320 |\n",
    "| Short Rates | +280 | -280 | -280 |\n",
    "| **Total** | **0** | **0** | **40** |\n",
    "\n",
    "Strategy 4 shows no risk-free arbitrage opportunity\n"
   ]
  },
  {
   "cell_type": "markdown",
   "metadata": {},
   "source": [
    "#### Solution to Part (c)"
   ]
  },
  {
   "cell_type": "markdown",
   "metadata": {},
   "source": [
    "We have shown that strategy 1 & 2 are both risk-free arbitrages.  Between the 4 listed strategies, these two are best as they carry no risk."
   ]
  },
  {
   "cell_type": "markdown",
   "metadata": {},
   "source": [
    "## Problem 2\n",
    "\n",
    "We consider a market with the following properties: the current stock price is $S_0 = 4$. At time $T = 1$ year, the stock has either moved up to $S_1 = 8$ (with probability $0.7$) or down towards $S_1 = 2$ (with probability $0.3$). We consider a call option on this stock with maturity $T = 1$ and strike price $K = 5$. The interest rate on the money market is $25\\%$ yearly.\n",
    "\n",
    "(a) Find the replicating portfolio ($\\phi$, $\\psi$) corresponding to this call option.  \n",
    "(b) Find the risk-neutral (no-arbitrage) price of this call option.  \n",
    "(c) We now consider a put option with maturity $T = 1$ and strike price $K = 3$ on the same market. Find the risk-neutral price of this put option. *Reminder*: A put option gives you the right to sell the stock for the strike price $K$.\n",
    "(d) An investor with initial capital $X_0 = 0$ wants to invest on this market. He buys $\\alpha$ shares of the stock (or sells them if $\\alpha$ is negative) and buys $\\beta$ call options (or sells them is $\\beta$ is negative). He invests the cash balance on the money market (or borrows if the amount is negative). Prove that if the option price is the one found in (a), then the investor will never have an arbitrage opportunity. In other words, prove that if one of the possible final values of his investment is positive, then the other has to be negative."
   ]
  },
  {
   "cell_type": "markdown",
   "metadata": {},
   "source": [
    "#### Solution to Part (a)"
   ]
  },
  {
   "cell_type": "code",
   "execution_count": null,
   "metadata": {},
   "outputs": [],
   "source": [
    "# Code Block"
   ]
  },
  {
   "cell_type": "markdown",
   "metadata": {},
   "source": [
    "Write out solution here"
   ]
  },
  {
   "cell_type": "markdown",
   "metadata": {},
   "source": [
    "#### Solution to Part (b)"
   ]
  },
  {
   "cell_type": "code",
   "execution_count": null,
   "metadata": {},
   "outputs": [],
   "source": [
    "# Code Block"
   ]
  },
  {
   "cell_type": "markdown",
   "metadata": {},
   "source": [
    "Write out solution here"
   ]
  },
  {
   "cell_type": "markdown",
   "metadata": {},
   "source": [
    "#### Solution to Part (c)"
   ]
  },
  {
   "cell_type": "code",
   "execution_count": null,
   "metadata": {},
   "outputs": [],
   "source": [
    "# Code Block"
   ]
  },
  {
   "cell_type": "markdown",
   "metadata": {},
   "source": [
    "Write out solution here"
   ]
  },
  {
   "cell_type": "markdown",
   "metadata": {},
   "source": [
    "#### Solution to Part (d)"
   ]
  },
  {
   "cell_type": "code",
   "execution_count": null,
   "metadata": {},
   "outputs": [],
   "source": [
    "# Code Block"
   ]
  },
  {
   "cell_type": "markdown",
   "metadata": {},
   "source": [
    "Write out solution here"
   ]
  },
  {
   "cell_type": "markdown",
   "metadata": {},
   "source": [
    "## Problem 3 - Data Analysis - Part 1\n",
    "\n",
    "This problem is the first step of a series of practical problems aimed at pricing a specific option.  Each student will price their own asset.\n",
    "\n",
    "(a) You must pick a stock for which you will be able to find data with the resources at your disposal. Please make sure that you can find daily data for the (adjusted) stock price over a reasonable period of time, as well as option prices for a reasonable range of calls and puts. Submit your choice in the specific module on CourseSite.  \n",
    "(b) Once your choice of asset is approved, summarize the data of your asset: provide the current value, as well as a graph of the daily price over the last year.  \n",
    "(c) Use past data to estimate a possible value for the factors u and d in the model seen in class for the stock for a 1-year period. (There is no ”right” way to do this for this model. Use your best judgment to reach a decision.)  \n",
    "(d) Use your values of u and d found in (c), as well as a risk-neutral rate r, to calculate the price of a call option of your choice and compare with the actual price. Comment on the quality of your result."
   ]
  },
  {
   "cell_type": "markdown",
   "metadata": {},
   "source": [
    "#### Solution to Part (a)"
   ]
  },
  {
   "cell_type": "markdown",
   "metadata": {},
   "source": [
    "For this I chose the IBOXX Investment Grade Corporate Credit ETF LQD.  "
   ]
  },
  {
   "cell_type": "code",
   "execution_count": 19,
   "metadata": {},
   "outputs": [
    {
     "name": "stdout",
     "output_type": "stream",
     "text": [
      "[*********************100%***********************]  1 of 1 completed\n"
     ]
    }
   ],
   "source": [
    "# Code Block\n",
    "ticker = 'LQD'\n",
    "start_date = '2017-01-01'\n",
    "end_date = datetime.today().strftime('%Y-%m-%d')\n",
    "etf = yf.Ticker(ticker)\n",
    "options = etf.option_chain()\n",
    "calls = options.calls\n",
    "puts = options.puts\n",
    "etf_data = yf.download(ticker, start_date, end_date)\n",
    "#BRYAN suggests writing these to csvs\n",
    "#will look into it later\n"
   ]
  },
  {
   "cell_type": "markdown",
   "metadata": {},
   "source": [
    "#### Solution to Part (b)"
   ]
  },
  {
   "cell_type": "code",
   "execution_count": 36,
   "metadata": {},
   "outputs": [
    {
     "data": {
      "text/plain": [
       "Text(0.5, 1.0, 'LQD Trailing 1 Year, Currently Trading at $127.76')"
      ]
     },
     "execution_count": 36,
     "metadata": {},
     "output_type": "execute_result"
    },
    {
     "data": {
      "image/png": "[encoded data removed]",
      "text/plain": [
       "<Figure size 432x288 with 1 Axes>"
      ]
     },
     "metadata": {
      "needs_background": "light"
     },
     "output_type": "display_data"
    }
   ],
   "source": [
    "lqd_close = etf_data.iloc[-1,3]\n",
    "lqd_ty = etf_data.iloc[-253:-1, 3]\n",
    "plt.plot(lqd_ty)\n",
    "plt.title('LQD Trailing 1 Year, Currently Trading at ${:.2f}'.format(lqd_close))"
   ]
  },
  {
   "cell_type": "markdown",
   "metadata": {},
   "source": [
    "I include a plot of LQD on price for the last year."
   ]
  },
  {
   "cell_type": "markdown",
   "metadata": {},
   "source": [
    "#### Solution to Part (c)"
   ]
  },
  {
   "cell_type": "code",
   "execution_count": 38,
   "metadata": {},
   "outputs": [
    {
     "name": "stdout",
     "output_type": "stream",
     "text": [
      "LQD is currently trading at 127.76\n",
      "Its traded at a max of 136.33 and min of 127.27\n",
      "This implies a 52-week range of 9.06\n",
      "The average price has been 132.71\n",
      "And the Standard Deviation has been 2.14\n"
     ]
    }
   ],
   "source": [
    "lqd_max = max(lqd_ty)\n",
    "lqd_min = min(lqd_ty)\n",
    "lqd_rng = lqd_max-lqd_min\n",
    "lqd_mid = np.mean(lqd_ty)\n",
    "lqd_sd = np.std(lqd_ty)\n",
    "print('LQD is currently trading at {:.2f}'.format(lqd_close))\n",
    "print('Its traded at a max of {:.2f} and min of {:.2f}'.format(lqd_max, lqd_min))\n",
    "print('This implies a 52-week range of {:.2f}'. format(lqd_rng))\n",
    "print('The average price has been {:.2f}'.format(lqd_mid))\n",
    "print('And the Standard Deviation has been {:.2f}'.format(lqd_sd))"
   ]
  },
  {
   "cell_type": "markdown",
   "metadata": {},
   "source": [
    "Taking this into account, I say that the correct magnitude of moves is 4.  This is approximately half of the 52 week range, and close to the difference between the average and the max/min respectively.  This is also approximately the variance of the dataset aswell."
   ]
  },
  {
   "cell_type": "markdown",
   "metadata": {},
   "source": [
    "#### Solution to Part (d)"
   ]
  },
  {
   "cell_type": "code",
   "execution_count": null,
   "metadata": {},
   "outputs": [],
   "source": [
    "# Code Block"
   ]
  },
  {
   "cell_type": "markdown",
   "metadata": {},
   "source": [
    "Write out solution here"
   ]
  }
 ],
 "metadata": {
  "interpreter": {
   "hash": "702e518b60c67dbd3b0638a510bff2830380600f50d13e8fcb105f9ecc05fb71"
  },
  "kernelspec": {
   "display_name": "Python 3.9.6 64-bit",
   "language": "python",
   "name": "python3"
  },
  "language_info": {
   "codemirror_mode": {
    "name": "ipython",
    "version": 3
   },
   "file_extension": ".py",
   "mimetype": "text/x-python",
   "name": "python",
   "nbconvert_exporter": "python",
   "pygments_lexer": "ipython3",
   "version": "3.9.6"
  },
  "orig_nbformat": 4
 },
 "nbformat": 4,
 "nbformat_minor": 2
}
