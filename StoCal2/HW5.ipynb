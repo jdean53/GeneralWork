{
 "cells": [
  {
   "cell_type": "markdown",
   "metadata": {},
   "source": [
    "# MATH 467 - Homework 5\n",
    "\n",
    "Jack Dean"
   ]
  },
  {
   "cell_type": "code",
   "execution_count": 1,
   "metadata": {},
   "outputs": [],
   "source": [
    "import pandas as pd\n",
    "import numpy as np\n",
    "import datetime\n",
    "\n",
    "from scipy.stats import norm\n",
    "\n",
    "import StoCalCodeDeck as stocal\n",
    "\n",
    "import matplotlib.pyplot as plt"
   ]
  },
  {
   "cell_type": "markdown",
   "metadata": {},
   "source": [
    "## Problem 1\n",
    "\n",
    "We consider an $N$-period binomial market, with the notation used in the lectures. We consider a special option of American type: it gives you the right to sell a share of stock for the strike price $K$ at any time until expiration (similarly as an American put). However, if you did not exercise earlier than $T$, you must exercise at time $T$ (and potentially get a negative payoff). In short, if you exercise when the stock price is $S_t$, your payoff is $K−S_t$ (even if it’s negative). We call $X_0$ the price of this option at time $0$.  \n",
    "(a) For the option above, prove using backward induction that it’s always better to exercise than to wait for another period. Thus, the optimal strategy is to exercise immediately and the price of this option is $X_0=K−S_0$.  \n",
    "*Hint*: use a similar idea as in the proof that optimal exercise for the American call is at maturity and the fact that, at any node $k$,  \n",
    "$$q_ks_{2k+1}+(1−q_k)s_{2k}=(1+r\\Delta t)s_k$$\n",
    "(b) Let C_0 (resp. P_0) denote the price of an American call (resp. put) with strike price $K$. We consider two investment opportunities:  \n",
    "1. an American put with strike price $K$  \n",
    "2. an American call with strike price $K$ and the option studied above.  \n",
    "Explain why the second opportunity is at least as valuable as the first one. Conclude that\n",
    "$$P_0\\leq K−S_0+C_0$$\n",
    "(c) Using (European) put-call parity established in HW#2, conclude that\n",
    "$$P_0\\geq\\frac{K}{(1+r\\Delta t)^N}-S_0+C_0$$\n",
    "(d) The results of (b) and (c) provide bounds for the American put price, which use quantities which are easier to calculate (remember that the price of the American and European call are the same). Calculate those bounds for the market model in Problem 1 of HW#3 and comment on their quality.  \n",
    "(e) What happens if the interest rate is $0\\%$? Find the price of the options in the market model of Problem 1 of HW#3 if $r=0\\%$. What can you conclude about the price of an American put when $r=0\\%$?"
   ]
  },
  {
   "cell_type": "markdown",
   "metadata": {},
   "source": [
    "### Solution to Part (a)"
   ]
  },
  {
   "cell_type": "markdown",
   "metadata": {},
   "source": [
    "Consider an arbitrary node $j$ in the combining binomial tree where the risk-neutral probability of an up move to node $S_{2j+1}$ is denoted $q_j$ (and the risk-neutral probability of a down move to $S_{2j}$ is $1-q_j$).  We have\n",
    "$$S_j(1+r\\Delta t) = q_jS_{2j+1} + (1-q_j)S_{2j}$$\n",
    "The option option can surely pay off $f = K-S_j$ at the node due to its american nature.  Waiting another period, we can derive the value of the option as a function of the risk-neutral probability $q_j$, denoted $\\tilde{f}$.  We have\n",
    "$$\\tilde{f} = \\frac{1}{1+r \\Delta t} (q_j f(S_{2j+1}) + (1-q_j) f(S_{2j}))$$\n",
    "$$\\tilde{f} = \\frac{1}{1+r \\Delta t} (q_j (K-S_{2j+1}) + (1-q_j)(K-S_{2j}))$$\n",
    "$$\\tilde{f} = \\frac{1}{1+r \\Delta t} (q_jK-q_jS_{2j+1} + (1-q_j)K-(1-q_j)S_{2j})$$\n",
    "$$\\tilde{f} = \\frac{1}{1+r \\Delta t} (K-q_jS_{2j+1}-(1-q_j)S_{2j})$$\n",
    "$$\\tilde{f} = \\frac{1}{1+r \\Delta t} (K-S_{j}(1 + r \\Delta t))$$\n",
    "$$\\tilde{f} = \\frac{1}{1+r \\Delta t}K-S_{j}$$\n",
    "Obviously, we can see\n",
    "$$f_j = K-S_j \\geq \\frac{1}{1+r \\Delta t}K-S_{j} = \\tilde{f}$$\n",
    "This implies that at time $t=0$, $f_0=f(S_0)=K-S_0=X_0$, the price of the option."
   ]
  },
  {
   "cell_type": "markdown",
   "metadata": {},
   "source": [
    "### Solution to Part (b)"
   ]
  },
  {
   "cell_type": "markdown",
   "metadata": {},
   "source": [
    "We are asked to show\n",
    "$$P_0 \\leq C_0 + X_0$$\n",
    "Subsituting by definition and manipulating the equation we see\n",
    "$$P_0 \\leq C_0 + K - S_0 \\implies P_0 - C_0 \\leq K - S_0$$\n",
    "Which shows the lower bound of the American Put-Call parity.  This validates the result."
   ]
  },
  {
   "cell_type": "markdown",
   "metadata": {},
   "source": [
    "### Solution to Part (c)"
   ]
  },
  {
   "cell_type": "markdown",
   "metadata": {},
   "source": [
    "The European Put-Call Parity is\n",
    "$$c_0-p_0=S_0-\\mathrm{PV}(K)$$\n",
    "We know in the American Option case $C_0=c_0$ and $P_0\\geq p_0$, therefore\n",
    "$$c_0-p_0=S_0-\\mathrm{PV}(K)\\geq C_0-P_0$$\n",
    "Manipulating this equation we see\n",
    "$$\\mathrm{PV}(K)-S_0+C_0\\leq P_0$$\n",
    "Which confirms the lower bound of the Put."
   ]
  },
  {
   "cell_type": "markdown",
   "metadata": {},
   "source": [
    "### Solution to Part (d)"
   ]
  },
  {
   "cell_type": "markdown",
   "metadata": {},
   "source": [
    "We have shown\n",
    "$$\\mathrm{PV}(K)-S_0+C_0\\leq P_0 \\leq K-S_0+C_0$$\n",
    "From Problem 1 of Homework 3, we know $K=4$, $T=2$, $S_0=4$, and $r=25\\%$.  We calculated the American Call to be $C_0=\\frac{48}{25}$.  Therefore, we can bound the value of the American Put as follows.\n",
    "$$(\\frac{1}{1+25\\%})^2(4)-4+\\frac{48}{25} \\leq P_0 \\leq \\frac{48}{25} + 4 - 4$$\n",
    "We can evaluate the bounds to be\n",
    "$$\\frac{12}{25}\\leq P_0 \\leq \\frac{48}{25}$$\n",
    "And we calculated $P_0=\\frac{4}{5}$, which falls between these bounds."
   ]
  },
  {
   "cell_type": "markdown",
   "metadata": {},
   "source": [
    "### Solution to Part (e)"
   ]
  },
  {
   "cell_type": "markdown",
   "metadata": {},
   "source": [
    "In the $0\\%$ interest rate case, it is clear that an At-The-Money American Put Option will be equal to the price of the American Call.\n",
    "$$\\frac{1}{1+0\\%}K - S_0 + C_0 \\leq P_0 \\leq K - S_0 + C_0 \\implies P_0 = K-S_0+C_0$$"
   ]
  },
  {
   "cell_type": "markdown",
   "metadata": {},
   "source": [
    "## Problem 2 -- Fundamental Option Pricing Formula\n",
    "\n",
    "This problem is based on the fundamental option pricing formula for the CRR model developed in class, namely the value at time $0$ of an option with maturity $T$ and payoff $F$ is given by:  \n",
    "$$F_0 = e^{−rT}\\mathbb{E}_{\\mathcal{Q}}[F]$$\n",
    "We consider the two options below:  \n",
    "A. An option with which you must buy a share of stock at expiration $T=1$ for strike price $K=S_0$.  \n",
    "B. An option with which you must buy a share of stock at expiration $T=1$ for strike price $K$ given by\n",
    "$$K = \\frac{1}{N}\\sum_{j=0}^NS_{t_j}$$\n",
    "*Note*: that both options can have negative payoffs  \n",
    "\n",
    "We use a CRR model with $N$ periods to price these options. Assume that the interest rate on the money market is $r$.  \n",
    "(a) Using the fundamental option pricing formula, find the price of option A.\n",
    "*Hint*: use the martingale properties developed in the lectures for the stock price process  \n",
    "(b) Using the fundamental option pricing formula, find the price of option B.  \n",
    "(c) Find the limit as $N\\longrightarrow\\infty$ of the results in (a) and (b).  \n",
    "(d) Assuming the interest rate is very small ($r\\approx0$), use Taylor expansions to find the first order approximation in $r$ of the two results in (c).  \n",
    "(e) Can we intuitively explain the result?"
   ]
  },
  {
   "cell_type": "markdown",
   "metadata": {},
   "source": [
    "### Solution to Part (a)"
   ]
  },
  {
   "cell_type": "markdown",
   "metadata": {},
   "source": [
    "We begin with\n",
    "$$F_0^A = (1+\\frac{r}{N})^{-N}\\mathbb{E}_{\\mathcal{Q}}[F] = (1+\\frac{r}{N})^{-N}\\mathbb{E}_{\\mathcal{Q}}[S_T-S_0]$$\n",
    "$$F_0^A = (1+\\frac{r}{N})^{-N}(\\mathbb{E}_{\\mathcal{Q}}[S_T] - \\mathbb{E}_{\\mathcal{Q}}[S_0]) = \\mathbb{E}_{\\mathcal{Q}}[(1+\\frac{r}{N})^{-N}S_T] - (1+\\frac{r}{N})^{-N}S_0$$\n",
    "$$F_0^A = \\mathbb{E}_{\\mathcal{Q}}[D_T] - (1+\\frac{r}{N})^{-N}S_0 = D_0 - (1+\\frac{r}{N})^{-N}S_0$$\n",
    "$$\\implies F_0^A = S_0 (1 - (1+\\frac{r}{N})^{-N})$$"
   ]
  },
  {
   "cell_type": "markdown",
   "metadata": {},
   "source": [
    "### Solution to Part (b)"
   ]
  },
  {
   "cell_type": "markdown",
   "metadata": {},
   "source": [
    "$$F_0^B = (1+\\frac{r}{N})^{-N}\\mathbb{E}_{\\mathcal{Q}}[F] = (1+\\frac{r}{N})^{-N}\\mathbb{E}_{\\mathcal{Q}}[S_T - \\frac{1}{N}\\sum_{j=0}^N S_{t_j}]$$\n",
    "$$F_0^B = (1+\\frac{r}{N})^{-N}(\\mathbb{E}_{\\mathcal{Q}}[S_T] - \\frac{1}{N}\\sum_{j=0}^N\\mathbb{E}_{\\mathcal{Q}}[S_{t_j}])$$\n",
    "$$F_0^B = \\mathbb{E}_{\\mathcal{Q}}[D_T] - (1+\\frac{r}{N})^{-N}\\frac{1}{N}\\sum_{j=0}^N\\mathbb{E}_{\\mathcal{Q}}[S_{t_j}])$$\n",
    "This was as far as I got"
   ]
  },
  {
   "cell_type": "markdown",
   "metadata": {},
   "source": [
    "### Solution to Part (c)"
   ]
  },
  {
   "cell_type": "markdown",
   "metadata": {},
   "source": [
    "**Option A**\n",
    "\n",
    "$$\\lim_{N\\longrightarrow\\infty} S_0(1-(1+\\frac{r}{N})^{-N}) = S_0(1-e^{-r})$$\n",
    "\n",
    "**Option B**"
   ]
  },
  {
   "cell_type": "markdown",
   "metadata": {},
   "source": [
    "### Solution to Part (d)"
   ]
  },
  {
   "cell_type": "markdown",
   "metadata": {},
   "source": [
    "**Option A**  \n",
    "The first-order Taylor expansion is\n",
    "$$S_0(1-e^{-r}) \\approx S_0((1-e^{-a}) + (e^{-a}(r-a)))$$\n",
    "Evaluating this at $a=0$, we see\n",
    "$$S_0(1-e^{-r}) \\approx S_0(r)$$\n",
    "\n",
    "**Option B**  \n",
    "The first-order Taylor expansion is"
   ]
  },
  {
   "cell_type": "markdown",
   "metadata": {},
   "source": [
    "### Solution to Part (e)"
   ]
  },
  {
   "cell_type": "markdown",
   "metadata": {},
   "source": [
    "Option A's result implies the value of the option is the rate times the intial spot price of the asset."
   ]
  },
  {
   "cell_type": "markdown",
   "metadata": {},
   "source": [
    "## Problem 3 -- Black-Scholes Comparison\n",
    "\n",
    "We put ourselves in the setting of Prob. 3 of HW#3. There, we worked out (using a computer) the price of a European call and a European put options for large $N$. Use the Black-Scholes formula to find the price of the European call and put-call parity (or the Black-Scholes formula for a put) to find the price of the European put of Prob. 3 of HW#3. Compare the results with the prices obtained in HW#3 and comment on the quality of the approximation.\n",
    "\n",
    "*Recall*: Black-Scholes Formula\n",
    "$$C_t = N(d_+)S_t - N(d_-)Ke^{r(T-t))}$$\n",
    "$$d_{\\pm} = \\frac{\\mathrm{ln}(\\frac{S_t}{K}) + (r \\pm \\frac{\\sigma^2}{2})(T-t))}{\\sigma \\sqrt{T}}$$"
   ]
  },
  {
   "cell_type": "markdown",
   "metadata": {},
   "source": [
    "### Solution\n",
    "\n",
    "To solve this problem, I write two functions.  I then use these functions to price the call and put."
   ]
  },
  {
   "cell_type": "code",
   "execution_count": 2,
   "metadata": {},
   "outputs": [],
   "source": [
    "'''\n",
    "Parameters - These are given in HW3 problem 3, although I call them again for clarity\n",
    "'''\n",
    "mu, sigma = stocal.walk_params(u=0.005,d=0.003,T=1,N=60)\n",
    "\n",
    "s0 = 1000\n",
    "k = 1025\n",
    "r = 0.05\n",
    "t = 1"
   ]
  },
  {
   "cell_type": "code",
   "execution_count": 3,
   "metadata": {},
   "outputs": [],
   "source": [
    "def price_bsm(s0, k, r, t, sigma):\n",
    "    '''\n",
    "    Prices a European Call Option using the Black-Scholes Formula\n",
    "    ---\n",
    "    s0 - Current stock price\n",
    "    k - strike price\n",
    "    r - risk-free interest rate (per annum)\n",
    "    t - time to maturity, in years\n",
    "    sigma - asset volatitly\n",
    "    '''\n",
    "    import numpy as np\n",
    "    from scipy.stats import norm\n",
    "    d_plus = (np.log(s0/k) + (r + ((sigma ** 2) / 2)) * t) / (sigma * np.sqrt(t))\n",
    "    d_less = (np.log(s0/k) + (r - ((sigma ** 2) / 2)) * t) / (sigma * np.sqrt(t))\n",
    "    price = norm.cdf(d_plus) * s0 - norm.cdf(d_less) * k * np.exp(-r * t)\n",
    "    \n",
    "    return price"
   ]
  },
  {
   "cell_type": "code",
   "execution_count": 4,
   "metadata": {},
   "outputs": [
    {
     "name": "stdout",
     "output_type": "stream",
     "text": [
      "The price of the Call per BSM is $28.55\n"
     ]
    }
   ],
   "source": [
    "'''Price the Call Option using BSM'''\n",
    "call_price = price_bsm(s0,k,r,t,sigma)\n",
    "print('The price of the Call per BSM is ${:.2f}'.format(call_price))"
   ]
  },
  {
   "cell_type": "code",
   "execution_count": 5,
   "metadata": {},
   "outputs": [],
   "source": [
    "def put_call_parity(option_price, option_type, s0, k, r, t):\n",
    "    '''\n",
    "    Uses the price of a european option to return its opposite's price\n",
    "    ---\n",
    "    option_price - price of given option\n",
    "    option_type - type of given option ('p' for put and 'c' for call)\n",
    "    s0 - current asset price\n",
    "    k - strike price\n",
    "    r - risk-free interest rate (per annum)\n",
    "    t - time to maturity, in years\n",
    "    '''\n",
    "    import numpy as np\n",
    "    if option_type == 'c':\n",
    "        price = - s0 + np.exp(-r * t)*k + option_price\n",
    "    elif option_type == 'p':\n",
    "        price = s0 - np.exp(-r * t)*k + option_price \n",
    "    \n",
    "    return price"
   ]
  },
  {
   "cell_type": "code",
   "execution_count": 6,
   "metadata": {},
   "outputs": [
    {
     "name": "stdout",
     "output_type": "stream",
     "text": [
      "The price of the Put per Put-Call Parity is $3.56\n"
     ]
    }
   ],
   "source": [
    "'''Price the Put Option using Put-Call Parity'''\n",
    "put_price = put_call_parity(option_price=call_price,option_type='c',s0=1000,k=1025,r=0.05,t=1)\n",
    "print('The price of the Put per Put-Call Parity is ${:.2f}'.format(put_price))"
   ]
  },
  {
   "cell_type": "markdown",
   "metadata": {},
   "source": [
    "*COMMENTS*"
   ]
  },
  {
   "cell_type": "markdown",
   "metadata": {},
   "source": [
    "## Problem 4 -- Estimating Parameters and Option Pricing\n",
    "\n",
    "The purpose of this problem is to price options based on real data with the Black-Scholes model.  \n",
    "Consider your selected stock for the semester (used in Prob. 2 of HW#4) and the same options considered in that problem. Remember that the parameters $\\mu$ and $\\sigma$ were already estimated in part (a) of that problem. (You are welcome to consider the dates and parameters obtained then, or reestimate the data with more up-to-date data, it’s up to you.)  \n",
    "(a) Price the call options using the Black-Scholes formula, using the parameters estimated from your data.  \n",
    "(b) Compare your results to the market price and comment on the accuracy of your results and what could explain the differences.  \n",
    "(c) Repeat question (a) and (b) for the put options, either using the Black-Scholes formula for a put or the put-call parity formula. Comment on the accuracy of your results and explain any discrepancies between your estimate and the market price."
   ]
  },
  {
   "cell_type": "markdown",
   "metadata": {},
   "source": [
    "### Solution to Part (a & b)"
   ]
  },
  {
   "cell_type": "code",
   "execution_count": 7,
   "metadata": {},
   "outputs": [
    {
     "name": "stdout",
     "output_type": "stream",
     "text": [
      "[*********************100%***********************]  1 of 1 completed\n",
      "[*********************100%***********************]  1 of 1 completed\n"
     ]
    }
   ],
   "source": [
    "'''\n",
    "Get ETF Data\n",
    "This is same code used to get code in HW4\n",
    "'''\n",
    "etf, etf_data = stocal.asset_data(ticker = 'LQD', start_date='2017-01-01', end_date=datetime.datetime.today())\n",
    "expiry, years_to_expiry = stocal.maturity(0.25, etf)\n",
    "px_last = etf_data.iloc[-1,3]\n",
    "\n",
    "'''Get Option Data'''\n",
    "options = etf.option_chain(expiry)\n",
    "calls = options.calls\n",
    "puts = options.puts\n",
    "\n",
    "'''\n",
    "In HW4 problem 2, strikes for calls were\n",
    "ITM = 120\n",
    "ATM = 122\n",
    "OTM = 126\n",
    "'''\n",
    "\n",
    "itm_k = 120\n",
    "atm_k = 122\n",
    "otm_k = 126\n",
    "\n",
    "strikes = [itm_k,atm_k,otm_k]\n",
    "\n",
    "calls = calls[calls['strike'].isin(strikes)]\n",
    "puts = puts[puts['strike'].isin(strikes)]\n",
    "\n",
    "'''Get Rates Data'''\n",
    "rf = stocal.rates_data()"
   ]
  },
  {
   "cell_type": "code",
   "execution_count": 8,
   "metadata": {},
   "outputs": [],
   "source": [
    "'''Parameter Estimation & Option Pricing Calculation'''\n",
    "lqd_mu, lqd_sigma = stocal.estimate_params(M = 500, data = etf_data)\n",
    "call_prices = []\n",
    "put_prices = []\n",
    "for k in strikes:\n",
    "    call_price = price_bsm(s0=px_last,k=k,r=rf,t=years_to_expiry,sigma=lqd_sigma)\n",
    "    call_prices.append(call_price)\n",
    "    put_price = put_call_parity(option_price=call_price,option_type='c',s0=px_last,k=k,r=rf,t=years_to_expiry)\n",
    "    put_prices.append(put_price)\n",
    "\n",
    "'''Data Storage'''\n",
    "call_calcs = pd.DataFrame(data=[call_prices,calls['bid'],calls['ask']],\n",
    "                        columns=strikes,\n",
    "                        index=['theo','bid','ask']).transpose()\n",
    "\n",
    "put_calcs = pd.DataFrame(data=[put_prices,puts['bid'],puts['ask']], \n",
    "                        columns=strikes, \n",
    "                        index=['theo','bid','ask']).transpose()"
   ]
  },
  {
   "cell_type": "code",
   "execution_count": 9,
   "metadata": {},
   "outputs": [
    {
     "name": "stdout",
     "output_type": "stream",
     "text": [
      "         theo   bid   ask\n",
      "120  2.299977  2.04  2.47\n",
      "122  1.354983  1.24  1.45\n",
      "126  0.349555  0.39  0.49\n"
     ]
    }
   ],
   "source": [
    "print(call_calcs)"
   ]
  },
  {
   "cell_type": "code",
   "execution_count": 10,
   "metadata": {},
   "outputs": [
    {
     "data": {
      "text/plain": [
       "<matplotlib.legend.Legend at 0x2104ad70fa0>"
      ]
     },
     "execution_count": 10,
     "metadata": {},
     "output_type": "execute_result"
    },
    {
     "data": {
      "image/png": "[encoded data removed]",
      "text/plain": [
       "<Figure size 432x288 with 1 Axes>"
      ]
     },
     "metadata": {
      "needs_background": "light"
     },
     "output_type": "display_data"
    }
   ],
   "source": [
    "'''Call Calculation Plot'''\n",
    "plt.plot(call_calcs)\n",
    "plt.title('Call Calculated Price vs Bid-Ask Spread')\n",
    "plt.xlabel('Strike Price')\n",
    "plt.ylabel('Option Value')\n",
    "plt.legend(call_calcs.columns)"
   ]
  },
  {
   "cell_type": "markdown",
   "metadata": {},
   "source": [
    "### Solution to Part (c)"
   ]
  },
  {
   "cell_type": "code",
   "execution_count": 11,
   "metadata": {},
   "outputs": [
    {
     "name": "stdout",
     "output_type": "stream",
     "text": [
      "         theo   bid   ask\n",
      "120  1.510905  3.25  3.30\n",
      "122  2.554760  4.10  4.55\n",
      "126  5.527030  7.20  7.65\n"
     ]
    }
   ],
   "source": [
    "print(put_calcs)"
   ]
  },
  {
   "cell_type": "code",
   "execution_count": 12,
   "metadata": {},
   "outputs": [
    {
     "data": {
      "text/plain": [
       "<matplotlib.legend.Legend at 0x2104ce6cdc0>"
      ]
     },
     "execution_count": 12,
     "metadata": {},
     "output_type": "execute_result"
    },
    {
     "data": {
      "image/png": "[encoded data removed]",
      "text/plain": [
       "<Figure size 432x288 with 1 Axes>"
      ]
     },
     "metadata": {
      "needs_background": "light"
     },
     "output_type": "display_data"
    }
   ],
   "source": [
    "'''Put Calculation Plot'''\n",
    "plt.plot(put_calcs)\n",
    "plt.title('Put Calculated Price vs Bid-Ask Spread')\n",
    "plt.xlabel('Strike Price')\n",
    "plt.ylabel('Option Value')\n",
    "plt.legend(put_calcs.columns)"
   ]
  },
  {
   "cell_type": "markdown",
   "metadata": {},
   "source": []
  }
 ],
 "metadata": {
  "interpreter": {
   "hash": "702e518b60c67dbd3b0638a510bff2830380600f50d13e8fcb105f9ecc05fb71"
  },
  "kernelspec": {
   "display_name": "Python 3.9.6 64-bit",
   "language": "python",
   "name": "python3"
  },
  "language_info": {
   "codemirror_mode": {
    "name": "ipython",
    "version": 3
   },
   "file_extension": ".py",
   "mimetype": "text/x-python",
   "name": "python",
   "nbconvert_exporter": "python",
   "pygments_lexer": "ipython3",
   "version": "3.9.6"
  },
  "orig_nbformat": 4
 },
 "nbformat": 4,
 "nbformat_minor": 2
}
