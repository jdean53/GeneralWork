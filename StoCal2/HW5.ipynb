{
 "cells": [
  {
   "cell_type": "code",
   "execution_count": 1,
   "metadata": {},
   "outputs": [],
   "source": [
    "import pandas as pd\n",
    "import numpy as np\n",
    "import datetime\n",
    "\n",
    "from scipy.stats import norm\n",
    "\n",
    "import StoCalCodeDeck as stocal"
   ]
  },
  {
   "cell_type": "markdown",
   "metadata": {},
   "source": [
    "## Problem 1"
   ]
  },
  {
   "cell_type": "markdown",
   "metadata": {},
   "source": []
  },
  {
   "cell_type": "markdown",
   "metadata": {},
   "source": [
    "## Problem 2"
   ]
  },
  {
   "cell_type": "markdown",
   "metadata": {},
   "source": []
  },
  {
   "cell_type": "markdown",
   "metadata": {},
   "source": [
    "## Problem 3\n",
    "\n",
    "$$C_t = N(d_+)S_t - N(d_-)Ke^{r(T-t))}$$\n",
    "$$d_{\\pm} = \\frac{\\mathrm{ln}(\\frac{S_t}{K}) + (r \\pm \\frac{\\sigma^2}{2})(T-t))}{\\sigma \\sqrt{T}}$$"
   ]
  },
  {
   "cell_type": "code",
   "execution_count": 2,
   "metadata": {},
   "outputs": [],
   "source": [
    "mu, sigma = stocal.walk_params(u=0.005,d=0.003,T=1,N=60)\n",
    "\n",
    "s0 = 1000\n",
    "k = 1025\n",
    "r = 0.05\n",
    "t = 1"
   ]
  },
  {
   "cell_type": "code",
   "execution_count": 3,
   "metadata": {},
   "outputs": [],
   "source": [
    "def price_bsm(s0, k, r, t, sigma):\n",
    "    d_plus = (np.log(s0/k) + (r + ((sigma ** 2) / 2)) * t) / (sigma * np.sqrt(t))\n",
    "    d_less = (np.log(s0/k) + (r - ((sigma ** 2) / 2)) * t) / (sigma * np.sqrt(t))\n",
    "    price = norm.cdf(d_plus) * s0 - norm.cdf(d_less) * k * np.exp(-r * t)\n",
    "    return price"
   ]
  },
  {
   "cell_type": "code",
   "execution_count": 4,
   "metadata": {},
   "outputs": [
    {
     "data": {
      "text/plain": [
       "28.55095742703793"
      ]
     },
     "execution_count": 4,
     "metadata": {},
     "output_type": "execute_result"
    }
   ],
   "source": [
    "call_price = price_bsm(s0,k,r,t,sigma)\n",
    "call_price"
   ]
  },
  {
   "cell_type": "code",
   "execution_count": 5,
   "metadata": {},
   "outputs": [],
   "source": [
    "def put_call_parity(option_price, option_type, s0, k, r, t):\n",
    "    if option_type == 'c':\n",
    "        price = - s0 + np.exp(-r * t)*k + option_price\n",
    "    elif option_type == 'p':\n",
    "        price = s0 - np.exp(-r * t)*k + option_price \n",
    "    return price"
   ]
  },
  {
   "cell_type": "code",
   "execution_count": 6,
   "metadata": {},
   "outputs": [
    {
     "data": {
      "text/plain": [
       "3.5611175402698336"
      ]
     },
     "execution_count": 6,
     "metadata": {},
     "output_type": "execute_result"
    }
   ],
   "source": [
    "put_price = put_call_parity(option_price=call_price,option_type='c',s0=1000,k=1025,r=0.05,t=1)\n",
    "put_price"
   ]
  },
  {
   "cell_type": "code",
   "execution_count": 7,
   "metadata": {},
   "outputs": [
    {
     "data": {
      "text/plain": [
       "28.55095742703793"
      ]
     },
     "execution_count": 7,
     "metadata": {},
     "output_type": "execute_result"
    }
   ],
   "source": [
    "put_call_parity(put_price,option_type='p',s0=1000,k=1025,r=0.05,t=1)"
   ]
  },
  {
   "cell_type": "markdown",
   "metadata": {},
   "source": []
  },
  {
   "cell_type": "markdown",
   "metadata": {},
   "source": [
    "## Problem 4"
   ]
  },
  {
   "cell_type": "markdown",
   "metadata": {},
   "source": []
  },
  {
   "cell_type": "code",
   "execution_count": 11,
   "metadata": {},
   "outputs": [
    {
     "name": "stdout",
     "output_type": "stream",
     "text": [
      "[*********************100%***********************]  1 of 1 completed\n"
     ]
    },
    {
     "ename": "IndexError",
     "evalue": "list index out of range",
     "output_type": "error",
     "traceback": [
      "\u001b[1;31m---------------------------------------------------------------------------\u001b[0m",
      "\u001b[1;31mIndexError\u001b[0m                                Traceback (most recent call last)",
      "\u001b[1;32m~\\AppData\\Local\\Temp/ipykernel_21060/1993086395.py\u001b[0m in \u001b[0;36m<module>\u001b[1;34m\u001b[0m\n\u001b[0;32m     12\u001b[0m \u001b[0motm_calls\u001b[0m \u001b[1;33m=\u001b[0m \u001b[0mcalls\u001b[0m\u001b[1;33m[\u001b[0m\u001b[0mcalls\u001b[0m\u001b[1;33m[\u001b[0m\u001b[1;34m'strike'\u001b[0m\u001b[1;33m]\u001b[0m \u001b[1;33m>\u001b[0m \u001b[0mpx_last\u001b[0m \u001b[1;33m+\u001b[0m \u001b[1;36m0.5\u001b[0m\u001b[1;33m]\u001b[0m\u001b[1;33m\u001b[0m\u001b[1;33m\u001b[0m\u001b[0m\n\u001b[0;32m     13\u001b[0m \u001b[0matm_puts\u001b[0m \u001b[1;33m=\u001b[0m \u001b[0mputs\u001b[0m\u001b[1;33m[\u001b[0m\u001b[1;33m(\u001b[0m\u001b[0mputs\u001b[0m\u001b[1;33m[\u001b[0m\u001b[1;34m'strike'\u001b[0m\u001b[1;33m]\u001b[0m \u001b[1;33m<\u001b[0m \u001b[0mpx_last\u001b[0m\u001b[1;33m+\u001b[0m\u001b[1;36m0.5\u001b[0m\u001b[1;33m)\u001b[0m \u001b[1;33m&\u001b[0m \u001b[1;33m(\u001b[0m\u001b[0mputs\u001b[0m\u001b[1;33m[\u001b[0m\u001b[1;34m'strike'\u001b[0m\u001b[1;33m]\u001b[0m \u001b[1;33m>\u001b[0m \u001b[0mpx_last\u001b[0m\u001b[1;33m-\u001b[0m\u001b[1;36m0.5\u001b[0m\u001b[1;33m)\u001b[0m\u001b[1;33m]\u001b[0m\u001b[1;33m\u001b[0m\u001b[1;33m\u001b[0m\u001b[0m\n\u001b[1;32m---> 14\u001b[1;33m \u001b[0matm_k\u001b[0m \u001b[1;33m=\u001b[0m \u001b[0matm_calls\u001b[0m\u001b[1;33m[\u001b[0m\u001b[1;34m'strike'\u001b[0m\u001b[1;33m]\u001b[0m\u001b[1;33m.\u001b[0m\u001b[0mto_list\u001b[0m\u001b[1;33m(\u001b[0m\u001b[1;33m)\u001b[0m\u001b[1;33m[\u001b[0m\u001b[1;36m0\u001b[0m\u001b[1;33m]\u001b[0m\u001b[1;33m\u001b[0m\u001b[1;33m\u001b[0m\u001b[0m\n\u001b[0m\u001b[0;32m     15\u001b[0m \u001b[0motm_k\u001b[0m \u001b[1;33m=\u001b[0m \u001b[1;36m126\u001b[0m             \u001b[1;31m# Chosen arbitrarily\u001b[0m\u001b[1;33m\u001b[0m\u001b[1;33m\u001b[0m\u001b[0m\n\u001b[0;32m     16\u001b[0m \u001b[0mitm_k\u001b[0m \u001b[1;33m=\u001b[0m \u001b[1;36m120\u001b[0m             \u001b[1;31m# Only ITM call left\u001b[0m\u001b[1;33m\u001b[0m\u001b[1;33m\u001b[0m\u001b[0m\n",
      "\u001b[1;31mIndexError\u001b[0m: list index out of range"
     ]
    }
   ],
   "source": [
    "'''Get ETF Data'''\n",
    "etf, etf_data = stocal.asset_data(ticker = 'LQD', start_date='2017-01-01', end_date=datetime.datetime.today())\n",
    "expiry, years_to_expiry = stocal.maturity(0.25, etf)\n",
    "px_last = etf_data.iloc[-1,3]\n",
    "\n",
    "'''Get Option Data'''\n",
    "options = etf.option_chain(expiry)\n",
    "calls = options.calls\n",
    "puts = options.puts\n",
    "itm_calls = calls[calls['strike'] < px_last - 0.5]\n",
    "atm_calls = calls[(calls['strike'] < px_last+0.5) & (calls['strike'] > px_last-0.5)]\n",
    "otm_calls = calls[calls['strike'] > px_last + 0.5]\n",
    "atm_puts = puts[(puts['strike'] < px_last+0.5) & (puts['strike'] > px_last-0.5)]\n",
    "atm_k = atm_calls['strike'].to_list()[0]\n",
    "otm_k = 126             # Chosen arbitrarily\n",
    "itm_k = 120             # Only ITM call left\n",
    "\n",
    "'''Get Rates Data'''\n",
    "rf = stocal.rates_data()"
   ]
  },
  {
   "cell_type": "markdown",
   "metadata": {},
   "source": []
  }
 ],
 "metadata": {
  "interpreter": {
   "hash": "702e518b60c67dbd3b0638a510bff2830380600f50d13e8fcb105f9ecc05fb71"
  },
  "kernelspec": {
   "display_name": "Python 3.9.6 64-bit",
   "language": "python",
   "name": "python3"
  },
  "language_info": {
   "codemirror_mode": {
    "name": "ipython",
    "version": 3
   },
   "file_extension": ".py",
   "mimetype": "text/x-python",
   "name": "python",
   "nbconvert_exporter": "python",
   "pygments_lexer": "ipython3",
   "version": "3.9.6"
  },
  "orig_nbformat": 4
 },
 "nbformat": 4,
 "nbformat_minor": 2
}
