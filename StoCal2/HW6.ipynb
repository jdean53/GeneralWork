{
 "cells": [
  {
   "cell_type": "markdown",
   "metadata": {},
   "source": [
    "# MATH 468 - Stochastic Calculus II - HW 6"
   ]
  },
  {
   "cell_type": "code",
   "execution_count": 1,
   "metadata": {},
   "outputs": [],
   "source": [
    "'''\n",
    "Packages Used\n",
    "---\n",
    "Data - pandas, datetime, yfinance\n",
    "Numerical - numpy, scipy stats\n",
    "Plotting - Matplotlib, seaborn\n",
    "Custom - StoCalCodeDeck\n",
    "'''\n",
    "import pandas as pd\n",
    "import datetime\n",
    "import yfinance as yf\n",
    "\n",
    "import numpy as np\n",
    "import scipy.stats as stats\n",
    "\n",
    "import matplotlib.pyplot as plt\n",
    "import seaborn as sns\n",
    "\n",
    "import StoCalCodeDeck as stocal"
   ]
  },
  {
   "cell_type": "markdown",
   "metadata": {},
   "source": [
    "## Problem 1 - Pricing and the Greeks\n",
    "\n",
    "We consider a (european) call option on a stock with expiration in 3 months ($T = \\frac{1}{4}$) and strike price $K=10$.  The annual interest rate on the market is $r=2\\%$.  The current price of the stock is $S_0=10$ and we assume that the stock follows a geometric Brownian motion model with parameters $\\mu=5\\%$ and $\\sigma=0.20$.\n",
    "\n",
    "(a) Determine the price $F_0$ of this option at time $t=0$ (today).  \n",
    "(b) Using the formulas provided in the lecturs, calculate the value of each of the greeks for this option.  Namely, calculate $\\Delta$, $\\Gamma$, $\\nu$, $\\Theta$, and $\\rho$.  \n",
    "(c) Find a formula for the change of the option price with respect to a change in the strike price. In other words, determine $\\frac{\\delta f(S_t,t)}{\\delta K}$  \n",
    "(d) For each of the suggested modifications below, use an approximation to determine the change in the price of the option above without actually recalculating the price. For each provide an intuitive argument to explain why the price increases or decreases.  \n",
    "    (i) The rate of return $\\mu$ increases to $6\\%$  \n",
    "    (ii) The interest rate $r$ increases to $3\\%$  \n",
    "    (iii) The volatility increases to $\\sigma=0.3$  \n",
    "    (iv) The expiration date changes to 4 months  \n",
    "    (v) The strike price goes up to $\\$11$  \n",
    "    (vi) The current stock price rises instantaneously to $\\$11$"
   ]
  },
  {
   "cell_type": "markdown",
   "metadata": {},
   "source": [
    "### Solution to Part (a)"
   ]
  },
  {
   "cell_type": "markdown",
   "metadata": {},
   "source": []
  },
  {
   "cell_type": "markdown",
   "metadata": {},
   "source": [
    "### Solution to Part (b)"
   ]
  },
  {
   "cell_type": "markdown",
   "metadata": {},
   "source": []
  },
  {
   "cell_type": "markdown",
   "metadata": {},
   "source": [
    "### Solution to Part (c)"
   ]
  },
  {
   "cell_type": "markdown",
   "metadata": {},
   "source": []
  },
  {
   "cell_type": "markdown",
   "metadata": {},
   "source": [
    "### Solution to Part (d)"
   ]
  },
  {
   "cell_type": "markdown",
   "metadata": {},
   "source": []
  },
  {
   "cell_type": "markdown",
   "metadata": {},
   "source": [
    "## Problem 2 - Estimating parameters and option pricing\n",
    "\n",
    "This problem is a continuation of Prob. 4 in HW5. We consider the same situation and parameters for your chosen stock.  \n",
    "**Part 1 - Greeks**. Consider the call option that is ”at-the-money”. Calculate the value of Delta for this option using the formulas given in the lectures. Record the stock price one day later than your original time t = 0 and provide an estimate of the new option price on that day using your value of Delta. How does the estimate compare to the new actual market price of the call? How could you have improved your estimate?  \n",
    "**Part 2 - Volatility Smile**. Record the current price $S_0$ of your chosen stock, as well as the price of several (about 10) call options with a common expiration date but different strike prices. For each option, use the current market price $C_0$, the expiration $T$ and the strike price $K$ in Black-Scholes formula and solve for the volatility $\\sigma$ (see below for details). Plot the volatility as a function of the strike price. Comment on the result and what you can conclude from your graph.\n",
    "\n",
    "*Solving for* $\\sigma$.  There is no explicit way to solve for $\\sigma$ in the Black-Scholes formula. You have to approach this numerically. Here are some possible approaches  \n",
    "* If you are familiar with numerical equation solvers in your language of choice, you can use one of these to solve for your parameters. However, please double-check your results as pre-coded solvers do not always behave in the way that you expect and if you didn’t code it yourself, it’s hard to know exactly what it does.  \n",
    "* If you are familiar with numerical methods (e.g. Newton’s method) to solve a nonlinear equation, you can use that and code it yourself.  \n",
    "* Finally, a fairly direct method is to proceed empirically: you calculate the value in the Black-Scholes formula for a braid range of volatilities (e.g (0.1, 0.2, 0.3, · · · , 9.9)) and you consider the value of σ that yields the closest value to your objective.\n"
   ]
  },
  {
   "cell_type": "markdown",
   "metadata": {},
   "source": [
    "### Part 1"
   ]
  },
  {
   "cell_type": "markdown",
   "metadata": {},
   "source": []
  },
  {
   "cell_type": "code",
   "execution_count": 2,
   "metadata": {},
   "outputs": [
    {
     "data": {
      "text/plain": [
       "'Code Block'"
      ]
     },
     "execution_count": 2,
     "metadata": {},
     "output_type": "execute_result"
    }
   ],
   "source": [
    "'''Code Block'''"
   ]
  },
  {
   "cell_type": "markdown",
   "metadata": {},
   "source": [
    "### Part 2"
   ]
  },
  {
   "cell_type": "markdown",
   "metadata": {},
   "source": []
  },
  {
   "cell_type": "code",
   "execution_count": 3,
   "metadata": {},
   "outputs": [
    {
     "data": {
      "text/plain": [
       "'Code Block'"
      ]
     },
     "execution_count": 3,
     "metadata": {},
     "output_type": "execute_result"
    }
   ],
   "source": [
    "'''Code Block'''"
   ]
  },
  {
   "cell_type": "markdown",
   "metadata": {},
   "source": [
    "## Problem 3 - Solving the Black-Scholes PDE\n",
    "\n",
    "The purpose of this problem is to solve the Black-Scholes PDE with analytical techniques, which will lead us back to the Black-Scholes formula. The technique is very similar to the one used with the Feynman-Kac formula in Prob. 3 of HW8 in MATH 467.\n",
    "\n",
    "Let's consider the PDE given by\n",
    "$$\\frac{\\delta f}{\\delta t} + \\frac{1}{2}\\sigma^2x^2\\frac{\\delta^2 f}{\\delta x^2} + rx\\frac{\\delta f}{\\delta x} - rf = 0$$\n",
    "with terminal condition $f(T,x)=(x-K)_+$.  The solution $f(t,x)$ corresponds tot he price of a call option (given the initial condition) at time $t$ if the stock price is $x$.  \n",
    "(a) The first two things that prevent us from solving this PDE directly is (i) the fact that we have a terminal condition, instead of an initial condition; and (ii) that the terms infront of the derivatives are not constant.  To address these, we use the transformation $g(t,x)=f(T-t,e^x)$, equivalent to $f(t,x)=g(T-t,log(x))$.  Under this condition, determine the PDE satisfied by $g$.  \n",
    "(b) Now, the PDE has an initial condition and constant coefficient, but it still includes a first order derivative in $x$ and the function $g$ itself.  In order to simplify this, use the transformation $h(t,x)=e^{ax+bt}g(t,x)$ and determine the appropriate values of $a$ and $b$ in order for $h$ to solve the heat equation (see (c)).  \n",
    "(c) We know that the solution to the heat equation $\\frac{\\delta u}{\\delta t} - \\frac{\\alpha}{2}\\frac{\\delta^2 u}{\\delta x^2} = 0$ with initial condition $u_0$ is given by\n",
    "$$u(t,x) = \\int_{\\mathbb{R}} \\frac{1}{\\sqrt{2\\pi\\alpha t}}\\mathrm{exp}\\{-\\frac{(x-y)^2}{2\\alpha t}\\}u_0(y)dy$$\n",
    "Use this result to determine the function $h$.  \n",
    "(d) Work the transformations backwards to determine the function $g$, and then $f$.  You should recover the Black-Scholes formula."
   ]
  },
  {
   "cell_type": "markdown",
   "metadata": {},
   "source": [
    "### Solution to Part (a)"
   ]
  },
  {
   "cell_type": "markdown",
   "metadata": {},
   "source": []
  },
  {
   "cell_type": "markdown",
   "metadata": {},
   "source": [
    "### Solution to Part (b)"
   ]
  },
  {
   "cell_type": "markdown",
   "metadata": {},
   "source": []
  },
  {
   "cell_type": "markdown",
   "metadata": {},
   "source": [
    "### Solution to Part (c)"
   ]
  },
  {
   "cell_type": "markdown",
   "metadata": {},
   "source": []
  },
  {
   "cell_type": "markdown",
   "metadata": {},
   "source": [
    "### Solution to Part (d)"
   ]
  },
  {
   "cell_type": "markdown",
   "metadata": {},
   "source": []
  }
 ],
 "metadata": {
  "interpreter": {
   "hash": "702e518b60c67dbd3b0638a510bff2830380600f50d13e8fcb105f9ecc05fb71"
  },
  "kernelspec": {
   "display_name": "Python 3.9.6 64-bit",
   "language": "python",
   "name": "python3"
  },
  "language_info": {
   "codemirror_mode": {
    "name": "ipython",
    "version": 3
   },
   "file_extension": ".py",
   "mimetype": "text/x-python",
   "name": "python",
   "nbconvert_exporter": "python",
   "pygments_lexer": "ipython3",
   "version": "3.9.6"
  },
  "orig_nbformat": 4
 },
 "nbformat": 4,
 "nbformat_minor": 2
}
