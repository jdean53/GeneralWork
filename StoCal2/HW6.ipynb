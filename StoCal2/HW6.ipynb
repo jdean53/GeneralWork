{
 "cells": [
  {
   "cell_type": "markdown",
   "metadata": {},
   "source": [
    "# MATH 468 - Stochastic Calculus II - HW 6"
   ]
  },
  {
   "cell_type": "code",
   "execution_count": 1,
   "metadata": {},
   "outputs": [],
   "source": [
    "'''\n",
    "Packages Used\n",
    "---\n",
    "Data - pandas, datetime, yfinance\n",
    "Numerical - numpy, scipy stats\n",
    "Plotting - Matplotlib, seaborn\n",
    "Custom - StoCalCodeDeck\n",
    "'''\n",
    "import pandas as pd\n",
    "import datetime\n",
    "import yfinance as yf\n",
    "\n",
    "import numpy as np\n",
    "import scipy.stats as stats\n",
    "\n",
    "import matplotlib.pyplot as plt\n",
    "import seaborn as sns\n",
    "\n",
    "import StoCalCodeDeck as stocal"
   ]
  },
  {
   "cell_type": "markdown",
   "metadata": {},
   "source": [
    "## Problem 1 - Pricing and the Greeks\n",
    "\n",
    "We consider a (european) call option on a stock with expiration in 3 months ($T = \\frac{1}{4}$) and strike price $K=10$.  The annual interest rate on the market is $r=2\\%$.  The current price of the stock is $S_0=10$ and we assume that the stock follows a geometric Brownian motion model with parameters $\\mu=5\\%$ and $\\sigma=0.20$.\n",
    "\n",
    "(a) Determine the price $F_0$ of this option at time $t=0$ (today).  \n",
    "(b) Using the formulas provided in the lecturs, calculate the value of each of the greeks for this option.  Namely, calculate $\\Delta$, $\\Gamma$, $\\nu$, $\\Theta$, and $\\rho$.  \n",
    "(c) Find a formula for the change of the option price with respect to a change in the strike price. In other words, determine $\\frac{\\delta f(S_t,t)}{\\delta K}$  \n",
    "(d) For each of the suggested modifications below, use an approximation to determine the change in the price of the option above without actually recalculating the price. For each provide an intuitive argument to explain why the price increases or decreases.  \n",
    "    (i) The rate of return $\\mu$ increases to $6\\%$  \n",
    "    (ii) The interest rate $r$ increases to $3\\%$  \n",
    "    (iii) The volatility increases to $\\sigma=0.3$  \n",
    "    (iv) The expiration date changes to 4 months  \n",
    "    (v) The strike price goes up to $\\$11$  \n",
    "    (vi) The current stock price rises instantaneously to $\\$11$"
   ]
  },
  {
   "cell_type": "markdown",
   "metadata": {},
   "source": [
    "### Solution to Part (a)\n",
    "\n",
    "I price the option using the Black-Scholes formula and a function written for Homework 5, Problem 3"
   ]
  },
  {
   "cell_type": "code",
   "execution_count": 2,
   "metadata": {},
   "outputs": [
    {
     "name": "stdout",
     "output_type": "stream",
     "text": [
      "The price of the option is $0.42\n"
     ]
    }
   ],
   "source": [
    "price = stocal.price_bsm(s0=10,k=10,r=.02,t=1/4,sigma=.2)\n",
    "print('The price of the option is ${:.2f}'.format(price))"
   ]
  },
  {
   "cell_type": "markdown",
   "metadata": {},
   "source": [
    "### Solution to Part (b)"
   ]
  },
  {
   "cell_type": "code",
   "execution_count": 3,
   "metadata": {},
   "outputs": [],
   "source": [
    "def bsm_greeks(s0, k, r, t, sigma):\n",
    "    '''\n",
    "    Uses the Black-Scholes formula to estimate the 5 major greeks (delta, gamma, theta, vega, rho)  \n",
    "    ---  \n",
    "    Parameters:  \n",
    "    s0 - (float) Current stock price  \n",
    "    k - (float) strike price  \n",
    "    r - (float) risk-free interest rate (per annum)  \n",
    "    t - (float) time to maturity, in years  \n",
    "    sigma - (float) asset volatitly  \n",
    "    ---  \n",
    "    Returns:  \n",
    "    greeks - (dataframe) calculated greeks in a dataframe indexed by name  \n",
    "    '''\n",
    "    import numpy as np\n",
    "    from scipy.stats import norm\n",
    "    greeks = pd.DataFrame(index=['delta','gamma','theta','vega','rho'],columns=['greeks'])\n",
    "    d_plus = (np.log(s0/k) + (r + ((sigma ** 2) / 2)) * t) / (sigma * np.sqrt(t))\n",
    "    d_less = (np.log(s0/k) + (r - ((sigma ** 2) / 2)) * t) / (sigma * np.sqrt(t))\n",
    "    greeks.loc['delta'] = norm.cdf(d_plus)\n",
    "    greeks.loc['gamma'] = (1 / (np.sqrt(t) * sigma * s0)) * norm.pdf(d_plus)\n",
    "    greeks.loc['theta'] = (((-1)*s0) / (2 * np.sqrt(t))) * norm.pdf(d_plus) - (r * k * np.exp((-r) * t) * norm.cdf(d_less))\n",
    "    greeks.loc['vega'] = s0 * np.sqrt(t) * norm.pdf(d_plus)\n",
    "    greeks.loc['rho'] = np.sqrt(t) * k * np.exp((-1) * r * t) * norm.cdf(d_less)\n",
    "    return greeks"
   ]
  },
  {
   "cell_type": "code",
   "execution_count": 4,
   "metadata": {},
   "outputs": [
    {
     "name": "stdout",
     "output_type": "stream",
     "text": [
      "Calculated Greeks\n"
     ]
    },
    {
     "data": {
      "text/html": [
       "<div>\n",
       "<style scoped>\n",
       "    .dataframe tbody tr th:only-of-type {\n",
       "        vertical-align: middle;\n",
       "    }\n",
       "\n",
       "    .dataframe tbody tr th {\n",
       "        vertical-align: top;\n",
       "    }\n",
       "\n",
       "    .dataframe thead th {\n",
       "        text-align: right;\n",
       "    }\n",
       "</style>\n",
       "<table border=\"1\" class=\"dataframe\">\n",
       "  <thead>\n",
       "    <tr style=\"text-align: right;\">\n",
       "      <th></th>\n",
       "      <th>greeks</th>\n",
       "    </tr>\n",
       "  </thead>\n",
       "  <tbody>\n",
       "    <tr>\n",
       "      <th>delta</th>\n",
       "      <td>0.539828</td>\n",
       "    </tr>\n",
       "    <tr>\n",
       "      <th>gamma</th>\n",
       "      <td>0.396953</td>\n",
       "    </tr>\n",
       "    <tr>\n",
       "      <th>theta</th>\n",
       "      <td>-4.069027</td>\n",
       "    </tr>\n",
       "    <tr>\n",
       "      <th>vega</th>\n",
       "      <td>1.984763</td>\n",
       "    </tr>\n",
       "    <tr>\n",
       "      <th>rho</th>\n",
       "      <td>2.487531</td>\n",
       "    </tr>\n",
       "  </tbody>\n",
       "</table>\n",
       "</div>"
      ],
      "text/plain": [
       "         greeks\n",
       "delta  0.539828\n",
       "gamma  0.396953\n",
       "theta -4.069027\n",
       "vega   1.984763\n",
       "rho    2.487531"
      ]
     },
     "execution_count": 4,
     "metadata": {},
     "output_type": "execute_result"
    }
   ],
   "source": [
    "print('Calculated Greeks')\n",
    "greeks = bsm_greeks(s0=10,k=10,r=0.02,t=1/4,sigma=.2)\n",
    "greeks"
   ]
  },
  {
   "cell_type": "markdown",
   "metadata": {},
   "source": [
    "### Solution to Part (c)\n",
    "\n",
    "We wish to calculate the partial derivative of the pricing function with respect to the strike price.\n",
    "$$\\frac{d}{dK}F = \\frac{d}{dK}[S_0\\Phi(d_+) - Ke^{-rT}\\Phi(d_-)]$$\n",
    "We rewrite this using the product rule\n",
    "$$\\frac{d}{dK}F = S_0\\frac{d}{dK}[\\Phi(d_+)] - Ke^{-rT}\\frac{d}{dK}[\\Phi(d_-)] - \\Phi(d_-)e^{-rT}$$\n",
    "We then evaluate this with the chain rule\n",
    "$$\\frac{d}{dK}F = S_0\\phi(d_+)(\\frac{d}{dK}[d_+]) - Ke^{-rT}\\phi(d_-)(\\frac{d}{dK}[d_-]) - \\Phi(d_-)e^{-rT}$$\n",
    "We now considere $\\frac{d}{dK}[d_{\\pm}]$.  Using properties of logs, we observe\n",
    "$$\\frac{d}{dK}[d_{\\pm}] = \\frac{d}{dK}[\\frac{\\mathrm{ln}(\\frac{S_0}{K})+(r\\pm\\frac{\\sigma^2}{2})T}{\\sigma\\sqrt{T}}]=\\frac{d}{dK}[\\frac{\\mathrm{ln}(S_0)-\\mathrm{ln}(K)+(r\\pm\\frac{\\sigma^2}{2})T}{\\sigma\\sqrt{T}}]=\\frac{d}{dK}[\\frac{-\\mathrm{ln}(K)}{\\sigma\\sqrt{T}}]=-\\frac{1}{\\sigma K \\sqrt{T}}$$\n",
    "Now that we see $\\frac{d}{dK}[d_+]=\\frac{d}{dK}[d_-]$, we can rewrite the expression\n",
    "$$\\frac{d}{dK}F = \\frac{-1}{\\sigma K \\sqrt{T}}(S_0\\phi(d_+) - Ke^{-rT}\\phi(d_-)) - \\Phi(d_-)e^{-rT}$$\n",
    "Which completes the result.\n",
    "\n",
    "We note that this value is strictly negative, which implies an increase in the strike price will decrease the price of the call option.  This makes intuitive sense as an increase in the strike price would then decrease the end value of the payoff function.\n",
    "\n",
    "In the case of this option, we calculate this greek's value below"
   ]
  },
  {
   "cell_type": "code",
   "execution_count": 5,
   "metadata": {},
   "outputs": [
    {
     "name": "stdout",
     "output_type": "stream",
     "text": [
      "a $1 increase in strike will change the option price by $-0.50\n"
     ]
    }
   ],
   "source": [
    "s0 = 10\n",
    "k=10\n",
    "r=.02\n",
    "t=1/4\n",
    "sigma=0.2\n",
    "d_plus = (np.log(s0/k) + (r + ((sigma ** 2) / 2)) * t) / (sigma * np.sqrt(t))\n",
    "d_less = (np.log(s0/k) + (r - ((sigma ** 2) / 2)) * t) / (sigma * np.sqrt(t))\n",
    "kappa = (-1 / (sigma * k *np.sqrt(t))) * (s0 * stats.norm.pdf(d_plus) - k * np.exp(-r * t) * stats.norm.pdf(d_less)) - np.exp(-r*t)*stats.norm.cdf(d_less)\n",
    "print('a $1 increase in strike will change the option price by ${:.2f}'.format(kappa))"
   ]
  },
  {
   "cell_type": "markdown",
   "metadata": {},
   "source": [
    "### Solution to Part (d)"
   ]
  },
  {
   "cell_type": "code",
   "execution_count": 6,
   "metadata": {},
   "outputs": [
    {
     "name": "stdout",
     "output_type": "stream",
     "text": [
      "Part 1: No Change\n",
      "Part 2: The option price changes by $0.02\n",
      "Part 3: The option price changes by $0.20\n",
      "Part 4: The option price changes by $0.34\n",
      "Part 5: The option price changes by $-0.50\n",
      "Part 6: The option price changes by $0.54\n"
     ]
    }
   ],
   "source": [
    "print('Part 1: No Change')\n",
    "print('Part 2: The option price changes by ${:.2f}'.format((.03-.02)*greeks.loc['rho'][0]))\n",
    "print('Part 3: The option price changes by ${:.2f}'.format((0.3-0.2)*greeks.loc['vega'][0]))\n",
    "print('Part 4: The option price changes by ${:.2f}'.format(((3-4)/12)*greeks.loc['theta'][0]))\n",
    "print('Part 5: The option price changes by ${:.2f}'.format((11-10)*kappa))\n",
    "print('Part 6: The option price changes by ${:.2f}'.format((11-10)*greeks.loc['delta'][0]))"
   ]
  },
  {
   "cell_type": "markdown",
   "metadata": {},
   "source": [
    "## Problem 2 - Estimating parameters and option pricing\n",
    "\n",
    "This problem is a continuation of Prob. 4 in HW5. We consider the same situation and parameters for your chosen stock.  \n",
    "**Part 1 - Greeks**. Consider the call option that is ”at-the-money”. Calculate the value of Delta for this option using the formulas given in the lectures. Record the stock price one day later than your original time t = 0 and provide an estimate of the new option price on that day using your value of Delta. How does the estimate compare to the new actual market price of the call? How could you have improved your estimate?  \n",
    "**Part 2 - Volatility Smile**. Record the current price $S_0$ of your chosen stock, as well as the price of several (about 10) call options with a common expiration date but different strike prices. For each option, use the current market price $C_0$, the expiration $T$ and the strike price $K$ in Black-Scholes formula and solve for the volatility $\\sigma$ (see below for details). Plot the volatility as a function of the strike price. Comment on the result and what you can conclude from your graph.\n",
    "\n",
    "*Solving for* $\\sigma$.  There is no explicit way to solve for $\\sigma$ in the Black-Scholes formula. You have to approach this numerically. Here are some possible approaches  \n",
    "* If you are familiar with numerical equation solvers in your language of choice, you can use one of these to solve for your parameters. However, please double-check your results as pre-coded solvers do not always behave in the way that you expect and if you didn’t code it yourself, it’s hard to know exactly what it does.  \n",
    "* If you are familiar with numerical methods (e.g. Newton’s method) to solve a nonlinear equation, you can use that and code it yourself.  \n",
    "* Finally, a fairly direct method is to proceed empirically: you calculate the value in the Black-Scholes formula for a braid range of volatilities (e.g (0.1, 0.2, 0.3, · · · , 9.9)) and you consider the value of σ that yields the closest value to your objective.\n"
   ]
  },
  {
   "cell_type": "markdown",
   "metadata": {},
   "source": [
    "### Part 1"
   ]
  },
  {
   "cell_type": "code",
   "execution_count": 7,
   "metadata": {},
   "outputs": [
    {
     "name": "stdout",
     "output_type": "stream",
     "text": [
      "[*********************100%***********************]  1 of 1 completed\n",
      "[*********************100%***********************]  1 of 1 completed\n"
     ]
    }
   ],
   "source": [
    "'''ETF Data and Parameter Estimation'''\n",
    "etf, etf_data = stocal.asset_data(ticker='LQD',start_date='2021-03-31',end_date='2022-03-31')\n",
    "expiry, years_to_expiry = stocal.maturity(0.75, etf)\n",
    "lqd_mu, lqd_sigma = stocal.estimate_params(252, etf_data)\n",
    "px_last = etf_data.iloc[-1,4]\n",
    "atm_k = int(px_last)\n",
    "options = etf.option_chain(expiry)\n",
    "calls = options.calls.set_index('contractSymbol')\n",
    "rf=stocal.rates_data()"
   ]
  },
  {
   "cell_type": "code",
   "execution_count": 8,
   "metadata": {},
   "outputs": [
    {
     "data": {
      "text/html": [
       "<div>\n",
       "<style scoped>\n",
       "    .dataframe tbody tr th:only-of-type {\n",
       "        vertical-align: middle;\n",
       "    }\n",
       "\n",
       "    .dataframe tbody tr th {\n",
       "        vertical-align: top;\n",
       "    }\n",
       "\n",
       "    .dataframe thead th {\n",
       "        text-align: right;\n",
       "    }\n",
       "</style>\n",
       "<table border=\"1\" class=\"dataframe\">\n",
       "  <thead>\n",
       "    <tr style=\"text-align: right;\">\n",
       "      <th></th>\n",
       "      <th>greeks</th>\n",
       "    </tr>\n",
       "  </thead>\n",
       "  <tbody>\n",
       "    <tr>\n",
       "      <th>delta</th>\n",
       "      <td>0.679533</td>\n",
       "    </tr>\n",
       "    <tr>\n",
       "      <th>gamma</th>\n",
       "      <td>0.046663</td>\n",
       "    </tr>\n",
       "    <tr>\n",
       "      <th>theta</th>\n",
       "      <td>-27.004468</td>\n",
       "    </tr>\n",
       "    <tr>\n",
       "      <th>vega</th>\n",
       "      <td>37.485541</td>\n",
       "    </tr>\n",
       "    <tr>\n",
       "      <th>rho</th>\n",
       "      <td>66.907087</td>\n",
       "    </tr>\n",
       "  </tbody>\n",
       "</table>\n",
       "</div>"
      ],
      "text/plain": [
       "          greeks\n",
       "delta   0.679533\n",
       "gamma   0.046663\n",
       "theta -27.004468\n",
       "vega   37.485541\n",
       "rho    66.907087"
      ]
     },
     "execution_count": 8,
     "metadata": {},
     "output_type": "execute_result"
    }
   ],
   "source": [
    "'''Calculates Greeks'''\n",
    "lqd_greeks = stocal.bsm_greeks(s0=px_last,k=atm_k,r=rf,t=0.75,sigma=lqd_sigma)\n",
    "lqd_greeks"
   ]
  },
  {
   "cell_type": "code",
   "execution_count": 9,
   "metadata": {},
   "outputs": [
    {
     "name": "stdout",
     "output_type": "stream",
     "text": [
      "Option day prior\n",
      "                                lastTradeDate  strike  lastPrice  bid  ask\n",
      "contractSymbol                                                            \n",
      "LQD230120C00120000  2022-03-14 14:13:24+00:00   120.0        3.1  0.0  0.0\n"
     ]
    }
   ],
   "source": [
    "options_day_prior = pd.read_csv('hw6_option_chain_day_prior.csv',\n",
    "                index_col='contractSymbol')[['lastTradeDate','strike','lastPrice','bid','ask']]\n",
    "\n",
    "atm_option_day_prior = options_day_prior[options_day_prior['strike']==atm_k]\n",
    "print('Option day prior')\n",
    "print(atm_option_day_prior)"
   ]
  },
  {
   "cell_type": "code",
   "execution_count": 10,
   "metadata": {},
   "outputs": [
    {
     "name": "stdout",
     "output_type": "stream",
     "text": [
      "The option price should change by $0.19 to $3.29\n",
      "The actual price of the option is $3.61\n"
     ]
    }
   ],
   "source": [
    "option_change = ((px_last - etf_data.iloc[-2,-2]) * lqd_greeks.loc['delta'])[0]\n",
    "proj_price = atm_option_day_prior['lastPrice'][0] + option_change\n",
    "print('The option price should change by ${:.2f} to ${:.2f}'.format(option_change, proj_price))\n",
    "print('The actual price of the option is ${:.2f}'.format(float(calls[calls['strike']==atm_k]['lastPrice'])))"
   ]
  },
  {
   "cell_type": "markdown",
   "metadata": {},
   "source": [
    "### Part 2"
   ]
  },
  {
   "cell_type": "markdown",
   "metadata": {},
   "source": []
  },
  {
   "cell_type": "code",
   "execution_count": 11,
   "metadata": {},
   "outputs": [],
   "source": [
    "def bsm_implied_vol(s0,k,r,t,c0,trials=10000):\n",
    "    '''\n",
    "    Calculates implied volatility of an option using BSM with a brute force approach  \n",
    "    ---  \n",
    "    Parameters:  \n",
    "    s0 - (float) current asset price  \n",
    "    k - (int) strike price  \n",
    "    r - (float) risk-free interest rate (per annum)  \n",
    "    t - (float) time to maturity, in years  \n",
    "    c0 - (float) Current call price  \n",
    "    trials - (int) Trial attempts (default 10000)  \n",
    "    ---  \n",
    "    Returns:  \n",
    "    sigma - (float) Estimated sigma  \n",
    "    '''\n",
    "    import pandas as pd\n",
    "    import numpy as np\n",
    "    from scipy.stats import norm\n",
    "    diffs = []\n",
    "    index = []\n",
    "    for i in range(1,trials,1):\n",
    "        sigma = i / trials\n",
    "        index.append(sigma)\n",
    "        d_plus = (np.log(s0/k) + (r + ((sigma ** 2) / 2)) * t) / (sigma * np.sqrt(t))\n",
    "        d_less = (np.log(s0/k) + (r - ((sigma ** 2) / 2)) * t) / (sigma * np.sqrt(t))\n",
    "        price = norm.cdf(d_plus) * s0 - norm.cdf(d_less) * k * np.exp(-r * t)\n",
    "        diff = price-c0\n",
    "        diffs.append(abs(diff))\n",
    "    diff_df = pd.DataFrame(data=diffs,index=index)\n",
    "    sigma = diff_df.idxmin()[0]\n",
    "    return sigma"
   ]
  },
  {
   "cell_type": "code",
   "execution_count": 12,
   "metadata": {},
   "outputs": [
    {
     "data": {
      "text/html": [
       "<div>\n",
       "<style scoped>\n",
       "    .dataframe tbody tr th:only-of-type {\n",
       "        vertical-align: middle;\n",
       "    }\n",
       "\n",
       "    .dataframe tbody tr th {\n",
       "        vertical-align: top;\n",
       "    }\n",
       "\n",
       "    .dataframe thead th {\n",
       "        text-align: right;\n",
       "    }\n",
       "</style>\n",
       "<table border=\"1\" class=\"dataframe\">\n",
       "  <thead>\n",
       "    <tr style=\"text-align: right;\">\n",
       "      <th></th>\n",
       "      <th>lastTradeDate</th>\n",
       "      <th>strike</th>\n",
       "      <th>lastPrice</th>\n",
       "      <th>bid</th>\n",
       "      <th>ask</th>\n",
       "      <th>change</th>\n",
       "      <th>percentChange</th>\n",
       "      <th>volume</th>\n",
       "      <th>openInterest</th>\n",
       "      <th>impliedVolatility</th>\n",
       "      <th>inTheMoney</th>\n",
       "      <th>contractSize</th>\n",
       "      <th>currency</th>\n",
       "    </tr>\n",
       "    <tr>\n",
       "      <th>contractSymbol</th>\n",
       "      <th></th>\n",
       "      <th></th>\n",
       "      <th></th>\n",
       "      <th></th>\n",
       "      <th></th>\n",
       "      <th></th>\n",
       "      <th></th>\n",
       "      <th></th>\n",
       "      <th></th>\n",
       "      <th></th>\n",
       "      <th></th>\n",
       "      <th></th>\n",
       "      <th></th>\n",
       "    </tr>\n",
       "  </thead>\n",
       "  <tbody>\n",
       "    <tr>\n",
       "      <th>LQD230120C00075000</th>\n",
       "      <td>2021-11-10 11:49:48+00:00</td>\n",
       "      <td>75.0</td>\n",
       "      <td>60.1</td>\n",
       "      <td>59.9</td>\n",
       "      <td>60.85</td>\n",
       "      <td>0.0</td>\n",
       "      <td>0.0</td>\n",
       "      <td>1.0</td>\n",
       "      <td>0</td>\n",
       "      <td>1.051091</td>\n",
       "      <td>True</td>\n",
       "      <td>REGULAR</td>\n",
       "      <td>USD</td>\n",
       "    </tr>\n",
       "  </tbody>\n",
       "</table>\n",
       "</div>"
      ],
      "text/plain": [
       "                               lastTradeDate  strike  lastPrice   bid    ask  \\\n",
       "contractSymbol                                                                 \n",
       "LQD230120C00075000 2021-11-10 11:49:48+00:00    75.0       60.1  59.9  60.85   \n",
       "\n",
       "                    change  percentChange  volume  openInterest  \\\n",
       "contractSymbol                                                    \n",
       "LQD230120C00075000     0.0            0.0     1.0             0   \n",
       "\n",
       "                    impliedVolatility  inTheMoney contractSize currency  \n",
       "contractSymbol                                                           \n",
       "LQD230120C00075000           1.051091        True      REGULAR      USD  "
      ]
     },
     "execution_count": 12,
     "metadata": {},
     "output_type": "execute_result"
    }
   ],
   "source": [
    "calls.head(1)"
   ]
  },
  {
   "cell_type": "code",
   "execution_count": 13,
   "metadata": {},
   "outputs": [],
   "source": [
    "vols = []\n",
    "for call in calls.index:\n",
    "    iter_k = calls.loc[call]['strike']\n",
    "    iter_c0 = calls.loc[call]['lastPrice']\n",
    "    sigma = bsm_implied_vol(s0=px_last,k=iter_k,r=rf,t=0.75,c0=iter_c0)\n",
    "    vols.append(sigma)"
   ]
  },
  {
   "cell_type": "code",
   "execution_count": 14,
   "metadata": {},
   "outputs": [
    {
     "data": {
      "text/plain": [
       "[<matplotlib.lines.Line2D at 0x235678b0e50>]"
      ]
     },
     "execution_count": 14,
     "metadata": {},
     "output_type": "execute_result"
    },
    {
     "data": {
      "image/png": "[encoded data removed]",
      "text/plain": [
       "<Figure size 432x288 with 1 Axes>"
      ]
     },
     "metadata": {
      "needs_background": "light"
     },
     "output_type": "display_data"
    }
   ],
   "source": [
    "plt.plot(calls['strike'],vols)"
   ]
  },
  {
   "cell_type": "markdown",
   "metadata": {},
   "source": [
    "## Problem 3 - Solving the Black-Scholes PDE\n",
    "\n",
    "The purpose of this problem is to solve the Black-Scholes PDE with analytical techniques, which will lead us back to the Black-Scholes formula. The technique is very similar to the one used with the Feynman-Kac formula in Prob. 3 of HW8 in MATH 467.\n",
    "\n",
    "Let's consider the PDE given by\n",
    "$$\\frac{\\delta f}{\\delta t} + \\frac{1}{2}\\sigma^2x^2\\frac{\\delta^2 f}{\\delta x^2} + rx\\frac{\\delta f}{\\delta x} - rf = 0$$\n",
    "with terminal condition $f(T,x)=(x-K)_+$.  The solution $f(t,x)$ corresponds tot he price of a call option (given the initial condition) at time $t$ if the stock price is $x$.  \n",
    "(a) The first two things that prevent us from solving this PDE directly is (i) the fact that we have a terminal condition, instead of an initial condition; and (ii) that the terms infront of the derivatives are not constant.  To address these, we use the transformation $g(t,x)=f(T-t,e^x)$, equivalent to $f(t,x)=g(T-t,log(x))$.  Under this condition, determine the PDE satisfied by $g$.  \n",
    "(b) Now, the PDE has an initial condition and constant coefficient, but it still includes a first order derivative in $x$ and the function $g$ itself.  In order to simplify this, use the transformation $h(t,x)=e^{ax+bt}g(t,x)$ and determine the appropriate values of $a$ and $b$ in order for $h$ to solve the heat equation (see (c)).  \n",
    "(c) We know that the solution to the heat equation $\\frac{\\delta u}{\\delta t} - \\frac{\\alpha}{2}\\frac{\\delta^2 u}{\\delta x^2} = 0$ with initial condition $u_0$ is given by\n",
    "$$u(t,x) = \\int_{\\mathbb{R}} \\frac{1}{\\sqrt{2\\pi\\alpha t}}\\mathrm{exp}\\{-\\frac{(x-y)^2}{2\\alpha t}\\}u_0(y)dy$$\n",
    "Use this result to determine the function $h$.  \n",
    "(d) Work the transformations backwards to determine the function $g$, and then $f$.  You should recover the Black-Scholes formula."
   ]
  },
  {
   "cell_type": "markdown",
   "metadata": {},
   "source": [
    "### Solution to Part (a)\n",
    "\n",
    "We see $f(t,x)=g(T-t,\\mathrm{log}(x))$.  Therefore  \n",
    "$\\frac{\\delta f}{\\delta t} = -\\frac{\\delta g}{\\delta t}$  \n",
    "$\\frac{\\delta f}{\\delta t} = \\frac{\\delta g}{\\delta x} x^{-1}$  \n",
    "$\\frac{\\delta f}{\\delta t} = \\frac{\\delta^2 g}{\\delta x^2} x^{-2} - \\frac{\\delta g}{\\delta x} x^{-2}$  \n",
    "We can then subsitute and see\n",
    "$$\\begin{cases}-\\frac{\\delta g}{\\delta t} + \\frac{1}{2}\\sigma^2(\\frac{\\delta^2 g}{\\delta x^2}-\\frac{\\delta g}{\\delta x}) + r\\frac{\\delta g}{\\delta x} - rg = 0\\\\\n",
    "f(T,x)=g(T-T,\\mathrm{log}(x))=(x-K)_+\n",
    "\\end{cases}$$\n",
    "and simplify this too\n",
    "$$\\begin{cases}-\\frac{\\delta g}{\\delta t} + \\frac{1}{2}\\sigma^2\\frac{\\delta^2 g}{\\delta x^2}+ (r-\\frac{1}{2}\\sigma^2)\\frac{\\delta g}{\\delta x} - rg = 0\\\\\n",
    "g(0,\\mathrm{log}(x))=(x-K)_+\n",
    "\\end{cases}$$\n"
   ]
  },
  {
   "cell_type": "markdown",
   "metadata": {},
   "source": [
    "### Solution to Part (b)\n",
    "\n",
    "Letting $g(t,x)=\\mathrm{exp}\\{-ax-bt\\}h(t,x)$, we see  \n",
    "$\\frac{\\delta g}{\\delta t} = h(t,x)(-b)e^{-ax-bt} + \\frac{\\delta h}{\\delta t}e^{-ax-bt}$  \n",
    "$\\frac{\\delta g}{\\delta x} = h(t,x)(-a)e^{-ax-bt} + \\frac{\\delta h}{\\delta x}e^{-ax-bt}$  \n",
    "$\\frac{\\delta g^2}{\\delta x^2} = h(t,x)(a^2)e^{-ax-bt} + \\frac{\\delta h}{\\delta x}(-2a)e^{-ax-bt} + \\frac{\\delta^2 h}{\\delta x^2}e^{-ax-bt}$  \n",
    "Plugging this into the previous equation, we see\n",
    "$$\\begin{cases}(e^{-ax-bt})((h(t,x)b + \\frac{\\delta h}{\\delta t}) + \\frac{1}{2}\\sigma^2(a^2h(t,x) - 2a\\frac{\\delta h}{\\delta x} + \\frac{\\delta^2 h}{\\delta x^2})+ (r-\\frac{1}{2}\\sigma^2)(\\frac{\\delta h}{\\delta x}- ah(t,x)) - rh(t,x)) = 0\\\\\n",
    "g(0,\\mathrm{log}(x))=-axh(0,\\mathrm{log}(x))=(x-K)_+\n",
    "\\end{cases}$$\n",
    "By isolating the first order terms, we observe\n",
    "$$b+\\frac{1}{2}\\sigma^2a^2-ra+\\frac{1}{2}\\sigma^2a-r=0$$\n",
    "whicch, when rewritten becomes\n",
    "$$b = (r-\\frac{1}{2}\\sigma^2)(a+1)$$\n",
    "Letting $a=0$ since $x$ should not be present in the discount factor because it represents the stochastic process, we see $b=(r-\\frac{1}{2}\\sigma^2)$"
   ]
  },
  {
   "cell_type": "markdown",
   "metadata": {},
   "source": [
    "### Solution to Part (c)"
   ]
  },
  {
   "cell_type": "markdown",
   "metadata": {},
   "source": []
  },
  {
   "cell_type": "markdown",
   "metadata": {},
   "source": [
    "### Solution to Part (d)"
   ]
  },
  {
   "cell_type": "markdown",
   "metadata": {},
   "source": []
  }
 ],
 "metadata": {
  "interpreter": {
   "hash": "702e518b60c67dbd3b0638a510bff2830380600f50d13e8fcb105f9ecc05fb71"
  },
  "kernelspec": {
   "display_name": "Python 3.9.6 64-bit",
   "language": "python",
   "name": "python3"
  },
  "language_info": {
   "codemirror_mode": {
    "name": "ipython",
    "version": 3
   },
   "file_extension": ".py",
   "mimetype": "text/x-python",
   "name": "python",
   "nbconvert_exporter": "python",
   "pygments_lexer": "ipython3",
   "version": "3.9.6"
  },
  "orig_nbformat": 4
 },
 "nbformat": 4,
 "nbformat_minor": 2
}
