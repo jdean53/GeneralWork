{
 "cells": [
  {
   "cell_type": "markdown",
   "metadata": {},
   "source": [
    "# MATH 468 - Stochastic Calculus II - HW 6"
   ]
  },
  {
   "cell_type": "code",
   "execution_count": 1,
   "metadata": {},
   "outputs": [],
   "source": [
    "'''\n",
    "Packages Used\n",
    "---\n",
    "Data - pandas, datetime, yfinance\n",
    "Numerical - numpy, scipy stats\n",
    "Plotting - Matplotlib, seaborn\n",
    "Custom - StoCalCodeDeck\n",
    "'''\n",
    "import pandas as pd\n",
    "import datetime\n",
    "import yfinance as yf\n",
    "\n",
    "import numpy as np\n",
    "import scipy.stats as stats\n",
    "\n",
    "import matplotlib.pyplot as plt\n",
    "import seaborn as sns\n",
    "\n",
    "import StoCalCodeDeck as stocal"
   ]
  },
  {
   "cell_type": "markdown",
   "metadata": {},
   "source": [
    "## Problem 1 - Pricing and the Greeks\n",
    "\n",
    "We consider a (european) call option on a stock with expiration in 3 months ($T = \\frac{1}{4}$) and strike price $K=10$.  The annual interest rate on the market is $r=2\\%$.  The current price of the stock is $S_0=10$ and we assume that the stock follows a geometric Brownian motion model with parameters $\\mu=5\\%$ and $\\sigma=0.20$.\n",
    "\n",
    "(a) Determine the price $F_0$ of this option at time $t=0$ (today).  \n",
    "(b) Using the formulas provided in the lecturs, calculate the value of each of the greeks for this option.  Namely, calculate $\\Delta$, $\\Gamma$, $\\nu$, $\\Theta$, and $\\rho$.  \n",
    "(c) Find a formula for the change of the option price with respect to a change in the strike price. In other words, determine $\\frac{\\delta f(S_t,t)}{\\delta K}$  \n",
    "(d) For each of the suggested modifications below, use an approximation to determine the change in the price of the option above without actually recalculating the price. For each provide an intuitive argument to explain why the price increases or decreases.  \n",
    "    (i) The rate of return $\\mu$ increases to $6\\%$  \n",
    "    (ii) The interest rate $r$ increases to $3\\%$  \n",
    "    (iii) The volatility increases to $\\sigma=0.3$  \n",
    "    (iv) The expiration date changes to 4 months  \n",
    "    (v) The strike price goes up to $\\$11$  \n",
    "    (vi) The current stock price rises instantaneously to $\\$11$"
   ]
  },
  {
   "cell_type": "markdown",
   "metadata": {},
   "source": [
    "### Solution to Part (a)"
   ]
  },
  {
   "cell_type": "markdown",
   "metadata": {},
   "source": []
  },
  {
   "cell_type": "markdown",
   "metadata": {},
   "source": [
    "### Solution to Part (b)"
   ]
  },
  {
   "cell_type": "markdown",
   "metadata": {},
   "source": []
  },
  {
   "cell_type": "markdown",
   "metadata": {},
   "source": [
    "### Solution to Part (c)"
   ]
  },
  {
   "cell_type": "markdown",
   "metadata": {},
   "source": []
  },
  {
   "cell_type": "markdown",
   "metadata": {},
   "source": [
    "### Solution to Part (d)"
   ]
  },
  {
   "cell_type": "markdown",
   "metadata": {},
   "source": []
  },
  {
   "cell_type": "markdown",
   "metadata": {},
   "source": [
    "## Problem 2 - Estimating parameters and option pricing\n",
    "\n",
    "This problem is a continuation of Prob. 4 in HW5. We consider the same situation and parameters for your chosen stock.  \n",
    "**Part 1 - Greeks**. Consider the call option that is ”at-the-money”. Calculate the value of Delta for this option using the formulas given in the lectures. Record the stock price one day later than your original time t = 0 and provide an estimate of the new option price on that day using your value of Delta. How does the estimate compare to the new actual market price of the call? How could you have improved your estimate?  \n",
    "**Part 2 - Volatility Smile**. Record the current price $S_0$ of your chosen stock, as well as the price of several (about 10) call options with a common expiration date but different strike prices. For each option, use the current market price $C_0$, the expiration $T$ and the strike price $K$ in Black-Scholes formula and solve for the volatility $\\sigma$ (see below for details). Plot the volatility as a function of the strike price. Comment on the result and what you can conclude from your graph.\n",
    "\n",
    "*Solving for* $\\sigma$.  There is no explicit way to solve for $\\sigma$ in the Black-Scholes formula. You have to approach this numerically. Here are some possible approaches  \n",
    "* If you are familiar with numerical equation solvers in your language of choice, you can use one of these to solve for your parameters. However, please double-check your results as pre-coded solvers do not always behave in the way that you expect and if you didn’t code it yourself, it’s hard to know exactly what it does.  \n",
    "* If you are familiar with numerical methods (e.g. Newton’s method) to solve a nonlinear equation, you can use that and code it yourself.  \n",
    "* Finally, a fairly direct method is to proceed empirically: you calculate the value in the Black-Scholes formula for a braid range of volatilities (e.g (0.1, 0.2, 0.3, · · · , 9.9)) and you consider the value of σ that yields the closest value to your objective.\n"
   ]
  },
  {
   "cell_type": "markdown",
   "metadata": {},
   "source": [
    "### Part 1"
   ]
  },
  {
   "cell_type": "markdown",
   "metadata": {},
   "source": []
  },
  {
   "cell_type": "code",
   "execution_count": 5,
   "metadata": {},
   "outputs": [
    {
     "name": "stdout",
     "output_type": "stream",
     "text": [
      "[*********************100%***********************]  1 of 1 completed\n"
     ]
    }
   ],
   "source": [
    "'''Code Block'''\n",
    "etf, etf_data = stocal.asset_data(ticker='LQD',start_date='2022-03-29',end_date='2022-03-31')\n",
    "expiry, years_to_expiry = stocal.maturity(0.25, etf)\n",
    "px_last = etf_data.iloc[-1,3]\n",
    "options = etf.option_chain(expiry)\n",
    "calls = options.calls"
   ]
  },
  {
   "cell_type": "code",
   "execution_count": 6,
   "metadata": {},
   "outputs": [
    {
     "data": {
      "text/html": [
       "<div>\n",
       "<style scoped>\n",
       "    .dataframe tbody tr th:only-of-type {\n",
       "        vertical-align: middle;\n",
       "    }\n",
       "\n",
       "    .dataframe tbody tr th {\n",
       "        vertical-align: top;\n",
       "    }\n",
       "\n",
       "    .dataframe thead th {\n",
       "        text-align: right;\n",
       "    }\n",
       "</style>\n",
       "<table border=\"1\" class=\"dataframe\">\n",
       "  <thead>\n",
       "    <tr style=\"text-align: right;\">\n",
       "      <th></th>\n",
       "      <th>contractSymbol</th>\n",
       "      <th>lastTradeDate</th>\n",
       "      <th>strike</th>\n",
       "      <th>lastPrice</th>\n",
       "      <th>bid</th>\n",
       "      <th>ask</th>\n",
       "      <th>change</th>\n",
       "      <th>percentChange</th>\n",
       "      <th>volume</th>\n",
       "      <th>openInterest</th>\n",
       "      <th>impliedVolatility</th>\n",
       "      <th>inTheMoney</th>\n",
       "      <th>contractSize</th>\n",
       "      <th>currency</th>\n",
       "    </tr>\n",
       "  </thead>\n",
       "  <tbody>\n",
       "    <tr>\n",
       "      <th>0</th>\n",
       "      <td>LQD220715C00120000</td>\n",
       "      <td>2022-03-11 16:35:58+00:00</td>\n",
       "      <td>120.0</td>\n",
       "      <td>2.94</td>\n",
       "      <td>2.98</td>\n",
       "      <td>3.15</td>\n",
       "      <td>0.00</td>\n",
       "      <td>0.00000</td>\n",
       "      <td>19</td>\n",
       "      <td>19</td>\n",
       "      <td>0.097665</td>\n",
       "      <td>True</td>\n",
       "      <td>REGULAR</td>\n",
       "      <td>USD</td>\n",
       "    </tr>\n",
       "    <tr>\n",
       "      <th>1</th>\n",
       "      <td>LQD220715C00121000</td>\n",
       "      <td>2022-03-18 14:04:10+00:00</td>\n",
       "      <td>121.0</td>\n",
       "      <td>2.60</td>\n",
       "      <td>2.42</td>\n",
       "      <td>2.59</td>\n",
       "      <td>0.00</td>\n",
       "      <td>0.00000</td>\n",
       "      <td>4</td>\n",
       "      <td>154</td>\n",
       "      <td>0.096567</td>\n",
       "      <td>True</td>\n",
       "      <td>REGULAR</td>\n",
       "      <td>USD</td>\n",
       "    </tr>\n",
       "    <tr>\n",
       "      <th>2</th>\n",
       "      <td>LQD220715C00123000</td>\n",
       "      <td>2022-03-30 18:30:52+00:00</td>\n",
       "      <td>123.0</td>\n",
       "      <td>1.50</td>\n",
       "      <td>1.50</td>\n",
       "      <td>1.65</td>\n",
       "      <td>0.00</td>\n",
       "      <td>0.00000</td>\n",
       "      <td>150</td>\n",
       "      <td>157</td>\n",
       "      <td>0.093881</td>\n",
       "      <td>False</td>\n",
       "      <td>REGULAR</td>\n",
       "      <td>USD</td>\n",
       "    </tr>\n",
       "    <tr>\n",
       "      <th>3</th>\n",
       "      <td>LQD220715C00124000</td>\n",
       "      <td>2022-03-29 19:24:28+00:00</td>\n",
       "      <td>124.0</td>\n",
       "      <td>1.10</td>\n",
       "      <td>1.03</td>\n",
       "      <td>1.29</td>\n",
       "      <td>0.00</td>\n",
       "      <td>0.00000</td>\n",
       "      <td>4</td>\n",
       "      <td>33</td>\n",
       "      <td>0.093149</td>\n",
       "      <td>False</td>\n",
       "      <td>REGULAR</td>\n",
       "      <td>USD</td>\n",
       "    </tr>\n",
       "    <tr>\n",
       "      <th>4</th>\n",
       "      <td>LQD220715C00125000</td>\n",
       "      <td>2022-03-22 18:58:38+00:00</td>\n",
       "      <td>125.0</td>\n",
       "      <td>0.86</td>\n",
       "      <td>0.86</td>\n",
       "      <td>1.00</td>\n",
       "      <td>0.00</td>\n",
       "      <td>0.00000</td>\n",
       "      <td>1</td>\n",
       "      <td>20</td>\n",
       "      <td>0.092966</td>\n",
       "      <td>False</td>\n",
       "      <td>REGULAR</td>\n",
       "      <td>USD</td>\n",
       "    </tr>\n",
       "    <tr>\n",
       "      <th>5</th>\n",
       "      <td>LQD220715C00126000</td>\n",
       "      <td>2022-02-23 17:56:39+00:00</td>\n",
       "      <td>126.0</td>\n",
       "      <td>1.00</td>\n",
       "      <td>0.47</td>\n",
       "      <td>0.71</td>\n",
       "      <td>0.00</td>\n",
       "      <td>0.00000</td>\n",
       "      <td>5</td>\n",
       "      <td>99</td>\n",
       "      <td>0.090036</td>\n",
       "      <td>False</td>\n",
       "      <td>REGULAR</td>\n",
       "      <td>USD</td>\n",
       "    </tr>\n",
       "    <tr>\n",
       "      <th>6</th>\n",
       "      <td>LQD220715C00127000</td>\n",
       "      <td>2022-02-11 17:11:15+00:00</td>\n",
       "      <td>127.0</td>\n",
       "      <td>1.26</td>\n",
       "      <td>0.23</td>\n",
       "      <td>1.02</td>\n",
       "      <td>0.00</td>\n",
       "      <td>0.00000</td>\n",
       "      <td>66</td>\n",
       "      <td>143</td>\n",
       "      <td>0.116464</td>\n",
       "      <td>False</td>\n",
       "      <td>REGULAR</td>\n",
       "      <td>USD</td>\n",
       "    </tr>\n",
       "    <tr>\n",
       "      <th>7</th>\n",
       "      <td>LQD220715C00128000</td>\n",
       "      <td>2022-02-25 14:40:31+00:00</td>\n",
       "      <td>128.0</td>\n",
       "      <td>0.51</td>\n",
       "      <td>0.25</td>\n",
       "      <td>0.46</td>\n",
       "      <td>0.00</td>\n",
       "      <td>0.00000</td>\n",
       "      <td>5</td>\n",
       "      <td>247</td>\n",
       "      <td>0.094980</td>\n",
       "      <td>False</td>\n",
       "      <td>REGULAR</td>\n",
       "      <td>USD</td>\n",
       "    </tr>\n",
       "    <tr>\n",
       "      <th>8</th>\n",
       "      <td>LQD220715C00129000</td>\n",
       "      <td>2022-02-09 16:59:03+00:00</td>\n",
       "      <td>129.0</td>\n",
       "      <td>1.12</td>\n",
       "      <td>0.07</td>\n",
       "      <td>0.66</td>\n",
       "      <td>0.00</td>\n",
       "      <td>0.00000</td>\n",
       "      <td>66</td>\n",
       "      <td>337</td>\n",
       "      <td>0.116830</td>\n",
       "      <td>False</td>\n",
       "      <td>REGULAR</td>\n",
       "      <td>USD</td>\n",
       "    </tr>\n",
       "    <tr>\n",
       "      <th>9</th>\n",
       "      <td>LQD220715C00130000</td>\n",
       "      <td>2022-04-01 16:17:12+00:00</td>\n",
       "      <td>130.0</td>\n",
       "      <td>0.21</td>\n",
       "      <td>0.18</td>\n",
       "      <td>0.28</td>\n",
       "      <td>-0.64</td>\n",
       "      <td>-75.29412</td>\n",
       "      <td>4</td>\n",
       "      <td>61</td>\n",
       "      <td>0.097909</td>\n",
       "      <td>False</td>\n",
       "      <td>REGULAR</td>\n",
       "      <td>USD</td>\n",
       "    </tr>\n",
       "    <tr>\n",
       "      <th>10</th>\n",
       "      <td>LQD220715C00131000</td>\n",
       "      <td>2022-03-25 13:54:20+00:00</td>\n",
       "      <td>131.0</td>\n",
       "      <td>0.29</td>\n",
       "      <td>0.12</td>\n",
       "      <td>0.25</td>\n",
       "      <td>0.00</td>\n",
       "      <td>0.00000</td>\n",
       "      <td>1</td>\n",
       "      <td>622</td>\n",
       "      <td>0.102792</td>\n",
       "      <td>False</td>\n",
       "      <td>REGULAR</td>\n",
       "      <td>USD</td>\n",
       "    </tr>\n",
       "    <tr>\n",
       "      <th>11</th>\n",
       "      <td>LQD220715C00132000</td>\n",
       "      <td>2022-02-02 17:46:35+00:00</td>\n",
       "      <td>132.0</td>\n",
       "      <td>0.92</td>\n",
       "      <td>0.21</td>\n",
       "      <td>0.81</td>\n",
       "      <td>0.00</td>\n",
       "      <td>0.00000</td>\n",
       "      <td>78</td>\n",
       "      <td>381</td>\n",
       "      <td>0.153329</td>\n",
       "      <td>False</td>\n",
       "      <td>REGULAR</td>\n",
       "      <td>USD</td>\n",
       "    </tr>\n",
       "    <tr>\n",
       "      <th>12</th>\n",
       "      <td>LQD220715C00133000</td>\n",
       "      <td>2022-03-24 17:50:28+00:00</td>\n",
       "      <td>133.0</td>\n",
       "      <td>0.24</td>\n",
       "      <td>0.04</td>\n",
       "      <td>0.25</td>\n",
       "      <td>0.00</td>\n",
       "      <td>0.00000</td>\n",
       "      <td>39</td>\n",
       "      <td>162</td>\n",
       "      <td>0.117440</td>\n",
       "      <td>False</td>\n",
       "      <td>REGULAR</td>\n",
       "      <td>USD</td>\n",
       "    </tr>\n",
       "    <tr>\n",
       "      <th>13</th>\n",
       "      <td>LQD220715C00134000</td>\n",
       "      <td>2022-02-09 14:30:00+00:00</td>\n",
       "      <td>134.0</td>\n",
       "      <td>0.18</td>\n",
       "      <td>0.00</td>\n",
       "      <td>0.65</td>\n",
       "      <td>0.00</td>\n",
       "      <td>0.00000</td>\n",
       "      <td>1</td>\n",
       "      <td>26</td>\n",
       "      <td>0.159554</td>\n",
       "      <td>False</td>\n",
       "      <td>REGULAR</td>\n",
       "      <td>USD</td>\n",
       "    </tr>\n",
       "    <tr>\n",
       "      <th>14</th>\n",
       "      <td>LQD220715C00136000</td>\n",
       "      <td>2022-01-14 17:46:41+00:00</td>\n",
       "      <td>136.0</td>\n",
       "      <td>0.34</td>\n",
       "      <td>0.00</td>\n",
       "      <td>0.45</td>\n",
       "      <td>0.00</td>\n",
       "      <td>0.00000</td>\n",
       "      <td>15</td>\n",
       "      <td>23</td>\n",
       "      <td>0.158944</td>\n",
       "      <td>False</td>\n",
       "      <td>REGULAR</td>\n",
       "      <td>USD</td>\n",
       "    </tr>\n",
       "  </tbody>\n",
       "</table>\n",
       "</div>"
      ],
      "text/plain": [
       "        contractSymbol             lastTradeDate  strike  lastPrice   bid  \\\n",
       "0   LQD220715C00120000 2022-03-11 16:35:58+00:00   120.0       2.94  2.98   \n",
       "1   LQD220715C00121000 2022-03-18 14:04:10+00:00   121.0       2.60  2.42   \n",
       "2   LQD220715C00123000 2022-03-30 18:30:52+00:00   123.0       1.50  1.50   \n",
       "3   LQD220715C00124000 2022-03-29 19:24:28+00:00   124.0       1.10  1.03   \n",
       "4   LQD220715C00125000 2022-03-22 18:58:38+00:00   125.0       0.86  0.86   \n",
       "5   LQD220715C00126000 2022-02-23 17:56:39+00:00   126.0       1.00  0.47   \n",
       "6   LQD220715C00127000 2022-02-11 17:11:15+00:00   127.0       1.26  0.23   \n",
       "7   LQD220715C00128000 2022-02-25 14:40:31+00:00   128.0       0.51  0.25   \n",
       "8   LQD220715C00129000 2022-02-09 16:59:03+00:00   129.0       1.12  0.07   \n",
       "9   LQD220715C00130000 2022-04-01 16:17:12+00:00   130.0       0.21  0.18   \n",
       "10  LQD220715C00131000 2022-03-25 13:54:20+00:00   131.0       0.29  0.12   \n",
       "11  LQD220715C00132000 2022-02-02 17:46:35+00:00   132.0       0.92  0.21   \n",
       "12  LQD220715C00133000 2022-03-24 17:50:28+00:00   133.0       0.24  0.04   \n",
       "13  LQD220715C00134000 2022-02-09 14:30:00+00:00   134.0       0.18  0.00   \n",
       "14  LQD220715C00136000 2022-01-14 17:46:41+00:00   136.0       0.34  0.00   \n",
       "\n",
       "     ask  change  percentChange  volume  openInterest  impliedVolatility  \\\n",
       "0   3.15    0.00        0.00000      19            19           0.097665   \n",
       "1   2.59    0.00        0.00000       4           154           0.096567   \n",
       "2   1.65    0.00        0.00000     150           157           0.093881   \n",
       "3   1.29    0.00        0.00000       4            33           0.093149   \n",
       "4   1.00    0.00        0.00000       1            20           0.092966   \n",
       "5   0.71    0.00        0.00000       5            99           0.090036   \n",
       "6   1.02    0.00        0.00000      66           143           0.116464   \n",
       "7   0.46    0.00        0.00000       5           247           0.094980   \n",
       "8   0.66    0.00        0.00000      66           337           0.116830   \n",
       "9   0.28   -0.64      -75.29412       4            61           0.097909   \n",
       "10  0.25    0.00        0.00000       1           622           0.102792   \n",
       "11  0.81    0.00        0.00000      78           381           0.153329   \n",
       "12  0.25    0.00        0.00000      39           162           0.117440   \n",
       "13  0.65    0.00        0.00000       1            26           0.159554   \n",
       "14  0.45    0.00        0.00000      15            23           0.158944   \n",
       "\n",
       "    inTheMoney contractSize currency  \n",
       "0         True      REGULAR      USD  \n",
       "1         True      REGULAR      USD  \n",
       "2        False      REGULAR      USD  \n",
       "3        False      REGULAR      USD  \n",
       "4        False      REGULAR      USD  \n",
       "5        False      REGULAR      USD  \n",
       "6        False      REGULAR      USD  \n",
       "7        False      REGULAR      USD  \n",
       "8        False      REGULAR      USD  \n",
       "9        False      REGULAR      USD  \n",
       "10       False      REGULAR      USD  \n",
       "11       False      REGULAR      USD  \n",
       "12       False      REGULAR      USD  \n",
       "13       False      REGULAR      USD  \n",
       "14       False      REGULAR      USD  "
      ]
     },
     "execution_count": 6,
     "metadata": {},
     "output_type": "execute_result"
    }
   ],
   "source": [
    "calls"
   ]
  },
  {
   "cell_type": "markdown",
   "metadata": {},
   "source": [
    "### Part 2"
   ]
  },
  {
   "cell_type": "markdown",
   "metadata": {},
   "source": []
  },
  {
   "cell_type": "code",
   "execution_count": 3,
   "metadata": {},
   "outputs": [
    {
     "data": {
      "text/plain": [
       "'Code Block'"
      ]
     },
     "execution_count": 3,
     "metadata": {},
     "output_type": "execute_result"
    }
   ],
   "source": [
    "'''Code Block'''"
   ]
  },
  {
   "cell_type": "markdown",
   "metadata": {},
   "source": [
    "## Problem 3 - Solving the Black-Scholes PDE\n",
    "\n",
    "The purpose of this problem is to solve the Black-Scholes PDE with analytical techniques, which will lead us back to the Black-Scholes formula. The technique is very similar to the one used with the Feynman-Kac formula in Prob. 3 of HW8 in MATH 467.\n",
    "\n",
    "Let's consider the PDE given by\n",
    "$$\\frac{\\delta f}{\\delta t} + \\frac{1}{2}\\sigma^2x^2\\frac{\\delta^2 f}{\\delta x^2} + rx\\frac{\\delta f}{\\delta x} - rf = 0$$\n",
    "with terminal condition $f(T,x)=(x-K)_+$.  The solution $f(t,x)$ corresponds tot he price of a call option (given the initial condition) at time $t$ if the stock price is $x$.  \n",
    "(a) The first two things that prevent us from solving this PDE directly is (i) the fact that we have a terminal condition, instead of an initial condition; and (ii) that the terms infront of the derivatives are not constant.  To address these, we use the transformation $g(t,x)=f(T-t,e^x)$, equivalent to $f(t,x)=g(T-t,log(x))$.  Under this condition, determine the PDE satisfied by $g$.  \n",
    "(b) Now, the PDE has an initial condition and constant coefficient, but it still includes a first order derivative in $x$ and the function $g$ itself.  In order to simplify this, use the transformation $h(t,x)=e^{ax+bt}g(t,x)$ and determine the appropriate values of $a$ and $b$ in order for $h$ to solve the heat equation (see (c)).  \n",
    "(c) We know that the solution to the heat equation $\\frac{\\delta u}{\\delta t} - \\frac{\\alpha}{2}\\frac{\\delta^2 u}{\\delta x^2} = 0$ with initial condition $u_0$ is given by\n",
    "$$u(t,x) = \\int_{\\mathbb{R}} \\frac{1}{\\sqrt{2\\pi\\alpha t}}\\mathrm{exp}\\{-\\frac{(x-y)^2}{2\\alpha t}\\}u_0(y)dy$$\n",
    "Use this result to determine the function $h$.  \n",
    "(d) Work the transformations backwards to determine the function $g$, and then $f$.  You should recover the Black-Scholes formula."
   ]
  },
  {
   "cell_type": "markdown",
   "metadata": {},
   "source": [
    "### Solution to Part (a)"
   ]
  },
  {
   "cell_type": "markdown",
   "metadata": {},
   "source": []
  },
  {
   "cell_type": "markdown",
   "metadata": {},
   "source": [
    "### Solution to Part (b)"
   ]
  },
  {
   "cell_type": "markdown",
   "metadata": {},
   "source": []
  },
  {
   "cell_type": "markdown",
   "metadata": {},
   "source": [
    "### Solution to Part (c)"
   ]
  },
  {
   "cell_type": "markdown",
   "metadata": {},
   "source": []
  },
  {
   "cell_type": "markdown",
   "metadata": {},
   "source": [
    "### Solution to Part (d)"
   ]
  },
  {
   "cell_type": "markdown",
   "metadata": {},
   "source": []
  }
 ],
 "metadata": {
  "interpreter": {
   "hash": "702e518b60c67dbd3b0638a510bff2830380600f50d13e8fcb105f9ecc05fb71"
  },
  "kernelspec": {
   "display_name": "Python 3.9.6 64-bit",
   "language": "python",
   "name": "python3"
  },
  "language_info": {
   "codemirror_mode": {
    "name": "ipython",
    "version": 3
   },
   "file_extension": ".py",
   "mimetype": "text/x-python",
   "name": "python",
   "nbconvert_exporter": "python",
   "pygments_lexer": "ipython3",
   "version": "3.9.6"
  },
  "orig_nbformat": 4
 },
 "nbformat": 4,
 "nbformat_minor": 2
}
