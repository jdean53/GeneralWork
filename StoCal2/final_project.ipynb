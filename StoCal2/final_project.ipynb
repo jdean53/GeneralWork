{
 "cells": [
  {
   "cell_type": "markdown",
   "metadata": {},
   "source": [
    "# Final Project\n",
    "Jack Dean  \n",
    "Math 469 - Financial Stochastic Analysis  \n",
    "Lehigh University"
   ]
  },
  {
   "cell_type": "code",
   "execution_count": 1,
   "metadata": {},
   "outputs": [],
   "source": [
    "import pandas as pd\n",
    "from bs4 import BeautifulSoup\n",
    "import requests\n",
    "import datetime\n",
    "import numpy as np\n",
    "import matplotlib.pyplot as plt"
   ]
  },
  {
   "cell_type": "code",
   "execution_count": 2,
   "metadata": {},
   "outputs": [],
   "source": [
    "t_bonds_df = pd.read_excel('Table.xlsx')\n",
    "t_bonds_df['px_last'] = [i if i>=25 else 100 - i for i in t_bonds_df['ask'].to_list()]\n",
    "t_bonds_df['ttm'] = [(i - datetime.datetime.now())/datetime.timedelta(days=365) for i in t_bonds_df['maturity']]\n",
    "t_bonds_df['bond'] = ['T '+ str(t_bonds_df.iloc[i,1]) + ' '+ t_bonds_df.iloc[i,0].strftime('%m/%d/%y') for i in t_bonds_df.index]\n",
    "t_bonds_df = t_bonds_df.set_index('bond')"
   ]
  },
  {
   "cell_type": "code",
   "execution_count": 3,
   "metadata": {},
   "outputs": [
    {
     "data": {
      "text/html": [
       "<div>\n",
       "<style scoped>\n",
       "    .dataframe tbody tr th:only-of-type {\n",
       "        vertical-align: middle;\n",
       "    }\n",
       "\n",
       "    .dataframe tbody tr th {\n",
       "        vertical-align: top;\n",
       "    }\n",
       "\n",
       "    .dataframe thead th {\n",
       "        text-align: right;\n",
       "    }\n",
       "</style>\n",
       "<table border=\"1\" class=\"dataframe\">\n",
       "  <thead>\n",
       "    <tr style=\"text-align: right;\">\n",
       "      <th></th>\n",
       "      <th>maturity</th>\n",
       "      <th>coupon</th>\n",
       "      <th>bid</th>\n",
       "      <th>ask</th>\n",
       "      <th>ask_yield</th>\n",
       "      <th>px_last</th>\n",
       "      <th>ttm</th>\n",
       "    </tr>\n",
       "    <tr>\n",
       "      <th>bond</th>\n",
       "      <th></th>\n",
       "      <th></th>\n",
       "      <th></th>\n",
       "      <th></th>\n",
       "      <th></th>\n",
       "      <th></th>\n",
       "      <th></th>\n",
       "    </tr>\n",
       "  </thead>\n",
       "  <tbody>\n",
       "    <tr>\n",
       "      <th>T 0.0 05/10/22</th>\n",
       "      <td>2022-05-10</td>\n",
       "      <td>0.000</td>\n",
       "      <td>0.120</td>\n",
       "      <td>0.110</td>\n",
       "      <td>0.112</td>\n",
       "      <td>99.890</td>\n",
       "      <td>-0.001873</td>\n",
       "    </tr>\n",
       "    <tr>\n",
       "      <th>T 0.0 05/12/22</th>\n",
       "      <td>2022-05-12</td>\n",
       "      <td>0.000</td>\n",
       "      <td>0.195</td>\n",
       "      <td>0.185</td>\n",
       "      <td>0.188</td>\n",
       "      <td>99.815</td>\n",
       "      <td>0.003606</td>\n",
       "    </tr>\n",
       "    <tr>\n",
       "      <th>T 0.0 05/17/22</th>\n",
       "      <td>2022-05-17</td>\n",
       "      <td>0.000</td>\n",
       "      <td>0.260</td>\n",
       "      <td>0.250</td>\n",
       "      <td>0.254</td>\n",
       "      <td>99.750</td>\n",
       "      <td>0.017305</td>\n",
       "    </tr>\n",
       "    <tr>\n",
       "      <th>T 0.0 05/19/22</th>\n",
       "      <td>2022-05-19</td>\n",
       "      <td>0.000</td>\n",
       "      <td>0.265</td>\n",
       "      <td>0.255</td>\n",
       "      <td>0.259</td>\n",
       "      <td>99.745</td>\n",
       "      <td>0.022785</td>\n",
       "    </tr>\n",
       "    <tr>\n",
       "      <th>T 0.0 05/24/22</th>\n",
       "      <td>2022-05-24</td>\n",
       "      <td>0.000</td>\n",
       "      <td>0.388</td>\n",
       "      <td>0.378</td>\n",
       "      <td>0.383</td>\n",
       "      <td>99.622</td>\n",
       "      <td>0.036483</td>\n",
       "    </tr>\n",
       "    <tr>\n",
       "      <th>...</th>\n",
       "      <td>...</td>\n",
       "      <td>...</td>\n",
       "      <td>...</td>\n",
       "      <td>...</td>\n",
       "      <td>...</td>\n",
       "      <td>...</td>\n",
       "      <td>...</td>\n",
       "    </tr>\n",
       "    <tr>\n",
       "      <th>T 1.875 02/15/51</th>\n",
       "      <td>2051-02-15</td>\n",
       "      <td>1.875</td>\n",
       "      <td>77.250</td>\n",
       "      <td>77.270</td>\n",
       "      <td>3.035</td>\n",
       "      <td>77.270</td>\n",
       "      <td>28.787168</td>\n",
       "    </tr>\n",
       "    <tr>\n",
       "      <th>T 2.375 05/15/51</th>\n",
       "      <td>2051-05-15</td>\n",
       "      <td>2.375</td>\n",
       "      <td>87.106</td>\n",
       "      <td>87.126</td>\n",
       "      <td>3.031</td>\n",
       "      <td>87.126</td>\n",
       "      <td>29.031004</td>\n",
       "    </tr>\n",
       "    <tr>\n",
       "      <th>T 2.0 08/15/51</th>\n",
       "      <td>2051-08-15</td>\n",
       "      <td>2.000</td>\n",
       "      <td>80.066</td>\n",
       "      <td>80.086</td>\n",
       "      <td>3.020</td>\n",
       "      <td>80.086</td>\n",
       "      <td>29.283058</td>\n",
       "    </tr>\n",
       "    <tr>\n",
       "      <th>T 1.875 11/15/51</th>\n",
       "      <td>2051-11-15</td>\n",
       "      <td>1.875</td>\n",
       "      <td>77.264</td>\n",
       "      <td>77.284</td>\n",
       "      <td>3.011</td>\n",
       "      <td>77.284</td>\n",
       "      <td>29.535113</td>\n",
       "    </tr>\n",
       "    <tr>\n",
       "      <th>T 2.25 02/15/52</th>\n",
       "      <td>2052-02-15</td>\n",
       "      <td>2.250</td>\n",
       "      <td>85.050</td>\n",
       "      <td>85.070</td>\n",
       "      <td>3.004</td>\n",
       "      <td>85.070</td>\n",
       "      <td>29.787168</td>\n",
       "    </tr>\n",
       "  </tbody>\n",
       "</table>\n",
       "<p>361 rows × 7 columns</p>\n",
       "</div>"
      ],
      "text/plain": [
       "                   maturity  coupon     bid     ask  ask_yield  px_last  \\\n",
       "bond                                                                      \n",
       "T 0.0 05/10/22   2022-05-10   0.000   0.120   0.110      0.112   99.890   \n",
       "T 0.0 05/12/22   2022-05-12   0.000   0.195   0.185      0.188   99.815   \n",
       "T 0.0 05/17/22   2022-05-17   0.000   0.260   0.250      0.254   99.750   \n",
       "T 0.0 05/19/22   2022-05-19   0.000   0.265   0.255      0.259   99.745   \n",
       "T 0.0 05/24/22   2022-05-24   0.000   0.388   0.378      0.383   99.622   \n",
       "...                     ...     ...     ...     ...        ...      ...   \n",
       "T 1.875 02/15/51 2051-02-15   1.875  77.250  77.270      3.035   77.270   \n",
       "T 2.375 05/15/51 2051-05-15   2.375  87.106  87.126      3.031   87.126   \n",
       "T 2.0 08/15/51   2051-08-15   2.000  80.066  80.086      3.020   80.086   \n",
       "T 1.875 11/15/51 2051-11-15   1.875  77.264  77.284      3.011   77.284   \n",
       "T 2.25 02/15/52  2052-02-15   2.250  85.050  85.070      3.004   85.070   \n",
       "\n",
       "                        ttm  \n",
       "bond                         \n",
       "T 0.0 05/10/22    -0.001873  \n",
       "T 0.0 05/12/22     0.003606  \n",
       "T 0.0 05/17/22     0.017305  \n",
       "T 0.0 05/19/22     0.022785  \n",
       "T 0.0 05/24/22     0.036483  \n",
       "...                     ...  \n",
       "T 1.875 02/15/51  28.787168  \n",
       "T 2.375 05/15/51  29.031004  \n",
       "T 2.0 08/15/51    29.283058  \n",
       "T 1.875 11/15/51  29.535113  \n",
       "T 2.25 02/15/52   29.787168  \n",
       "\n",
       "[361 rows x 7 columns]"
      ]
     },
     "execution_count": 3,
     "metadata": {},
     "output_type": "execute_result"
    }
   ],
   "source": [
    "t_bonds_df"
   ]
  },
  {
   "cell_type": "code",
   "execution_count": 4,
   "metadata": {},
   "outputs": [],
   "source": [
    "'''\n",
    "Bootstrap yield curve\n",
    "---\n",
    "begins with zero-coupon bonds to payout (ttm < 0.5 yrs) & calculates yield\n",
    "moves to coupon bonds and uses calculated yields to bootstrap further\n",
    "sorts all bonds into data frame indexed by ttm (by 100th of a year)\n",
    "NOTE: Averages yields for the same time period\n",
    "NOTE: assumes yield of period prior if yield for desired period does not exist\n",
    "'''\n",
    "\n",
    "'''short term rates'''\n",
    "mats = []\n",
    "round_to = 2\n",
    "for bond_tenor in t_bonds_df[t_bonds_df['ttm'] <= 0.5].index:\n",
    "    bond = t_bonds_df.loc[bond_tenor]\n",
    "    cpn = bond['coupon']/2\n",
    "    ttm = bond['ttm']\n",
    "    px = bond['px_last']\n",
    "    mats.append([np.round(ttm,round_to),np.log((100 + cpn) / bond['px_last']) / bond['ttm']])\n",
    "rates = pd.DataFrame(mats, columns=['ttm','rate']).set_index('ttm').groupby('ttm').mean()\n",
    "\n",
    "'''longer term rates'''\n",
    "for bond_tenor in t_bonds_df[t_bonds_df['ttm']>=0.5].index:\n",
    "    bond = t_bonds_df.loc[bond_tenor]\n",
    "    px = bond['px_last']\n",
    "    ttm = bond['ttm']\n",
    "    cpn = bond['coupon']/2\n",
    "    pmts = int(np.ceil(ttm * 2))\n",
    "    cfs = [cpn if i+1<pmts else 100 + cpn for i in range(pmts)]\n",
    "    cfs_idx = [np.round(ttm-i*0.5, round_to) for i in reversed(range(pmts))]\n",
    "    known_rates = [rates[:cfs_idx[i]].iloc[-1,0] for i in range(pmts-1)]\n",
    "    val = px - sum([cpn * np.exp((-1) * known_rates[i] * cfs_idx[i]) for i in range(pmts-1)])\n",
    "    yld = (-1) * (np.log(val / (100+cpn)) / cfs_idx[pmts-1])\n",
    "    add_df = pd.DataFrame([np.round(ttm, round_to), yld], index=['ttm','rate']).transpose().set_index('ttm')\n",
    "    rates = pd.concat([rates,add_df],ignore_index=False)\n",
    "    rates = rates.groupby('ttm').mean()"
   ]
  },
  {
   "cell_type": "code",
   "execution_count": 5,
   "metadata": {},
   "outputs": [
    {
     "data": {
      "text/plain": [
       "[<matplotlib.lines.Line2D at 0x195e10a8a90>]"
      ]
     },
     "execution_count": 5,
     "metadata": {},
     "output_type": "execute_result"
    },
    {
     "data": {
      "image/png": "[encoded data removed]",
      "text/plain": [
       "<Figure size 432x288 with 1 Axes>"
      ]
     },
     "metadata": {
      "needs_background": "light"
     },
     "output_type": "display_data"
    }
   ],
   "source": [
    "plt.plot(rates[1:])"
   ]
  },
  {
   "cell_type": "code",
   "execution_count": 6,
   "metadata": {},
   "outputs": [],
   "source": [
    "M = 10000\n",
    "n = 30 * 100\n",
    "w_t = []\n",
    "for i in range(M):\n",
    "    w_t.append(np.cumsum(np.random.randn(n)*np.sqrt(0.01)))\n",
    "t_i = np.array([i/100 for i in range(n)])"
   ]
  },
  {
   "cell_type": "code",
   "execution_count": 7,
   "metadata": {},
   "outputs": [
    {
     "data": {
      "text/plain": [
       "[<matplotlib.lines.Line2D at 0x195efff77f0>]"
      ]
     },
     "execution_count": 7,
     "metadata": {},
     "output_type": "execute_result"
    },
    {
     "data": {
      "image/png": "[encoded data removed]",
      "text/plain": [
       "<Figure size 432x288 with 1 Axes>"
      ]
     },
     "metadata": {
      "needs_background": "light"
     },
     "output_type": "display_data"
    }
   ],
   "source": [
    "plt.plot(t_i,w_t[0])\n",
    "plt.plot(t_i,w_t[1])\n",
    "plt.plot(t_i,w_t[3])"
   ]
  },
  {
   "cell_type": "code",
   "execution_count": 8,
   "metadata": {},
   "outputs": [],
   "source": [
    "r_0 = 0.01 # fed funds target\n",
    "move = 121.99 / 100 # MOVE index"
   ]
  },
  {
   "cell_type": "code",
   "execution_count": 9,
   "metadata": {},
   "outputs": [],
   "source": [
    "'''\n",
    "14 minutes\n",
    "'''\n",
    "Theta = []\n",
    "for i in range(M):\n",
    "        Theta.append([(rates.loc[t] - r_0 + move*w_t[i][int(t*100)])[0] for t in rates.index])"
   ]
  },
  {
   "cell_type": "code",
   "execution_count": 10,
   "metadata": {},
   "outputs": [],
   "source": [
    "theta_est = pd.DataFrame(data=Theta,columns=rates.index).mean()"
   ]
  },
  {
   "cell_type": "code",
   "execution_count": 11,
   "metadata": {},
   "outputs": [
    {
     "data": {
      "text/plain": [
       "[<matplotlib.lines.Line2D at 0x195f8a38100>]"
      ]
     },
     "execution_count": 11,
     "metadata": {},
     "output_type": "execute_result"
    },
    {
     "data": {
      "image/png": "[encoded data removed]",
      "text/plain": [
       "<Figure size 432x288 with 1 Axes>"
      ]
     },
     "metadata": {
      "needs_background": "light"
     },
     "output_type": "display_data"
    }
   ],
   "source": [
    "plt.plot(theta_est)\n",
    "plt.plot(rates)"
   ]
  },
  {
   "cell_type": "code",
   "execution_count": 12,
   "metadata": {},
   "outputs": [],
   "source": [
    "yc_2s10s = theta_est[:10].iloc[-1] - theta_est[:2].iloc[-1]\n",
    "yc_10s_30s = theta_est[:30].iloc[-1] - theta_est[:10].iloc[-1]"
   ]
  },
  {
   "cell_type": "code",
   "execution_count": 13,
   "metadata": {},
   "outputs": [
    {
     "name": "stdout",
     "output_type": "stream",
     "text": [
      "2s10s implied yield curve: 1.17bps\n",
      "10s30s implied yield curve: -2.11bps\n"
     ]
    }
   ],
   "source": [
    "print('2s10s implied yield curve: {:.2f}bps'.format(yc_2s10s*100))\n",
    "print('10s30s implied yield curve: {:.2f}bps'.format(yc_10s_30s*100))"
   ]
  },
  {
   "cell_type": "code",
   "execution_count": 14,
   "metadata": {},
   "outputs": [],
   "source": [
    "slices = [(theta_est.index[i+1] - theta_est.index[i])*theta_est[theta_est.index[i+1]] for i in range(len(theta_est.index[:-1]))]\n",
    "theta_int = pd.DataFrame(theta_est.iloc[1:], columns=['Theta'])\n",
    "integral = [sum(slices[:i]) for i in range(len(slices))]\n",
    "theta_int['int'] = integral"
   ]
  },
  {
   "cell_type": "code",
   "execution_count": 15,
   "metadata": {},
   "outputs": [
    {
     "data": {
      "text/html": [
       "<div>\n",
       "<style scoped>\n",
       "    .dataframe tbody tr th:only-of-type {\n",
       "        vertical-align: middle;\n",
       "    }\n",
       "\n",
       "    .dataframe tbody tr th {\n",
       "        vertical-align: top;\n",
       "    }\n",
       "\n",
       "    .dataframe thead th {\n",
       "        text-align: right;\n",
       "    }\n",
       "</style>\n",
       "<table border=\"1\" class=\"dataframe\">\n",
       "  <thead>\n",
       "    <tr style=\"text-align: right;\">\n",
       "      <th></th>\n",
       "      <th>Theta</th>\n",
       "      <th>int</th>\n",
       "    </tr>\n",
       "    <tr>\n",
       "      <th>ttm</th>\n",
       "      <th></th>\n",
       "      <th></th>\n",
       "    </tr>\n",
       "  </thead>\n",
       "  <tbody>\n",
       "    <tr>\n",
       "      <th>0.01</th>\n",
       "      <td>0.796159</td>\n",
       "      <td>0.000000</td>\n",
       "    </tr>\n",
       "    <tr>\n",
       "      <th>0.02</th>\n",
       "      <td>0.120987</td>\n",
       "      <td>0.007962</td>\n",
       "    </tr>\n",
       "    <tr>\n",
       "      <th>0.04</th>\n",
       "      <td>0.093353</td>\n",
       "      <td>0.009171</td>\n",
       "    </tr>\n",
       "    <tr>\n",
       "      <th>0.06</th>\n",
       "      <td>0.109645</td>\n",
       "      <td>0.011039</td>\n",
       "    </tr>\n",
       "    <tr>\n",
       "      <th>0.07</th>\n",
       "      <td>0.052810</td>\n",
       "      <td>0.013231</td>\n",
       "    </tr>\n",
       "    <tr>\n",
       "      <th>...</th>\n",
       "      <td>...</td>\n",
       "      <td>...</td>\n",
       "    </tr>\n",
       "    <tr>\n",
       "      <th>28.79</th>\n",
       "      <td>-0.017451</td>\n",
       "      <td>0.286450</td>\n",
       "    </tr>\n",
       "    <tr>\n",
       "      <th>29.03</th>\n",
       "      <td>-0.019386</td>\n",
       "      <td>0.282087</td>\n",
       "    </tr>\n",
       "    <tr>\n",
       "      <th>29.28</th>\n",
       "      <td>-0.007509</td>\n",
       "      <td>0.277435</td>\n",
       "    </tr>\n",
       "    <tr>\n",
       "      <th>29.54</th>\n",
       "      <td>-0.007047</td>\n",
       "      <td>0.275557</td>\n",
       "    </tr>\n",
       "    <tr>\n",
       "      <th>29.79</th>\n",
       "      <td>-0.013684</td>\n",
       "      <td>0.273725</td>\n",
       "    </tr>\n",
       "  </tbody>\n",
       "</table>\n",
       "<p>231 rows × 2 columns</p>\n",
       "</div>"
      ],
      "text/plain": [
       "          Theta       int\n",
       "ttm                      \n",
       "0.01   0.796159  0.000000\n",
       "0.02   0.120987  0.007962\n",
       "0.04   0.093353  0.009171\n",
       "0.06   0.109645  0.011039\n",
       "0.07   0.052810  0.013231\n",
       "...         ...       ...\n",
       "28.79 -0.017451  0.286450\n",
       "29.03 -0.019386  0.282087\n",
       "29.28 -0.007509  0.277435\n",
       "29.54 -0.007047  0.275557\n",
       "29.79 -0.013684  0.273725\n",
       "\n",
       "[231 rows x 2 columns]"
      ]
     },
     "execution_count": 15,
     "metadata": {},
     "output_type": "execute_result"
    }
   ],
   "source": [
    "theta_int"
   ]
  },
  {
   "cell_type": "code",
   "execution_count": 16,
   "metadata": {},
   "outputs": [
    {
     "name": "stderr",
     "output_type": "stream",
     "text": [
      "C:\\Users\\jdean\\AppData\\Local\\Temp/ipykernel_13132/4209142978.py:1: RuntimeWarning: overflow encountered in exp\n",
      "  bond_pxs = [[np.exp(-(r_0 * i) - theta_int['int'][i] + (move**2)*(i**3)/6 - move*i*w_t[j][int(i*100)]) for i in theta_int.index] for j in range(M)]\n"
     ]
    }
   ],
   "source": [
    "bond_pxs = [[np.exp(-(r_0 * i) - theta_int['int'][i] + (move**2)*(i**3)/6 - move*i*w_t[j][int(i*100)]) for i in theta_int.index] for j in range(M)]"
   ]
  },
  {
   "cell_type": "code",
   "execution_count": 17,
   "metadata": {},
   "outputs": [
    {
     "name": "stderr",
     "output_type": "stream",
     "text": [
      "c:\\Users\\jdean\\AppData\\Local\\Programs\\Python\\Python39\\lib\\site-packages\\numpy\\core\\_methods.py:48: RuntimeWarning: overflow encountered in reduce\n",
      "  return umr_sum(a, axis, dtype, out, keepdims, initial, where)\n"
     ]
    },
    {
     "data": {
      "text/plain": [
       "[<matplotlib.lines.Line2D at 0x195fe0a1d30>]"
      ]
     },
     "execution_count": 17,
     "metadata": {},
     "output_type": "execute_result"
    },
    {
     "data": {
      "image/png": "[encoded data removed]",
      "text/plain": [
       "<Figure size 432x288 with 1 Axes>"
      ]
     },
     "metadata": {
      "needs_background": "light"
     },
     "output_type": "display_data"
    }
   ],
   "source": [
    "plt.plot(pd.DataFrame(bond_pxs,columns=theta_int.index).mean()[:1])"
   ]
  },
  {
   "cell_type": "code",
   "execution_count": 18,
   "metadata": {},
   "outputs": [
    {
     "data": {
      "text/plain": [
       "[<matplotlib.lines.Line2D at 0x195fe118370>]"
      ]
     },
     "execution_count": 18,
     "metadata": {},
     "output_type": "execute_result"
    },
    {
     "data": {
      "image/png": "[encoded data removed]",
      "text/plain": [
       "<Figure size 432x288 with 1 Axes>"
      ]
     },
     "metadata": {
      "needs_background": "light"
     },
     "output_type": "display_data"
    }
   ],
   "source": [
    "plt.plot(theta_est[0.1:5])\n",
    "plt.plot(rates[0.1:5])"
   ]
  },
  {
   "cell_type": "code",
   "execution_count": 69,
   "metadata": {},
   "outputs": [],
   "source": [
    "t = rates.index.to_numpy()\n",
    "rt = rates.to_numpy().squeeze()\n",
    "drt = rates.diff().to_numpy().squeeze()\n",
    "dwt = [np.diff(w_t[i]) for i in range(M)]"
   ]
  },
  {
   "cell_type": "code",
   "execution_count": 63,
   "metadata": {},
   "outputs": [],
   "source": [
    "m,c = np.polyfit(drt[1:], rt[1:], deg=1)"
   ]
  },
  {
   "cell_type": "code",
   "execution_count": 64,
   "metadata": {},
   "outputs": [],
   "source": [
    "b = c / (-m)\n",
    "a = -m"
   ]
  },
  {
   "cell_type": "code",
   "execution_count": 77,
   "metadata": {},
   "outputs": [
    {
     "data": {
      "text/plain": [
       "2999"
      ]
     },
     "execution_count": 77,
     "metadata": {},
     "output_type": "execute_result"
    }
   ],
   "source": [
    "len(dwt[1])"
   ]
  },
  {
   "cell_type": "code",
   "execution_count": 84,
   "metadata": {},
   "outputs": [],
   "source": [
    "wt_df = pd.DataFrame(w_t, columns=[i/100 for i in range(3000)])"
   ]
  },
  {
   "cell_type": "code",
   "execution_count": 85,
   "metadata": {},
   "outputs": [
    {
     "data": {
      "text/plain": [
       "10000"
      ]
     },
     "execution_count": 85,
     "metadata": {},
     "output_type": "execute_result"
    }
   ],
   "source": [
    "M"
   ]
  },
  {
   "cell_type": "code",
   "execution_count": 88,
   "metadata": {},
   "outputs": [
    {
     "name": "stderr",
     "output_type": "stream",
     "text": [
      "C:\\Users\\jdean\\AppData\\Local\\Temp/ipykernel_13132/4056457323.py:2: RuntimeWarning: invalid value encountered in sqrt\n",
      "  [[a*(b-rt) + move/100 * np.sqrt(rt) * (wt_df.diff().loc[i][j/100]) for j in range(3000)] for i in range(2)]\n"
     ]
    }
   ],
   "source": [
    "# time index is off, doesnt match with rates time index\n",
    "[[a*(b-rt) + move/100 * np.sqrt(rt) * (wt_df.diff().loc[i][j/100]) for j in range(3000)] for i in range(2)]"
   ]
  },
  {
   "cell_type": "code",
   "execution_count": null,
   "metadata": {},
   "outputs": [],
   "source": []
  }
 ],
 "metadata": {
  "interpreter": {
   "hash": "238d91bad954b51b52d5bbe2864e0900859dcde90a028221f484ba498ff1ba26"
  },
  "kernelspec": {
   "display_name": "Python 3.9.6 64-bit",
   "language": "python",
   "name": "python3"
  },
  "language_info": {
   "codemirror_mode": {
    "name": "ipython",
    "version": 3
   },
   "file_extension": ".py",
   "mimetype": "text/x-python",
   "name": "python",
   "nbconvert_exporter": "python",
   "pygments_lexer": "ipython3",
   "version": "3.9.6"
  },
  "orig_nbformat": 4
 },
 "nbformat": 4,
 "nbformat_minor": 2
}
